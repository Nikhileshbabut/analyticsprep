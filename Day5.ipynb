{
 "cells": [
  {
   "cell_type": "markdown",
   "id": "9c04cc3b-7fc3-42e4-aa37-ec642fb15ac4",
   "metadata": {},
   "source": [
    "How do you know the shape and size of an array?\n",
    "ndarray.ndim will tell you the no of axes, or dimensions, of the array.\n",
    "ndarray.size will give total no of elements of the array. This is product of the elements of the array shape.\n",
    "ndarray.shape will display a tuple of integers that indicate the no of elements stored along each dimension of the array."
   ]
  },
  {
   "cell_type": "code",
   "execution_count": 9,
   "id": "e7507434-37ab-457a-a5be-ed13b55edef6",
   "metadata": {},
   "outputs": [],
   "source": [
    "import numpy as np\n",
    "arr = np.array([[[0, 1, 2, 3], \n",
    "                 [4, 5, 6, 7]],\n",
    "                 \n",
    "                 [[0, 1, 2, 3],\n",
    "                  [4, 5, 6, 7]],\n",
    "                 \n",
    "                 [[0, 1, 2, 3],\n",
    "                  [4, 5, 6, 7]]])\n",
    "    \n",
    "                                             "
   ]
  },
  {
   "cell_type": "code",
   "execution_count": 10,
   "id": "53b043ae-26ac-499a-90e0-6577d32d5271",
   "metadata": {},
   "outputs": [
    {
     "data": {
      "text/plain": [
       "3"
      ]
     },
     "execution_count": 10,
     "metadata": {},
     "output_type": "execute_result"
    }
   ],
   "source": [
    "arr.ndim"
   ]
  },
  {
   "cell_type": "code",
   "execution_count": 11,
   "id": "01f4f540-d957-499a-88d9-c1b07f38f891",
   "metadata": {},
   "outputs": [
    {
     "data": {
      "text/plain": [
       "24"
      ]
     },
     "execution_count": 11,
     "metadata": {},
     "output_type": "execute_result"
    }
   ],
   "source": [
    "arr.size"
   ]
  },
  {
   "cell_type": "code",
   "execution_count": 12,
   "id": "7afb2c3c-05e4-47bf-be32-98e8574d47ee",
   "metadata": {},
   "outputs": [
    {
     "data": {
      "text/plain": [
       "(3, 2, 4)"
      ]
     },
     "execution_count": 12,
     "metadata": {},
     "output_type": "execute_result"
    }
   ],
   "source": [
    "arr.shape"
   ]
  },
  {
   "cell_type": "markdown",
   "id": "2f25c4a4-3c2d-47fd-8160-ccae60ee3c27",
   "metadata": {},
   "source": [
    "reshape(): It will give a new shape to an array without changing the data. Note: Need to see if same no of elements are present in new array as the original array."
   ]
  },
  {
   "cell_type": "code",
   "execution_count": 13,
   "id": "11e983fe-9b12-4ea6-9a55-5531413182b1",
   "metadata": {},
   "outputs": [
    {
     "name": "stdout",
     "output_type": "stream",
     "text": [
      "[0 1 2 3 4 5]\n"
     ]
    }
   ],
   "source": [
    "a = np.arange(6)\n",
    "print(a)"
   ]
  },
  {
   "cell_type": "code",
   "execution_count": 16,
   "id": "874e43f9-b82a-4b2f-8507-c62bb539ba45",
   "metadata": {},
   "outputs": [
    {
     "name": "stdout",
     "output_type": "stream",
     "text": [
      "[[0 1]\n",
      " [2 3]\n",
      " [4 5]]\n"
     ]
    }
   ],
   "source": [
    "b = a.reshape(3, 2)\n",
    "print(b)"
   ]
  },
  {
   "cell_type": "code",
   "execution_count": 15,
   "id": "4d07acb8-fd66-4abd-b055-97a07efcaa4e",
   "metadata": {},
   "outputs": [
    {
     "data": {
      "text/plain": [
       "array([[0, 1, 2],\n",
       "       [3, 4, 5]])"
      ]
     },
     "execution_count": 15,
     "metadata": {},
     "output_type": "execute_result"
    }
   ],
   "source": [
    "#reshape can specify a few optional parameters\n",
    "np.reshape(a, newshape=(2, 3), order='C')"
   ]
  },
  {
   "cell_type": "markdown",
   "id": "76e492ef-0102-4b3c-a1b9-88b296cfde0d",
   "metadata": {},
   "source": [
    "Converting a 1D array into a 2D array using new axis to an array."
   ]
  },
  {
   "cell_type": "code",
   "execution_count": 17,
   "id": "721218e7-8524-4885-9260-6a297414482d",
   "metadata": {},
   "outputs": [
    {
     "data": {
      "text/plain": [
       "(6,)"
      ]
     },
     "execution_count": 17,
     "metadata": {},
     "output_type": "execute_result"
    }
   ],
   "source": [
    "a = np.array([1, 2, 3, 4, 5, 6])\n",
    "a.shape"
   ]
  },
  {
   "cell_type": "code",
   "execution_count": 18,
   "id": "85c2aefe-9cfa-4281-8644-fd9b25d9fa59",
   "metadata": {},
   "outputs": [
    {
     "data": {
      "text/plain": [
       "(1, 6)"
      ]
     },
     "execution_count": 18,
     "metadata": {},
     "output_type": "execute_result"
    }
   ],
   "source": [
    "#using np.newaxis to add a new axis\n",
    "a2 = a[np.newaxis, :]\n",
    "a2.shape"
   ]
  },
  {
   "cell_type": "code",
   "execution_count": 19,
   "id": "48023728-adbc-4624-bf9c-47e5b843fed7",
   "metadata": {},
   "outputs": [
    {
     "data": {
      "text/plain": [
       "(1, 6)"
      ]
     },
     "execution_count": 19,
     "metadata": {},
     "output_type": "execute_result"
    }
   ],
   "source": [
    "# converting on basis of row\n",
    "row_vector = a[np.newaxis, :]\n",
    "row_vector.shape"
   ]
  },
  {
   "cell_type": "code",
   "execution_count": 21,
   "id": "72906f6f-0c54-46fb-9c04-1f8411490ef8",
   "metadata": {},
   "outputs": [
    {
     "data": {
      "text/plain": [
       "(6, 1)"
      ]
     },
     "execution_count": 21,
     "metadata": {},
     "output_type": "execute_result"
    }
   ],
   "source": [
    "#converting on bases of column\n",
    "col_vector = a[:, np.newaxis]\n",
    "col_vector.shape"
   ]
  },
  {
   "cell_type": "code",
   "execution_count": 27,
   "id": "9dde773c-f9e3-4eea-90fb-94db00fc7eb1",
   "metadata": {},
   "outputs": [
    {
     "name": "stdout",
     "output_type": "stream",
     "text": [
      "[1 2 3 4 5 6]\n"
     ]
    },
    {
     "data": {
      "text/plain": [
       "(6,)"
      ]
     },
     "execution_count": 27,
     "metadata": {},
     "output_type": "execute_result"
    }
   ],
   "source": [
    "# Using expand_dims\n",
    "a = np.array([1, 2, 3, 4, 5, 6])\n",
    "print(a)\n",
    "a.shape"
   ]
  },
  {
   "cell_type": "code",
   "execution_count": 26,
   "id": "6727c12e-1c08-4cb5-b4e5-65a040731373",
   "metadata": {},
   "outputs": [
    {
     "name": "stdout",
     "output_type": "stream",
     "text": [
      "[[1]\n",
      " [2]\n",
      " [3]\n",
      " [4]\n",
      " [5]\n",
      " [6]]\n"
     ]
    },
    {
     "data": {
      "text/plain": [
       "(6, 1)"
      ]
     },
     "execution_count": 26,
     "metadata": {},
     "output_type": "execute_result"
    }
   ],
   "source": [
    "# To add an axis at index position 1 with\n",
    "b = np.expand_dims(a, axis=1)\n",
    "print(b)\n",
    "b.shape"
   ]
  },
  {
   "cell_type": "code",
   "execution_count": 25,
   "id": "2fd06d7c-801b-42da-bf21-76203563d43e",
   "metadata": {},
   "outputs": [
    {
     "name": "stdout",
     "output_type": "stream",
     "text": [
      "[[1 2 3 4 5 6]]\n"
     ]
    },
    {
     "data": {
      "text/plain": [
       "(1, 6)"
      ]
     },
     "execution_count": 25,
     "metadata": {},
     "output_type": "execute_result"
    }
   ],
   "source": [
    "# Adding an axis at index position 0 with:\n",
    "c = np.expand_dims(a, axis=0)\n",
    "print(c)\n",
    "c.shape"
   ]
  },
  {
   "cell_type": "code",
   "execution_count": null,
   "id": "53b14d21-298f-4373-8b96-565601089deb",
   "metadata": {},
   "outputs": [],
   "source": []
  }
 ],
 "metadata": {
  "kernelspec": {
   "display_name": "Python 3 (ipykernel)",
   "language": "python",
   "name": "python3"
  },
  "language_info": {
   "codemirror_mode": {
    "name": "ipython",
    "version": 3
   },
   "file_extension": ".py",
   "mimetype": "text/x-python",
   "name": "python",
   "nbconvert_exporter": "python",
   "pygments_lexer": "ipython3",
   "version": "3.10.7"
  }
 },
 "nbformat": 4,
 "nbformat_minor": 5
}
