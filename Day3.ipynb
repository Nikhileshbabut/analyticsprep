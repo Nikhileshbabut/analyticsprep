{
 "cells": [
  {
   "cell_type": "markdown",
   "id": "c136e63d",
   "metadata": {},
   "source": [
    "# Numpy:"
   ]
  },
  {
   "cell_type": "markdown",
   "id": "c224e41e",
   "metadata": {},
   "source": [
    "# What's Numpy?"
   ]
  },
  {
   "cell_type": "markdown",
   "id": "22997efd",
   "metadata": {},
   "source": [
    "NumPy (Numerical Python) is an open source Python library that's used in almost every field of science and engineeing. "
   ]
  },
  {
   "cell_type": "markdown",
   "id": "709a7538",
   "metadata": {},
   "source": [
    "The NumPy library contains multidimensional array and matrix data structures."
   ]
  },
  {
   "cell_type": "code",
   "execution_count": 1,
   "id": "278e9cf4",
   "metadata": {},
   "outputs": [
    {
     "data": {
      "text/plain": [
       "(1, 6)"
      ]
     },
     "execution_count": 1,
     "metadata": {},
     "output_type": "execute_result"
    }
   ],
   "source": [
    "import numpy as np\n",
    "a = np.arange(6)\n",
    "a2 = a[np.newaxis, :]\n",
    "a2.shape"
   ]
  },
  {
   "cell_type": "markdown",
   "id": "41260c0b",
   "metadata": {},
   "source": [
    "Difference between a Python list and a NumPy array is that, the Numpy gives you an enormous range of fast and efficient ways of creating arrays and manipulating data inside them. While a list can contain different data types within a single list, all of the elements in a NumPy array should be homogeneous."
   ]
  },
  {
   "cell_type": "markdown",
   "id": "71de30d6",
   "metadata": {},
   "source": [
    "NumPy arrays are faster and more compact than Python lists. An array consumes less memory and it is convenient to use. NumPy uses much less memory to store data and it provides a mechanism of specifying the data types.This allows the code to be optimized even further."
   ]
  },
  {
   "cell_type": "markdown",
   "id": "cb1c460a",
   "metadata": {},
   "source": [
    "ARRAY: An array is a central data structure of the NumPy library. It is grid of values and it contains information about the raw data. The elements are all of the same type, referred to as the array dtype. The rank of the array is the number of dimensions. The shape of the array is a tuple of integers giving the size of the array along each dimension."
   ]
  },
  {
   "cell_type": "code",
   "execution_count": 3,
   "id": "b6067fb7",
   "metadata": {},
   "outputs": [
    {
     "name": "stdout",
     "output_type": "stream",
     "text": [
      "[1 2 3 4]\n"
     ]
    }
   ],
   "source": [
    "#Example:\n",
    "a = np.array([[1, 2, 3, 4], [5, 6, 7, 8], [9, 8, 7, 1]])\n",
    "print(a[0])"
   ]
  },
  {
   "cell_type": "markdown",
   "id": "d247a638",
   "metadata": {},
   "source": [
    "The NumPy ndarray class is used to represent both matrices and vectors."
   ]
  },
  {
   "cell_type": "markdown",
   "id": "67a6e0d6",
   "metadata": {},
   "source": [
    "Vector is an array with a single dimension (there's no difference between row and column vectors), while a matrix refers to an array with two dimensions. For 3-D or higher dimensional arrays, the term tensor is also commonly used."
   ]
  },
  {
   "cell_type": "code",
   "execution_count": 7,
   "id": "8b944cfb",
   "metadata": {},
   "outputs": [
    {
     "name": "stdout",
     "output_type": "stream",
     "text": [
      "[1 2 3]\n"
     ]
    }
   ],
   "source": [
    "#To create a NumPy array, you can use the function np.array()\n",
    "import numpy as np\n",
    "a = np.array([1, 2, 3])\n",
    "print(a)"
   ]
  },
  {
   "cell_type": "code",
   "execution_count": 8,
   "id": "14f42e7d",
   "metadata": {},
   "outputs": [
    {
     "data": {
      "text/plain": [
       "array([0., 0.])"
      ]
     },
     "execution_count": 8,
     "metadata": {},
     "output_type": "execute_result"
    }
   ],
   "source": [
    "#Creating an array filled with 0's\n",
    "np.zeros(2)"
   ]
  },
  {
   "cell_type": "code",
   "execution_count": 9,
   "id": "fbb9312c",
   "metadata": {},
   "outputs": [
    {
     "data": {
      "text/plain": [
       "array([1., 1.])"
      ]
     },
     "execution_count": 9,
     "metadata": {},
     "output_type": "execute_result"
    }
   ],
   "source": [
    "#Creating an array filled with 1's\n",
    "np.ones(2)"
   ]
  },
  {
   "cell_type": "code",
   "execution_count": 10,
   "id": "43e45a2a",
   "metadata": {},
   "outputs": [
    {
     "data": {
      "text/plain": [
       "array([1., 1.])"
      ]
     },
     "execution_count": 10,
     "metadata": {},
     "output_type": "execute_result"
    }
   ],
   "source": [
    "#Create an empty array with 2 elements\n",
    "np.empty(2)"
   ]
  },
  {
   "cell_type": "code",
   "execution_count": 11,
   "id": "fd38b14c",
   "metadata": {},
   "outputs": [
    {
     "data": {
      "text/plain": [
       "array([0, 1, 2, 3])"
      ]
     },
     "execution_count": 11,
     "metadata": {},
     "output_type": "execute_result"
    }
   ],
   "source": [
    "#You can create an array with a range of elements\n",
    "np.arange(4)"
   ]
  },
  {
   "cell_type": "code",
   "execution_count": 12,
   "id": "e175a576",
   "metadata": {},
   "outputs": [
    {
     "data": {
      "text/plain": [
       "array([2, 4, 6, 8])"
      ]
     },
     "execution_count": 12,
     "metadata": {},
     "output_type": "execute_result"
    }
   ],
   "source": [
    "#An array that contains a range of evenly spaced intervals. To do this you will specify the first number, last number, and the step size.\n",
    "np.arange(2, 9, 2)"
   ]
  },
  {
   "cell_type": "code",
   "execution_count": 13,
   "id": "a173a838",
   "metadata": {},
   "outputs": [
    {
     "data": {
      "text/plain": [
       "array([ 0. ,  2.5,  5. ,  7.5, 10. ])"
      ]
     },
     "execution_count": 13,
     "metadata": {},
     "output_type": "execute_result"
    }
   ],
   "source": [
    "#To create an array with values that are spaced linearly in a specfied interval\n",
    "np.linspace(0, 10, num=5)"
   ]
  },
  {
   "cell_type": "markdown",
   "id": "1e781219",
   "metadata": {},
   "source": [
    "While the default data type is floating point(np.float64), you can explictly specify which data type you want using the dtype keyword."
   ]
  },
  {
   "cell_type": "code",
   "execution_count": 14,
   "id": "8b7d63fc",
   "metadata": {},
   "outputs": [
    {
     "data": {
      "text/plain": [
       "array([1, 1, 1, 1], dtype=int64)"
      ]
     },
     "execution_count": 14,
     "metadata": {},
     "output_type": "execute_result"
    }
   ],
   "source": [
    "#Specifying your data type\n",
    "x = np.ones(4, dtype=np.int64)\n",
    "x"
   ]
  },
  {
   "cell_type": "markdown",
   "id": "24d59e18",
   "metadata": {},
   "source": [
    "Adding, removing, and sorting elements"
   ]
  },
  {
   "cell_type": "code",
   "execution_count": 15,
   "id": "2710dd6e",
   "metadata": {},
   "outputs": [
    {
     "data": {
      "text/plain": [
       "array([1, 2, 3, 4, 5, 6, 7, 8])"
      ]
     },
     "execution_count": 15,
     "metadata": {},
     "output_type": "execute_result"
    }
   ],
   "source": [
    "#You can quickly sort the numbers in ascending order \n",
    "arr = np.array([2, 1, 3, 5, 7, 8, 4, 6])\n",
    "np.sort(arr)"
   ]
  },
  {
   "cell_type": "code",
   "execution_count": null,
   "id": "cfa12d2e",
   "metadata": {},
   "outputs": [],
   "source": []
  }
 ],
 "metadata": {
  "kernelspec": {
   "display_name": "Python 3 (ipykernel)",
   "language": "python",
   "name": "python3"
  },
  "language_info": {
   "codemirror_mode": {
    "name": "ipython",
    "version": 3
   },
   "file_extension": ".py",
   "mimetype": "text/x-python",
   "name": "python",
   "nbconvert_exporter": "python",
   "pygments_lexer": "ipython3",
   "version": "3.10.7"
  }
 },
 "nbformat": 4,
 "nbformat_minor": 5
}
