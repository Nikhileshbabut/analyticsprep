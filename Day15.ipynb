{
 "cells": [
  {
   "cell_type": "markdown",
   "id": "5fac45ba-5175-4581-ac6e-2dc11625ac12",
   "metadata": {},
   "source": [
    "Variable Scope and Binding"
   ]
  },
  {
   "cell_type": "code",
   "execution_count": 11,
   "id": "af082303-51af-4658-abf6-8a862b2e25e4",
   "metadata": {},
   "outputs": [
    {
     "ename": "UnboundLocalError",
     "evalue": "local variable 'num' referenced before assignment",
     "output_type": "error",
     "traceback": [
      "\u001b[1;31m---------------------------------------------------------------------------\u001b[0m",
      "\u001b[1;31mUnboundLocalError\u001b[0m                         Traceback (most recent call last)",
      "Cell \u001b[1;32mIn [11], line 9\u001b[0m\n\u001b[0;32m      7\u001b[0m     \u001b[38;5;28;01mreturn\u001b[39;00m incrementer\n\u001b[0;32m      8\u001b[0m c \u001b[38;5;241m=\u001b[39m counter()\n\u001b[1;32m----> 9\u001b[0m \u001b[43mc\u001b[49m\u001b[43m(\u001b[49m\u001b[43m)\u001b[49m\n",
      "Cell \u001b[1;32mIn [11], line 5\u001b[0m, in \u001b[0;36mcounter.<locals>.incrementer\u001b[1;34m()\u001b[0m\n\u001b[0;32m      4\u001b[0m \u001b[38;5;28;01mdef\u001b[39;00m \u001b[38;5;21mincrementer\u001b[39m():\n\u001b[1;32m----> 5\u001b[0m     num \u001b[38;5;241m+\u001b[39m\u001b[38;5;241m=\u001b[39m \u001b[38;5;241m1\u001b[39m\n\u001b[0;32m      6\u001b[0m     \u001b[38;5;28;01mreturn\u001b[39;00m num\n",
      "\u001b[1;31mUnboundLocalError\u001b[0m: local variable 'num' referenced before assignment"
     ]
    }
   ],
   "source": [
    "#Nonlocal variables\n",
    "def counter():\n",
    "    num = 0\n",
    "    def incrementer():\n",
    "        num += 1\n",
    "        return num\n",
    "    return incrementer\n",
    "c = counter()\n",
    "c()"
   ]
  },
  {
   "cell_type": "markdown",
   "id": "baf804fe-2b6d-45a9-a2c6-ca27acfc739f",
   "metadata": {},
   "source": [
    "Global Variable"
   ]
  },
  {
   "cell_type": "code",
   "execution_count": 13,
   "id": "5a311cf8-506d-4c3e-a4d8-37c8aaca99e2",
   "metadata": {},
   "outputs": [
    {
     "name": "stdout",
     "output_type": "stream",
     "text": [
      "Hi\n"
     ]
    }
   ],
   "source": [
    "x = 'Hi'\n",
    "def read_x():\n",
    "    print(x)  # x is just referenced, therefore assumed global\n",
    "read_x()"
   ]
  },
  {
   "cell_type": "code",
   "execution_count": 16,
   "id": "a875c245-0d7f-433d-ba0b-5621342d05ce",
   "metadata": {},
   "outputs": [
    {
     "ename": "NameError",
     "evalue": "name 'y' is not defined",
     "output_type": "error",
     "traceback": [
      "\u001b[1;31m---------------------------------------------------------------------------\u001b[0m",
      "\u001b[1;31mNameError\u001b[0m                                 Traceback (most recent call last)",
      "Cell \u001b[1;32mIn [16], line 3\u001b[0m\n\u001b[0;32m      1\u001b[0m \u001b[38;5;28;01mdef\u001b[39;00m \u001b[38;5;21mread_y\u001b[39m():\n\u001b[0;32m      2\u001b[0m     \u001b[38;5;28mprint\u001b[39m(y) \u001b[38;5;66;03m# here y is just referenced, therefore assumed global\u001b[39;00m\n\u001b[1;32m----> 3\u001b[0m \u001b[43mread_y\u001b[49m\u001b[43m(\u001b[49m\u001b[43m)\u001b[49m\n",
      "Cell \u001b[1;32mIn [16], line 2\u001b[0m, in \u001b[0;36mread_y\u001b[1;34m()\u001b[0m\n\u001b[0;32m      1\u001b[0m \u001b[38;5;28;01mdef\u001b[39;00m \u001b[38;5;21mread_y\u001b[39m():\n\u001b[1;32m----> 2\u001b[0m     \u001b[38;5;28mprint\u001b[39m(\u001b[43my\u001b[49m)\n",
      "\u001b[1;31mNameError\u001b[0m: name 'y' is not defined"
     ]
    }
   ],
   "source": [
    "def read_y():\n",
    "    print(y) # here y is just referenced, therefore assumed global\n",
    "read_y()"
   ]
  },
  {
   "cell_type": "code",
   "execution_count": 17,
   "id": "94646224-96df-4736-ad84-fa129279a514",
   "metadata": {},
   "outputs": [
    {
     "name": "stdout",
     "output_type": "stream",
     "text": [
      "Hey\n"
     ]
    }
   ],
   "source": [
    "def read_y():\n",
    "    y = 'Hey' # y appears in an assignment, therefore it's local\n",
    "    print(y) # will find the local y\n",
    "read_y()  "
   ]
  },
  {
   "cell_type": "code",
   "execution_count": 18,
   "id": "3edee1cc-f95f-42cc-8a37-3fbabdffb18e",
   "metadata": {},
   "outputs": [
    {
     "ename": "UnboundLocalError",
     "evalue": "local variable 'x' referenced before assignment",
     "output_type": "error",
     "traceback": [
      "\u001b[1;31m---------------------------------------------------------------------------\u001b[0m",
      "\u001b[1;31mUnboundLocalError\u001b[0m                         Traceback (most recent call last)",
      "Cell \u001b[1;32mIn [18], line 5\u001b[0m\n\u001b[0;32m      3\u001b[0m         x \u001b[38;5;241m=\u001b[39m \u001b[38;5;124m'\u001b[39m\u001b[38;5;124mHey\u001b[39m\u001b[38;5;124m'\u001b[39m \u001b[38;5;66;03m# x appears in an assignment, therefore it's local\u001b[39;00m\n\u001b[0;32m      4\u001b[0m     \u001b[38;5;28mprint\u001b[39m(x)  \u001b[38;5;66;03m# will look for the _local_z, which is not assigned, and will not be found\u001b[39;00m\n\u001b[1;32m----> 5\u001b[0m \u001b[43mread_x_local_fail\u001b[49m\u001b[43m(\u001b[49m\u001b[43m)\u001b[49m\n",
      "Cell \u001b[1;32mIn [18], line 4\u001b[0m, in \u001b[0;36mread_x_local_fail\u001b[1;34m()\u001b[0m\n\u001b[0;32m      2\u001b[0m \u001b[38;5;28;01mif\u001b[39;00m \u001b[38;5;28;01mFalse\u001b[39;00m:\n\u001b[0;32m      3\u001b[0m     x \u001b[38;5;241m=\u001b[39m \u001b[38;5;124m'\u001b[39m\u001b[38;5;124mHey\u001b[39m\u001b[38;5;124m'\u001b[39m \u001b[38;5;66;03m# x appears in an assignment, therefore it's local\u001b[39;00m\n\u001b[1;32m----> 4\u001b[0m \u001b[38;5;28mprint\u001b[39m(\u001b[43mx\u001b[49m)\n",
      "\u001b[1;31mUnboundLocalError\u001b[0m: local variable 'x' referenced before assignment"
     ]
    }
   ],
   "source": [
    "def read_x_local_fail():\n",
    "    if False:\n",
    "        x = 'Hey' # x appears in an assignment, therefore it's local\n",
    "    print(x)  # will look for the _local_z, which is not assigned, and will not be found\n",
    "read_x_local_fail()"
   ]
  },
  {
   "cell_type": "code",
   "execution_count": 19,
   "id": "c3e2049e-9559-4c77-a7fa-be2a49f54b7f",
   "metadata": {},
   "outputs": [
    {
     "name": "stdout",
     "output_type": "stream",
     "text": [
      "Bye\n"
     ]
    }
   ],
   "source": [
    "# an assignment inside a scope will shadow any outer variables of the same naem:\n",
    "x = 'Hi'\n",
    "def change_local_x():\n",
    "    x = 'Bye'\n",
    "    print(x)\n",
    "change_local_x()"
   ]
  },
  {
   "cell_type": "code",
   "execution_count": 20,
   "id": "9207546a-a9aa-4c70-8fd4-e4458f285b49",
   "metadata": {},
   "outputs": [
    {
     "name": "stdout",
     "output_type": "stream",
     "text": [
      "Hi\n"
     ]
    }
   ],
   "source": [
    "print(x)"
   ]
  },
  {
   "cell_type": "markdown",
   "id": "4a53ae70-af59-491f-93b7-12efb96e3109",
   "metadata": {},
   "source": [
    "Declaring a name global means that, for the rest of the scope, any assignments to the name will happen at the module's top level:"
   ]
  },
  {
   "cell_type": "code",
   "execution_count": 21,
   "id": "bf212e8e-02e2-4959-872b-c52264ad5dd8",
   "metadata": {},
   "outputs": [
    {
     "name": "stdout",
     "output_type": "stream",
     "text": [
      "Bye\n"
     ]
    }
   ],
   "source": [
    "x = 'Hi'\n",
    "def change_global_x():\n",
    "    global x\n",
    "    x = 'Bye'\n",
    "    print(x)\n",
    "change_global_x()"
   ]
  },
  {
   "cell_type": "code",
   "execution_count": 22,
   "id": "d2448ac7-9d7e-453f-8e57-9a260116ca8c",
   "metadata": {},
   "outputs": [
    {
     "name": "stdout",
     "output_type": "stream",
     "text": [
      "Bye\n"
     ]
    }
   ],
   "source": [
    "print(x)"
   ]
  },
  {
   "cell_type": "markdown",
   "id": "6f268e1b-f14a-455b-b9b0-8aa8492799fd",
   "metadata": {},
   "source": [
    "Local Variables"
   ]
  },
  {
   "cell_type": "code",
   "execution_count": 24,
   "id": "07a26a88-160b-4b7f-a4d7-007cd74d2fb5",
   "metadata": {},
   "outputs": [
    {
     "name": "stdout",
     "output_type": "stream",
     "text": [
      "5\n"
     ]
    }
   ],
   "source": [
    "def foo():\n",
    "    a = 5\n",
    "    print(a)\n",
    "foo()"
   ]
  },
  {
   "cell_type": "code",
   "execution_count": 25,
   "id": "67c6f88a-0116-4819-87dd-f0d0d5403681",
   "metadata": {},
   "outputs": [
    {
     "ename": "NameError",
     "evalue": "name 'a' is not defined",
     "output_type": "error",
     "traceback": [
      "\u001b[1;31m---------------------------------------------------------------------------\u001b[0m",
      "\u001b[1;31mNameError\u001b[0m                                 Traceback (most recent call last)",
      "Cell \u001b[1;32mIn [25], line 1\u001b[0m\n\u001b[1;32m----> 1\u001b[0m \u001b[38;5;28mprint\u001b[39m(\u001b[43ma\u001b[49m)\n",
      "\u001b[1;31mNameError\u001b[0m: name 'a' is not defined"
     ]
    }
   ],
   "source": [
    "print(a)"
   ]
  },
  {
   "cell_type": "code",
   "execution_count": 26,
   "id": "36dfeb5a-caaf-4d2e-9abd-242c39646bd1",
   "metadata": {},
   "outputs": [
    {
     "name": "stdout",
     "output_type": "stream",
     "text": [
      "5\n"
     ]
    }
   ],
   "source": [
    "def foo():\n",
    "    if True:\n",
    "        a = 5\n",
    "    print(a)\n",
    "foo()"
   ]
  },
  {
   "cell_type": "code",
   "execution_count": 27,
   "id": "0aaad789-b5ed-4d4a-a9a8-689d5bde012d",
   "metadata": {},
   "outputs": [
    {
     "ename": "UnboundLocalError",
     "evalue": "local variable 'b' referenced before assignment",
     "output_type": "error",
     "traceback": [
      "\u001b[1;31m---------------------------------------------------------------------------\u001b[0m",
      "\u001b[1;31mUnboundLocalError\u001b[0m                         Traceback (most recent call last)",
      "Cell \u001b[1;32mIn [27], line 6\u001b[0m\n\u001b[0;32m      4\u001b[0m         b \u001b[38;5;241m=\u001b[39m \u001b[38;5;241m5\u001b[39m\n\u001b[0;32m      5\u001b[0m     \u001b[38;5;28mprint\u001b[39m(b)\n\u001b[1;32m----> 6\u001b[0m \u001b[43mbar\u001b[49m\u001b[43m(\u001b[49m\u001b[43m)\u001b[49m\n",
      "Cell \u001b[1;32mIn [27], line 5\u001b[0m, in \u001b[0;36mbar\u001b[1;34m()\u001b[0m\n\u001b[0;32m      3\u001b[0m \u001b[38;5;28;01mif\u001b[39;00m \u001b[38;5;28;01mFalse\u001b[39;00m:\n\u001b[0;32m      4\u001b[0m     b \u001b[38;5;241m=\u001b[39m \u001b[38;5;241m5\u001b[39m\n\u001b[1;32m----> 5\u001b[0m \u001b[38;5;28mprint\u001b[39m(\u001b[43mb\u001b[49m)\n",
      "\u001b[1;31mUnboundLocalError\u001b[0m: local variable 'b' referenced before assignment"
     ]
    }
   ],
   "source": [
    "b=3\n",
    "def bar():\n",
    "    if False:\n",
    "        b = 5\n",
    "    print(b)\n",
    "bar()"
   ]
  },
  {
   "cell_type": "markdown",
   "id": "f3aa7205-f6f5-40b8-a8ba-86e2f06c18bd",
   "metadata": {},
   "source": [
    "The del command"
   ]
  },
  {
   "cell_type": "code",
   "execution_count": 28,
   "id": "6973e414-bf8d-4e53-95b3-78a3ba04d878",
   "metadata": {},
   "outputs": [
    {
     "name": "stdout",
     "output_type": "stream",
     "text": [
      "5\n"
     ]
    },
    {
     "ename": "NameError",
     "evalue": "name 'x' is not defined",
     "output_type": "error",
     "traceback": [
      "\u001b[1;31m---------------------------------------------------------------------------\u001b[0m",
      "\u001b[1;31mNameError\u001b[0m                                 Traceback (most recent call last)",
      "Cell \u001b[1;32mIn [28], line 5\u001b[0m\n\u001b[0;32m      3\u001b[0m \u001b[38;5;28mprint\u001b[39m(x)\n\u001b[0;32m      4\u001b[0m \u001b[38;5;28;01mdel\u001b[39;00m x\n\u001b[1;32m----> 5\u001b[0m \u001b[38;5;28mprint\u001b[39m(\u001b[43mx\u001b[49m)\n",
      "\u001b[1;31mNameError\u001b[0m: name 'x' is not defined"
     ]
    }
   ],
   "source": [
    "# del command removes the variable from its scope.\n",
    "x = 5\n",
    "print(x)\n",
    "del x\n",
    "print(x)"
   ]
  },
  {
   "cell_type": "code",
   "execution_count": 29,
   "id": "466bae98-67aa-4376-a187-9b1814b4e18a",
   "metadata": {},
   "outputs": [
    {
     "name": "stdout",
     "output_type": "stream",
     "text": [
      "7\n"
     ]
    }
   ],
   "source": [
    "# The class with intention is to make the attribute name unavailable. \n",
    "class A:\n",
    "    pass\n",
    "a = A()\n",
    "a.x = 7\n",
    "print(a.x) # out: 7"
   ]
  },
  {
   "cell_type": "code",
   "execution_count": 30,
   "id": "62fb0038-0be3-409b-aeb1-217e71b2683a",
   "metadata": {},
   "outputs": [],
   "source": [
    "del a.x"
   ]
  },
  {
   "cell_type": "code",
   "execution_count": 31,
   "id": "c1707e5e-390f-47b4-b9bb-355f7b95c69c",
   "metadata": {},
   "outputs": [
    {
     "ename": "AttributeError",
     "evalue": "'A' object has no attribute 'x'",
     "output_type": "error",
     "traceback": [
      "\u001b[1;31m---------------------------------------------------------------------------\u001b[0m",
      "\u001b[1;31mAttributeError\u001b[0m                            Traceback (most recent call last)",
      "Cell \u001b[1;32mIn [31], line 1\u001b[0m\n\u001b[1;32m----> 1\u001b[0m \u001b[38;5;28mprint\u001b[39m(\u001b[43ma\u001b[49m\u001b[38;5;241;43m.\u001b[39;49m\u001b[43mx\u001b[49m)\n",
      "\u001b[1;31mAttributeError\u001b[0m: 'A' object has no attribute 'x'"
     ]
    }
   ],
   "source": [
    "print(a.x)"
   ]
  },
  {
   "cell_type": "code",
   "execution_count": 32,
   "id": "19fc5786-4634-4f16-976c-f2357d62f31a",
   "metadata": {},
   "outputs": [
    {
     "name": "stdout",
     "output_type": "stream",
     "text": [
      "{'b': 2}\n"
     ]
    }
   ],
   "source": [
    "# Another example\n",
    "x = {'a': 1, 'b':2}\n",
    "del x['a']\n",
    "print(x) "
   ]
  },
  {
   "cell_type": "code",
   "execution_count": 33,
   "id": "027afc64-adcd-4b0c-a5b0-4a25bc450ba7",
   "metadata": {},
   "outputs": [
    {
     "ename": "KeyError",
     "evalue": "'a'",
     "output_type": "error",
     "traceback": [
      "\u001b[1;31m---------------------------------------------------------------------------\u001b[0m",
      "\u001b[1;31mKeyError\u001b[0m                                  Traceback (most recent call last)",
      "Cell \u001b[1;32mIn [33], line 1\u001b[0m\n\u001b[1;32m----> 1\u001b[0m \u001b[38;5;28mprint\u001b[39m(\u001b[43mx\u001b[49m\u001b[43m[\u001b[49m\u001b[38;5;124;43m'\u001b[39;49m\u001b[38;5;124;43ma\u001b[39;49m\u001b[38;5;124;43m'\u001b[39;49m\u001b[43m]\u001b[49m)\n",
      "\u001b[1;31mKeyError\u001b[0m: 'a'"
     ]
    }
   ],
   "source": [
    "print(x['a'])"
   ]
  },
  {
   "cell_type": "code",
   "execution_count": 34,
   "id": "51bffacb-5a9c-41cc-88e7-28ff97c74174",
   "metadata": {},
   "outputs": [
    {
     "name": "stdout",
     "output_type": "stream",
     "text": [
      "[0, 3, 4]\n"
     ]
    }
   ],
   "source": [
    "x = [0, 1, 2, 3, 4]\n",
    "del x[1:3]\n",
    "print(x)"
   ]
  },
  {
   "cell_type": "markdown",
   "id": "75c15b0f-573c-45e7-92b9-9d21a2a304bb",
   "metadata": {},
   "source": [
    "Functions skip class scope when looking up names"
   ]
  },
  {
   "cell_type": "code",
   "execution_count": 35,
   "id": "c4835626-d3fc-4fbe-8dc8-a70b30effb3e",
   "metadata": {},
   "outputs": [
    {
     "name": "stdout",
     "output_type": "stream",
     "text": [
      "class\n"
     ]
    }
   ],
   "source": [
    "a = 'global'\n",
    "class Fred:\n",
    "    a = 'class' # class scope\n",
    "    b = (a for i in range(10)) # function scope\n",
    "    c = [a for i in range(10)] # function scope\n",
    "    d = a # class scope\n",
    "    e = lambda: a # function scope\n",
    "    f = lambda a=a: a # default argument uses class scope\n",
    "    @staticmethod # or @classmethod, or regular instance method\n",
    "    def g(): # function scope\n",
    "        return a \n",
    "print(Fred.a) #class"
   ]
  },
  {
   "cell_type": "code",
   "execution_count": 36,
   "id": "4ebe6621-d45a-456f-a050-1fc9c1aeedda",
   "metadata": {},
   "outputs": [
    {
     "name": "stdout",
     "output_type": "stream",
     "text": [
      "global\n"
     ]
    }
   ],
   "source": [
    "print(next(Fred.b))"
   ]
  },
  {
   "cell_type": "code",
   "execution_count": 37,
   "id": "3d610af0-d4af-4ddb-8642-5a3185443a9e",
   "metadata": {},
   "outputs": [
    {
     "name": "stdout",
     "output_type": "stream",
     "text": [
      "global\n"
     ]
    }
   ],
   "source": [
    "print(Fred.c[0])"
   ]
  },
  {
   "cell_type": "code",
   "execution_count": 38,
   "id": "24548444-872c-4ac2-b1cb-bc10c92a9832",
   "metadata": {},
   "outputs": [
    {
     "name": "stdout",
     "output_type": "stream",
     "text": [
      "class\n"
     ]
    }
   ],
   "source": [
    "print(Fred.d)"
   ]
  },
  {
   "cell_type": "code",
   "execution_count": 39,
   "id": "f65e349c-6b73-4200-b4e5-b06cb02ec88e",
   "metadata": {},
   "outputs": [
    {
     "name": "stdout",
     "output_type": "stream",
     "text": [
      "global\n"
     ]
    }
   ],
   "source": [
    "print(Fred.e())"
   ]
  },
  {
   "cell_type": "code",
   "execution_count": 40,
   "id": "5a4be6d2-564a-435d-80f3-63d265778840",
   "metadata": {},
   "outputs": [
    {
     "name": "stdout",
     "output_type": "stream",
     "text": [
      "class\n"
     ]
    }
   ],
   "source": [
    "print(Fred.f())"
   ]
  },
  {
   "cell_type": "code",
   "execution_count": 41,
   "id": "5ae3877f-a837-40b2-a069-18276816a052",
   "metadata": {},
   "outputs": [
    {
     "name": "stdout",
     "output_type": "stream",
     "text": [
      "global\n"
     ]
    }
   ],
   "source": [
    "print(Fred.g())"
   ]
  },
  {
   "cell_type": "markdown",
   "id": "e2b74a3f-c09c-4e53-8823-248e33e36d5b",
   "metadata": {},
   "source": [
    "Local vs Global scope"
   ]
  },
  {
   "cell_type": "code",
   "execution_count": 44,
   "id": "3bfa5539-181d-4440-ad44-bb554d08994f",
   "metadata": {},
   "outputs": [
    {
     "name": "stdout",
     "output_type": "stream",
     "text": [
      "1\n",
      "2\n"
     ]
    }
   ],
   "source": [
    "foo = 1 # global\n",
    "def func():\n",
    "    bar = 2 # local\n",
    "    print(foo) #prints variable foo from global scope\n",
    "    print(bar) #prints variable bar from local scope\n",
    "func()"
   ]
  },
  {
   "cell_type": "code",
   "execution_count": 45,
   "id": "48278e1d-c697-471c-881a-9fc19580a99a",
   "metadata": {},
   "outputs": [],
   "source": [
    "# What happens with name clashes?\n",
    "foo = 1\n",
    "def func():\n",
    "    foo = 2 # creates a new variable foo in local scope, global foo is not affected\n",
    "    print(foo) # prints 2\n",
    "    # global variable foo still exists, unchanged:\n",
    "    print(globals()['foo'])\n",
    "    print(locals()['foo'])"
   ]
  },
  {
   "cell_type": "code",
   "execution_count": 46,
   "id": "f063247b-f692-4e0e-8a02-d67f98aa34c3",
   "metadata": {},
   "outputs": [
    {
     "name": "stdout",
     "output_type": "stream",
     "text": [
      "2\n",
      "1\n",
      "2\n"
     ]
    }
   ],
   "source": [
    "func()"
   ]
  },
  {
   "cell_type": "code",
   "execution_count": 49,
   "id": "be4ca8ce-68ff-41b4-a9d9-f631b10e60b3",
   "metadata": {},
   "outputs": [],
   "source": [
    "# To modify global variable, use keyword global:\n",
    "foo = 1\n",
    "def func():\n",
    "    global foo\n",
    "    foo = 2 # this modifies the global foo, rather than creating a local variable\n",
    "    print(foo)"
   ]
  },
  {
   "cell_type": "code",
   "execution_count": 50,
   "id": "0d0e13dc-f060-464f-997d-62e39769d35e",
   "metadata": {},
   "outputs": [
    {
     "name": "stdout",
     "output_type": "stream",
     "text": [
      "2\n"
     ]
    }
   ],
   "source": [
    "func()"
   ]
  },
  {
   "cell_type": "code",
   "execution_count": 51,
   "id": "9b7924fb-9725-4ae0-a2e0-a7d15c5f5025",
   "metadata": {},
   "outputs": [],
   "source": [
    "# The scope is defined for the whole body of the function!\n",
    "foo = 1\n",
    "def func():\n",
    "    #This function has a local variable foo, because it is defined down below\n",
    "    #So, foo is local from this point. GLobal foo is hidden \n",
    "    print(foo)\n",
    "    foo = 7\n",
    "    print(foo)"
   ]
  },
  {
   "cell_type": "code",
   "execution_count": 52,
   "id": "d194acc5-e6d1-4bd7-8e25-3585bae1998e",
   "metadata": {},
   "outputs": [
    {
     "ename": "UnboundLocalError",
     "evalue": "local variable 'foo' referenced before assignment",
     "output_type": "error",
     "traceback": [
      "\u001b[1;31m---------------------------------------------------------------------------\u001b[0m",
      "\u001b[1;31mUnboundLocalError\u001b[0m                         Traceback (most recent call last)",
      "Cell \u001b[1;32mIn [52], line 1\u001b[0m\n\u001b[1;32m----> 1\u001b[0m \u001b[43mfunc\u001b[49m\u001b[43m(\u001b[49m\u001b[43m)\u001b[49m\n",
      "Cell \u001b[1;32mIn [51], line 6\u001b[0m, in \u001b[0;36mfunc\u001b[1;34m()\u001b[0m\n\u001b[0;32m      3\u001b[0m \u001b[38;5;28;01mdef\u001b[39;00m \u001b[38;5;21mfunc\u001b[39m():\n\u001b[0;32m      4\u001b[0m     \u001b[38;5;66;03m#This function has a local variable foo, because it is defined down below\u001b[39;00m\n\u001b[0;32m      5\u001b[0m     \u001b[38;5;66;03m#So, foo is local from this point. GLobal foo is hidden \u001b[39;00m\n\u001b[1;32m----> 6\u001b[0m     \u001b[38;5;28mprint\u001b[39m(\u001b[43mfoo\u001b[49m)\n\u001b[0;32m      7\u001b[0m     foo \u001b[38;5;241m=\u001b[39m \u001b[38;5;241m7\u001b[39m\n\u001b[0;32m      8\u001b[0m     \u001b[38;5;28mprint\u001b[39m(foo)\n",
      "\u001b[1;31mUnboundLocalError\u001b[0m: local variable 'foo' referenced before assignment"
     ]
    }
   ],
   "source": [
    "func()"
   ]
  },
  {
   "cell_type": "code",
   "execution_count": 57,
   "id": "d23a30f2-bde0-44e9-b903-0879498019f0",
   "metadata": {},
   "outputs": [],
   "source": [
    "# likewise, the opposite:\n",
    "foo = 1\n",
    "def func():\n",
    "    # In this function, foo is a global variable from the beginning \n",
    "    foo = 7 # global foo is modified\n",
    "    print(foo)\n",
    "    print(globals()['foo'])\n",
    "    print(foo)"
   ]
  },
  {
   "cell_type": "code",
   "execution_count": 58,
   "id": "4c17186e-13b9-4d51-9a4a-cb27f2993d51",
   "metadata": {},
   "outputs": [
    {
     "name": "stdout",
     "output_type": "stream",
     "text": [
      "7\n",
      "1\n",
      "7\n"
     ]
    }
   ],
   "source": [
    "func()"
   ]
  },
  {
   "cell_type": "code",
   "execution_count": 59,
   "id": "4e20bb44-b383-47af-81a3-599cd9a7682e",
   "metadata": {},
   "outputs": [],
   "source": [
    "# Functions within functions\n",
    "foo = 1\n",
    "def f1():\n",
    "    bar = 1\n",
    "    def f2():\n",
    "        baz = 2\n",
    "        # here, foo is a global variable, baz is a local variable\n",
    "        # bar is not in either scope\n",
    "        print(locals().keys()) \n",
    "        print('bar' in locals())\n",
    "        print('bar' in globals())\n",
    "    def f3():\n",
    "        baz = 3\n",
    "        print(bar)\n",
    "        print(locals().keys())\n",
    "        print('bar' in locals())\n",
    "        print('bar' in globals())\n",
    "    def f4():\n",
    "        bar = 4\n",
    "        baz = 4\n",
    "        print(bar)\n",
    "        print(locals().keys())\n",
    "        print('bar' in locals()) \n",
    "        print('bar' in globals())"
   ]
  },
  {
   "cell_type": "code",
   "execution_count": 60,
   "id": "7a5710b8-086c-4bbb-854b-b3da2f8fe474",
   "metadata": {},
   "outputs": [],
   "source": [
    "# global vs nonlocal"
   ]
  },
  {
   "cell_type": "code",
   "execution_count": 61,
   "id": "2a0bae7f-8070-47c6-b6a6-5cf6f8e17e32",
   "metadata": {},
   "outputs": [],
   "source": [
    "foo = 0 # global foo\n",
    "def f1():\n",
    "    foo = 1 # a new foo local in f1\n",
    "    def f2():\n",
    "        foo = 2 # a new foo local in f2\n",
    "        def f3():\n",
    "            foo = 3 # a new foo local in f3\n",
    "            print(foo)\n",
    "            foo = 30 # modifies local foo in f3 only\n",
    "        def f4():\n",
    "            global foo\n",
    "            print(foo) #0\n",
    "            foo = 100 # modifies global foo\n",
    "        "
   ]
  },
  {
   "cell_type": "markdown",
   "id": "96224435-25d1-4b45-ba79-6920068018ee",
   "metadata": {},
   "source": [
    "On the other hand, nonlocal (see Nonlocal Variables ), available in Python 3, takes a local variable from an\n",
    "enclosing scope into the local scope of current function."
   ]
  },
  {
   "cell_type": "markdown",
   "id": "05aafb57-c081-4d1b-99b8-56dabc3c42f3",
   "metadata": {},
   "source": [
    "The nonlocal statement causes the listed identifiers to refer to previously bound variables in the nearest\n",
    "enclosing scope excluding globals."
   ]
  },
  {
   "cell_type": "code",
   "execution_count": 62,
   "id": "55af1d16-4c0d-4c02-a2db-0fee36b5dc43",
   "metadata": {},
   "outputs": [],
   "source": [
    "# python 3.x\n",
    "def f1():\n",
    "    def f2():\n",
    "        foo = 2 # a new foo local in f2\n",
    "        def f3():\n",
    "            nonlocal foo # foo from f2, which is the nearest enclosing scope\n",
    "            print(foo)\n",
    "            foo = 20 # modifies foo from f2!"
   ]
  },
  {
   "cell_type": "markdown",
   "id": "b802fd46-2653-4574-be09-3bab72ce8191",
   "metadata": {},
   "source": [
    "Binding Occurrence"
   ]
  },
  {
   "cell_type": "code",
   "execution_count": 65,
   "id": "b565234d-a1f0-4684-bd65-155d958e47ae",
   "metadata": {},
   "outputs": [],
   "source": [
    "x = 5\n",
    "x += 7\n",
    "for x in range(10): pass"
   ]
  }
 ],
 "metadata": {
  "kernelspec": {
   "display_name": "Python 3 (ipykernel)",
   "language": "python",
   "name": "python3"
  },
  "language_info": {
   "codemirror_mode": {
    "name": "ipython",
    "version": 3
   },
   "file_extension": ".py",
   "mimetype": "text/x-python",
   "name": "python",
   "nbconvert_exporter": "python",
   "pygments_lexer": "ipython3",
   "version": "3.10.7"
  }
 },
 "nbformat": 4,
 "nbformat_minor": 5
}
