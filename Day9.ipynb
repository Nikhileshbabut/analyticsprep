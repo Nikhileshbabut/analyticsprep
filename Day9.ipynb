{
 "cells": [
  {
   "cell_type": "markdown",
   "id": "2f9d471e-4aec-4640-b624-4ffc110d3dda",
   "metadata": {},
   "source": [
    "Functions: Functions in Python provide organized, reusable and modular code to perform a set specific actions. Functions simplify the coding process, prevent redundant logic, and make the code easier to follow. This topic describes the declaration and utilization of functions in Python. Python has many built-in functions like print(), input(), len(). Besides built-ins you can also create your own functions to do more specific jobs--these are called user-defined functions."
   ]
  },
  {
   "cell_type": "markdown",
   "id": "c1618829-6c03-490a-b4bc-23e23e90dea8",
   "metadata": {},
   "source": [
    "Defining and calling simple functions"
   ]
  },
  {
   "cell_type": "code",
   "execution_count": 1,
   "id": "5b006538-4fc9-465c-8f7e-04524ec995ba",
   "metadata": {},
   "outputs": [],
   "source": [
    "#Example\n",
    "def function_name(parameters):\n",
    "    statement(s)"
   ]
  },
  {
   "cell_type": "code",
   "execution_count": 2,
   "id": "5bb0746e-4565-49a4-ad33-b01876d1bce7",
   "metadata": {},
   "outputs": [],
   "source": [
    "def greet():\n",
    "    print(\"Hello\")"
   ]
  },
  {
   "cell_type": "code",
   "execution_count": 3,
   "id": "c14bfe12-23f5-4ebd-8499-9e7cd249f2c5",
   "metadata": {},
   "outputs": [
    {
     "name": "stdout",
     "output_type": "stream",
     "text": [
      "Hello\n"
     ]
    }
   ],
   "source": [
    "greet()"
   ]
  },
  {
   "cell_type": "markdown",
   "id": "bb975ae5-de93-452b-883a-dafd3c519bd9",
   "metadata": {},
   "source": [
    "Example of a function definition which takes one single argument and displays the passed in value each time the function is called."
   ]
  },
  {
   "cell_type": "code",
   "execution_count": 4,
   "id": "036e2527-1f74-4e6c-8277-a55b4fb47c56",
   "metadata": {},
   "outputs": [
    {
     "name": "stdout",
     "output_type": "stream",
     "text": [
      "Howdy\n"
     ]
    }
   ],
   "source": [
    "def greet_two(greeting):\n",
    "    print(greeting)\n",
    "greet_two(\"Howdy\")"
   ]
  },
  {
   "cell_type": "code",
   "execution_count": 5,
   "id": "97d1d0b7-bda4-461f-83e5-a2bcaf80e5df",
   "metadata": {},
   "outputs": [
    {
     "name": "stdout",
     "output_type": "stream",
     "text": [
      "0\n",
      "Hello!\n"
     ]
    }
   ],
   "source": [
    "# unlike other pl's 'return' keyword do not need to explicitly declare but can return values of any type.\n",
    "def many_types(x):\n",
    "    if x<0:\n",
    "        return \"Hello!\"\n",
    "    else:\n",
    "        return 0\n",
    "print(many_types(1))\n",
    "print(many_types(-1))"
   ]
  },
  {
   "cell_type": "code",
   "execution_count": 6,
   "id": "3ffd6eaf-2203-4311-b0ec-9b004ad309b3",
   "metadata": {},
   "outputs": [
    {
     "name": "stdout",
     "output_type": "stream",
     "text": [
      "None\n"
     ]
    }
   ],
   "source": [
    "# Function that reaches the end of execution without a return statement will always return None\n",
    "def do_nothing():\n",
    "    pass\n",
    "print(do_nothing())"
   ]
  },
  {
   "cell_type": "markdown",
   "id": "cc8cd1c7-1a40-4514-848a-da6585137811",
   "metadata": {},
   "source": [
    "Defining a function with an arbitrary number of arguments"
   ]
  },
  {
   "cell_type": "code",
   "execution_count": 7,
   "id": "bfef7d5f-1aa8-47f5-a21a-2141c54708a1",
   "metadata": {},
   "outputs": [
    {
     "name": "stdout",
     "output_type": "stream",
     "text": [
      "1\n",
      "2\n",
      "3\n"
     ]
    }
   ],
   "source": [
    "def func(*args):\n",
    "    #args will be a tuple containing all values that are passed in\n",
    "    for i in args:\n",
    "        print(i)\n",
    "        \n",
    "func(1, 2, 3) # calling it with 3 arguments"
   ]
  },
  {
   "cell_type": "code",
   "execution_count": 9,
   "id": "595d0ce6-6969-4515-98f6-617006bd6553",
   "metadata": {},
   "outputs": [
    {
     "name": "stdout",
     "output_type": "stream",
     "text": [
      "1\n",
      "2\n",
      "3\n"
     ]
    }
   ],
   "source": [
    "list_of_arg_values = [1, 2, 3]\n",
    "func(*list_of_arg_values) # Calling it with list of values, * expands the list\n"
   ]
  },
  {
   "cell_type": "code",
   "execution_count": 10,
   "id": "1946aa84-47f9-430b-9d3a-b933ef1d8234",
   "metadata": {},
   "outputs": [],
   "source": [
    "func() # Calling it without arguments\n",
    "# No output"
   ]
  },
  {
   "cell_type": "markdown",
   "id": "2d5cbdec-1332-4dda-b5b3-01d42a1df4fc",
   "metadata": {},
   "source": [
    "we can't use a default for args, for example func(*args[1, 2, 3]) will raise a syntax error"
   ]
  },
  {
   "cell_type": "markdown",
   "id": "bb6c5813-bd35-4452-bffb-f98eda2f6770",
   "metadata": {},
   "source": [
    "and also can't provide these by name while calling the function, for example func(*args=[1, 2, 3]) will raise a TypeError."
   ]
  },
  {
   "cell_type": "code",
   "execution_count": 2,
   "id": "bb672f1b-6c68-4904-8093-5889326ebd7f",
   "metadata": {},
   "outputs": [
    {
     "name": "stdout",
     "output_type": "stream",
     "text": [
      "value1 1\n",
      "value2 2\n",
      "value3 3\n"
     ]
    }
   ],
   "source": [
    "#Arbitrary number of keywordsarguments\n",
    "def func(**kwargs):\n",
    "    #kwargs will be a dictionary containing the names as keys and the values as values\n",
    "    for name, value in kwargs.items():\n",
    "        print(name, value)\n",
    "func(value1=1, value2=2, value3=3) # Calling it with 3 arguments"
   ]
  },
  {
   "cell_type": "code",
   "execution_count": 3,
   "id": "122e41db-a755-40ad-b846-5b5a7858bffe",
   "metadata": {},
   "outputs": [],
   "source": [
    "func() # Calling without arguments"
   ]
  },
  {
   "cell_type": "code",
   "execution_count": 4,
   "id": "e743c397-bd80-4616-9cb0-ccc2e5cf68f6",
   "metadata": {},
   "outputs": [
    {
     "name": "stdout",
     "output_type": "stream",
     "text": [
      "foo 1\n",
      "bar 2\n"
     ]
    }
   ],
   "source": [
    "my_dict = {'foo': 1, 'bar': 2}\n",
    "func(**my_dict) # Calling it with a dictionary"
   ]
  },
  {
   "cell_type": "code",
   "execution_count": 5,
   "id": "8229a508-2d5b-4c16-9ef7-4a25fa9a1d9d",
   "metadata": {},
   "outputs": [
    {
     "name": "stdout",
     "output_type": "stream",
     "text": [
      "{'a': 1, 'b': 2}\n",
      "2\n"
     ]
    }
   ],
   "source": [
    "# Nesting Functions with Optional Arguments\n",
    "def fn(**kwargs):\n",
    "    print(kwargs)\n",
    "    f1(**kwargs)\n",
    "def f1(**kwargs):\n",
    "    print(len(kwargs))\n",
    "fn(a=1, b=2)"
   ]
  },
  {
   "cell_type": "markdown",
   "id": "26c3a0f1-de74-4a6c-91e1-6482e322f83e",
   "metadata": {},
   "source": [
    "Lambda (Inline/Anonymous) Functions"
   ]
  },
  {
   "cell_type": "code",
   "execution_count": 6,
   "id": "a62a8945-76ce-4836-80c2-947328c3a44e",
   "metadata": {},
   "outputs": [
    {
     "name": "stdout",
     "output_type": "stream",
     "text": [
      "Hello\n"
     ]
    }
   ],
   "source": [
    "greet_me = lambda: \"Hello\"\n",
    "print(greet_me())"
   ]
  },
  {
   "cell_type": "code",
   "execution_count": 7,
   "id": "d4d8250f-e873-4030-ac36-f5f31ea5f428",
   "metadata": {},
   "outputs": [
    {
     "data": {
      "text/plain": [
       "'HELLO'"
      ]
     },
     "execution_count": 7,
     "metadata": {},
     "output_type": "execute_result"
    }
   ],
   "source": [
    "# lambdas can take arguments, too:\n",
    "strip_and_upper_case = lambda s: s.strip().upper()\n",
    "strip_and_upper_case(\"  Hello  \")"
   ]
  },
  {
   "cell_type": "code",
   "execution_count": 8,
   "id": "400254ce-bedc-4381-a01b-5cd8426d304d",
   "metadata": {},
   "outputs": [
    {
     "name": "stdout",
     "output_type": "stream",
     "text": [
      "hello ('world',) {'world': 'world'}\n"
     ]
    }
   ],
   "source": [
    "# lambda also takes arbitrary number of arguments/keyword arguments, like normal functions.\n",
    "greeting = lambda x, *args, **kwargs: print(x, args, kwargs)\n",
    "greeting('hello', 'world', world='world')"
   ]
  },
  {
   "cell_type": "markdown",
   "id": "c02d1044-dd06-420a-b195-bf276c12bfdd",
   "metadata": {},
   "source": [
    "lambdas are commonly used for short functions that are convenient to define at the point where they are called (typically with sorted, filter and map)."
   ]
  },
  {
   "cell_type": "code",
   "execution_count": 9,
   "id": "177e2e1e-9f3a-4e9a-86f9-2f840817dd41",
   "metadata": {},
   "outputs": [
    {
     "data": {
      "text/plain": [
       "['   bAR', 'BaZ  ', ' foo ']"
      ]
     },
     "execution_count": 9,
     "metadata": {},
     "output_type": "execute_result"
    }
   ],
   "source": [
    "sorted([\" foo \", \"   bAR\", \"BaZ  \"], key=lambda s: s.strip().upper())"
   ]
  },
  {
   "cell_type": "code",
   "execution_count": 10,
   "id": "f3b028e6-93ca-4263-9ec9-8c4dc0056ce1",
   "metadata": {},
   "outputs": [
    {
     "data": {
      "text/plain": [
       "['BaZ  ', '  bAR', ' foo ']"
      ]
     },
     "execution_count": 10,
     "metadata": {},
     "output_type": "execute_result"
    }
   ],
   "source": [
    "#Sort list just ignoring whitespaces:\n",
    "sorted( [\" foo \", \"  bAR\", \"BaZ  \"], key=lambda s: s.strip())"
   ]
  },
  {
   "cell_type": "code",
   "execution_count": 11,
   "id": "b612c13e-3d14-48fe-977e-0159416610c1",
   "metadata": {},
   "outputs": [
    {
     "data": {
      "text/plain": [
       "['BAR', 'BAZ', 'FOO']"
      ]
     },
     "execution_count": 11,
     "metadata": {},
     "output_type": "execute_result"
    }
   ],
   "source": [
    "# Examples with map:\n",
    "sorted( map( lambda s: s.strip().upper(), [\" foo \", \"   bAR\", \"BaZ  \"]))"
   ]
  },
  {
   "cell_type": "code",
   "execution_count": 12,
   "id": "8fac532e-d2cd-4aaf-851e-da5d85a1dc77",
   "metadata": {},
   "outputs": [
    {
     "data": {
      "text/plain": [
       "['BaZ', 'bAR', 'foo']"
      ]
     },
     "execution_count": 12,
     "metadata": {},
     "output_type": "execute_result"
    }
   ],
   "source": [
    "sorted( map( lambda s: s.strip(), [\" foo \", \"  bAR\", \"BaZ   \"]))"
   ]
  },
  {
   "cell_type": "code",
   "execution_count": 13,
   "id": "6bda9193-c076-48b9-ba64-50df4549a7b3",
   "metadata": {},
   "outputs": [
    {
     "data": {
      "text/plain": [
       "[1, -2, 3, -4, 5, 7]"
      ]
     },
     "execution_count": 13,
     "metadata": {},
     "output_type": "execute_result"
    }
   ],
   "source": [
    "# Examples with numerical lists:\n",
    "my_list = [3, -4, -2, 5, 1, 7]\n",
    "sorted( my_list, key=lambda x: abs(x))"
   ]
  },
  {
   "cell_type": "code",
   "execution_count": 14,
   "id": "9bfb9c15-47ec-4723-a26e-0064ef18f854",
   "metadata": {},
   "outputs": [
    {
     "data": {
      "text/plain": [
       "[3, 5, 1, 7]"
      ]
     },
     "execution_count": 14,
     "metadata": {},
     "output_type": "execute_result"
    }
   ],
   "source": [
    "list( filter( lambda x: x>0, my_list))"
   ]
  },
  {
   "cell_type": "code",
   "execution_count": 15,
   "id": "2e56f04e-3ebf-4e83-a24d-c6e41fb5e331",
   "metadata": {},
   "outputs": [
    {
     "data": {
      "text/plain": [
       "[3, 4, 2, 5, 1, 7]"
      ]
     },
     "execution_count": 15,
     "metadata": {},
     "output_type": "execute_result"
    }
   ],
   "source": [
    "list( map(lambda x: abs(x), my_list))"
   ]
  },
  {
   "cell_type": "code",
   "execution_count": 17,
   "id": "54b3a31b-451f-4dc8-a957-9357288f3996",
   "metadata": {},
   "outputs": [
    {
     "name": "stdout",
     "output_type": "stream",
     "text": [
      "hello world\n"
     ]
    }
   ],
   "source": [
    "#one can call other functions (with/without arguments) from inside a lambda function.\n",
    "def foo(msg):\n",
    "    print(msg)\n",
    "greet = lambda x = \"hello world\": foo(x)\n",
    "greet()"
   ]
  },
  {
   "cell_type": "markdown",
   "id": "93da9b60-b7b1-430f-995e-f58866a86802",
   "metadata": {},
   "source": [
    "PEP-8(the official Python style guide) does not recommend assigning lambdas to variables"
   ]
  },
  {
   "cell_type": "raw",
   "id": "92c2e36e-b0aa-4f65-bcdc-4b108d270b7f",
   "metadata": {},
   "source": [
    "Always use a def statement instead of an assignment statement that binds a lambda expression directly to an identifier."
   ]
  },
  {
   "cell_type": "code",
   "execution_count": 18,
   "id": "e96a4e1a-d30b-4689-b685-c05d0ee36b65",
   "metadata": {},
   "outputs": [],
   "source": [
    "#Yes\n",
    "def f(x): return 2*x"
   ]
  },
  {
   "cell_type": "code",
   "execution_count": 19,
   "id": "d0a1cc18-ffd1-40a5-a37d-a758b1ebc417",
   "metadata": {},
   "outputs": [],
   "source": [
    "#No\n",
    "f = lambda x: 2*x"
   ]
  },
  {
   "cell_type": "markdown",
   "id": "248c41b9-c906-457f-a52f-63267c34778e",
   "metadata": {},
   "source": [
    "Defining a function with optional arguments:\n",
    "Optional arguments can be defined by assigning (using =) a default value to the argument-name:"
   ]
  },
  {
   "cell_type": "code",
   "execution_count": 20,
   "id": "6f1b3274-779e-483c-b798-4c204b72363b",
   "metadata": {},
   "outputs": [
    {
     "data": {
      "text/plain": [
       "'fun'"
      ]
     },
     "execution_count": 20,
     "metadata": {},
     "output_type": "execute_result"
    }
   ],
   "source": [
    "def make(action='nothing'):\n",
    "    return action\n",
    "make(\"fun\")"
   ]
  },
  {
   "cell_type": "code",
   "execution_count": 21,
   "id": "ac64dec6-04f7-49c9-846c-37bfd9a16477",
   "metadata": {},
   "outputs": [
    {
     "data": {
      "text/plain": [
       "'sleep'"
      ]
     },
     "execution_count": 21,
     "metadata": {},
     "output_type": "execute_result"
    }
   ],
   "source": [
    "make(action=\"sleep\")"
   ]
  },
  {
   "cell_type": "code",
   "execution_count": 22,
   "id": "6fc26902-538d-48f8-920a-3f1ded5ebb15",
   "metadata": {},
   "outputs": [
    {
     "data": {
      "text/plain": [
       "'nothing'"
      ]
     },
     "execution_count": 22,
     "metadata": {},
     "output_type": "execute_result"
    }
   ],
   "source": [
    "make()"
   ]
  },
  {
   "cell_type": "markdown",
   "id": "6c862b64-360f-45c1-9e23-6eddf27f7f9d",
   "metadata": {},
   "source": [
    "Defining a function with optional mutable arguments"
   ]
  },
  {
   "cell_type": "code",
   "execution_count": 23,
   "id": "b942dd69-41bd-4da8-888c-196c3b80f7a8",
   "metadata": {},
   "outputs": [
    {
     "name": "stdout",
     "output_type": "stream",
     "text": [
      "(42, [])\n"
     ]
    }
   ],
   "source": [
    "def f(a, b=42, c=[]):\n",
    "    pass\n",
    "print(f.__defaults__)"
   ]
  },
  {
   "cell_type": "code",
   "execution_count": 24,
   "id": "8aa69fde-00c4-4744-9ab5-56c3119fdd72",
   "metadata": {},
   "outputs": [
    {
     "data": {
      "text/plain": [
       "[1]"
      ]
     },
     "execution_count": 24,
     "metadata": {},
     "output_type": "execute_result"
    }
   ],
   "source": [
    "def append(elem, to=[]):\n",
    "    to.append(elem)  # This call to append() mutates the default variable \"to\"\n",
    "    return to\n",
    "\n",
    "append(1)"
   ]
  },
  {
   "cell_type": "code",
   "execution_count": 25,
   "id": "529991cd-df51-45e8-bceb-0f414e78d7a3",
   "metadata": {},
   "outputs": [
    {
     "data": {
      "text/plain": [
       "[1, 2]"
      ]
     },
     "execution_count": 25,
     "metadata": {},
     "output_type": "execute_result"
    }
   ],
   "source": [
    "append(2) # Appends it to the internally stored list"
   ]
  },
  {
   "cell_type": "code",
   "execution_count": 26,
   "id": "91d7f3a1-5afd-43f3-b0fe-659686c2b0cf",
   "metadata": {},
   "outputs": [
    {
     "data": {
      "text/plain": [
       "[3]"
      ]
     },
     "execution_count": 26,
     "metadata": {},
     "output_type": "execute_result"
    }
   ],
   "source": [
    "append(3, []) # Using a new created list gives the expected result"
   ]
  },
  {
   "cell_type": "code",
   "execution_count": 27,
   "id": "7bb43808-0ebf-42c3-a273-cb59af475ac6",
   "metadata": {},
   "outputs": [
    {
     "data": {
      "text/plain": [
       "[1, 2, 4]"
      ]
     },
     "execution_count": 27,
     "metadata": {},
     "output_type": "execute_result"
    }
   ],
   "source": [
    "# Calling it again without arguments will append to the internally stored list again\n",
    "append(4)"
   ]
  },
  {
   "cell_type": "code",
   "execution_count": 28,
   "id": "53dd31af-237a-4552-84be-58ddb7ded514",
   "metadata": {},
   "outputs": [],
   "source": [
    "def append(elem, to=None):\n",
    "    if to is None:\n",
    "        to = []\n",
    "    to.append(elem)\n",
    "    return to"
   ]
  },
  {
   "cell_type": "markdown",
   "id": "a39bdf6e-ae63-4dae-bc3f-b9f19767e908",
   "metadata": {},
   "source": [
    "Argument passing and mutablility\n",
    "argument(actual parameter): the actual variable being passed to a function;\n",
    "parameter(formal parameter): the receiving variable that is used in a function."
   ]
  },
  {
   "cell_type": "code",
   "execution_count": 31,
   "id": "fb60194a-9601-4e67-aa12-0035626adc8f",
   "metadata": {},
   "outputs": [
    {
     "name": "stdout",
     "output_type": "stream",
     "text": [
      "[9, 5, 6]\n"
     ]
    }
   ],
   "source": [
    "#arguments are passed by assignment\n",
    "#Mutating a parameter will mutate the argument (if the argument's type is mutable).\n",
    "def foo(x):     # here x is the parameter\n",
    "    x[0] = 9    # This mutates the list labelled by both x and y\n",
    "    print(x)\n",
    "y = [4, 5, 6]\n",
    "foo(y)          #call foo with y as argument \n",
    "# list labelled by y has been mutated too"
   ]
  },
  {
   "cell_type": "code",
   "execution_count": 32,
   "id": "83a6469d-e534-49c5-aa94-bc83dc707d90",
   "metadata": {},
   "outputs": [
    {
     "name": "stdout",
     "output_type": "stream",
     "text": [
      "[9, 5, 6]\n"
     ]
    }
   ],
   "source": [
    "print(y)  #list labelled by y has been mutated too"
   ]
  },
  {
   "cell_type": "code",
   "execution_count": 34,
   "id": "0b164003-6782-4d3d-9df9-38e303bea91a",
   "metadata": {},
   "outputs": [
    {
     "data": {
      "text/plain": [
       "[9, 5, 6]"
      ]
     },
     "execution_count": 34,
     "metadata": {},
     "output_type": "execute_result"
    }
   ],
   "source": [
    "# Reassigning the parameter won't reassign the argument.\n",
    "def foo(x):     # here x is the parameter, when we call foo(y) we assign y to x\n",
    " x[0] = 9     # This mutates the list labelled by both x and y\n",
    " x = [1, 2, 3] # x is now labeling a different list (y is unaffected)\n",
    " x[2] = 8 # This mutates x's list, not y's list\n",
    "y = [4, 5, 6] # y is the argument, x is the parameter\n",
    "foo(y) # Pretend that we wrote \"x = y\", then go to line 1\n",
    "y\n",
    "\n",
    "    "
   ]
  },
  {
   "cell_type": "code",
   "execution_count": 4,
   "id": "31f8379b-0a72-4074-98c1-1fd714eb164d",
   "metadata": {},
   "outputs": [
    {
     "data": {
      "text/plain": [
       "[1, 3, 4, 5, 6, 9]"
      ]
     },
     "execution_count": 4,
     "metadata": {},
     "output_type": "execute_result"
    }
   ],
   "source": [
    "x = [3, 1, 9]\n",
    "y = x\n",
    "x.append(5)  # Mutates the list labelled by x and y, both x and y are bound to [3, 1, 9]\n",
    "x.sort()     # Mutates the list labelled by x and y (in-place sorting)\n",
    "x = x + [4]  # Does not mutate the list (makes a copy for x only, not y)\n",
    "z = x        # z is x ([1, 3, 9, 4])\n",
    "x += [6]     # Mutates the list labelled by both x and z (uses the extend function).\n",
    "x = sorted(x) # Does not mutate the list (makes a copy for x only).\n",
    "x"
   ]
  },
  {
   "cell_type": "code",
   "execution_count": 5,
   "id": "ca0873f4-c431-40da-83ae-48e40dbdc1f9",
   "metadata": {},
   "outputs": [
    {
     "data": {
      "text/plain": [
       "[1, 3, 5, 9]"
      ]
     },
     "execution_count": 5,
     "metadata": {},
     "output_type": "execute_result"
    }
   ],
   "source": [
    "y"
   ]
  },
  {
   "cell_type": "code",
   "execution_count": 6,
   "id": "b1373127-967b-455b-a9c1-e6626cbf8d03",
   "metadata": {},
   "outputs": [
    {
     "data": {
      "text/plain": [
       "[1, 3, 5, 9, 4, 6]"
      ]
     },
     "execution_count": 6,
     "metadata": {},
     "output_type": "execute_result"
    }
   ],
   "source": [
    "z"
   ]
  }
 ],
 "metadata": {
  "kernelspec": {
   "display_name": "Python 3 (ipykernel)",
   "language": "python",
   "name": "python3"
  },
  "language_info": {
   "codemirror_mode": {
    "name": "ipython",
    "version": 3
   },
   "file_extension": ".py",
   "mimetype": "text/x-python",
   "name": "python",
   "nbconvert_exporter": "python",
   "pygments_lexer": "ipython3",
   "version": "3.10.7"
  }
 },
 "nbformat": 4,
 "nbformat_minor": 5
}
