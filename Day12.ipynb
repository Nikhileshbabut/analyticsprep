{
 "cells": [
  {
   "cell_type": "markdown",
   "id": "608aecc1-ca55-4bbb-87ec-e84391634756",
   "metadata": {},
   "source": [
    "Arrays"
   ]
  },
  {
   "cell_type": "code",
   "execution_count": 3,
   "id": "ccbc14a6-c05e-4156-a844-7b5126ec082d",
   "metadata": {},
   "outputs": [
    {
     "name": "stdout",
     "output_type": "stream",
     "text": [
      "2\n"
     ]
    }
   ],
   "source": [
    "# Access individual elements through indexes\n",
    "from array import *\n",
    "my_array = array('i', [1, 2, 3, 4, 5])\n",
    "print(my_array[1])"
   ]
  },
  {
   "cell_type": "code",
   "execution_count": 4,
   "id": "ea8047bf-5cdf-45f7-8bba-b85e143b949a",
   "metadata": {},
   "outputs": [
    {
     "name": "stdout",
     "output_type": "stream",
     "text": [
      "3\n"
     ]
    }
   ],
   "source": [
    "print(my_array[2])"
   ]
  },
  {
   "cell_type": "code",
   "execution_count": 5,
   "id": "f7b2ef86-b93d-4392-965f-0aea7e150bc0",
   "metadata": {},
   "outputs": [
    {
     "name": "stdout",
     "output_type": "stream",
     "text": [
      "4\n"
     ]
    }
   ],
   "source": [
    "print(my_array[3])"
   ]
  },
  {
   "cell_type": "markdown",
   "id": "0263657d-7775-45a7-bf62-b9a25cf768b5",
   "metadata": {},
   "source": [
    "Basic Introduction to Arrays"
   ]
  },
  {
   "cell_type": "code",
   "execution_count": 7,
   "id": "2cc6f4cf-1e25-4f15-be76-7c89bbc71edc",
   "metadata": {},
   "outputs": [
    {
     "name": "stdout",
     "output_type": "stream",
     "text": [
      "1\n",
      "2\n",
      "3\n",
      "4\n",
      "5\n"
     ]
    }
   ],
   "source": [
    "#simple example of an array containing 5 integers\n",
    "from array import *\n",
    "my_array = array('i', [1, 2, 3, 4, 5])\n",
    "for i in my_array:\n",
    "    print(i)"
   ]
  },
  {
   "cell_type": "code",
   "execution_count": 9,
   "id": "b22daf05-ebf6-45cf-8ccf-439be14934a5",
   "metadata": {},
   "outputs": [
    {
     "name": "stdout",
     "output_type": "stream",
     "text": [
      "array('i', [1, 2, 3, 4, 5, 6])\n"
     ]
    }
   ],
   "source": [
    "# Append any value to the array using append() method\n",
    "my_array = array('i', [1, 2, 3, 4, 5])\n",
    "my_array.append(6)\n",
    "print(my_array)"
   ]
  },
  {
   "cell_type": "code",
   "execution_count": 10,
   "id": "7f0778b6-15bb-4141-a4b7-a10794e505be",
   "metadata": {},
   "outputs": [
    {
     "name": "stdout",
     "output_type": "stream",
     "text": [
      "array('i', [0, 1, 2, 3, 4, 5])\n"
     ]
    }
   ],
   "source": [
    "# Insert value in an array using insert() method\n",
    "my_array = array('i', [1, 2, 3, 4, 5])\n",
    "my_array.insert(0, 0)\n",
    "print(my_array)"
   ]
  },
  {
   "cell_type": "code",
   "execution_count": 12,
   "id": "26f741ee-c7b0-49bc-a264-c6ecc4d4a669",
   "metadata": {},
   "outputs": [
    {
     "name": "stdout",
     "output_type": "stream",
     "text": [
      "array('i', [1, 2, 3, 4, 5, 7, 8, 9, 10])\n"
     ]
    }
   ],
   "source": [
    "# Extend python array using extend() method\n",
    "my_array = array('i', [1, 2, 3, 4, 5])\n",
    "my_extnd_array = array('i', [7, 8, 9, 10])\n",
    "my_array.extend(my_extnd_array)\n",
    "print(my_array)"
   ]
  },
  {
   "cell_type": "code",
   "execution_count": 13,
   "id": "e0af0cd5-af21-40f7-abeb-750a4d487877",
   "metadata": {},
   "outputs": [
    {
     "name": "stdout",
     "output_type": "stream",
     "text": [
      "array('i', [1, 2, 3, 4, 5, 11, 12, 13])\n"
     ]
    }
   ],
   "source": [
    "# Add items from list into array using fromlist() method\n",
    "my_array = array('i', [1, 2, 3, 4, 5])\n",
    "c = [11, 12, 13]\n",
    "my_array.fromlist(c)\n",
    "print(my_array)"
   ]
  },
  {
   "cell_type": "code",
   "execution_count": 14,
   "id": "3612043a-433a-4400-8eab-2c6ff11ee2fa",
   "metadata": {},
   "outputs": [
    {
     "name": "stdout",
     "output_type": "stream",
     "text": [
      "array('i', [1, 2, 3, 5])\n"
     ]
    }
   ],
   "source": [
    "# Remove any array element using remove() method\n",
    "my_array = array('i', [1, 2, 3, 4, 5])\n",
    "my_array.remove(4)\n",
    "print(my_array)"
   ]
  },
  {
   "cell_type": "code",
   "execution_count": 15,
   "id": "31368c7b-f1a1-4083-9f2f-12f20c65aa2f",
   "metadata": {},
   "outputs": [
    {
     "name": "stdout",
     "output_type": "stream",
     "text": [
      "array('i', [1, 2, 3, 4])\n"
     ]
    }
   ],
   "source": [
    "# Remove last array element using pop() method\n",
    "my_array = array('i', [1, 2, 3, 4, 5])\n",
    "my_array.pop()\n",
    "print(my_array)"
   ]
  },
  {
   "cell_type": "code",
   "execution_count": 17,
   "id": "ab31649e-e6cb-4c48-90ad-8b739fcfa611",
   "metadata": {},
   "outputs": [
    {
     "name": "stdout",
     "output_type": "stream",
     "text": [
      "4\n"
     ]
    }
   ],
   "source": [
    "# Fetch any element through its index using index() method\n",
    "my_array = array('i', [1, 2, 3, 4, 5])\n",
    "print(my_array.index(5))"
   ]
  },
  {
   "cell_type": "code",
   "execution_count": 18,
   "id": "a2daca7f-7769-4247-ac0f-7ba82d1e31d6",
   "metadata": {},
   "outputs": [
    {
     "name": "stdout",
     "output_type": "stream",
     "text": [
      "2\n"
     ]
    }
   ],
   "source": [
    "my_array = array('i', [1, 2, 3, 4, 5])\n",
    "print(my_array.index(3))"
   ]
  },
  {
   "cell_type": "code",
   "execution_count": 19,
   "id": "6e165a29-846b-41d3-8031-3069241472e7",
   "metadata": {},
   "outputs": [
    {
     "name": "stdout",
     "output_type": "stream",
     "text": [
      "array('i', [5, 4, 3, 2, 1])\n"
     ]
    }
   ],
   "source": [
    "# Reverse a python array using reverse() method\n",
    "my_array = array('i', [1, 2, 3, 4, 5])\n",
    "my_array.reverse()\n",
    "print(my_array)"
   ]
  },
  {
   "cell_type": "code",
   "execution_count": 20,
   "id": "88c128c4-b8ea-4c7e-8959-d87ecd06b0c8",
   "metadata": {},
   "outputs": [
    {
     "data": {
      "text/plain": [
       "(1855543901008, 5)"
      ]
     },
     "execution_count": 20,
     "metadata": {},
     "output_type": "execute_result"
    }
   ],
   "source": [
    "# Get array buffer information through buffer_info() method\n",
    "my_array = array('i', [1, 2, 3, 4, 5])\n",
    "my_array.buffer_info()"
   ]
  },
  {
   "cell_type": "code",
   "execution_count": 22,
   "id": "e84b48a3-4989-4110-a7e7-6eea70dd1deb",
   "metadata": {},
   "outputs": [
    {
     "data": {
      "text/plain": [
       "2"
      ]
     },
     "execution_count": 22,
     "metadata": {},
     "output_type": "execute_result"
    }
   ],
   "source": [
    "# Check for number of occurrences of an element using count() method\n",
    "my_array = array('i', [1, 2, 3, 3, 5])\n",
    "my_array.count(3)"
   ]
  },
  {
   "cell_type": "code",
   "execution_count": 36,
   "id": "6f8dc6ef-8ae3-4b69-a863-3a0b27f3760f",
   "metadata": {},
   "outputs": [
    {
     "ename": "ValueError",
     "evalue": "bad typecode (must be b, B, u, h, H, i, I, l, L, q, Q, f or d)",
     "output_type": "error",
     "traceback": [
      "\u001b[1;31m---------------------------------------------------------------------------\u001b[0m",
      "\u001b[1;31mValueError\u001b[0m                                Traceback (most recent call last)",
      "Cell \u001b[1;32mIn [36], line 2\u001b[0m\n\u001b[0;32m      1\u001b[0m \u001b[38;5;66;03m# Convert array to string using tostring() method\u001b[39;00m\n\u001b[1;32m----> 2\u001b[0m my_char_array \u001b[38;5;241m=\u001b[39m \u001b[43marray\u001b[49m\u001b[43m(\u001b[49m\u001b[38;5;124;43m'\u001b[39;49m\u001b[38;5;124;43mc\u001b[39;49m\u001b[38;5;124;43m'\u001b[39;49m\u001b[43m,\u001b[49m\u001b[43m \u001b[49m\u001b[43m[\u001b[49m\u001b[38;5;124;43m'\u001b[39;49m\u001b[38;5;124;43mg\u001b[39;49m\u001b[38;5;124;43m'\u001b[39;49m\u001b[43m,\u001b[49m\u001b[43m \u001b[49m\u001b[38;5;124;43m'\u001b[39;49m\u001b[38;5;124;43me\u001b[39;49m\u001b[38;5;124;43m'\u001b[39;49m\u001b[43m,\u001b[49m\u001b[43m \u001b[49m\u001b[38;5;124;43m'\u001b[39;49m\u001b[38;5;124;43me\u001b[39;49m\u001b[38;5;124;43m'\u001b[39;49m\u001b[43m,\u001b[49m\u001b[43m \u001b[49m\u001b[38;5;124;43m'\u001b[39;49m\u001b[38;5;124;43mk\u001b[39;49m\u001b[38;5;124;43m'\u001b[39;49m\u001b[43m]\u001b[49m\u001b[43m)\u001b[49m\n\u001b[0;32m      3\u001b[0m \u001b[38;5;66;03m# array('c', 'geek')\u001b[39;00m\n\u001b[0;32m      4\u001b[0m \u001b[38;5;28mprint\u001b[39m(my_char_array)\n",
      "\u001b[1;31mValueError\u001b[0m: bad typecode (must be b, B, u, h, H, i, I, l, L, q, Q, f or d)"
     ]
    }
   ],
   "source": [
    "# Convert array to string using tostring() method\n",
    "my_char_array = array('c', ['g', 'e', 'e', 'k'])\n",
    "# array('c', 'geek')\n",
    "print(my_char_array)"
   ]
  },
  {
   "cell_type": "code",
   "execution_count": 37,
   "id": "e26441b9-c618-412f-83aa-a1dad94b1cd4",
   "metadata": {},
   "outputs": [
    {
     "name": "stdout",
     "output_type": "stream",
     "text": [
      "array('u', 'geek')\n"
     ]
    }
   ],
   "source": [
    "my_char_array = array('u', ['g', 'e', 'e', 'k']) # Python 3.x doesn't support c value\n",
    "# array('u', 'geek')\n",
    "print(my_char_array)"
   ]
  },
  {
   "cell_type": "code",
   "execution_count": 38,
   "id": "836ccf94-551c-4053-9045-5ffc4fd604a3",
   "metadata": {},
   "outputs": [
    {
     "ename": "ValueError",
     "evalue": "bad typecode (must be b, B, u, h, H, i, I, l, L, q, Q, f or d)",
     "output_type": "error",
     "traceback": [
      "\u001b[1;31m---------------------------------------------------------------------------\u001b[0m",
      "\u001b[1;31mValueError\u001b[0m                                Traceback (most recent call last)",
      "Cell \u001b[1;32mIn [38], line 1\u001b[0m\n\u001b[1;32m----> 1\u001b[0m my_char_array \u001b[38;5;241m=\u001b[39m \u001b[43marray\u001b[49m\u001b[43m(\u001b[49m\u001b[38;5;124;43m'\u001b[39;49m\u001b[38;5;124;43mc\u001b[39;49m\u001b[38;5;124;43m'\u001b[39;49m\u001b[43m,\u001b[49m\u001b[43m \u001b[49m\u001b[43m[\u001b[49m\u001b[38;5;124;43m'\u001b[39;49m\u001b[38;5;124;43mg\u001b[39;49m\u001b[38;5;124;43m'\u001b[39;49m\u001b[43m,\u001b[49m\u001b[43m \u001b[49m\u001b[38;5;124;43m'\u001b[39;49m\u001b[38;5;124;43me\u001b[39;49m\u001b[38;5;124;43m'\u001b[39;49m\u001b[43m,\u001b[49m\u001b[43m \u001b[49m\u001b[38;5;124;43m'\u001b[39;49m\u001b[38;5;124;43me\u001b[39;49m\u001b[38;5;124;43m'\u001b[39;49m\u001b[43m,\u001b[49m\u001b[43m \u001b[49m\u001b[38;5;124;43m'\u001b[39;49m\u001b[38;5;124;43mk\u001b[39;49m\u001b[38;5;124;43m'\u001b[39;49m\u001b[43m]\u001b[49m\u001b[43m)\u001b[49m\n\u001b[0;32m      2\u001b[0m \u001b[38;5;28mprint\u001b[39m(my_char_array\u001b[38;5;241m.\u001b[39mtostring())\n",
      "\u001b[1;31mValueError\u001b[0m: bad typecode (must be b, B, u, h, H, i, I, l, L, q, Q, f or d)"
     ]
    }
   ],
   "source": [
    "my_char_array = array('c', ['g', 'e', 'e', 'k'])\n",
    "print(my_char_array.tostring())"
   ]
  },
  {
   "cell_type": "code",
   "execution_count": 41,
   "id": "fc3b772f-5913-4c87-aa9d-a55538eb8483",
   "metadata": {},
   "outputs": [
    {
     "ename": "AttributeError",
     "evalue": "'array.array' object has no attribute 'tostring'",
     "output_type": "error",
     "traceback": [
      "\u001b[1;31m---------------------------------------------------------------------------\u001b[0m",
      "\u001b[1;31mAttributeError\u001b[0m                            Traceback (most recent call last)",
      "Cell \u001b[1;32mIn [41], line 2\u001b[0m\n\u001b[0;32m      1\u001b[0m my_char_array \u001b[38;5;241m=\u001b[39m array(\u001b[38;5;124m'\u001b[39m\u001b[38;5;124mu\u001b[39m\u001b[38;5;124m'\u001b[39m, [\u001b[38;5;124m'\u001b[39m\u001b[38;5;124mg\u001b[39m\u001b[38;5;124m'\u001b[39m, \u001b[38;5;124m'\u001b[39m\u001b[38;5;124me\u001b[39m\u001b[38;5;124m'\u001b[39m, \u001b[38;5;124m'\u001b[39m\u001b[38;5;124me\u001b[39m\u001b[38;5;124m'\u001b[39m, \u001b[38;5;124m'\u001b[39m\u001b[38;5;124mk\u001b[39m\u001b[38;5;124m'\u001b[39m])\n\u001b[1;32m----> 2\u001b[0m \u001b[38;5;28mprint\u001b[39m(\u001b[43mmy_char_array\u001b[49m\u001b[38;5;241;43m.\u001b[39;49m\u001b[43mtostring\u001b[49m())\n",
      "\u001b[1;31mAttributeError\u001b[0m: 'array.array' object has no attribute 'tostring'"
     ]
    }
   ],
   "source": [
    "my_char_array = array('u', ['g', 'e', 'e', 'k'])\n",
    "print(my_char_array.tostring()) #Not possible in python 3.x"
   ]
  },
  {
   "cell_type": "code",
   "execution_count": 43,
   "id": "4d24a14b-d77a-4e32-87c2-ca3d42498ac4",
   "metadata": {},
   "outputs": [
    {
     "name": "stdout",
     "output_type": "stream",
     "text": [
      "[1, 2, 3, 4, 5]\n"
     ]
    }
   ],
   "source": [
    "# Convert array to a python list with same elements using tolist() method\n",
    "my_array = array('i', [1, 2, 3, 4, 5])\n",
    "c = my_array.tolist()\n",
    "print(c)"
   ]
  },
  {
   "cell_type": "code",
   "execution_count": 47,
   "id": "1637aa63-faa9-4215-98ba-e142f39356ab",
   "metadata": {},
   "outputs": [
    {
     "ename": "AttributeError",
     "evalue": "'array.array' object has no attribute 'fromstring'",
     "output_type": "error",
     "traceback": [
      "\u001b[1;31m---------------------------------------------------------------------------\u001b[0m",
      "\u001b[1;31mAttributeError\u001b[0m                            Traceback (most recent call last)",
      "Cell \u001b[1;32mIn [47], line 3\u001b[0m\n\u001b[0;32m      1\u001b[0m \u001b[38;5;66;03m# Append a string to char array using fromstring() method\u001b[39;00m\n\u001b[0;32m      2\u001b[0m my_char_array \u001b[38;5;241m=\u001b[39m array(\u001b[38;5;124m'\u001b[39m\u001b[38;5;124mu\u001b[39m\u001b[38;5;124m'\u001b[39m, [\u001b[38;5;124m'\u001b[39m\u001b[38;5;124mg\u001b[39m\u001b[38;5;124m'\u001b[39m, \u001b[38;5;124m'\u001b[39m\u001b[38;5;124me\u001b[39m\u001b[38;5;124m'\u001b[39m, \u001b[38;5;124m'\u001b[39m\u001b[38;5;124me\u001b[39m\u001b[38;5;124m'\u001b[39m, \u001b[38;5;124m'\u001b[39m\u001b[38;5;124mk\u001b[39m\u001b[38;5;124m'\u001b[39m])\n\u001b[1;32m----> 3\u001b[0m \u001b[43mmy_char_array\u001b[49m\u001b[38;5;241;43m.\u001b[39;49m\u001b[43mfromstring\u001b[49m(\u001b[38;5;124m\"\u001b[39m\u001b[38;5;124mstuf\u001b[39m\u001b[38;5;124m\"\u001b[39m)\n\u001b[0;32m      4\u001b[0m \u001b[38;5;28mprint\u001b[39m(my_char_array)\n\u001b[0;32m      5\u001b[0m \u001b[38;5;66;03m# Errors due to Python 3.x versions\u001b[39;00m\n",
      "\u001b[1;31mAttributeError\u001b[0m: 'array.array' object has no attribute 'fromstring'"
     ]
    }
   ],
   "source": [
    "# Append a string to char array using fromstring() method\n",
    "my_char_array = array('u', ['g', 'e', 'e', 'k'])\n",
    "my_char_array.fromstring(\"stuf\")\n",
    "print(my_char_array)\n",
    "# Errors due to Python 3.x versions"
   ]
  },
  {
   "cell_type": "markdown",
   "id": "df5646ab-8b8b-4a29-b5ff-bbf6e3217fb1",
   "metadata": {},
   "source": [
    "Multidimensional arrays"
   ]
  },
  {
   "cell_type": "code",
   "execution_count": 48,
   "id": "3e6280c2-a5bd-4c02-b66a-96bbaf89bd5b",
   "metadata": {},
   "outputs": [],
   "source": [
    "# Lists in lists\n",
    "lst = [[1, 2, 3], [4, 5, 6], [7, 8, 9]]"
   ]
  },
  {
   "cell_type": "code",
   "execution_count": 49,
   "id": "16b63652-7c25-423a-ab02-da8b878b4cbf",
   "metadata": {},
   "outputs": [
    {
     "name": "stdout",
     "output_type": "stream",
     "text": [
      "[1, 2, 3]\n"
     ]
    }
   ],
   "source": [
    "print(lst[0])"
   ]
  },
  {
   "cell_type": "code",
   "execution_count": 50,
   "id": "97c22f37-afdd-4ca8-9b5c-fcae9e29efda",
   "metadata": {},
   "outputs": [
    {
     "name": "stdout",
     "output_type": "stream",
     "text": [
      "[4, 5, 6]\n"
     ]
    }
   ],
   "source": [
    "print(lst[1])"
   ]
  },
  {
   "cell_type": "code",
   "execution_count": 51,
   "id": "b4ff565e-3755-4794-9310-48f7474ad5ab",
   "metadata": {},
   "outputs": [
    {
     "name": "stdout",
     "output_type": "stream",
     "text": [
      "[7, 8, 9]\n"
     ]
    }
   ],
   "source": [
    "print(lst[2])"
   ]
  },
  {
   "cell_type": "code",
   "execution_count": 52,
   "id": "558b8445-3428-4762-9e2c-c32c5cf7e2e9",
   "metadata": {},
   "outputs": [
    {
     "name": "stdout",
     "output_type": "stream",
     "text": [
      "1\n"
     ]
    }
   ],
   "source": [
    "# also can access the different elements in each of those lists the same way\n",
    "print(lst[0][0])"
   ]
  },
  {
   "cell_type": "code",
   "execution_count": 53,
   "id": "8d7ff94d-6be3-4091-9a20-514e2306440f",
   "metadata": {},
   "outputs": [
    {
     "name": "stdout",
     "output_type": "stream",
     "text": [
      "2\n"
     ]
    }
   ],
   "source": [
    "print(lst[0][1])"
   ]
  },
  {
   "cell_type": "code",
   "execution_count": 54,
   "id": "00676eba-d393-4141-8c96-03cfd3794800",
   "metadata": {},
   "outputs": [
    {
     "name": "stdout",
     "output_type": "stream",
     "text": [
      "[[10, 11, 12], [4, 5, 6], [7, 8, 9]]\n"
     ]
    }
   ],
   "source": [
    "# To set values inside these lists the same way\n",
    "lst[0] = [10, 11, 12]\n",
    "print(lst)"
   ]
  },
  {
   "cell_type": "code",
   "execution_count": 55,
   "id": "fdddcfbb-e1a6-4bd6-8ab6-057b983e7adb",
   "metadata": {},
   "outputs": [
    {
     "name": "stdout",
     "output_type": "stream",
     "text": [
      "[[10, 11, 12], [4, 5, 15], [7, 8, 9]]\n"
     ]
    }
   ],
   "source": [
    "lst[1][2] = 15\n",
    "print(lst)"
   ]
  },
  {
   "cell_type": "code",
   "execution_count": 56,
   "id": "c342d3f4-9b7c-439b-bf1a-d235feade00e",
   "metadata": {},
   "outputs": [
    {
     "data": {
      "text/plain": [
       "[[[111, 112, 113], [121, 122, 123], [131, 132, 133]],\n",
       " [[211, 212, 213], [221, 222, 223], [231, 232, 233]],\n",
       " [[311, 312, 313], [321, 322, 323], [331, 332, 333]]]"
      ]
     },
     "execution_count": 56,
     "metadata": {},
     "output_type": "execute_result"
    }
   ],
   "source": [
    "# Lists in lists in lists in..\n",
    "[[[111, 112, 113], [121, 122, 123], [131, 132, 133]], [[211, 212, 213], [221, 222, 223], [231, 232, 233]], [[311, 312, 313], [321, 322, 323], [331, 332, 333]]]  "
   ]
  }
 ],
 "metadata": {
  "kernelspec": {
   "display_name": "Python 3 (ipykernel)",
   "language": "python",
   "name": "python3"
  },
  "language_info": {
   "codemirror_mode": {
    "name": "ipython",
    "version": 3
   },
   "file_extension": ".py",
   "mimetype": "text/x-python",
   "name": "python",
   "nbconvert_exporter": "python",
   "pygments_lexer": "ipython3",
   "version": "3.10.7"
  }
 },
 "nbformat": 4,
 "nbformat_minor": 5
}
