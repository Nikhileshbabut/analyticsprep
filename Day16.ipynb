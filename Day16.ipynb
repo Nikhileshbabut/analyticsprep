{
 "cells": [
  {
   "cell_type": "markdown",
   "id": "ba6b8d44-9568-4053-b9a9-2d2fa7dfe47c",
   "metadata": {},
   "source": [
    "Filter"
   ]
  },
  {
   "cell_type": "raw",
   "id": "be05da0c-4d25-4a1f-9bfd-1fd7d8df5e57",
   "metadata": {},
   "source": [
    "Parameter                        Details\n",
    "function       callable that determines the condition or None then use the identity function for filtering (positional-only)\n",
    "iterable       iterable that will be filtered (positional-only)"
   ]
  },
  {
   "cell_type": "code",
   "execution_count": 2,
   "id": "bd3ef3c8-73db-4b9f-8308-143c72b6371e",
   "metadata": {},
   "outputs": [
    {
     "data": {
      "text/plain": [
       "<filter at 0x1bfb95103a0>"
      ]
     },
     "execution_count": 2,
     "metadata": {},
     "output_type": "execute_result"
    }
   ],
   "source": [
    "# Basic use of filter\n",
    "names = ['Fred', 'Wilma', 'Barney']\n",
    "def long_name(name):\n",
    "    return len(name) > 5\n",
    "filter(long_name, names) # returns a generator in Python 3.x"
   ]
  },
  {
   "cell_type": "code",
   "execution_count": 4,
   "id": "b90cbeea-b542-45dc-9471-4b88ad607609",
   "metadata": {},
   "outputs": [
    {
     "data": {
      "text/plain": [
       "['Barney']"
      ]
     },
     "execution_count": 4,
     "metadata": {},
     "output_type": "execute_result"
    }
   ],
   "source": [
    "list(filter(long_name, names))  # cast to list"
   ]
  },
  {
   "cell_type": "code",
   "execution_count": 5,
   "id": "aff946c4-d105-41bb-9928-a5dcfc64b6f8",
   "metadata": {},
   "outputs": [
    {
     "data": {
      "text/plain": [
       "[1, 2, 'a']"
      ]
     },
     "execution_count": 5,
     "metadata": {},
     "output_type": "execute_result"
    }
   ],
   "source": [
    "# Filter without function\n",
    "list(filter(None, [1, 0, 2, [], '', 'a'])) # discards 0, [] and ''"
   ]
  },
  {
   "cell_type": "code",
   "execution_count": 7,
   "id": "ff39ad49-c3a6-4f1c-b4c6-19fd44ece164",
   "metadata": {},
   "outputs": [
    {
     "name": "stdout",
     "output_type": "stream",
     "text": [
      "Check Toyota, 1000$\n",
      "Check rectangle tire, 80$\n"
     ]
    },
    {
     "data": {
      "text/plain": [
       "('rectangle tire', 80)"
      ]
     },
     "execution_count": 7,
     "metadata": {},
     "output_type": "execute_result"
    }
   ],
   "source": [
    "# Filter as short-circuit check\n",
    "# To find the first element that is smaller than 100:\n",
    "car_shop = [('Toyota', 1000), ('rectangle tire', 80), ('Porsche', 5000)]\n",
    "def find_some(name_value):\n",
    "    print('Check {0}, {1}$'.format(*name_value))\n",
    "    return name_value[1] < 100\n",
    "next(filter(find_some, car_shop))\n",
    "        "
   ]
  },
  {
   "cell_type": "code",
   "execution_count": 8,
   "id": "5a086c3e-acdc-46a2-b8a6-2e8b8a48ff08",
   "metadata": {},
   "outputs": [
    {
     "data": {
      "text/plain": [
       "[0, [], '']"
      ]
     },
     "execution_count": 8,
     "metadata": {},
     "output_type": "execute_result"
    }
   ],
   "source": [
    "# Complementary function: filterfalse\n",
    "from itertools import filterfalse\n",
    "list(filterfalse(None, [1, 0, 2, [], '', 'a'])) # discards 1, 2, 'a'"
   ]
  },
  {
   "cell_type": "code",
   "execution_count": 9,
   "id": "e861543f-0317-4668-93b1-f6543dfb12f7",
   "metadata": {},
   "outputs": [
    {
     "data": {
      "text/plain": [
       "['Fred', 'Wilma']"
      ]
     },
     "execution_count": 9,
     "metadata": {},
     "output_type": "execute_result"
    }
   ],
   "source": [
    "# Example usage with function\n",
    "names = ['Fred', 'Wilma', 'Barney']\n",
    "def long_name(name):\n",
    "    return len(name) > 5\n",
    "list(filterfalse(long_name, names))"
   ]
  },
  {
   "cell_type": "markdown",
   "id": "f44ee623-017e-4441-a0ae-e4b4feedf224",
   "metadata": {},
   "source": [
    "Heapq"
   ]
  },
  {
   "cell_type": "markdown",
   "id": "1223761f-2beb-43f4-adf4-07b5e7d432f0",
   "metadata": {},
   "source": [
    "Largest and smallest items in a collection"
   ]
  },
  {
   "cell_type": "code",
   "execution_count": 12,
   "id": "12656727-4d9b-4085-bb6d-b144f8088087",
   "metadata": {},
   "outputs": [
    {
     "name": "stdout",
     "output_type": "stream",
     "text": [
      "[200, 150, 100, 50]\n"
     ]
    }
   ],
   "source": [
    "# Example\n",
    "import heapq\n",
    "numbers = [1, 4, 2, 100, 20, 50, 32, 200, 150, 8]\n",
    "print(heapq.nlargest(4, numbers)) # To find largest items in collection"
   ]
  },
  {
   "cell_type": "code",
   "execution_count": 13,
   "id": "d5f0b6d7-0369-4558-a50b-675c94a40c93",
   "metadata": {},
   "outputs": [
    {
     "name": "stdout",
     "output_type": "stream",
     "text": [
      "[1, 2, 4, 8]\n"
     ]
    }
   ],
   "source": [
    "# To find the smallest items in a collection\n",
    "print(heapq.nsmallest(4, numbers))"
   ]
  },
  {
   "cell_type": "code",
   "execution_count": 15,
   "id": "888ab242-35c4-4439-bb6c-670fe1156fa0",
   "metadata": {},
   "outputs": [
    {
     "name": "stdout",
     "output_type": "stream",
     "text": [
      "[{'firstname': 'John', 'lastname': 'Roe', 'age': 45}, {'firstname': 'John', 'lastname': 'Doe', 'age': 30}]\n"
     ]
    }
   ],
   "source": [
    "# Both nlargest and nsmallest functions take an optional argument (key parameter).\n",
    "people = [\n",
    "    {'firstname': 'John', 'lastname': 'Doe', 'age': 30},\n",
    "    {'firstname': 'Jane', 'lastname': 'Doe', 'age': 25},\n",
    "    {'firstname': 'Janie', 'lastname': 'Doe', 'age': 10},\n",
    "    {'firstname': 'Jane', 'lastname': 'Roe', 'age': 22},\n",
    "    {'firstname': 'Johnny', 'lastname': 'Doe', 'age': 12},\n",
    "    {'firstname': 'John', 'lastname': 'Roe', 'age': 45}\n",
    "]\n",
    "oldest = heapq.nlargest(2, people, key=lambda s: s['age'])\n",
    "print(oldest)"
   ]
  },
  {
   "cell_type": "code",
   "execution_count": 17,
   "id": "3fbb4389-e271-4c54-b91a-854f3384ab7b",
   "metadata": {},
   "outputs": [
    {
     "name": "stdout",
     "output_type": "stream",
     "text": [
      "[{'firstname': 'Janie', 'lastname': 'Doe', 'age': 10}, {'firstname': 'Johnny', 'lastname': 'Doe', 'age': 12}]\n"
     ]
    }
   ],
   "source": [
    "youngest = heapq.nsmallest(2, people, key=lambda s: s['age'])\n",
    "print(youngest)"
   ]
  },
  {
   "cell_type": "markdown",
   "id": "c3e60423-1ed1-40a3-af63-abe485405802",
   "metadata": {},
   "source": [
    "Smallest item in a collection"
   ]
  },
  {
   "cell_type": "markdown",
   "id": "0cb23146-b89e-4400-b2aa-a775a0579785",
   "metadata": {},
   "source": [
    "The interesting property of a heap is that its smallest element is always the first element: heap[0]"
   ]
  },
  {
   "cell_type": "code",
   "execution_count": 18,
   "id": "50857d17-1579-40ab-a2c1-da64d3f39aec",
   "metadata": {},
   "outputs": [
    {
     "name": "stdout",
     "output_type": "stream",
     "text": [
      "[2, 4, 10, 100, 8, 50, 32, 200, 150, 20]\n"
     ]
    }
   ],
   "source": [
    "import heapq\n",
    "numbers = [10, 4, 2, 100, 20, 50, 32, 200, 150, 8]\n",
    "heapq.heapify(numbers)\n",
    "print(numbers)"
   ]
  },
  {
   "cell_type": "code",
   "execution_count": 19,
   "id": "ce5485ac-fb58-4554-9460-f4d86db1fbee",
   "metadata": {},
   "outputs": [
    {
     "name": "stdout",
     "output_type": "stream",
     "text": [
      "[4, 8, 10, 100, 20, 50, 32, 200, 150]\n"
     ]
    }
   ],
   "source": [
    "heapq.heappop(numbers) # 2\n",
    "print(numbers)"
   ]
  },
  {
   "cell_type": "code",
   "execution_count": 20,
   "id": "085fe3b8-8aaf-4bf4-822c-0e6c2d2f02c3",
   "metadata": {},
   "outputs": [
    {
     "name": "stdout",
     "output_type": "stream",
     "text": [
      "[8, 20, 10, 100, 150, 50, 32, 200]\n"
     ]
    }
   ],
   "source": [
    "heapq.heappop(numbers) # 4\n",
    "print(numbers)"
   ]
  },
  {
   "cell_type": "markdown",
   "id": "2fab5d8c-e139-48c9-a965-452d502aff67",
   "metadata": {},
   "source": [
    "Tuple"
   ]
  },
  {
   "cell_type": "code",
   "execution_count": 21,
   "id": "179e8976-b81f-474f-85e6-dc9c1976f78f",
   "metadata": {},
   "outputs": [],
   "source": [
    "# simple tuple\n",
    "t = ('a', 'b', 'c', 'd', 'e')"
   ]
  },
  {
   "cell_type": "code",
   "execution_count": 22,
   "id": "a128b1ff-9ecd-47e9-a700-e9d7d709b823",
   "metadata": {},
   "outputs": [
    {
     "data": {
      "text/plain": [
       "tuple"
      ]
     },
     "execution_count": 22,
     "metadata": {},
     "output_type": "execute_result"
    }
   ],
   "source": [
    "# Create an empty tuple with parentheses:\n",
    "t0 = ()\n",
    "type(t0)"
   ]
  },
  {
   "cell_type": "code",
   "execution_count": 24,
   "id": "93e11e1a-82f0-408e-8e0c-fb9a0da37fcf",
   "metadata": {},
   "outputs": [
    {
     "data": {
      "text/plain": [
       "tuple"
      ]
     },
     "execution_count": 24,
     "metadata": {},
     "output_type": "execute_result"
    }
   ],
   "source": [
    "# To create a tuple with a single element, you have to include a final comma:\n",
    "t1 = 'a',\n",
    "type(t1)"
   ]
  },
  {
   "cell_type": "code",
   "execution_count": 25,
   "id": "cd4be210-26ab-4e74-b732-4d12584c885d",
   "metadata": {},
   "outputs": [
    {
     "data": {
      "text/plain": [
       "str"
      ]
     },
     "execution_count": 25,
     "metadata": {},
     "output_type": "execute_result"
    }
   ],
   "source": [
    "# Note that a single value in parentheses is not a tuple:\n",
    "t2 = ('a')\n",
    "type(t2)"
   ]
  },
  {
   "cell_type": "code",
   "execution_count": 26,
   "id": "7f688f31-1309-4cfa-8c36-21866b820045",
   "metadata": {},
   "outputs": [
    {
     "data": {
      "text/plain": [
       "tuple"
      ]
     },
     "execution_count": 26,
     "metadata": {},
     "output_type": "execute_result"
    }
   ],
   "source": [
    "# To create a singleton tuple it is necessary to have a trailing comma.\n",
    "t2 = ('a',)\n",
    "type(t2)"
   ]
  },
  {
   "cell_type": "code",
   "execution_count": 28,
   "id": "33d02313-7eb0-4daf-9cda-d1fb3f73d8cb",
   "metadata": {},
   "outputs": [
    {
     "name": "stdout",
     "output_type": "stream",
     "text": [
      "('l', 'u', 'p', 'i', 'n', 's')\n",
      "(0, 1, 2)\n"
     ]
    }
   ],
   "source": [
    "# way to create a tuple is the built-in function tuple\n",
    "t = tuple('lupins')\n",
    "print(t)\n",
    "t = tuple(range(3))\n",
    "print(t)"
   ]
  },
  {
   "cell_type": "markdown",
   "id": "d4c0e2c3-f2d5-45c9-a065-fefc3c3d56c7",
   "metadata": {},
   "source": [
    "Tuples are immutable"
   ]
  },
  {
   "cell_type": "code",
   "execution_count": 29,
   "id": "a80d0eb6-09d7-4a5f-8057-1e7248241b54",
   "metadata": {},
   "outputs": [
    {
     "ename": "TypeError",
     "evalue": "'tuple' object does not support item assignment",
     "output_type": "error",
     "traceback": [
      "\u001b[1;31m---------------------------------------------------------------------------\u001b[0m",
      "\u001b[1;31mTypeError\u001b[0m                                 Traceback (most recent call last)",
      "Cell \u001b[1;32mIn [29], line 2\u001b[0m\n\u001b[0;32m      1\u001b[0m t \u001b[38;5;241m=\u001b[39m (\u001b[38;5;241m1\u001b[39m, \u001b[38;5;241m4\u001b[39m, \u001b[38;5;241m9\u001b[39m)\n\u001b[1;32m----> 2\u001b[0m \u001b[43mt\u001b[49m\u001b[43m[\u001b[49m\u001b[38;5;241;43m0\u001b[39;49m\u001b[43m]\u001b[49m \u001b[38;5;241m=\u001b[39m \u001b[38;5;241m2\u001b[39m\n",
      "\u001b[1;31mTypeError\u001b[0m: 'tuple' object does not support item assignment"
     ]
    }
   ],
   "source": [
    "t = (1, 4, 9)\n",
    "t[0] = 2"
   ]
  },
  {
   "cell_type": "markdown",
   "id": "3f4d64bb-3a60-4c99-b69e-df46979ec0b5",
   "metadata": {},
   "source": [
    "tuples don't have .append and .extend methods as list does. Using += is possible, but it changes the\n",
    "binding of the variable, and not the tuple itself."
   ]
  },
  {
   "cell_type": "code",
   "execution_count": 30,
   "id": "37ae2f1a-96b3-4bce-a2ab-6ad18f07722e",
   "metadata": {},
   "outputs": [
    {
     "data": {
      "text/plain": [
       "(1, 2, 3, 4)"
      ]
     },
     "execution_count": 30,
     "metadata": {},
     "output_type": "execute_result"
    }
   ],
   "source": [
    "t = (1, 2)\n",
    "q = t\n",
    "t += (3, 4)\n",
    "t"
   ]
  },
  {
   "cell_type": "code",
   "execution_count": 31,
   "id": "47c32894-a2d5-4346-bec1-9c72215a0741",
   "metadata": {},
   "outputs": [
    {
     "data": {
      "text/plain": [
       "(1, 2)"
      ]
     },
     "execution_count": 31,
     "metadata": {},
     "output_type": "execute_result"
    }
   ],
   "source": [
    "q"
   ]
  },
  {
   "cell_type": "code",
   "execution_count": 32,
   "id": "f5179c3e-a5eb-4932-b82e-5118a2e62b3f",
   "metadata": {},
   "outputs": [],
   "source": [
    "t = (1, 2, 3, [1, 2, 3])"
   ]
  },
  {
   "cell_type": "code",
   "execution_count": 34,
   "id": "addf827f-442f-4ef9-9966-414a1113fd63",
   "metadata": {},
   "outputs": [
    {
     "ename": "TypeError",
     "evalue": "'tuple' object does not support item assignment",
     "output_type": "error",
     "traceback": [
      "\u001b[1;31m---------------------------------------------------------------------------\u001b[0m",
      "\u001b[1;31mTypeError\u001b[0m                                 Traceback (most recent call last)",
      "Cell \u001b[1;32mIn [34], line 1\u001b[0m\n\u001b[1;32m----> 1\u001b[0m \u001b[43mt\u001b[49m\u001b[43m[\u001b[49m\u001b[38;5;241;43m3\u001b[39;49m\u001b[43m]\u001b[49m \u001b[38;5;241m+\u001b[39m\u001b[38;5;241m=\u001b[39m [\u001b[38;5;241m4\u001b[39m, \u001b[38;5;241m5\u001b[39m]\n",
      "\u001b[1;31mTypeError\u001b[0m: 'tuple' object does not support item assignment"
     ]
    }
   ],
   "source": [
    "t[3] += [4, 5]"
   ]
  },
  {
   "cell_type": "markdown",
   "id": "f779d349-b8c7-4170-8fe2-9d1a186c5e39",
   "metadata": {},
   "source": [
    "Packing and Unpacking Tuples"
   ]
  },
  {
   "cell_type": "code",
   "execution_count": 35,
   "id": "2e424fe9-fb9f-46a3-af60-79bc282da398",
   "metadata": {},
   "outputs": [],
   "source": [
    "a = 1, 2, 3 # a is the tuple (1, 2, 3)"
   ]
  },
  {
   "cell_type": "code",
   "execution_count": 36,
   "id": "3d730ef5-d2d9-4391-aa30-bd1442f85b6b",
   "metadata": {},
   "outputs": [],
   "source": [
    "a = (1, 2, 3) # a is the tuple (1, 2, 3)"
   ]
  },
  {
   "cell_type": "code",
   "execution_count": 37,
   "id": "ce097354-c903-4f30-903d-52770b456e3f",
   "metadata": {},
   "outputs": [
    {
     "data": {
      "text/plain": [
       "1"
      ]
     },
     "execution_count": 37,
     "metadata": {},
     "output_type": "execute_result"
    }
   ],
   "source": [
    "# unpacking AKA multiple assignment\n",
    "x, y, z = (1, 2, 3)\n",
    "x"
   ]
  },
  {
   "cell_type": "code",
   "execution_count": 38,
   "id": "627ee335-ce9e-40a4-89ce-d75ac0c64b42",
   "metadata": {},
   "outputs": [
    {
     "data": {
      "text/plain": [
       "2"
      ]
     },
     "execution_count": 38,
     "metadata": {},
     "output_type": "execute_result"
    }
   ],
   "source": [
    "y"
   ]
  },
  {
   "cell_type": "code",
   "execution_count": 39,
   "id": "8f4f8895-876e-4251-b041-4092b61e60ce",
   "metadata": {},
   "outputs": [
    {
     "data": {
      "text/plain": [
       "3"
      ]
     },
     "execution_count": 39,
     "metadata": {},
     "output_type": "execute_result"
    }
   ],
   "source": [
    "z"
   ]
  },
  {
   "cell_type": "markdown",
   "id": "ca94cdf0-5a85-47fd-aaf4-fb032ec44a9f",
   "metadata": {},
   "source": [
    "In Python 3 a target variable with a * prefix can be used as a catch-all variable (see Unpacking Iterables ):"
   ]
  },
  {
   "cell_type": "code",
   "execution_count": 40,
   "id": "1baf7efe-8a48-49aa-8e07-7999fddf53c4",
   "metadata": {},
   "outputs": [
    {
     "name": "stdout",
     "output_type": "stream",
     "text": [
      "1\n",
      "[2, 3, 4]\n",
      "5\n"
     ]
    }
   ],
   "source": [
    "first, *more, last = (1, 2, 3, 4, 5)\n",
    "print(first)\n",
    "print(more)\n",
    "print(last)"
   ]
  },
  {
   "cell_type": "markdown",
   "id": "baac14bd-7587-4a23-ae2a-b3e7993b9ca2",
   "metadata": {},
   "source": [
    "Built-in Tuple Functions"
   ]
  },
  {
   "cell_type": "code",
   "execution_count": 42,
   "id": "5a8ce58f-5951-4844-9ea7-fa751c8c67f4",
   "metadata": {},
   "outputs": [
    {
     "name": "stdout",
     "output_type": "stream",
     "text": [
      "('a', 'b', 'c', 'd', 'e') ('1', '2', '3')\n"
     ]
    }
   ],
   "source": [
    "tuple1 = ('a', 'b', 'c', 'd', 'e')\n",
    "tuple2 = ('1', '2', '3')\n",
    "tuple3 = ('a', 'b', 'c', 'd', 'e')\n",
    "print(tuple1, tuple2)"
   ]
  },
  {
   "cell_type": "code",
   "execution_count": 43,
   "id": "807cf386-dcfb-4019-9b8f-854a600912f8",
   "metadata": {},
   "outputs": [
    {
     "data": {
      "text/plain": [
       "5"
      ]
     },
     "execution_count": 43,
     "metadata": {},
     "output_type": "execute_result"
    }
   ],
   "source": [
    "# Tuple Length\n",
    "len(tuple1)"
   ]
  },
  {
   "cell_type": "code",
   "execution_count": 44,
   "id": "992d104c-6b13-44bf-abad-5888ec1bc746",
   "metadata": {},
   "outputs": [
    {
     "data": {
      "text/plain": [
       "'e'"
      ]
     },
     "execution_count": 44,
     "metadata": {},
     "output_type": "execute_result"
    }
   ],
   "source": [
    "# Max of a tuple\n",
    "max(tuple1)"
   ]
  },
  {
   "cell_type": "code",
   "execution_count": 45,
   "id": "fd0d78d8-0a73-4fbf-9c7f-d879c06e8a2a",
   "metadata": {},
   "outputs": [
    {
     "data": {
      "text/plain": [
       "'3'"
      ]
     },
     "execution_count": 45,
     "metadata": {},
     "output_type": "execute_result"
    }
   ],
   "source": [
    "max(tuple2)"
   ]
  },
  {
   "cell_type": "code",
   "execution_count": 46,
   "id": "46d42835-e417-487f-a2ae-f7fa7e14e6db",
   "metadata": {},
   "outputs": [
    {
     "data": {
      "text/plain": [
       "'a'"
      ]
     },
     "execution_count": 46,
     "metadata": {},
     "output_type": "execute_result"
    }
   ],
   "source": [
    "# Min of a tuple\n",
    "min(tuple1)"
   ]
  },
  {
   "cell_type": "code",
   "execution_count": 47,
   "id": "0dedb483-b34d-4b29-858c-9f0a44999208",
   "metadata": {},
   "outputs": [
    {
     "data": {
      "text/plain": [
       "'1'"
      ]
     },
     "execution_count": 47,
     "metadata": {},
     "output_type": "execute_result"
    }
   ],
   "source": [
    "min(tuple2)"
   ]
  },
  {
   "cell_type": "code",
   "execution_count": 48,
   "id": "9158f284-6f37-4816-a882-6451b7457f73",
   "metadata": {},
   "outputs": [
    {
     "data": {
      "text/plain": [
       "(1, 2, 3, 4, 5)"
      ]
     },
     "execution_count": 48,
     "metadata": {},
     "output_type": "execute_result"
    }
   ],
   "source": [
    "# Convert a list into tuple\n",
    "list = [1, 2, 3, 4, 5]\n",
    "tuple(list)"
   ]
  },
  {
   "cell_type": "code",
   "execution_count": 49,
   "id": "785e39b6-87c5-4e8c-bd0c-f476c610faee",
   "metadata": {},
   "outputs": [
    {
     "data": {
      "text/plain": [
       "('a', 'b', 'c', 'd', 'e', '1', '2', '3')"
      ]
     },
     "execution_count": 49,
     "metadata": {},
     "output_type": "execute_result"
    }
   ],
   "source": [
    "# Tuple concatenation\n",
    "tuple1 + tuple2"
   ]
  },
  {
   "cell_type": "markdown",
   "id": "d005089d-fa62-47f2-8bed-996f10d8ff9e",
   "metadata": {},
   "source": [
    "Tuple are element-wise hashable and equatable"
   ]
  },
  {
   "cell_type": "code",
   "execution_count": 50,
   "id": "19cf43b3-ea74-4136-bbee-4809705215af",
   "metadata": {},
   "outputs": [
    {
     "data": {
      "text/plain": [
       "-3550055125485641917"
      ]
     },
     "execution_count": 50,
     "metadata": {},
     "output_type": "execute_result"
    }
   ],
   "source": [
    "hash( (1, 2) ) # ok"
   ]
  },
  {
   "cell_type": "code",
   "execution_count": 52,
   "id": "b0a1fcf1-2e2c-4f3e-a8e0-b13b46cb0f3c",
   "metadata": {},
   "outputs": [
    {
     "ename": "TypeError",
     "evalue": "unhashable type: 'list'",
     "output_type": "error",
     "traceback": [
      "\u001b[1;31m---------------------------------------------------------------------------\u001b[0m",
      "\u001b[1;31mTypeError\u001b[0m                                 Traceback (most recent call last)",
      "Cell \u001b[1;32mIn [52], line 1\u001b[0m\n\u001b[1;32m----> 1\u001b[0m \u001b[38;5;28;43mhash\u001b[39;49m\u001b[43m(\u001b[49m\u001b[43m \u001b[49m\u001b[43m(\u001b[49m\u001b[43m[\u001b[49m\u001b[43m]\u001b[49m\u001b[43m,\u001b[49m\u001b[43m \u001b[49m\u001b[43m{\u001b[49m\u001b[38;5;124;43m'\u001b[39;49m\u001b[38;5;124;43mhello\u001b[39;49m\u001b[38;5;124;43m'\u001b[39;49m\u001b[43m}\u001b[49m\u001b[43m)\u001b[49m\u001b[43m \u001b[49m\u001b[43m)\u001b[49m \u001b[38;5;66;03m# not ok, since lists and sets are not hashable\u001b[39;00m\n",
      "\u001b[1;31mTypeError\u001b[0m: unhashable type: 'list'"
     ]
    }
   ],
   "source": [
    "hash( ([], {'hello'}) ) # not ok, since lists and sets are not hashable"
   ]
  },
  {
   "cell_type": "markdown",
   "id": "8d216c48-ac42-4057-bb77-1ad3ad309a57",
   "metadata": {},
   "source": [
    "Indexing Tuples"
   ]
  },
  {
   "cell_type": "code",
   "execution_count": 53,
   "id": "4128b54d-cd2d-4276-a7ce-9215742b9cbc",
   "metadata": {},
   "outputs": [
    {
     "data": {
      "text/plain": [
       "1"
      ]
     },
     "execution_count": 53,
     "metadata": {},
     "output_type": "execute_result"
    }
   ],
   "source": [
    "x = (1, 2, 3)\n",
    "x[0]"
   ]
  },
  {
   "cell_type": "code",
   "execution_count": 54,
   "id": "64b8c646-5f61-4f4d-a818-27adfc43f5c9",
   "metadata": {},
   "outputs": [
    {
     "data": {
      "text/plain": [
       "2"
      ]
     },
     "execution_count": 54,
     "metadata": {},
     "output_type": "execute_result"
    }
   ],
   "source": [
    "x[1]"
   ]
  },
  {
   "cell_type": "code",
   "execution_count": 55,
   "id": "552ea593-a200-4683-af65-25e88006842b",
   "metadata": {},
   "outputs": [
    {
     "ename": "IndexError",
     "evalue": "tuple index out of range",
     "output_type": "error",
     "traceback": [
      "\u001b[1;31m---------------------------------------------------------------------------\u001b[0m",
      "\u001b[1;31mIndexError\u001b[0m                                Traceback (most recent call last)",
      "Cell \u001b[1;32mIn [55], line 1\u001b[0m\n\u001b[1;32m----> 1\u001b[0m \u001b[43mx\u001b[49m\u001b[43m[\u001b[49m\u001b[38;5;241;43m3\u001b[39;49m\u001b[43m]\u001b[49m\n",
      "\u001b[1;31mIndexError\u001b[0m: tuple index out of range"
     ]
    }
   ],
   "source": [
    "x[3]"
   ]
  },
  {
   "cell_type": "code",
   "execution_count": 56,
   "id": "746ae8c7-d1e0-4d32-aa01-2981703f7bdd",
   "metadata": {},
   "outputs": [
    {
     "data": {
      "text/plain": [
       "3"
      ]
     },
     "execution_count": 56,
     "metadata": {},
     "output_type": "execute_result"
    }
   ],
   "source": [
    "x[-1]"
   ]
  },
  {
   "cell_type": "code",
   "execution_count": 57,
   "id": "965eb979-1482-4043-b6d2-e37da3dc8f5b",
   "metadata": {},
   "outputs": [
    {
     "data": {
      "text/plain": [
       "2"
      ]
     },
     "execution_count": 57,
     "metadata": {},
     "output_type": "execute_result"
    }
   ],
   "source": [
    "x[-2]"
   ]
  },
  {
   "cell_type": "code",
   "execution_count": 58,
   "id": "8a7b580b-4725-4c51-a590-ac06a8ddd0f4",
   "metadata": {},
   "outputs": [
    {
     "ename": "IndexError",
     "evalue": "tuple index out of range",
     "output_type": "error",
     "traceback": [
      "\u001b[1;31m---------------------------------------------------------------------------\u001b[0m",
      "\u001b[1;31mIndexError\u001b[0m                                Traceback (most recent call last)",
      "Cell \u001b[1;32mIn [58], line 1\u001b[0m\n\u001b[1;32m----> 1\u001b[0m \u001b[43mx\u001b[49m\u001b[43m[\u001b[49m\u001b[38;5;241;43m-\u001b[39;49m\u001b[38;5;241;43m4\u001b[39;49m\u001b[43m]\u001b[49m\n",
      "\u001b[1;31mIndexError\u001b[0m: tuple index out of range"
     ]
    }
   ],
   "source": [
    "x[-4]"
   ]
  },
  {
   "cell_type": "code",
   "execution_count": 59,
   "id": "7913acb0-04d2-42ce-8a9f-1ac413c4e712",
   "metadata": {},
   "outputs": [
    {
     "name": "stdout",
     "output_type": "stream",
     "text": [
      "(1, 2)\n"
     ]
    }
   ],
   "source": [
    "# Indexing a range of elements\n",
    "print(x[:-1])"
   ]
  },
  {
   "cell_type": "code",
   "execution_count": 60,
   "id": "25a477d3-e6b3-4cd3-b703-dbe53ad0cb72",
   "metadata": {},
   "outputs": [
    {
     "name": "stdout",
     "output_type": "stream",
     "text": [
      "(3,)\n"
     ]
    }
   ],
   "source": [
    "print(x[-1:])"
   ]
  },
  {
   "cell_type": "code",
   "execution_count": 61,
   "id": "c0d2f992-9031-4c43-96e0-c34cf927502b",
   "metadata": {},
   "outputs": [
    {
     "name": "stdout",
     "output_type": "stream",
     "text": [
      "(2, 3)\n"
     ]
    }
   ],
   "source": [
    "print(x[1:3])"
   ]
  },
  {
   "cell_type": "markdown",
   "id": "58dae83e-19fd-4b70-addf-b7c49572137f",
   "metadata": {},
   "source": [
    "Reversing Elements"
   ]
  },
  {
   "cell_type": "code",
   "execution_count": 63,
   "id": "892424c0-2d0c-4fa7-8ac0-748243434092",
   "metadata": {},
   "outputs": [
    {
     "data": {
      "text/plain": [
       "('blue', 'green', 'red')"
      ]
     },
     "execution_count": 63,
     "metadata": {},
     "output_type": "execute_result"
    }
   ],
   "source": [
    "# Reverse elements within a tuple\n",
    "colors = \"red\", \"green\", \"blue\"\n",
    "rev = colors[::-1]\n",
    "rev"
   ]
  },
  {
   "cell_type": "code",
   "execution_count": 64,
   "id": "e78a18e7-4814-4aa9-acca-62c94c422924",
   "metadata": {},
   "outputs": [],
   "source": [
    "colors = rev"
   ]
  },
  {
   "cell_type": "code",
   "execution_count": 65,
   "id": "dee4c395-0a91-4e69-86bb-9cbdbde2d3f8",
   "metadata": {},
   "outputs": [
    {
     "data": {
      "text/plain": [
       "('blue', 'green', 'red')"
      ]
     },
     "execution_count": 65,
     "metadata": {},
     "output_type": "execute_result"
    }
   ],
   "source": [
    "colors"
   ]
  },
  {
   "cell_type": "code",
   "execution_count": 66,
   "id": "f445374d-24bf-41e2-b0ae-ebe73bf80c68",
   "metadata": {},
   "outputs": [],
   "source": [
    "rev = tuple(reversed(colors))"
   ]
  },
  {
   "cell_type": "code",
   "execution_count": 67,
   "id": "d1448dd9-27f8-4647-a42d-5444bcdd5c2d",
   "metadata": {},
   "outputs": [
    {
     "data": {
      "text/plain": [
       "('red', 'green', 'blue')"
      ]
     },
     "execution_count": 67,
     "metadata": {},
     "output_type": "execute_result"
    }
   ],
   "source": [
    "rev"
   ]
  },
  {
   "cell_type": "markdown",
   "id": "725ae80e-4bd3-4c76-8751-0a9f647284c8",
   "metadata": {},
   "source": [
    "Basic Input and Output"
   ]
  },
  {
   "cell_type": "code",
   "execution_count": 68,
   "id": "767e9a9b-7931-4fc5-b455-49a7ff0ca0ca",
   "metadata": {},
   "outputs": [
    {
     "name": "stdout",
     "output_type": "stream",
     "text": [
      "This string will be displayed in the output\n"
     ]
    }
   ],
   "source": [
    "# Using the print function\n",
    "print(\"This string will be displayed in the output\")"
   ]
  },
  {
   "cell_type": "markdown",
   "id": "2012ce7a-5f6a-42d6-8159-eb472b788e68",
   "metadata": {},
   "source": [
    "Input from a File"
   ]
  },
  {
   "cell_type": "raw",
   "id": "b05e46c0-6cdf-41b9-a6d1-640b137ca4a1",
   "metadata": {},
   "source": [
    "with open('somefile.txt', 'r') as fileobj:\n",
    "# write code here using fileobj"
   ]
  },
  {
   "cell_type": "markdown",
   "id": "0335f7c3-e6e2-4523-bd53-c2b57fa75e71",
   "metadata": {},
   "source": [
    "Read from stdin"
   ]
  },
  {
   "cell_type": "code",
   "execution_count": 69,
   "id": "d58e1ae8-f319-476d-99ce-c1071b0c3df9",
   "metadata": {},
   "outputs": [],
   "source": [
    "import sys\n",
    "for line in sys.stdin:\n",
    "    print(line)"
   ]
  },
  {
   "cell_type": "markdown",
   "id": "9db78082-4fe1-435c-bde8-b10689d17d8f",
   "metadata": {},
   "source": [
    "Using input() and raw_input()"
   ]
  },
  {
   "cell_type": "code",
   "execution_count": 71,
   "id": "faadeddc-0b0a-4613-8770-cd7ac2dc752a",
   "metadata": {},
   "outputs": [
    {
     "name": "stdin",
     "output_type": "stream",
     "text": [
      "Put a message here that asks the user for input hello\n"
     ]
    }
   ],
   "source": [
    "# Python 3.x\n",
    "foo = input(\"Put a message here that asks the user for input\")"
   ]
  },
  {
   "cell_type": "markdown",
   "id": "d869d50a-16c7-46f2-95ed-eda812fbcc8c",
   "metadata": {},
   "source": [
    "Function to prompt user for a number"
   ]
  },
  {
   "cell_type": "code",
   "execution_count": 73,
   "id": "f1f0811c-6ccf-4130-8941-a99134dc10da",
   "metadata": {},
   "outputs": [],
   "source": [
    "def input_number(msg, err_msg=None):\n",
    "    while True:\n",
    "        try:\n",
    "            return float(raw_input(msg))\n",
    "        except ValueError:\n",
    "            if err_msg is not None:\n",
    "                print(err_msg)\n",
    "def input_number(msg, err_msg=None):\n",
    "    while True:\n",
    "        try:\n",
    "            return float(input(msg))\n",
    "        except ValueError:\n",
    "            if err_msg is not None:\n",
    "                print(err_msg)"
   ]
  },
  {
   "cell_type": "code",
   "execution_count": 76,
   "id": "814f71fd-b082-417c-98a0-c785eb799eac",
   "metadata": {},
   "outputs": [
    {
     "name": "stdin",
     "output_type": "stream",
     "text": [
      "input a number:  hi\n"
     ]
    },
    {
     "name": "stdout",
     "output_type": "stream",
     "text": [
      "that's not a number!\n"
     ]
    },
    {
     "name": "stdin",
     "output_type": "stream",
     "text": [
      "input a number:  32\n"
     ]
    }
   ],
   "source": [
    "user_number = input_number(\"input a number: \", \"that's not a number!\")"
   ]
  },
  {
   "cell_type": "code",
   "execution_count": 75,
   "id": "96b81941-7ccc-4d65-b8fd-c9bd185dea82",
   "metadata": {},
   "outputs": [
    {
     "name": "stdin",
     "output_type": "stream",
     "text": [
      "input a number:  hello\n",
      "input a number:  34\n"
     ]
    }
   ],
   "source": [
    "user_number = input_number(\"input a number: \")"
   ]
  },
  {
   "cell_type": "markdown",
   "id": "3a928449-e52f-4ea8-b63b-6ef03e7ad279",
   "metadata": {},
   "source": [
    "Printing a string without a newline at the end"
   ]
  },
  {
   "cell_type": "code",
   "execution_count": 77,
   "id": "3ac7e665-8811-4035-bd30-7f0773059051",
   "metadata": {},
   "outputs": [
    {
     "name": "stdout",
     "output_type": "stream",
     "text": [
      "Hello, \n",
      "world!\n"
     ]
    }
   ],
   "source": [
    "# in Python 3.x\n",
    "print(\"Hello, \", end=\"\\n\")\n",
    "print(\"world!\")"
   ]
  },
  {
   "cell_type": "code",
   "execution_count": 78,
   "id": "f2f7854f-8c4f-405c-be06-5ea40aeb552e",
   "metadata": {},
   "outputs": [
    {
     "name": "stdout",
     "output_type": "stream",
     "text": [
      "hello, world!\n"
     ]
    }
   ],
   "source": [
    "# You could pass in other strings\n",
    "print(\"hello, \", end=\"\")\n",
    "print(\"world!\")"
   ]
  },
  {
   "cell_type": "code",
   "execution_count": 79,
   "id": "3011fe77-1f3f-40ab-9abb-4780f6062cfd",
   "metadata": {},
   "outputs": [
    {
     "name": "stdout",
     "output_type": "stream",
     "text": [
      "Hello, <br>world!\n"
     ]
    }
   ],
   "source": [
    "print(\"Hello, \", end=\"<br>\")\n",
    "print(\"world!\")"
   ]
  },
  {
   "cell_type": "code",
   "execution_count": 80,
   "id": "0f138207-4f2c-4ef7-a442-0074876fc109",
   "metadata": {},
   "outputs": [
    {
     "name": "stdout",
     "output_type": "stream",
     "text": [
      "Hello, BREAKWorld!\n"
     ]
    }
   ],
   "source": [
    "print(\"Hello, \", end=\"BREAK\")\n",
    "print(\"World!\")"
   ]
  },
  {
   "cell_type": "markdown",
   "id": "49e4e60b-c42f-448f-b904-d04658c82507",
   "metadata": {},
   "source": [
    "If you want more control over the output, you can use sys.stdout.write:"
   ]
  },
  {
   "cell_type": "code",
   "execution_count": 81,
   "id": "545edae3-c032-4b6f-bf66-82af2a78126d",
   "metadata": {},
   "outputs": [
    {
     "name": "stdout",
     "output_type": "stream",
     "text": [
      "Hello, World!"
     ]
    },
    {
     "data": {
      "text/plain": [
       "6"
      ]
     },
     "execution_count": 81,
     "metadata": {},
     "output_type": "execute_result"
    }
   ],
   "source": [
    "import sys\n",
    "sys.stdout.write(\"Hello, \")\n",
    "sys.stdout.write(\"World!\")"
   ]
  },
  {
   "cell_type": "code",
   "execution_count": null,
   "id": "a87a281c-49fe-4620-83c0-5a4ae18a6133",
   "metadata": {},
   "outputs": [],
   "source": []
  }
 ],
 "metadata": {
  "kernelspec": {
   "display_name": "Python 3 (ipykernel)",
   "language": "python",
   "name": "python3"
  },
  "language_info": {
   "codemirror_mode": {
    "name": "ipython",
    "version": 3
   },
   "file_extension": ".py",
   "mimetype": "text/x-python",
   "name": "python",
   "nbconvert_exporter": "python",
   "pygments_lexer": "ipython3",
   "version": "3.10.7"
  }
 },
 "nbformat": 4,
 "nbformat_minor": 5
}
