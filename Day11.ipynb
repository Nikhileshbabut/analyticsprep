{
 "cells": [
  {
   "cell_type": "markdown",
   "id": "c2daaa50-6750-4199-89b9-9a1f962b5e63",
   "metadata": {},
   "source": [
    "Variable Scope and Binding"
   ]
  },
  {
   "cell_type": "markdown",
   "id": "1ba80f2d-0022-4607-9a11-fdb32b5114c9",
   "metadata": {},
   "source": [
    "Nonlocal Variables"
   ]
  },
  {
   "cell_type": "code",
   "execution_count": 2,
   "id": "c1ebb14c-2611-4966-b76d-69eea71cce81",
   "metadata": {},
   "outputs": [
    {
     "ename": "UnboundLocalError",
     "evalue": "local variable 'num' referenced before assignment",
     "output_type": "error",
     "traceback": [
      "\u001b[1;31m---------------------------------------------------------------------------\u001b[0m",
      "\u001b[1;31mUnboundLocalError\u001b[0m                         Traceback (most recent call last)",
      "Cell \u001b[1;32mIn [2], line 9\u001b[0m\n\u001b[0;32m      7\u001b[0m     \u001b[38;5;28;01mreturn\u001b[39;00m incrementer\n\u001b[0;32m      8\u001b[0m c \u001b[38;5;241m=\u001b[39m counter()\n\u001b[1;32m----> 9\u001b[0m \u001b[43mc\u001b[49m\u001b[43m(\u001b[49m\u001b[43m)\u001b[49m\n",
      "Cell \u001b[1;32mIn [2], line 5\u001b[0m, in \u001b[0;36mcounter.<locals>.incrementer\u001b[1;34m()\u001b[0m\n\u001b[0;32m      4\u001b[0m \u001b[38;5;28;01mdef\u001b[39;00m \u001b[38;5;21mincrementer\u001b[39m():\n\u001b[1;32m----> 5\u001b[0m     num \u001b[38;5;241m+\u001b[39m\u001b[38;5;241m=\u001b[39m \u001b[38;5;241m1\u001b[39m\n\u001b[0;32m      6\u001b[0m     \u001b[38;5;28;01mreturn\u001b[39;00m num\n",
      "\u001b[1;31mUnboundLocalError\u001b[0m: local variable 'num' referenced before assignment"
     ]
    }
   ],
   "source": [
    "# Example is to create function that can increment\n",
    "def counter():\n",
    "    num = 0\n",
    "    def incrementer():\n",
    "        num += 1\n",
    "        return num\n",
    "    return incrementer\n",
    "c = counter()\n",
    "c()"
   ]
  },
  {
   "cell_type": "code",
   "execution_count": 3,
   "id": "45c38c3a-a3d9-4602-b1b5-826952751200",
   "metadata": {},
   "outputs": [
    {
     "data": {
      "text/plain": [
       "1"
      ]
     },
     "execution_count": 3,
     "metadata": {},
     "output_type": "execute_result"
    }
   ],
   "source": [
    "# When nonlocal is added to mix\n",
    "def counter():\n",
    "    num = 0\n",
    "    def incrementer():\n",
    "        nonlocal num\n",
    "        num += 1\n",
    "        return num\n",
    "    return incrementer\n",
    "c = counter()\n",
    "c()"
   ]
  },
  {
   "cell_type": "code",
   "execution_count": 4,
   "id": "1e5cd69c-baee-4d78-bd2e-d537004d3781",
   "metadata": {},
   "outputs": [
    {
     "data": {
      "text/plain": [
       "2"
      ]
     },
     "execution_count": 4,
     "metadata": {},
     "output_type": "execute_result"
    }
   ],
   "source": [
    "c()"
   ]
  },
  {
   "cell_type": "code",
   "execution_count": 5,
   "id": "59d855f8-e444-49b2-941d-9e2adb8bca39",
   "metadata": {},
   "outputs": [
    {
     "data": {
      "text/plain": [
       "3"
      ]
     },
     "execution_count": 5,
     "metadata": {},
     "output_type": "execute_result"
    }
   ],
   "source": [
    "c()"
   ]
  },
  {
   "cell_type": "markdown",
   "id": "749f55cb-8626-4e02-858d-38e31e0620ea",
   "metadata": {},
   "source": [
    "nonlocal will allow you to assign to variables in an outer scope, but not a global scope. So you can't use nonlocal in our counter function because then it would try to assign to a global scope. Give it a try and you will quickly get a SyntaxError. Instead you must use nonlocal in a nested function."
   ]
  },
  {
   "cell_type": "markdown",
   "id": "2d724ca9-ba17-4029-87d8-c4c6434ff6a6",
   "metadata": {},
   "source": [
    "Global Variables"
   ]
  },
  {
   "cell_type": "code",
   "execution_count": 6,
   "id": "7270b0da-a35f-4244-9cba-a23538e96a6c",
   "metadata": {},
   "outputs": [
    {
     "name": "stdout",
     "output_type": "stream",
     "text": [
      "Hi\n"
     ]
    },
    {
     "ename": "NameError",
     "evalue": "name 'y' is not defined",
     "output_type": "error",
     "traceback": [
      "\u001b[1;31m---------------------------------------------------------------------------\u001b[0m",
      "\u001b[1;31mNameError\u001b[0m                                 Traceback (most recent call last)",
      "Cell \u001b[1;32mIn [6], line 7\u001b[0m\n\u001b[0;32m      5\u001b[0m \u001b[38;5;28;01mdef\u001b[39;00m \u001b[38;5;21mread_y\u001b[39m():\n\u001b[0;32m      6\u001b[0m     \u001b[38;5;28mprint\u001b[39m(y)  \u001b[38;5;66;03m# here y is just referenced, therefore assumed global\u001b[39;00m\n\u001b[1;32m----> 7\u001b[0m \u001b[43mread_y\u001b[49m\u001b[43m(\u001b[49m\u001b[43m)\u001b[49m  \u001b[38;5;66;03m# NameError: global name 'y' is not defined\u001b[39;00m\n",
      "Cell \u001b[1;32mIn [6], line 6\u001b[0m, in \u001b[0;36mread_y\u001b[1;34m()\u001b[0m\n\u001b[0;32m      5\u001b[0m \u001b[38;5;28;01mdef\u001b[39;00m \u001b[38;5;21mread_y\u001b[39m():\n\u001b[1;32m----> 6\u001b[0m     \u001b[38;5;28mprint\u001b[39m(\u001b[43my\u001b[49m)\n",
      "\u001b[1;31mNameError\u001b[0m: name 'y' is not defined"
     ]
    }
   ],
   "source": [
    "x = 'Hi'\n",
    "def read_x():\n",
    "    print(x)  # x is just referenced, therefore assumed global\n",
    "read_x()  # prints Hi\n",
    "def read_y():\n",
    "    print(y)  # here y is just referenced, therefore assumed global\n",
    "read_y()  # NameError: global name 'y' is not defined"
   ]
  },
  {
   "cell_type": "code",
   "execution_count": 7,
   "id": "74e380cf-8923-4836-9037-059093af3fee",
   "metadata": {},
   "outputs": [
    {
     "name": "stdout",
     "output_type": "stream",
     "text": [
      "Hey\n"
     ]
    },
    {
     "ename": "UnboundLocalError",
     "evalue": "local variable 'x' referenced before assignment",
     "output_type": "error",
     "traceback": [
      "\u001b[1;31m---------------------------------------------------------------------------\u001b[0m",
      "\u001b[1;31mUnboundLocalError\u001b[0m                         Traceback (most recent call last)",
      "Cell \u001b[1;32mIn [7], line 9\u001b[0m\n\u001b[0;32m      7\u001b[0m         x \u001b[38;5;241m=\u001b[39m \u001b[38;5;124m'\u001b[39m\u001b[38;5;124mHey\u001b[39m\u001b[38;5;124m'\u001b[39m \u001b[38;5;66;03m# x appears in an assignment, therefore it's local\u001b[39;00m\n\u001b[0;32m      8\u001b[0m     \u001b[38;5;28mprint\u001b[39m(x)  \u001b[38;5;66;03m# will look for the _local_ z, which is not assigned, and will not be found\u001b[39;00m\n\u001b[1;32m----> 9\u001b[0m \u001b[43mread_x_local_fail\u001b[49m\u001b[43m(\u001b[49m\u001b[43m)\u001b[49m  \u001b[38;5;66;03m# UnboundLocalError\u001b[39;00m\n",
      "Cell \u001b[1;32mIn [7], line 8\u001b[0m, in \u001b[0;36mread_x_local_fail\u001b[1;34m()\u001b[0m\n\u001b[0;32m      6\u001b[0m \u001b[38;5;28;01mif\u001b[39;00m \u001b[38;5;28;01mFalse\u001b[39;00m:\n\u001b[0;32m      7\u001b[0m     x \u001b[38;5;241m=\u001b[39m \u001b[38;5;124m'\u001b[39m\u001b[38;5;124mHey\u001b[39m\u001b[38;5;124m'\u001b[39m \u001b[38;5;66;03m# x appears in an assignment, therefore it's local\u001b[39;00m\n\u001b[1;32m----> 8\u001b[0m \u001b[38;5;28mprint\u001b[39m(\u001b[43mx\u001b[49m)\n",
      "\u001b[1;31mUnboundLocalError\u001b[0m: local variable 'x' referenced before assignment"
     ]
    }
   ],
   "source": [
    "def read_y():\n",
    "    y = 'Hey' # y appears in an assignment, therefore it's local\n",
    "    print(y)\n",
    "read_y()    # prints Hey\n",
    "def read_x_local_fail():\n",
    "    if False:\n",
    "        x = 'Hey' # x appears in an assignment, therefore it's local\n",
    "    print(x)  # will look for the _local_ z, which is not assigned, and will not be found\n",
    "read_x_local_fail()  # UnboundLocalError"
   ]
  },
  {
   "cell_type": "code",
   "execution_count": 9,
   "id": "ce14debf-3eb0-4311-b553-d7c27b0cecfd",
   "metadata": {},
   "outputs": [
    {
     "name": "stdout",
     "output_type": "stream",
     "text": [
      "Bye\n",
      "Hi\n"
     ]
    }
   ],
   "source": [
    "# an assignment inside a scope will shadow any outer variables of the same name\n",
    "x = 'Hi'\n",
    "def change_local_x():\n",
    "    x = 'Bye'\n",
    "    print(x)\n",
    "change_local_x()  # prints Bye\n",
    "print(x)"
   ]
  },
  {
   "cell_type": "code",
   "execution_count": 10,
   "id": "572b5c48-3c47-4b72-a4c5-4afbbb9fd5c8",
   "metadata": {},
   "outputs": [
    {
     "name": "stdout",
     "output_type": "stream",
     "text": [
      "Bye\n",
      "Bye\n"
     ]
    }
   ],
   "source": [
    "x = 'Hi'\n",
    "def change_global_x():\n",
    "    global x\n",
    "    x = 'Bye'\n",
    "    print(x)\n",
    "change_global_x() # prints Bye\n",
    "print(x) # prints Bye"
   ]
  },
  {
   "cell_type": "markdown",
   "id": "9e974ddc-631f-4e34-a913-d5c257f05904",
   "metadata": {},
   "source": [
    "Local Variables"
   ]
  },
  {
   "cell_type": "code",
   "execution_count": 11,
   "id": "641ce4da-7684-4013-ad2e-9803d59e5615",
   "metadata": {},
   "outputs": [
    {
     "ename": "NameError",
     "evalue": "name 'a' is not defined",
     "output_type": "error",
     "traceback": [
      "\u001b[1;31m---------------------------------------------------------------------------\u001b[0m",
      "\u001b[1;31mNameError\u001b[0m                                 Traceback (most recent call last)",
      "Cell \u001b[1;32mIn [11], line 4\u001b[0m\n\u001b[0;32m      2\u001b[0m     a \u001b[38;5;241m=\u001b[39m \u001b[38;5;241m5\u001b[39m\n\u001b[0;32m      3\u001b[0m     \u001b[38;5;28mprint\u001b[39m(a) \u001b[38;5;66;03m# ok\u001b[39;00m\n\u001b[1;32m----> 4\u001b[0m \u001b[38;5;28mprint\u001b[39m(\u001b[43ma\u001b[49m) \u001b[38;5;66;03m# NameError\u001b[39;00m\n",
      "\u001b[1;31mNameError\u001b[0m: name 'a' is not defined"
     ]
    }
   ],
   "source": [
    "def foo():\n",
    "    a = 5\n",
    "    print(a) # ok\n",
    "print(a) # NameError"
   ]
  },
  {
   "cell_type": "code",
   "execution_count": 13,
   "id": "80771fea-ea90-42d7-ac76-3ed0c9f7aac1",
   "metadata": {},
   "outputs": [
    {
     "name": "stdout",
     "output_type": "stream",
     "text": [
      "5\n"
     ]
    },
    {
     "ename": "UnboundLocalError",
     "evalue": "local variable 'b' referenced before assignment",
     "output_type": "error",
     "traceback": [
      "\u001b[1;31m---------------------------------------------------------------------------\u001b[0m",
      "\u001b[1;31mUnboundLocalError\u001b[0m                         Traceback (most recent call last)",
      "Cell \u001b[1;32mIn [13], line 11\u001b[0m\n\u001b[0;32m      9\u001b[0m         b \u001b[38;5;241m=\u001b[39m \u001b[38;5;241m5\u001b[39m\n\u001b[0;32m     10\u001b[0m     \u001b[38;5;28mprint\u001b[39m(b)\n\u001b[1;32m---> 11\u001b[0m \u001b[43mbar\u001b[49m\u001b[43m(\u001b[49m\u001b[43m)\u001b[49m\n",
      "Cell \u001b[1;32mIn [13], line 10\u001b[0m, in \u001b[0;36mbar\u001b[1;34m()\u001b[0m\n\u001b[0;32m      8\u001b[0m \u001b[38;5;28;01mif\u001b[39;00m \u001b[38;5;28;01mFalse\u001b[39;00m:\n\u001b[0;32m      9\u001b[0m     b \u001b[38;5;241m=\u001b[39m \u001b[38;5;241m5\u001b[39m\n\u001b[1;32m---> 10\u001b[0m \u001b[38;5;28mprint\u001b[39m(\u001b[43mb\u001b[49m)\n",
      "\u001b[1;31mUnboundLocalError\u001b[0m: local variable 'b' referenced before assignment"
     ]
    }
   ],
   "source": [
    "def foo():\n",
    "    if True:\n",
    "        a = 5\n",
    "    print(a)\n",
    "foo()\n",
    "b = 3\n",
    "def bar():\n",
    "    if False:\n",
    "        b = 5\n",
    "    print(b)\n",
    "bar()"
   ]
  },
  {
   "cell_type": "markdown",
   "id": "4cc05183-fb39-4657-8e8a-17f14133e053",
   "metadata": {},
   "source": [
    "The del command"
   ]
  },
  {
   "cell_type": "code",
   "execution_count": 14,
   "id": "44786866-0b8c-4dc5-ae5b-eb399f7adcd8",
   "metadata": {},
   "outputs": [
    {
     "name": "stdout",
     "output_type": "stream",
     "text": [
      "5\n"
     ]
    }
   ],
   "source": [
    "# del removes the variable from its scope\n",
    "x = 5\n",
    "print(x)"
   ]
  },
  {
   "cell_type": "code",
   "execution_count": 15,
   "id": "5aaca38f-885f-453a-a7d7-4c7ae1da12ef",
   "metadata": {},
   "outputs": [
    {
     "ename": "NameError",
     "evalue": "name 'x' is not defined",
     "output_type": "error",
     "traceback": [
      "\u001b[1;31m---------------------------------------------------------------------------\u001b[0m",
      "\u001b[1;31mNameError\u001b[0m                                 Traceback (most recent call last)",
      "Cell \u001b[1;32mIn [15], line 2\u001b[0m\n\u001b[0;32m      1\u001b[0m \u001b[38;5;28;01mdel\u001b[39;00m x\n\u001b[1;32m----> 2\u001b[0m \u001b[38;5;28mprint\u001b[39m(\u001b[43mx\u001b[49m)\n",
      "\u001b[1;31mNameError\u001b[0m: name 'x' is not defined"
     ]
    }
   ],
   "source": [
    "del x\n",
    "print(x)"
   ]
  },
  {
   "cell_type": "code",
   "execution_count": 16,
   "id": "d35aa05f-6bad-499b-95c5-f655622e3c8f",
   "metadata": {},
   "outputs": [
    {
     "name": "stdout",
     "output_type": "stream",
     "text": [
      "7\n"
     ]
    }
   ],
   "source": [
    "class A:\n",
    "    pass\n",
    "a = A()\n",
    "a.x = 7\n",
    "print(a.x)"
   ]
  },
  {
   "cell_type": "code",
   "execution_count": 17,
   "id": "6c2abc69-b335-4fe5-93ad-c78f1a971d32",
   "metadata": {},
   "outputs": [
    {
     "ename": "AttributeError",
     "evalue": "'A' object has no attribute 'x'",
     "output_type": "error",
     "traceback": [
      "\u001b[1;31m---------------------------------------------------------------------------\u001b[0m",
      "\u001b[1;31mAttributeError\u001b[0m                            Traceback (most recent call last)",
      "Cell \u001b[1;32mIn [17], line 2\u001b[0m\n\u001b[0;32m      1\u001b[0m \u001b[38;5;28;01mdel\u001b[39;00m a\u001b[38;5;241m.\u001b[39mx\n\u001b[1;32m----> 2\u001b[0m \u001b[38;5;28mprint\u001b[39m(\u001b[43ma\u001b[49m\u001b[38;5;241;43m.\u001b[39;49m\u001b[43mx\u001b[49m)\n",
      "\u001b[1;31mAttributeError\u001b[0m: 'A' object has no attribute 'x'"
     ]
    }
   ],
   "source": [
    "del a.x\n",
    "print(a.x)"
   ]
  },
  {
   "cell_type": "code",
   "execution_count": 20,
   "id": "31e0971a-66a0-4ec2-b925-a4c6b6d0e405",
   "metadata": {},
   "outputs": [
    {
     "name": "stdout",
     "output_type": "stream",
     "text": [
      "{'b': 2}\n"
     ]
    }
   ],
   "source": [
    "x = {'a': 1, 'b':2}\n",
    "del x['a']\n",
    "print(x)"
   ]
  },
  {
   "cell_type": "code",
   "execution_count": 21,
   "id": "f582b534-244c-499e-a8f7-04bba6c1b93d",
   "metadata": {},
   "outputs": [
    {
     "ename": "KeyError",
     "evalue": "'a'",
     "output_type": "error",
     "traceback": [
      "\u001b[1;31m---------------------------------------------------------------------------\u001b[0m",
      "\u001b[1;31mKeyError\u001b[0m                                  Traceback (most recent call last)",
      "Cell \u001b[1;32mIn [21], line 1\u001b[0m\n\u001b[1;32m----> 1\u001b[0m \u001b[38;5;28mprint\u001b[39m(\u001b[43mx\u001b[49m\u001b[43m[\u001b[49m\u001b[38;5;124;43m'\u001b[39;49m\u001b[38;5;124;43ma\u001b[39;49m\u001b[38;5;124;43m'\u001b[39;49m\u001b[43m]\u001b[49m)\n",
      "\u001b[1;31mKeyError\u001b[0m: 'a'"
     ]
    }
   ],
   "source": [
    "print(x['a'])"
   ]
  },
  {
   "cell_type": "code",
   "execution_count": 22,
   "id": "edcbf74f-3b25-4c79-a7c4-8310b37ae806",
   "metadata": {},
   "outputs": [
    {
     "name": "stdout",
     "output_type": "stream",
     "text": [
      "[0, 3, 4]\n"
     ]
    }
   ],
   "source": [
    "x = [0, 1, 2, 3, 4]\n",
    "del x[1:3]\n",
    "print(x)"
   ]
  },
  {
   "cell_type": "markdown",
   "id": "7c22fe59-7f03-49fa-b96f-c9fd66119484",
   "metadata": {},
   "source": [
    "Functions skip class scope when looking up\n",
    "names"
   ]
  },
  {
   "cell_type": "code",
   "execution_count": 24,
   "id": "90cf970d-50e1-491e-8a40-d6ae2390bdb5",
   "metadata": {},
   "outputs": [
    {
     "name": "stdout",
     "output_type": "stream",
     "text": [
      "class\n",
      "global\n",
      "global\n",
      "class\n",
      "global\n",
      "class\n",
      "global\n"
     ]
    }
   ],
   "source": [
    "a = 'global'\n",
    "class Fred:\n",
    "    a = 'class' # class scope\n",
    "    b = (a for i in range(10)) # function scope\n",
    "    c = [a for i in range(10)]\n",
    "    d = a # class scope\n",
    "    e = lambda: a # function scope\n",
    "    f = lambda a=a: a # default argument uses class scope\n",
    "    @staticmethod # or @classmethod, or regular instance method\n",
    "    def g(): # function scope\n",
    "        return a\n",
    "print(Fred.a) # class\n",
    "print(next(Fred.b)) # global\n",
    "print(Fred.c[0]) # global in python 3\n",
    "print(Fred.d) # class\n",
    "print(Fred.e()) # global\n",
    "print(Fred.f()) # class\n",
    "print(Fred.g()) # global"
   ]
  },
  {
   "cell_type": "markdown",
   "id": "4f59de37-5a1a-4915-8223-8b3adf823f9d",
   "metadata": {},
   "source": [
    "Local vs Global Scope"
   ]
  },
  {
   "cell_type": "code",
   "execution_count": 26,
   "id": "1cd6bf7c-3939-498f-a461-74f605585b84",
   "metadata": {},
   "outputs": [
    {
     "name": "stdout",
     "output_type": "stream",
     "text": [
      "1\n",
      "2\n"
     ]
    }
   ],
   "source": [
    "foo = 1 # global\n",
    "def func():\n",
    "    bar = 2  #local\n",
    "    print(foo) # prints variable foo from global scope\n",
    "    print(bar) # prints variable bar from local scope\n",
    "func()"
   ]
  },
  {
   "cell_type": "code",
   "execution_count": 27,
   "id": "02cfa195-91e5-4ce7-a9cd-80057663451d",
   "metadata": {},
   "outputs": [
    {
     "name": "stdout",
     "output_type": "stream",
     "text": [
      "dict_keys(['__name__', '__doc__', '__package__', '__loader__', '__spec__', '__builtin__', '__builtins__', '_ih', '_oh', '_dh', 'In', 'Out', 'get_ipython', 'exit', 'quit', 'open', '_', '__', '___', '_i', '_ii', '_iii', '_i1', 'counter', '_1', '_i2', 'c', '_i3', '_3', '_i4', '_4', '_i5', '_5', '_i6', 'read_x', 'read_y', '_i7', 'read_x_local_fail', '_i8', 'change_local_x', '_i9', '_i10', 'change_global_x', '_i11', 'foo', '_i12', 'b', 'bar', '_i13', '_i14', '_i15', '_i16', 'A', 'a', '_i17', '_i18', '_i19', '_i20', 'x', '_i21', '_i22', '_i23', '_i24', 'Fred', '_i25', 'func', '_i26', '_i27'])\n",
      "dict_keys(['bar'])\n"
     ]
    }
   ],
   "source": [
    "foo = 1\n",
    "def func():\n",
    "    bar = 2\n",
    "    print(globals().keys()) # prints all variable names in global scope\n",
    "    print(locals().keys()) # prints all variable names in local scope\n",
    "func()"
   ]
  },
  {
   "cell_type": "code",
   "execution_count": 29,
   "id": "6d68060c-976f-4b86-bece-42d285d7fb83",
   "metadata": {},
   "outputs": [
    {
     "name": "stdout",
     "output_type": "stream",
     "text": [
      "2\n",
      "1\n",
      "2\n"
     ]
    }
   ],
   "source": [
    "# What happens with name clashes?\n",
    "foo = 1\n",
    "def func():\n",
    "    foo = 2 # creates a new variable foo in local scope, global foo in not affected\n",
    "    print(foo) # prints 2\n",
    "    # global variable foo still exists, unchanged:\n",
    "    print(globals()['foo']) # prints 1\n",
    "    print(locals()['foo']) #prints 2\n",
    "func()"
   ]
  },
  {
   "cell_type": "code",
   "execution_count": 31,
   "id": "2a14ca27-0a40-420e-a3ca-3de5dda4e5e6",
   "metadata": {},
   "outputs": [],
   "source": [
    "# To modify a global variable, use keyword global:\n",
    "foo = 1\n",
    "def func():\n",
    "    global foo\n",
    "    foo = 2 # this modifies the global foo, rather than creating a local variable"
   ]
  },
  {
   "cell_type": "code",
   "execution_count": 32,
   "id": "570e8583-a59e-4da4-8e0b-4ef8f5b8607a",
   "metadata": {},
   "outputs": [],
   "source": [
    "# The scope is defined for the whole body of the function\n",
    "foo = 1\n",
    "def func():\n",
    "    # This function has a local variable foo, because it is defined down below.\n",
    "    # So, foo is local from this point, Global foo is hidden.\n",
    "    print(foo) # raises UnboundLocalError, because local foo is not yet initialized\n",
    "    foo = 7\n",
    "    print(foo)"
   ]
  },
  {
   "cell_type": "code",
   "execution_count": 37,
   "id": "ff020df2-b98a-4b03-b755-d397d3cb650d",
   "metadata": {},
   "outputs": [
    {
     "name": "stdout",
     "output_type": "stream",
     "text": [
      "7\n",
      "1\n",
      "7\n"
     ]
    }
   ],
   "source": [
    "foo = 1\n",
    "def func():\n",
    "    #In this function, foo is a global variable from the beginning\n",
    "    foo = 7 # global foo is modified\n",
    "    print(foo) # 7\n",
    "    print(globals()['foo']) # 7\n",
    "    # this could be anywhere within the function\n",
    "    print(foo) # 7\n",
    "func()"
   ]
  },
  {
   "cell_type": "code",
   "execution_count": 38,
   "id": "f65f95d7-a8cc-46ab-9cf5-1e9b1f02ddcd",
   "metadata": {},
   "outputs": [],
   "source": [
    "# Functions within functions\n",
    "foo = 1\n",
    "def f1():\n",
    "    bar = 1\n",
    "    def f2():\n",
    "        bax = 2\n",
    "        #here, foo is a global variable, baz is a local variable\n",
    "        # bar is not in either scope\n",
    "        print(locals().keys()) #['baz']\n",
    "        print('bar' in locals()) # False\n",
    "        print('bar' in globals()) # False\n",
    "    def f3():\n",
    "        baz = 3\n",
    "        print(bar) # bar from f1 is referenced so it enters local scope of f3 (closure)\n",
    "        print(locals().keys()) # ['bar', 'baz']\n",
    "        print('bar' in locals()) # True\n",
    "        print('bar' in globals()) # False\n",
    "    def f4():\n",
    "        bar = 4 # a new local bar which hides bar from local scope of f1\n",
    "        baz = 4\n",
    "        print(bar)\n",
    "        print(locals().keys()) # ['bar', 'baz']\n",
    "        print('bar' in locals()) # True\n",
    "        print('bar' in globals()) # False"
   ]
  },
  {
   "cell_type": "code",
   "execution_count": 39,
   "id": "ec352e72-75a7-441a-a129-3f66c9695b0a",
   "metadata": {},
   "outputs": [],
   "source": [
    "# global vs nonlocal\n",
    "foo = 0 # global foo\n",
    "def f1():\n",
    "    foo = 1 # a new foo local in f1\n",
    "    def f2():\n",
    "        foo = 2 # a new foo in local in f2\n",
    "        def f4():\n",
    "            global foo\n",
    "            print(foo) # 0\n",
    "            foo = 100 # modifies global foo"
   ]
  },
  {
   "cell_type": "code",
   "execution_count": 40,
   "id": "09b4dd52-7b74-4646-bc8f-2db3136dc1b7",
   "metadata": {},
   "outputs": [],
   "source": [
    "# for Python 3.x versions\n",
    "def f1():\n",
    "    def f2():\n",
    "        foo = 2\n",
    "        def f3():\n",
    "            nonlocal foo # foo from f2, which is the nearest enclosing scope\n",
    "            print(foo) # 2\n",
    "            foo = 20 # modifies foo from f2!"
   ]
  },
  {
   "cell_type": "code",
   "execution_count": 41,
   "id": "437439ee-ba54-41c6-8507-c3c47272a735",
   "metadata": {},
   "outputs": [
    {
     "ename": "NameError",
     "evalue": "name 'iterable' is not defined",
     "output_type": "error",
     "traceback": [
      "\u001b[1;31m---------------------------------------------------------------------------\u001b[0m",
      "\u001b[1;31mNameError\u001b[0m                                 Traceback (most recent call last)",
      "Cell \u001b[1;32mIn [41], line 4\u001b[0m\n\u001b[0;32m      2\u001b[0m x \u001b[38;5;241m=\u001b[39m \u001b[38;5;241m5\u001b[39m\n\u001b[0;32m      3\u001b[0m x \u001b[38;5;241m+\u001b[39m\u001b[38;5;241m=\u001b[39m \u001b[38;5;241m7\u001b[39m\n\u001b[1;32m----> 4\u001b[0m \u001b[38;5;28;01mfor\u001b[39;00m x \u001b[38;5;129;01min\u001b[39;00m iterable: \u001b[38;5;28;01mpass\u001b[39;00m\n",
      "\u001b[1;31mNameError\u001b[0m: name 'iterable' is not defined"
     ]
    }
   ],
   "source": [
    "# Binding Occurrence\n",
    "x = 5\n",
    "x += 7\n",
    "for x in iterable: pass"
   ]
  },
  {
   "cell_type": "code",
   "execution_count": null,
   "id": "5391390d-cdc6-4b79-9c28-123525448570",
   "metadata": {},
   "outputs": [],
   "source": []
  }
 ],
 "metadata": {
  "kernelspec": {
   "display_name": "Python 3 (ipykernel)",
   "language": "python",
   "name": "python3"
  },
  "language_info": {
   "codemirror_mode": {
    "name": "ipython",
    "version": 3
   },
   "file_extension": ".py",
   "mimetype": "text/x-python",
   "name": "python",
   "nbconvert_exporter": "python",
   "pygments_lexer": "ipython3",
   "version": "3.10.7"
  }
 },
 "nbformat": 4,
 "nbformat_minor": 5
}
