{
 "cells": [
  {
   "cell_type": "markdown",
   "id": "87fbee9e",
   "metadata": {},
   "source": [
    "Sorting:"
   ]
  },
  {
   "cell_type": "code",
   "execution_count": 9,
   "id": "da95d9c9",
   "metadata": {},
   "outputs": [
    {
     "name": "stdout",
     "output_type": "stream",
     "text": [
      "[[20 40 50 80]\n",
      " [ 8 10 30 35]]\n"
     ]
    },
    {
     "data": {
      "text/plain": [
       "array([(b'abhi', 54.9), (b'bee', 55. ), (b'arjun', 87.2),\n",
       "       (b'karan', 88. ), (b'ram', 98.9)],\n",
       "      dtype=[('name', 'S10'), ('perc', '<f8')])"
      ]
     },
     "execution_count": 9,
     "metadata": {},
     "output_type": "execute_result"
    }
   ],
   "source": [
    "import numpy as np\n",
    "a = ([[50, 20, 40, 80], [30, 10, 35, 8]])\n",
    "b = np.sort(a)#qucik sort\n",
    "print(b)\n",
    "np.sort(a, axis=0)#sorting with axis\n",
    "d = np.dtype([('name', 'S10'),('perc', float)])#sorting with order\n",
    "arr = np.array([('abhi', 54.9), ('ram', 98.9), ('bee', 55),\n",
    "               ('arjun', 87.2), ('karan', 88)], dtype=d)\n",
    "np.sort(arr, order='perc')\n"
   ]
  },
  {
   "cell_type": "code",
   "execution_count": null,
   "id": "94ee6307",
   "metadata": {},
   "outputs": [],
   "source": []
  },
  {
   "cell_type": "code",
   "execution_count": 13,
   "id": "34fe82f1",
   "metadata": {},
   "outputs": [
    {
     "name": "stdout",
     "output_type": "stream",
     "text": [
      "[100  89  79  69  44  42]\n",
      "[3 0 2 5 1 4]\n",
      "['Daemon' 'Jon' 'Ameond']\n"
     ]
    }
   ],
   "source": [
    "#Argsort\n",
    "import numpy as np\n",
    "scores = np.array([89, 44, 79, 100, 42, 69])\n",
    "players = np.array(['Jon', 'Criston', 'Ameond', 'Daemon', 'Aegon', 'Tyrion'])\n",
    "print(np.sort(scores)[::-1]) #sorting high to low\n",
    "print(np.argsort(scores)[::-1]) #indices of players with sorted scores \n",
    "top_3 = players[np.argsort(scores)[::-1]][:3] #Top 3 players\n",
    "print(top_3)"
   ]
  },
  {
   "cell_type": "code",
   "execution_count": 16,
   "id": "bb25eded",
   "metadata": {},
   "outputs": [
    {
     "data": {
      "text/plain": [
       "array([1, 2, 0], dtype=int64)"
      ]
     },
     "execution_count": 16,
     "metadata": {},
     "output_type": "execute_result"
    }
   ],
   "source": [
    "#lexsort\n",
    "surnames = ('Hertz', 'Galilei', 'Hertz')\n",
    "first_names = ('Heinrich', 'Galileo', 'Gustav')\n",
    "ind = np.lexsort((first_names, surnames))\n",
    "ind\n"
   ]
  },
  {
   "cell_type": "code",
   "execution_count": 18,
   "id": "9bf0093b",
   "metadata": {},
   "outputs": [
    {
     "data": {
      "text/plain": [
       "['Galilei,Galileo', 'Hertz,Gustav', 'Hertz,Heinrich']"
      ]
     },
     "execution_count": 18,
     "metadata": {},
     "output_type": "execute_result"
    }
   ],
   "source": [
    "[surnames[i]+\",\"+first_names[i] for i in ind]"
   ]
  },
  {
   "cell_type": "code",
   "execution_count": 24,
   "id": "ff4203c5",
   "metadata": {},
   "outputs": [
    {
     "data": {
      "text/plain": [
       "array([2, 0, 4, 6, 5, 3, 1], dtype=int64)"
      ]
     },
     "execution_count": 24,
     "metadata": {},
     "output_type": "execute_result"
    }
   ],
   "source": [
    "a = [1, 5, 1, 4, 3, 4, 4]\n",
    "b = [9, 4, 0, 4, 0, 2, 1]\n",
    "ind = np.lexsort((b, a))\n",
    "ind"
   ]
  },
  {
   "cell_type": "code",
   "execution_count": 22,
   "id": "6ae86811",
   "metadata": {},
   "outputs": [
    {
     "data": {
      "text/plain": [
       "[(1, 0), (1, 9), (3, 0), (4, 1), (4, 2), (4, 4), (5, 4)]"
      ]
     },
     "execution_count": 22,
     "metadata": {},
     "output_type": "execute_result"
    }
   ],
   "source": [
    "[(a[i], b[i]) for i in ind]"
   ]
  },
  {
   "cell_type": "code",
   "execution_count": 25,
   "id": "279135f6",
   "metadata": {},
   "outputs": [
    {
     "data": {
      "text/plain": [
       "2"
      ]
     },
     "execution_count": 25,
     "metadata": {},
     "output_type": "execute_result"
    }
   ],
   "source": [
    "#searchsorted\n",
    "np.searchsorted([1, 2, 3, 4, 5, 6], 3)"
   ]
  },
  {
   "cell_type": "code",
   "execution_count": 4,
   "id": "1f6870d1",
   "metadata": {},
   "outputs": [
    {
     "data": {
      "text/plain": [
       "0"
      ]
     },
     "execution_count": 4,
     "metadata": {},
     "output_type": "execute_result"
    }
   ],
   "source": [
    "import numpy as np\n",
    "np.searchsorted([2, 3, 5, 6], 1, side='right')"
   ]
  },
  {
   "cell_type": "code",
   "execution_count": 5,
   "id": "0673d8ed",
   "metadata": {},
   "outputs": [
    {
     "data": {
      "text/plain": [
       "array([0, 5, 1, 2], dtype=int64)"
      ]
     },
     "execution_count": 5,
     "metadata": {},
     "output_type": "execute_result"
    }
   ],
   "source": [
    "np.searchsorted([1, 2, 3, 4, 5], [-10, 10, 2, 3])"
   ]
  },
  {
   "cell_type": "code",
   "execution_count": 6,
   "id": "5ef7b837",
   "metadata": {},
   "outputs": [
    {
     "data": {
      "text/plain": [
       "array([10, 20, 30, 40, 50, 60, 70, 80, 90])"
      ]
     },
     "execution_count": 6,
     "metadata": {},
     "output_type": "execute_result"
    }
   ],
   "source": [
    "# where() returns index of given value\n",
    "a = np.arange(10, 100, 10)\n",
    "a"
   ]
  },
  {
   "cell_type": "code",
   "execution_count": 7,
   "id": "df9bd73a",
   "metadata": {},
   "outputs": [
    {
     "data": {
      "text/plain": [
       "(array([2], dtype=int64),)"
      ]
     },
     "execution_count": 7,
     "metadata": {},
     "output_type": "execute_result"
    }
   ],
   "source": [
    "np.where(a==30)"
   ]
  },
  {
   "cell_type": "code",
   "execution_count": 8,
   "id": "fb0fc6be",
   "metadata": {},
   "outputs": [
    {
     "data": {
      "text/plain": [
       "(array([2, 5, 8], dtype=int64),)"
      ]
     },
     "execution_count": 8,
     "metadata": {},
     "output_type": "execute_result"
    }
   ],
   "source": [
    "np.where(a%30==0)"
   ]
  },
  {
   "cell_type": "code",
   "execution_count": 14,
   "id": "a3eab263",
   "metadata": {},
   "outputs": [
    {
     "data": {
      "text/plain": [
       "array([1, 2, 3, 4, 5, 7, 9])"
      ]
     },
     "execution_count": 14,
     "metadata": {},
     "output_type": "execute_result"
    }
   ],
   "source": [
    "# Partition function\n",
    "i = np.array([3, 2, 4, 5, 1, 7, 9])\n",
    "np.partition(i, 3)"
   ]
  },
  {
   "cell_type": "code",
   "execution_count": 18,
   "id": "6100dd95",
   "metadata": {},
   "outputs": [
    {
     "data": {
      "text/plain": [
       "array([1, 2, 3, 4, 5, 6, 7, 8])"
      ]
     },
     "execution_count": 18,
     "metadata": {},
     "output_type": "execute_result"
    }
   ],
   "source": [
    "# Concatenate\n",
    "a = np.array([1, 2, 3, 4])\n",
    "b = np.array([5, 6, 7, 8])\n",
    "np.concatenate((a, b))"
   ]
  },
  {
   "cell_type": "code",
   "execution_count": 19,
   "id": "21377a46",
   "metadata": {},
   "outputs": [
    {
     "data": {
      "text/plain": [
       "array([[1, 2],\n",
       "       [3, 4],\n",
       "       [5, 6]])"
      ]
     },
     "execution_count": 19,
     "metadata": {},
     "output_type": "execute_result"
    }
   ],
   "source": [
    "x = np.array([[1, 2], [3, 4]])\n",
    "y = np.array([[5, 6]])\n",
    "np.concatenate((x, y), axis=0)"
   ]
  },
  {
   "cell_type": "code",
   "execution_count": null,
   "id": "e2f7b760",
   "metadata": {},
   "outputs": [],
   "source": []
  }
 ],
 "metadata": {
  "kernelspec": {
   "display_name": "Python 3 (ipykernel)",
   "language": "python",
   "name": "python3"
  },
  "language_info": {
   "codemirror_mode": {
    "name": "ipython",
    "version": 3
   },
   "file_extension": ".py",
   "mimetype": "text/x-python",
   "name": "python",
   "nbconvert_exporter": "python",
   "pygments_lexer": "ipython3",
   "version": "3.10.7"
  }
 },
 "nbformat": 4,
 "nbformat_minor": 5
}
