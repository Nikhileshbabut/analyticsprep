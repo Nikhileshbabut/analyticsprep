{
 "cells": [
  {
   "cell_type": "markdown",
   "id": "a471e9f1",
   "metadata": {},
   "source": [
    "Sorting:"
   ]
  },
  {
   "cell_type": "code",
   "execution_count": 9,
   "id": "2734098c",
   "metadata": {},
   "outputs": [
    {
     "name": "stdout",
     "output_type": "stream",
     "text": [
      "[[20 40 50 80]\n",
      " [ 8 10 30 35]]\n"
     ]
    },
    {
     "data": {
      "text/plain": [
       "array([(b'abhi', 54.9), (b'bee', 55. ), (b'arjun', 87.2),\n",
       "       (b'karan', 88. ), (b'ram', 98.9)],\n",
       "      dtype=[('name', 'S10'), ('perc', '<f8')])"
      ]
     },
     "execution_count": 9,
     "metadata": {},
     "output_type": "execute_result"
    }
   ],
   "source": [
    "import numpy as np\n",
    "a = ([[50, 20, 40, 80], [30, 10, 35, 8]])\n",
    "b = np.sort(a)#qucik sort\n",
    "print(b)\n",
    "np.sort(a, axis=0)#sorting with axis\n",
    "d = np.dtype([('name', 'S10'),('perc', float)])#sorting with order\n",
    "arr = np.array([('abhi', 54.9), ('ram', 98.9), ('bee', 55),\n",
    "               ('arjun', 87.2), ('karan', 88)], dtype=d)\n",
    "np.sort(arr, order='perc')\n"
   ]
  },
  {
   "cell_type": "code",
   "execution_count": null,
   "id": "09bcce81",
   "metadata": {},
   "outputs": [],
   "source": []
  },
  {
   "cell_type": "code",
   "execution_count": 13,
   "id": "06ded2b1",
   "metadata": {},
   "outputs": [
    {
     "name": "stdout",
     "output_type": "stream",
     "text": [
      "[100  89  79  69  44  42]\n",
      "[3 0 2 5 1 4]\n",
      "['Daemon' 'Jon' 'Ameond']\n"
     ]
    }
   ],
   "source": [
    "#Argsort\n",
    "import numpy as np\n",
    "scores = np.array([89, 44, 79, 100, 42, 69])\n",
    "players = np.array(['Jon', 'Criston', 'Ameond', 'Daemon', 'Aegon', 'Tyrion'])\n",
    "print(np.sort(scores)[::-1]) #sorting high to low\n",
    "print(np.argsort(scores)[::-1]) #indices of players with sorted scores \n",
    "top_3 = players[np.argsort(scores)[::-1]][:3] #Top 3 players\n",
    "print(top_3)"
   ]
  },
  {
   "cell_type": "code",
   "execution_count": null,
   "id": "a4a47149",
   "metadata": {},
   "outputs": [],
   "source": [
    "#lexsort\n"
   ]
  }
 ],
 "metadata": {
  "kernelspec": {
   "display_name": "Python 3 (ipykernel)",
   "language": "python",
   "name": "python3"
  },
  "language_info": {
   "codemirror_mode": {
    "name": "ipython",
    "version": 3
   },
   "file_extension": ".py",
   "mimetype": "text/x-python",
   "name": "python",
   "nbconvert_exporter": "python",
   "pygments_lexer": "ipython3",
   "version": "3.10.7"
  }
 },
 "nbformat": 4,
 "nbformat_minor": 5
}
