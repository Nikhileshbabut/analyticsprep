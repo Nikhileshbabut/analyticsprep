{
 "cells": [
  {
   "cell_type": "code",
   "execution_count": 3,
   "id": "401c5618-1b51-4fda-89ee-f93aee61edc2",
   "metadata": {},
   "outputs": [
    {
     "name": "stdout",
     "output_type": "stream",
     "text": [
      "0\n",
      "1\n",
      "2\n",
      "3\n",
      "4\n",
      "Breaking from loop\n"
     ]
    }
   ],
   "source": [
    "# Example\n",
    "i = 0\n",
    "while i<7:\n",
    "    print(i)\n",
    "    if i == 4:\n",
    "        print(\"Breaking from loop\")\n",
    "        break\n",
    "    i += 1"
   ]
  },
  {
   "cell_type": "code",
   "execution_count": 4,
   "id": "b2d8d356-e604-49c0-9a9c-388cbbe3b8e2",
   "metadata": {},
   "outputs": [
    {
     "name": "stdout",
     "output_type": "stream",
     "text": [
      "0\n",
      "1\n",
      "2\n"
     ]
    }
   ],
   "source": [
    "for i in (0, 1, 2, 3, 4):\n",
    "    print(i)\n",
    "    if i == 2:\n",
    "        break"
   ]
  },
  {
   "cell_type": "code",
   "execution_count": 5,
   "id": "335cfee5-9fd1-415d-a6ce-a527779bef6f",
   "metadata": {},
   "outputs": [
    {
     "name": "stdout",
     "output_type": "stream",
     "text": [
      "0\n",
      "1\n",
      "3\n",
      "5\n"
     ]
    }
   ],
   "source": [
    "for i in (0, 1, 2, 3, 4, 5):\n",
    "    if i == 2 or i == 4:\n",
    "        continue\n",
    "    print(i)"
   ]
  },
  {
   "cell_type": "code",
   "execution_count": 6,
   "id": "e64d368c-2b3c-45d2-b363-ae4475dad6dc",
   "metadata": {},
   "outputs": [
    {
     "name": "stdout",
     "output_type": "stream",
     "text": [
      "1\n",
      "2\n",
      "3\n",
      "2\n",
      "4\n"
     ]
    },
    {
     "data": {
      "text/plain": [
       "3"
      ]
     },
     "execution_count": 6,
     "metadata": {},
     "output_type": "execute_result"
    }
   ],
   "source": [
    "def break_all():\n",
    "    for j in range(1, 5):\n",
    "        for i in range(1, 4):\n",
    "            if i*j == 6:\n",
    "                return(i)\n",
    "            print(i*j)\n",
    "break_all()"
   ]
  },
  {
   "cell_type": "code",
   "execution_count": 7,
   "id": "de212217-0545-4c06-976f-7ed0ea49d958",
   "metadata": {},
   "outputs": [
    {
     "name": "stdout",
     "output_type": "stream",
     "text": [
      "0\n",
      "1\n",
      "2\n",
      "3\n",
      "4\n"
     ]
    }
   ],
   "source": [
    "# For loops\n",
    "for i in [0, 1, 2, 3, 4]:\n",
    "    print(i)"
   ]
  },
  {
   "cell_type": "code",
   "execution_count": 8,
   "id": "f70997e6-6b23-4515-a486-8e8d09dc3770",
   "metadata": {},
   "outputs": [
    {
     "name": "stdout",
     "output_type": "stream",
     "text": [
      "0\n",
      "1\n",
      "2\n",
      "3\n",
      "4\n"
     ]
    }
   ],
   "source": [
    "# Range is a function that returns a series of numbers under an iterable form, thus it can be used in for loops:\n",
    "for i in range(5):\n",
    "    print(i)"
   ]
  },
  {
   "cell_type": "code",
   "execution_count": 9,
   "id": "6ca6d083-1522-479f-bec4-ade2afa590d8",
   "metadata": {},
   "outputs": [
    {
     "name": "stdout",
     "output_type": "stream",
     "text": [
      "one\n",
      "two\n",
      "three\n",
      "four\n"
     ]
    }
   ],
   "source": [
    "# Iterating over lists\n",
    "for x in ['one', 'two', 'three', 'four']:\n",
    "    print(x)"
   ]
  },
  {
   "cell_type": "code",
   "execution_count": 10,
   "id": "317cb9a8-7b8b-414a-af0f-edd91bd8fa17",
   "metadata": {},
   "outputs": [
    {
     "name": "stdout",
     "output_type": "stream",
     "text": [
      "1\n",
      "2\n",
      "3\n",
      "4\n",
      "5\n"
     ]
    }
   ],
   "source": [
    "for x in range(1, 6):\n",
    "    print(x)"
   ]
  },
  {
   "cell_type": "code",
   "execution_count": 11,
   "id": "f1413aae-ac67-4fd8-af78-80360e038712",
   "metadata": {},
   "outputs": [
    {
     "name": "stdout",
     "output_type": "stream",
     "text": [
      "0 :: one\n",
      "1 :: two\n",
      "2 :: three\n",
      "3 :: four\n"
     ]
    }
   ],
   "source": [
    "for index, item in enumerate(['one', 'two', 'three', 'four']):\n",
    "    print(index, '::', item)"
   ]
  },
  {
   "cell_type": "code",
   "execution_count": 15,
   "id": "78d55daa-b617-47fb-b603-37e3e86bfc3e",
   "metadata": {},
   "outputs": [
    {
     "data": {
      "text/plain": [
       "<map at 0x21832b706d0>"
      ]
     },
     "execution_count": 15,
     "metadata": {},
     "output_type": "execute_result"
    }
   ],
   "source": [
    "# using map and lambda\n",
    "x = map(lambda e : e.upper(), ['one', 'two', 'three', 'four'])\n",
    "x"
   ]
  },
  {
   "cell_type": "code",
   "execution_count": 16,
   "id": "76d18aa7-88a0-439b-8c9c-21dfbe527f50",
   "metadata": {},
   "outputs": [
    {
     "name": "stdout",
     "output_type": "stream",
     "text": [
      "0\n",
      "1\n",
      "2\n",
      "done\n",
      "0\n",
      "1\n",
      "2\n",
      "done\n"
     ]
    }
   ],
   "source": [
    "# Loops with an \"else\" clause\n",
    "for i in range(3):\n",
    "    print(i)\n",
    "else:\n",
    "    print('done')\n",
    "i = 0\n",
    "while i<3:\n",
    "    print(i)\n",
    "    i += 1\n",
    "else:\n",
    "    print('done')"
   ]
  },
  {
   "cell_type": "code",
   "execution_count": 17,
   "id": "8d601f9e-dc30-4d16-a8f0-922cd37aabef",
   "metadata": {},
   "outputs": [
    {
     "name": "stdout",
     "output_type": "stream",
     "text": [
      "0\n",
      "1\n"
     ]
    }
   ],
   "source": [
    "for i in range(2):\n",
    "    print(i)\n",
    "    if i == 1:\n",
    "        break\n",
    "else:\n",
    "    print('done')"
   ]
  },
  {
   "cell_type": "code",
   "execution_count": 18,
   "id": "9db2a419-6989-45a0-ae50-45ab9a2f2009",
   "metadata": {},
   "outputs": [
    {
     "name": "stdout",
     "output_type": "stream",
     "text": [
      "no exception\n"
     ]
    }
   ],
   "source": [
    "a = [1, 2, 3, 4]\n",
    "for i in a:\n",
    "    if type(i) is not int:\n",
    "        print(i)\n",
    "        break\n",
    "else:\n",
    "    print(\"no exception\")"
   ]
  },
  {
   "cell_type": "code",
   "execution_count": 19,
   "id": "9147fdba-4425-4bd8-b9e0-57471e3c01e8",
   "metadata": {},
   "outputs": [],
   "source": [
    "# The Pass Statement\n",
    "for x in range(10):\n",
    "    pass # we don't want to do anything, or are not ready to do anything here, so we'll pass"
   ]
  },
  {
   "cell_type": "code",
   "execution_count": 20,
   "id": "47d2428b-768b-449f-bd47-84aba1d59b55",
   "metadata": {},
   "outputs": [
    {
     "name": "stdout",
     "output_type": "stream",
     "text": [
      "a\n",
      "b\n",
      "c\n"
     ]
    }
   ],
   "source": [
    "# Iterating over dictionaries\n",
    "d = {\"a\": 1, \"b\": 2, \"c\": 3}\n",
    "for key in d:\n",
    "    print(key)"
   ]
  },
  {
   "cell_type": "code",
   "execution_count": 21,
   "id": "54a165f1-fb5f-465d-baec-436409fb3265",
   "metadata": {},
   "outputs": [
    {
     "name": "stdout",
     "output_type": "stream",
     "text": [
      "a\n",
      "b\n",
      "c\n"
     ]
    }
   ],
   "source": [
    "for key in d.keys():\n",
    "    print(key)"
   ]
  },
  {
   "cell_type": "code",
   "execution_count": 22,
   "id": "000541dd-0a7b-4571-8529-97645ceae33a",
   "metadata": {},
   "outputs": [
    {
     "name": "stdout",
     "output_type": "stream",
     "text": [
      "1\n",
      "2\n",
      "3\n"
     ]
    }
   ],
   "source": [
    "# To iterate through its values, use:\n",
    "for value in d.values():\n",
    "    print(value)"
   ]
  },
  {
   "cell_type": "code",
   "execution_count": 23,
   "id": "e942daa7-c36f-4780-a894-af519a3122a5",
   "metadata": {},
   "outputs": [
    {
     "name": "stdout",
     "output_type": "stream",
     "text": [
      "a :: 1\n",
      "b :: 2\n",
      "c :: 3\n"
     ]
    }
   ],
   "source": [
    "# To iterate through its keys and values, use:\n",
    "for key, value in d.items():\n",
    "    print(key, \"::\", value)"
   ]
  },
  {
   "cell_type": "code",
   "execution_count": 24,
   "id": "ea8a9520-35ca-4148-bc68-89abf2a14fc1",
   "metadata": {},
   "outputs": [
    {
     "name": "stdout",
     "output_type": "stream",
     "text": [
      "9\n",
      "8\n",
      "7\n",
      "6\n",
      "Done.\n"
     ]
    }
   ],
   "source": [
    "# The \"half loop\" do-while\n",
    "a = 10\n",
    "while True:\n",
    "    a = a-1\n",
    "    print(a)\n",
    "    if a<7:\n",
    "        break\n",
    "print('Done.')"
   ]
  },
  {
   "cell_type": "code",
   "execution_count": 26,
   "id": "a951e45b-19e5-4229-9cfb-796177fa2975",
   "metadata": {},
   "outputs": [],
   "source": [
    "#Looping and Unpacking\n",
    "collection = [('a', 'b', 'c'), ('x', 'y', 'z'), ('1', '2', '3')]\n",
    "for item in collection:\n",
    "    i1 = item[0]\n",
    "    i2 = item[1]\n",
    "    i3 = item[2]\n",
    "    # logic"
   ]
  },
  {
   "cell_type": "code",
   "execution_count": 28,
   "id": "ab6bdec4-3f16-4dd7-9722-26e87c7b93a9",
   "metadata": {},
   "outputs": [],
   "source": [
    "for item in collection:\n",
    "    i1, i2, i3 = item\n",
    "    #logic"
   ]
  },
  {
   "cell_type": "code",
   "execution_count": 31,
   "id": "f78bb205-b4f2-435a-9adb-90d919e4ac0b",
   "metadata": {},
   "outputs": [
    {
     "name": "stdout",
     "output_type": "stream",
     "text": [
      "a\n",
      "b\n",
      "c\n",
      "d\n",
      "e\n"
     ]
    }
   ],
   "source": [
    "# Iterating different portion of a list with different step size\n",
    "lst = ['alpha', 'bravo', 'charlie', 'delta', 'echo']\n",
    "for s in lst:\n",
    "    print(s[:1])"
   ]
  },
  {
   "cell_type": "code",
   "execution_count": 32,
   "id": "fd49a9f2-a8c8-47a6-b132-ad3450a664fe",
   "metadata": {},
   "outputs": [
    {
     "name": "stdout",
     "output_type": "stream",
     "text": [
      "alpha has an index of 0\n",
      "bravo has an index of 1\n",
      "charlie has an index of 2\n",
      "delta has an index of 3\n",
      "echo has an index of 4\n"
     ]
    }
   ],
   "source": [
    "for idx, s in enumerate(lst):\n",
    "    print(\"%s has an index of %d\" % (s, idx))"
   ]
  },
  {
   "cell_type": "code",
   "execution_count": 33,
   "id": "0770775c-fd71-4b7f-94f1-b9264dbbfc39",
   "metadata": {},
   "outputs": [
    {
     "name": "stdout",
     "output_type": "stream",
     "text": [
      "lst at 2 contains charlie\n",
      "lst at 3 contains delta\n"
     ]
    }
   ],
   "source": [
    "# Iterate over sub list\n",
    "for i in range(2, 4):\n",
    "    print(\"lst at %d contains %s\" % (i, lst[i]))"
   ]
  },
  {
   "cell_type": "code",
   "execution_count": 34,
   "id": "ab7a5941-9d2e-4254-bf69-49a6df89a29c",
   "metadata": {},
   "outputs": [
    {
     "name": "stdout",
     "output_type": "stream",
     "text": [
      "bravo\n",
      "delta\n",
      "bravo\n",
      "delta\n"
     ]
    }
   ],
   "source": [
    "# The two for loops give the same result\n",
    "for s in lst[1::2]:\n",
    "    print(s)\n",
    "for i in range(1, len(lst), 2):\n",
    "    print(lst[i])"
   ]
  },
  {
   "cell_type": "code",
   "execution_count": 35,
   "id": "9adc833c-44ab-4fb2-8d7f-6322298fc657",
   "metadata": {},
   "outputs": [
    {
     "name": "stdout",
     "output_type": "stream",
     "text": [
      "0\n",
      "1\n",
      "2\n",
      "3\n"
     ]
    }
   ],
   "source": [
    "# While loop\n",
    "i = 0\n",
    "while i<4:\n",
    "    print(i)# loop statement\n",
    "    i = i + 1\n",
    "    "
   ]
  },
  {
   "cell_type": "code",
   "execution_count": null,
   "id": "d7c51aa0-56fe-4206-8025-c04e5c2f9dda",
   "metadata": {},
   "outputs": [],
   "source": []
  }
 ],
 "metadata": {
  "kernelspec": {
   "display_name": "Python 3 (ipykernel)",
   "language": "python",
   "name": "python3"
  },
  "language_info": {
   "codemirror_mode": {
    "name": "ipython",
    "version": 3
   },
   "file_extension": ".py",
   "mimetype": "text/x-python",
   "name": "python",
   "nbconvert_exporter": "python",
   "pygments_lexer": "ipython3",
   "version": "3.10.7"
  }
 },
 "nbformat": 4,
 "nbformat_minor": 5
}
