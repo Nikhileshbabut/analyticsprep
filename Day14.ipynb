{
 "cells": [
  {
   "cell_type": "markdown",
   "id": "0bdc9d08-380b-4c14-b33f-4f2772681ff0",
   "metadata": {},
   "source": [
    "Dictionary"
   ]
  },
  {
   "cell_type": "raw",
   "id": "bb8c885c-04cc-4cc3-a116-dd24eadd94d7",
   "metadata": {},
   "source": [
    "Parameter            Details\n",
    "key                The desired key to Dictionary\n",
    "value              The value to set or return"
   ]
  },
  {
   "cell_type": "code",
   "execution_count": 1,
   "id": "a3caa9ec-035a-43e7-92d0-fd5b52ab7410",
   "metadata": {},
   "outputs": [],
   "source": [
    "d = {} #empty dict\n",
    "d = {'key': 'value'} # dict with initial values"
   ]
  },
  {
   "cell_type": "code",
   "execution_count": 2,
   "id": "3b3ca57f-e6bf-49b6-a663-830e167e75e9",
   "metadata": {},
   "outputs": [
    {
     "name": "stdout",
     "output_type": "stream",
     "text": [
      "{'key': 'value'}\n"
     ]
    }
   ],
   "source": [
    "# Unpacking\n",
    "c = {**d} # makes a shallow copy of otherdict\n",
    "print(c)"
   ]
  },
  {
   "cell_type": "code",
   "execution_count": 4,
   "id": "08c50ecb-d505-45d7-a622-7385119e5265",
   "metadata": {},
   "outputs": [
    {
     "name": "stdout",
     "output_type": "stream",
     "text": [
      "{'key': 'value', 'jay': 'first'}\n"
     ]
    }
   ],
   "source": [
    "j = {'jay': 'first'}\n",
    "v = { **d, **j} # also updates the shallow copy with the contents of another dict\n",
    "print(v)"
   ]
  },
  {
   "cell_type": "code",
   "execution_count": 6,
   "id": "79b1303e-61b5-4ee0-95ab-430c0f883137",
   "metadata": {},
   "outputs": [],
   "source": [
    "# Built-in class: dict()\n",
    "d = dict()     # empty dict\n",
    "d = dict(key='value')  # explicit keyword arguments\n",
    "d = dict([('key', 'value')]) # passing in a list of key/value pairs\n",
    "# make a shallow  copy of another dict (only possible if keys are only strings!)\n",
    "d = dict(**j)"
   ]
  },
  {
   "cell_type": "code",
   "execution_count": 9,
   "id": "9ff8a20d-bef5-4d1e-ab8b-82efed556bff",
   "metadata": {},
   "outputs": [
    {
     "name": "stdout",
     "output_type": "stream",
     "text": [
      "{'jay': 'first', 'key': 42}\n"
     ]
    }
   ],
   "source": [
    "# modifying a dict: To add items to a dict\n",
    "d['key'] = 42\n",
    "print(d)"
   ]
  },
  {
   "cell_type": "code",
   "execution_count": 10,
   "id": "67322f19-d41c-4514-9797-e389c52b3450",
   "metadata": {},
   "outputs": [
    {
     "name": "stdout",
     "output_type": "stream",
     "text": [
      "{'jay': 'first', 'key': 42, 'new_list': [1, 2, 3], 'new_dict': {'nested_dict': 1}}\n"
     ]
    }
   ],
   "source": [
    "# It is also possible to add list and dictionary as value:\n",
    "d['new_list'] = [1, 2, 3]\n",
    "d['new_dict'] = {'nested_dict': 1}\n",
    "print(d)"
   ]
  },
  {
   "cell_type": "code",
   "execution_count": 12,
   "id": "0c2078f3-fb90-4b8d-95df-4fd53c6fcfeb",
   "metadata": {},
   "outputs": [
    {
     "name": "stdout",
     "output_type": "stream",
     "text": [
      "{'jay': 'first', 'new_list': [1, 2, 3], 'new_dict': {'nested_dict': 1}}\n"
     ]
    }
   ],
   "source": [
    "# To delete an item, delete the key from the dictionary\n",
    "del d['key']\n",
    "print(d)"
   ]
  },
  {
   "cell_type": "markdown",
   "id": "4eb1dfa2-51ff-4cc1-910e-7d4e5f417ef7",
   "metadata": {},
   "source": [
    "Avoiding KeyError Exceptions"
   ]
  },
  {
   "cell_type": "code",
   "execution_count": 13,
   "id": "51108db1-53d1-412f-aaa6-8238d0b75fbc",
   "metadata": {},
   "outputs": [
    {
     "ename": "KeyError",
     "evalue": "'not there'",
     "output_type": "error",
     "traceback": [
      "\u001b[1;31m---------------------------------------------------------------------------\u001b[0m",
      "\u001b[1;31mKeyError\u001b[0m                                  Traceback (most recent call last)",
      "Cell \u001b[1;32mIn [13], line 2\u001b[0m\n\u001b[0;32m      1\u001b[0m mydict \u001b[38;5;241m=\u001b[39m {}\n\u001b[1;32m----> 2\u001b[0m \u001b[43mmydict\u001b[49m\u001b[43m[\u001b[49m\u001b[38;5;124;43m'\u001b[39;49m\u001b[38;5;124;43mnot there\u001b[39;49m\u001b[38;5;124;43m'\u001b[39;49m\u001b[43m]\u001b[49m\n",
      "\u001b[1;31mKeyError\u001b[0m: 'not there'"
     ]
    }
   ],
   "source": [
    "mydict = {}\n",
    "mydict['not there']"
   ]
  },
  {
   "cell_type": "code",
   "execution_count": 16,
   "id": "08e1486e-e710-4370-bd17-67e6f5123dcf",
   "metadata": {},
   "outputs": [
    {
     "name": "stdout",
     "output_type": "stream",
     "text": [
      "{}\n"
     ]
    }
   ],
   "source": [
    "mydict = {}\n",
    "print(mydict)"
   ]
  },
  {
   "cell_type": "code",
   "execution_count": 17,
   "id": "e1fe18a8-9eed-49a3-b9ba-61e696dd2f9a",
   "metadata": {},
   "outputs": [
    {
     "name": "stdout",
     "output_type": "stream",
     "text": [
      "bar\n"
     ]
    }
   ],
   "source": [
    "print(mydict.get(\"foo\", \"bar\"))"
   ]
  },
  {
   "cell_type": "code",
   "execution_count": 18,
   "id": "c40ac455-c30c-42c7-aabd-f4325059418f",
   "metadata": {},
   "outputs": [
    {
     "name": "stdout",
     "output_type": "stream",
     "text": [
      "{}\n"
     ]
    }
   ],
   "source": [
    "print(mydict)"
   ]
  },
  {
   "cell_type": "code",
   "execution_count": 19,
   "id": "c0197beb-41d8-47cf-ba8c-25dd9f96764a",
   "metadata": {},
   "outputs": [
    {
     "name": "stdout",
     "output_type": "stream",
     "text": [
      "bar\n"
     ]
    }
   ],
   "source": [
    "print(mydict.setdefault(\"foo\", \"bar\"))"
   ]
  },
  {
   "cell_type": "code",
   "execution_count": 20,
   "id": "aae1b6da-953c-4467-ba43-133b8dc5698b",
   "metadata": {},
   "outputs": [
    {
     "name": "stdout",
     "output_type": "stream",
     "text": [
      "{'foo': 'bar'}\n"
     ]
    }
   ],
   "source": [
    "print(mydict)"
   ]
  },
  {
   "cell_type": "code",
   "execution_count": 24,
   "id": "825c6ce0-34a3-4684-a71f-9cf1d84bf52c",
   "metadata": {},
   "outputs": [],
   "source": [
    "# An alternative way to deal with the problem is catching the exception\n",
    "try:\n",
    "    value = mydict['foo']\n",
    "except KeyError:\n",
    "    value = default_value"
   ]
  },
  {
   "cell_type": "markdown",
   "id": "355fd418-65e5-450f-bfea-17fabad5555e",
   "metadata": {},
   "source": [
    "Iterating over a Dictionary"
   ]
  },
  {
   "cell_type": "code",
   "execution_count": 25,
   "id": "5f99bb44-db6a-461f-8e30-ac45d616ab30",
   "metadata": {},
   "outputs": [
    {
     "name": "stdout",
     "output_type": "stream",
     "text": [
      "a 1\n",
      "b 2\n",
      "c 3\n"
     ]
    }
   ],
   "source": [
    "d = {'a': 1, 'b':2, 'c':3}\n",
    "for key in d:\n",
    "    print(key, d[key])"
   ]
  },
  {
   "cell_type": "code",
   "execution_count": 26,
   "id": "8ffb6247-b208-4204-89c1-30da9356feff",
   "metadata": {},
   "outputs": [
    {
     "name": "stdout",
     "output_type": "stream",
     "text": [
      "['a', 'b', 'c']\n"
     ]
    }
   ],
   "source": [
    "# In a comprehension\n",
    "print([key for key in d])"
   ]
  },
  {
   "cell_type": "code",
   "execution_count": 27,
   "id": "b7d5a1d8-3af0-40e9-bf08-9cb72d536020",
   "metadata": {},
   "outputs": [
    {
     "name": "stdout",
     "output_type": "stream",
     "text": [
      "a 1\n",
      "b 2\n",
      "c 3\n"
     ]
    }
   ],
   "source": [
    "# items() method can be used to loop over both the key and value simultaneously:\n",
    "for key, value in d.items():\n",
    "    print(key, value)"
   ]
  },
  {
   "cell_type": "markdown",
   "id": "67b8a7ec-ceab-467a-b475-b22ee9887568",
   "metadata": {},
   "source": [
    "Dictionary with default values"
   ]
  },
  {
   "cell_type": "code",
   "execution_count": 30,
   "id": "d2269a62-b39d-4902-b17d-756a2cc5de18",
   "metadata": {},
   "outputs": [
    {
     "data": {
      "text/plain": [
       "0"
      ]
     },
     "execution_count": 30,
     "metadata": {},
     "output_type": "execute_result"
    }
   ],
   "source": [
    "from collections import defaultdict\n",
    "d = defaultdict(int)\n",
    "d['key']"
   ]
  },
  {
   "cell_type": "code",
   "execution_count": 32,
   "id": "4282e266-4be7-471a-a826-c0aee773926e",
   "metadata": {},
   "outputs": [
    {
     "data": {
      "text/plain": [
       "5"
      ]
     },
     "execution_count": 32,
     "metadata": {},
     "output_type": "execute_result"
    }
   ],
   "source": [
    "d['key'] = 5\n",
    "d['key']"
   ]
  },
  {
   "cell_type": "code",
   "execution_count": 33,
   "id": "d6cdd07e-c751-494e-aa4b-7ede312d00e4",
   "metadata": {},
   "outputs": [
    {
     "data": {
      "text/plain": [
       "'empty'"
      ]
     },
     "execution_count": 33,
     "metadata": {},
     "output_type": "execute_result"
    }
   ],
   "source": [
    "d = defaultdict(lambda:'empty')\n",
    "d['key']"
   ]
  },
  {
   "cell_type": "code",
   "execution_count": 34,
   "id": "736bb3a4-aba5-434c-a102-aa56ce63ffc7",
   "metadata": {},
   "outputs": [
    {
     "data": {
      "text/plain": [
       "'full'"
      ]
     },
     "execution_count": 34,
     "metadata": {},
     "output_type": "execute_result"
    }
   ],
   "source": [
    "d['key'] = 'full'\n",
    "d['key']"
   ]
  },
  {
   "cell_type": "code",
   "execution_count": 35,
   "id": "97152d48-2056-4d3e-b689-7dbf6a2c1604",
   "metadata": {},
   "outputs": [
    {
     "data": {
      "text/plain": [
       "{'Another_key': ['This worked!']}"
      ]
     },
     "execution_count": 35,
     "metadata": {},
     "output_type": "execute_result"
    }
   ],
   "source": [
    "d = {}\n",
    "d.setdefault('Another_key', []).append(\"This worked!\")\n",
    "d"
   ]
  },
  {
   "cell_type": "markdown",
   "id": "e6ed53ff-2dd9-4852-8ff1-1d3d02182ba1",
   "metadata": {},
   "source": [
    "Merging dictionaries"
   ]
  },
  {
   "cell_type": "code",
   "execution_count": 36,
   "id": "23b9e513-8953-4914-9c58-aa34371dc8d0",
   "metadata": {},
   "outputs": [],
   "source": [
    "fish = {'name': \"Nemo\", 'hands': \"fins\", 'special': \"gills\"}\n",
    "dog = {'name': \"Clifford\", 'hands': \"paws\", 'color': \"red\"}"
   ]
  },
  {
   "cell_type": "code",
   "execution_count": 37,
   "id": "1c1f0ae5-b2aa-40df-8b8e-f5ad698ea018",
   "metadata": {},
   "outputs": [
    {
     "data": {
      "text/plain": [
       "{'name': 'Clifford', 'hands': 'paws', 'special': 'gills', 'color': 'red'}"
      ]
     },
     "execution_count": 37,
     "metadata": {},
     "output_type": "execute_result"
    }
   ],
   "source": [
    "fishdog = {**fish, **dog}\n",
    "fishdog"
   ]
  },
  {
   "cell_type": "code",
   "execution_count": 38,
   "id": "10c6b452-5a5c-4fd1-bb8b-800d77c8c4c5",
   "metadata": {},
   "outputs": [
    {
     "data": {
      "text/plain": [
       "{'name': 'Nemo', 'hands': 'fins', 'color': 'red', 'special': 'gills'}"
      ]
     },
     "execution_count": 38,
     "metadata": {},
     "output_type": "execute_result"
    }
   ],
   "source": [
    "from collections import ChainMap\n",
    "dict(ChainMap(fish, dog))"
   ]
  },
  {
   "cell_type": "code",
   "execution_count": 39,
   "id": "68ab79cb-a651-4ffc-b235-fc07db6d5fc5",
   "metadata": {},
   "outputs": [
    {
     "data": {
      "text/plain": [
       "{'name': 'Nemo', 'hands': 'fins', 'color': 'red', 'special': 'gills'}"
      ]
     },
     "execution_count": 39,
     "metadata": {},
     "output_type": "execute_result"
    }
   ],
   "source": [
    "from collections import ChainMap\n",
    "dict(ChainMap(fish, dog))"
   ]
  },
  {
   "cell_type": "code",
   "execution_count": 40,
   "id": "6b50e99b-a67a-49a8-9056-b6bea1b68663",
   "metadata": {},
   "outputs": [
    {
     "data": {
      "text/plain": [
       "{'name': 'Clifford', 'hands': 'paws', 'special': 'gills', 'color': 'red'}"
      ]
     },
     "execution_count": 40,
     "metadata": {},
     "output_type": "execute_result"
    }
   ],
   "source": [
    "from itertools import chain\n",
    "dict(chain(fish.items(), dog.items()))"
   ]
  },
  {
   "cell_type": "code",
   "execution_count": 41,
   "id": "44af4af7-96dd-4768-bc96-0c4109147c87",
   "metadata": {},
   "outputs": [
    {
     "data": {
      "text/plain": [
       "{'name': 'Clifford', 'hands': 'paws', 'special': 'gills', 'color': 'red'}"
      ]
     },
     "execution_count": 41,
     "metadata": {},
     "output_type": "execute_result"
    }
   ],
   "source": [
    "fish.update(dog)\n",
    "fish"
   ]
  },
  {
   "cell_type": "markdown",
   "id": "036cce64-2951-46ec-b90c-4217e9901c6a",
   "metadata": {},
   "source": [
    "Accessing keys and values"
   ]
  },
  {
   "cell_type": "code",
   "execution_count": 43,
   "id": "15e9b915-dedf-4216-8bd2-8db6f417fbce",
   "metadata": {},
   "outputs": [
    {
     "name": "stdout",
     "output_type": "stream",
     "text": [
      "dict_keys(['a', 'b'])\n"
     ]
    }
   ],
   "source": [
    "# to get keys\n",
    "mydict = {\n",
    "    'a': '1',\n",
    "    'b': '2'\n",
    "}\n",
    "print(mydict.keys())"
   ]
  },
  {
   "cell_type": "code",
   "execution_count": 44,
   "id": "d120eb65-4ef0-4718-a3af-71052d54a7bd",
   "metadata": {},
   "outputs": [
    {
     "name": "stdout",
     "output_type": "stream",
     "text": [
      "dict_values(['1', '2'])\n"
     ]
    }
   ],
   "source": [
    "#To get values\n",
    "print(mydict.values())"
   ]
  },
  {
   "cell_type": "code",
   "execution_count": 45,
   "id": "1ec42e5a-d863-4c5b-8c59-9bb2cf0995ea",
   "metadata": {},
   "outputs": [
    {
     "name": "stdout",
     "output_type": "stream",
     "text": [
      "dict_items([('a', '1'), ('b', '2')])\n"
     ]
    }
   ],
   "source": [
    "# To get both\n",
    "print(mydict.items())"
   ]
  },
  {
   "cell_type": "markdown",
   "id": "acb350ae-54a7-4ce3-a351-90cdf12a2cd7",
   "metadata": {},
   "source": [
    "Accessing values of a dictionary"
   ]
  },
  {
   "cell_type": "code",
   "execution_count": 46,
   "id": "240df385-f184-44c4-936a-628c49d9384c",
   "metadata": {},
   "outputs": [
    {
     "name": "stdout",
     "output_type": "stream",
     "text": [
      "1234\n"
     ]
    }
   ],
   "source": [
    "dictionary = {\"hello\": 1234, \"World\": 5678}\n",
    "print(dictionary[\"hello\"])"
   ]
  },
  {
   "cell_type": "markdown",
   "id": "73e44b37-5ea5-4958-b372-514c2313d6b8",
   "metadata": {},
   "source": [
    "Creating a dictionary"
   ]
  },
  {
   "cell_type": "code",
   "execution_count": 47,
   "id": "d36d56da-8d65-4010-816f-824f55138773",
   "metadata": {},
   "outputs": [
    {
     "name": "stdout",
     "output_type": "stream",
     "text": [
      "{'a': [1, 2, 3], 'b': ['one', 'two', 'three']}\n"
     ]
    }
   ],
   "source": [
    "# Creating and populating it with values\n",
    "stock = {'eggs':5, 'milk':2}\n",
    "# Or creating an empty dictionary\n",
    "dictionary = {}\n",
    "# And populating it after\n",
    "dictionary['eggs'] = 5\n",
    "dictionary['milk'] = 2\n",
    "# Values can also be lists\n",
    "mydict = {'a': [1, 2, 3], 'b': ['one', 'two', 'three']}\n",
    "print(mydict)"
   ]
  },
  {
   "cell_type": "code",
   "execution_count": 49,
   "id": "7a5c041b-b458-4124-8beb-2efe3349d33d",
   "metadata": {},
   "outputs": [
    {
     "name": "stdout",
     "output_type": "stream",
     "text": [
      "{'a': [1, 2, 3, 4, 4], 'b': ['one', 'two', 'three', 'four']}\n"
     ]
    }
   ],
   "source": [
    "# Use list.append() method to add new elements to the values list\n",
    "mydict['a'].append(4)\n",
    "mydict['b'].append('four')\n",
    "print(mydict)"
   ]
  },
  {
   "cell_type": "code",
   "execution_count": 51,
   "id": "bc36e923-421b-459b-a4ff-d5f76deb9f81",
   "metadata": {},
   "outputs": [
    {
     "name": "stdout",
     "output_type": "stream",
     "text": [
      "{'eggs': 5, 'milk': 2}\n"
     ]
    }
   ],
   "source": [
    "# we can also create a dictionary using a list of two-items tuples\n",
    "iterable = [('eggs', 5), ('milk', 2)]\n",
    "dictionary = dict(iterable)\n",
    "print(dictionary)"
   ]
  },
  {
   "cell_type": "code",
   "execution_count": 52,
   "id": "5c110777-fa7c-447c-abf4-1d7ee44a66cb",
   "metadata": {},
   "outputs": [],
   "source": [
    "# or using keyword argument:\n",
    "dictionary = dict(eggs=5, milk=2)"
   ]
  },
  {
   "cell_type": "markdown",
   "id": "13d2c9a6-5be4-487e-aa54-db134027a6e1",
   "metadata": {},
   "source": [
    "Creating an ordered dictionary"
   ]
  },
  {
   "cell_type": "code",
   "execution_count": 55,
   "id": "2b3628c1-9dcb-4d51-a1ce-a1fe9b9000ae",
   "metadata": {},
   "outputs": [
    {
     "name": "stdout",
     "output_type": "stream",
     "text": [
      "OrderedDict([('first', 1), ('second', 2), ('third', 3), ('last', 4)])\n"
     ]
    }
   ],
   "source": [
    "from collections import OrderedDict\n",
    "d = OrderedDict()\n",
    "d['first'] = 1\n",
    "d['second'] = 2\n",
    "d['third'] = 3\n",
    "d['last'] = 4\n",
    "print(d)"
   ]
  },
  {
   "cell_type": "code",
   "execution_count": 56,
   "id": "9cad118d-1390-49ff-addb-6754bc59b28d",
   "metadata": {},
   "outputs": [
    {
     "name": "stdout",
     "output_type": "stream",
     "text": [
      "first 1\n",
      "second 2\n",
      "third 3\n",
      "last 4\n"
     ]
    }
   ],
   "source": [
    "for key in d:\n",
    "    print(key, d[key])"
   ]
  },
  {
   "cell_type": "markdown",
   "id": "0ace94e7-4fd2-4b86-b9e0-086ee360fe14",
   "metadata": {},
   "source": [
    "Unpacking dictionaries using the **operator"
   ]
  },
  {
   "cell_type": "code",
   "execution_count": 58,
   "id": "b0e07e66-c0bd-4ec3-9c19-c847f703990c",
   "metadata": {},
   "outputs": [
    {
     "name": "stdout",
     "output_type": "stream",
     "text": [
      "This parrot wouldn't VOOM if you put four million volts through it. E's bleedin' demised !\n"
     ]
    }
   ],
   "source": [
    "def parrot(voltage, state, action):\n",
    "    print(\"This parrot wouldn't\", action, end=' ')\n",
    "    print(\"if you put\", voltage, \"volts through it.\", end=' ')\n",
    "    print(\"E's\", state, \"!\")\n",
    "d = {\"voltage\": \"four million\", \"state\": \"bleedin' demised\", \"action\": \"VOOM\"}\n",
    "parrot(**d)"
   ]
  },
  {
   "cell_type": "code",
   "execution_count": 59,
   "id": "ddbbaf90-f3e3-4c0a-ad8d-286a13ae259a",
   "metadata": {},
   "outputs": [
    {
     "data": {
      "text/plain": [
       "{'name': 'Clifford', 'hands': 'paws', 'special': 'gills', 'color': 'red'}"
      ]
     },
     "execution_count": 59,
     "metadata": {},
     "output_type": "execute_result"
    }
   ],
   "source": [
    "fish = {'name': \"Nemo\", 'hands': \"fins\", 'special': \"gills\"}\n",
    "dog = {'name': \"Clifford\", 'hands': \"paws\", 'color': \"red\"}\n",
    "fishdog = {**fish, **dog}\n",
    "fishdog"
   ]
  },
  {
   "cell_type": "markdown",
   "id": "8e335403-02d6-47c0-8385-0c18c27c2d14",
   "metadata": {},
   "source": [
    "The trailing comma"
   ]
  },
  {
   "cell_type": "markdown",
   "id": "daad950b-1fcd-462c-8032-f96ff9a911bc",
   "metadata": {},
   "source": [
    "Like lists and tuples, you can include a trailing comma in your dictionary."
   ]
  },
  {
   "cell_type": "code",
   "execution_count": 60,
   "id": "12acd5ea-0c0d-4f91-a8be-a9280e36132f",
   "metadata": {},
   "outputs": [],
   "source": [
    "role = {\"By day\": \"A typical programmer\",\n",
    "        \"By night\": \"Still a typical programmer\", }"
   ]
  },
  {
   "cell_type": "code",
   "execution_count": 61,
   "id": "13bb48d4-da2a-453b-aec1-f0b82cee981c",
   "metadata": {},
   "outputs": [
    {
     "name": "stdout",
     "output_type": "stream",
     "text": [
      "{'By day': 'A typical programmer', 'By night': 'Still a typical programmer'}\n"
     ]
    }
   ],
   "source": [
    "print(role)"
   ]
  },
  {
   "cell_type": "markdown",
   "id": "28a83428-36e0-4641-9338-8971bf668c0b",
   "metadata": {},
   "source": [
    "The dict() constructor"
   ]
  },
  {
   "cell_type": "code",
   "execution_count": 62,
   "id": "79ba14ee-20a5-4f76-a2f3-c93fbdc2c528",
   "metadata": {},
   "outputs": [
    {
     "data": {
      "text/plain": [
       "{'a': 1, 'b': 2, 'c': 3}"
      ]
     },
     "execution_count": 62,
     "metadata": {},
     "output_type": "execute_result"
    }
   ],
   "source": [
    "dict(a=1, b=2, c=3)"
   ]
  },
  {
   "cell_type": "code",
   "execution_count": 63,
   "id": "3bfc91ad-4b50-4aa2-8032-46a8af7d46a2",
   "metadata": {},
   "outputs": [
    {
     "data": {
      "text/plain": [
       "{'d': 4, 'e': 5, 'f': 6}"
      ]
     },
     "execution_count": 63,
     "metadata": {},
     "output_type": "execute_result"
    }
   ],
   "source": [
    "dict([('d', 4), ('e', 5), ('f', 6)])"
   ]
  },
  {
   "cell_type": "code",
   "execution_count": 64,
   "id": "1dad8154-9ecb-4a8c-aadc-bf6eb3677fdb",
   "metadata": {},
   "outputs": [
    {
     "data": {
      "text/plain": [
       "{'a': 1, 'b': 2, 'c': 3}"
      ]
     },
     "execution_count": 64,
     "metadata": {},
     "output_type": "execute_result"
    }
   ],
   "source": [
    "dict([('a', 1)], b=2, c=3)"
   ]
  },
  {
   "cell_type": "code",
   "execution_count": 65,
   "id": "3efbf7a9-b66f-4dd1-a94d-fa23fb22402c",
   "metadata": {},
   "outputs": [
    {
     "data": {
      "text/plain": [
       "{'a': 1, 'b': 2, 'c': 3}"
      ]
     },
     "execution_count": 65,
     "metadata": {},
     "output_type": "execute_result"
    }
   ],
   "source": [
    "dict({'a': 1, 'b': 2}, c=3)"
   ]
  },
  {
   "cell_type": "markdown",
   "id": "e424d6f6-649b-4f58-ae0a-e2a6f649ffce",
   "metadata": {},
   "source": [
    "Dictionaries Example"
   ]
  },
  {
   "cell_type": "code",
   "execution_count": 67,
   "id": "8ce0d7bc-f791-47dc-bd6e-fa8a0df30bd0",
   "metadata": {},
   "outputs": [
    {
     "name": "stdout",
     "output_type": "stream",
     "text": [
      "Little Red Corvette!\n"
     ]
    }
   ],
   "source": [
    "car = {}\n",
    "car[\"wheels\"] = 4\n",
    "car[\"color\"] = \"Red\"\n",
    "car[\"model\"] = \"Corvette\"\n",
    "print(\"Little \"+car[\"color\"] + \" \" + car[\"model\"] + \"!\")"
   ]
  },
  {
   "cell_type": "code",
   "execution_count": 68,
   "id": "74f8f8a2-a508-4211-81f8-938a7b04a89a",
   "metadata": {},
   "outputs": [],
   "source": [
    "# Dictionaries in JSON style\n",
    "car = {\"wheels\": 4, \"color\": \"Red\", \"model\": \"Corvette\"}"
   ]
  },
  {
   "cell_type": "markdown",
   "id": "dd007bd1-c925-4305-bc53-b17edaf47b21",
   "metadata": {},
   "source": [
    "All combinations of dictionary values"
   ]
  },
  {
   "cell_type": "code",
   "execution_count": 71,
   "id": "b1bd820a-ae17-4c5a-a981-302bd900b3e1",
   "metadata": {},
   "outputs": [
    {
     "name": "stdout",
     "output_type": "stream",
     "text": [
      "[{'x': 'a', 'y': 10}, {'x': 'a', 'y': 20}, {'x': 'a', 'y': 30}, {'x': 'b', 'y': 10}, {'x': 'b', 'y': 20}, {'x': 'b', 'y': 30}]\n"
     ]
    }
   ],
   "source": [
    "import itertools\n",
    "options = {\n",
    "    \"x\": [\"a\", \"b\"],\n",
    "    \"y\": [10, 20, 30]\n",
    "}\n",
    "keys = options.keys()\n",
    "values = (options[key] for key in keys)\n",
    "combinations = [dict(zip(keys, combination)) for combination in itertools.product(*values)]\n",
    "print(combinations)\n",
    "                "
   ]
  },
  {
   "cell_type": "markdown",
   "id": "083d3d1c-6e83-4ddd-a2d8-6e702d32011f",
   "metadata": {},
   "source": []
  },
  {
   "cell_type": "markdown",
   "id": "932f52d6-7359-4318-abaf-394ad055abf6",
   "metadata": {},
   "source": [
    "List"
   ]
  },
  {
   "cell_type": "markdown",
   "id": "5a4571d0-a505-40e0-8d02-7b268be692ce",
   "metadata": {},
   "source": [
    "List methods and supported operators"
   ]
  },
  {
   "cell_type": "code",
   "execution_count": 72,
   "id": "690c6932-72da-493d-b451-2fa8173efc0c",
   "metadata": {},
   "outputs": [],
   "source": [
    "a = [1, 2, 3, 4, 5]"
   ]
  },
  {
   "cell_type": "code",
   "execution_count": 74,
   "id": "03b38e69-1370-44a4-980a-8f502697b883",
   "metadata": {},
   "outputs": [
    {
     "data": {
      "text/plain": [
       "[1, 2, 3, 4, 5, 6, 6, 7, 7]"
      ]
     },
     "execution_count": 74,
     "metadata": {},
     "output_type": "execute_result"
    }
   ],
   "source": [
    "# Append values 6, 7 and 7 to the list\n",
    "a.append(6)\n",
    "a.append(7)\n",
    "a.append(7)\n",
    "a"
   ]
  },
  {
   "cell_type": "code",
   "execution_count": 77,
   "id": "945d610b-41d1-4470-8d2c-26abeb5fbd68",
   "metadata": {},
   "outputs": [
    {
     "name": "stdout",
     "output_type": "stream",
     "text": [
      "[1, 2, 3, 4, 5, 6, 6, 7, 7, [8, 9], [8, 9], [8, 9]]\n"
     ]
    }
   ],
   "source": [
    "# Append another list\n",
    "b = [8, 9]\n",
    "a.append(b)\n",
    "print(a)"
   ]
  },
  {
   "cell_type": "code",
   "execution_count": 78,
   "id": "30afccc7-a615-4693-9a3e-51bbfef726ee",
   "metadata": {},
   "outputs": [
    {
     "name": "stdout",
     "output_type": "stream",
     "text": [
      "[1, 2, 3, 4, 5, 6, 6, 7, 7, [8, 9], [8, 9], [8, 9], 'hello world']\n"
     ]
    }
   ],
   "source": [
    "my_string = \"hello world\"\n",
    "a.append(my_string)\n",
    "print(a)"
   ]
  },
  {
   "cell_type": "code",
   "execution_count": 79,
   "id": "71725b4e-baff-43c8-b0b5-7cce813bce16",
   "metadata": {},
   "outputs": [
    {
     "name": "stdout",
     "output_type": "stream",
     "text": [
      "[1, 2, 3, 4, 5, 6, 7, 7, [8, 9]]\n"
     ]
    }
   ],
   "source": [
    "# Appending a list to another list\n",
    "a = [1, 2, 3, 4, 5, 6, 7, 7]\n",
    "b = [8, 9]\n",
    "a.append(b)\n",
    "print(a)"
   ]
  },
  {
   "cell_type": "code",
   "execution_count": 80,
   "id": "3304309e-deb5-4d10-8dc6-2048b908274c",
   "metadata": {},
   "outputs": [
    {
     "data": {
      "text/plain": [
       "[8, 9]"
      ]
     },
     "execution_count": 80,
     "metadata": {},
     "output_type": "execute_result"
    }
   ],
   "source": [
    "a[8]"
   ]
  },
  {
   "cell_type": "code",
   "execution_count": 82,
   "id": "9cf26c4e-d4c7-4690-a56f-2c5d0a0155a4",
   "metadata": {},
   "outputs": [
    {
     "name": "stdout",
     "output_type": "stream",
     "text": [
      "[1, 2, 3, 4, 5, 6, 7, 7, 8, 9, 10]\n",
      "[1, 2, 3, 4, 5, 6, 7, 7, 8, 9, 10, 0, 1, 2]\n"
     ]
    }
   ],
   "source": [
    "a = [1, 2, 3, 4, 5, 6, 7, 7]\n",
    "b = [8, 9, 10]\n",
    "# Extend list by appending all elements from b\n",
    "a.extend(b)\n",
    "print(a)\n",
    "a.extend(range(3))\n",
    "print(a)"
   ]
  },
  {
   "cell_type": "code",
   "execution_count": 83,
   "id": "4d1f3c7d-769b-45c0-9f58-a0c728578177",
   "metadata": {},
   "outputs": [
    {
     "name": "stdout",
     "output_type": "stream",
     "text": [
      "[1, 2, 3, 4, 5, 6, 7, 7, 8, 9, 10]\n"
     ]
    }
   ],
   "source": [
    "a = [1, 2, 3, 4, 5, 6] + [7, 7] + b\n",
    "print(a)"
   ]
  },
  {
   "cell_type": "code",
   "execution_count": 85,
   "id": "90540862-b327-4932-a24c-24b606c26340",
   "metadata": {},
   "outputs": [
    {
     "name": "stdout",
     "output_type": "stream",
     "text": [
      "6\n"
     ]
    }
   ],
   "source": [
    "# index(value, [startIndex]) - gets the index of the first occurrence of the input value.\n",
    "print(a.index(7))"
   ]
  },
  {
   "cell_type": "code",
   "execution_count": 86,
   "id": "fcc60365-a97d-4e76-a01c-e2363eb48c47",
   "metadata": {},
   "outputs": [
    {
     "ename": "ValueError",
     "evalue": "49 is not in list",
     "output_type": "error",
     "traceback": [
      "\u001b[1;31m---------------------------------------------------------------------------\u001b[0m",
      "\u001b[1;31mValueError\u001b[0m                                Traceback (most recent call last)",
      "Cell \u001b[1;32mIn [86], line 1\u001b[0m\n\u001b[1;32m----> 1\u001b[0m \u001b[43ma\u001b[49m\u001b[38;5;241;43m.\u001b[39;49m\u001b[43mindex\u001b[49m\u001b[43m(\u001b[49m\u001b[38;5;241;43m49\u001b[39;49m\u001b[43m)\u001b[49m\n",
      "\u001b[1;31mValueError\u001b[0m: 49 is not in list"
     ]
    }
   ],
   "source": [
    "a.index(49)"
   ]
  },
  {
   "cell_type": "code",
   "execution_count": 87,
   "id": "91d9bd35-bb0e-4395-8659-f6de344c27bc",
   "metadata": {},
   "outputs": [
    {
     "data": {
      "text/plain": [
       "7"
      ]
     },
     "execution_count": 87,
     "metadata": {},
     "output_type": "execute_result"
    }
   ],
   "source": [
    "a.index(7, 7)"
   ]
  },
  {
   "cell_type": "code",
   "execution_count": 88,
   "id": "add67955-d0e5-42b5-83db-150150a94bcc",
   "metadata": {},
   "outputs": [
    {
     "ename": "ValueError",
     "evalue": "7 is not in list",
     "output_type": "error",
     "traceback": [
      "\u001b[1;31m---------------------------------------------------------------------------\u001b[0m",
      "\u001b[1;31mValueError\u001b[0m                                Traceback (most recent call last)",
      "Cell \u001b[1;32mIn [88], line 1\u001b[0m\n\u001b[1;32m----> 1\u001b[0m \u001b[43ma\u001b[49m\u001b[38;5;241;43m.\u001b[39;49m\u001b[43mindex\u001b[49m\u001b[43m(\u001b[49m\u001b[38;5;241;43m7\u001b[39;49m\u001b[43m,\u001b[49m\u001b[43m \u001b[49m\u001b[38;5;241;43m8\u001b[39;49m\u001b[43m)\u001b[49m\n",
      "\u001b[1;31mValueError\u001b[0m: 7 is not in list"
     ]
    }
   ],
   "source": [
    "a.index(7, 8)"
   ]
  },
  {
   "cell_type": "markdown",
   "id": "34d95a26-2908-4817-a82f-00d283e2c667",
   "metadata": {
    "tags": []
   },
   "source": [
    "# insert(index, value) - inserts value just before the specified index. Thus after the insertion the new element occupies position index."
   ]
  },
  {
   "cell_type": "code",
   "execution_count": 91,
   "id": "29492dd1-4a5e-42c4-a948-4aee59ff428b",
   "metadata": {},
   "outputs": [
    {
     "name": "stdout",
     "output_type": "stream",
     "text": [
      "[0, 0, 0, 1, 2, 3, 4, 5, 6, 7, 7, 8, 9, 10]\n"
     ]
    }
   ],
   "source": [
    "a.insert(0, 0) # insert 0 at position 0\n",
    "print(a)"
   ]
  },
  {
   "cell_type": "code",
   "execution_count": 92,
   "id": "73b626fa-37be-4830-a763-932298c5fc0b",
   "metadata": {},
   "outputs": [
    {
     "name": "stdout",
     "output_type": "stream",
     "text": [
      "[0, 0, 5, 0, 1, 2, 3, 4, 5, 6, 7, 7, 8, 9, 10]\n"
     ]
    }
   ],
   "source": [
    "a.insert(2, 5) # insert 5 at position 2\n",
    "print(a)"
   ]
  },
  {
   "cell_type": "markdown",
   "id": "13026230-2b4e-4259-a02c-40e4d51b5d79",
   "metadata": {},
   "source": [
    "pop([index]) - removes and returns the item at index. with no argument it removes and returns the last element of the list."
   ]
  },
  {
   "cell_type": "code",
   "execution_count": 93,
   "id": "372db330-1030-4020-811f-21f31197a083",
   "metadata": {},
   "outputs": [
    {
     "data": {
      "text/plain": [
       "5"
      ]
     },
     "execution_count": 93,
     "metadata": {},
     "output_type": "execute_result"
    }
   ],
   "source": [
    "a.pop(2)"
   ]
  },
  {
   "cell_type": "code",
   "execution_count": 95,
   "id": "7590f9b8-2ab5-4bb5-b82a-975bdd528c1b",
   "metadata": {},
   "outputs": [
    {
     "name": "stdout",
     "output_type": "stream",
     "text": [
      "[0, 0, 0, 1, 2, 3, 4, 5, 7, 7, 8, 9, 10]\n"
     ]
    }
   ],
   "source": [
    "print(a)"
   ]
  },
  {
   "cell_type": "code",
   "execution_count": 94,
   "id": "8b7bedbf-a259-4cb6-ba77-9418211c0ebf",
   "metadata": {},
   "outputs": [
    {
     "data": {
      "text/plain": [
       "6"
      ]
     },
     "execution_count": 94,
     "metadata": {},
     "output_type": "execute_result"
    }
   ],
   "source": [
    "a.pop(8)"
   ]
  },
  {
   "cell_type": "code",
   "execution_count": 96,
   "id": "61f141f5-c7f0-4c6c-8650-5911bfb03d65",
   "metadata": {},
   "outputs": [
    {
     "data": {
      "text/plain": [
       "10"
      ]
     },
     "execution_count": 96,
     "metadata": {},
     "output_type": "execute_result"
    }
   ],
   "source": [
    "# with no argument\n",
    "a.pop()"
   ]
  },
  {
   "cell_type": "code",
   "execution_count": 97,
   "id": "66d286db-7d0e-4f85-855e-42e70d02df25",
   "metadata": {},
   "outputs": [
    {
     "name": "stdout",
     "output_type": "stream",
     "text": [
      "[0, 0, 0, 1, 2, 3, 4, 5, 7, 7, 8, 9]\n"
     ]
    }
   ],
   "source": [
    "print(a)"
   ]
  },
  {
   "cell_type": "markdown",
   "id": "814b4fee-04da-469f-bea4-eddaea465c22",
   "metadata": {},
   "source": [
    "remove(value) - removes the first occurrence of the specified value. If the provided value cannot be found, a ValueError is raised."
   ]
  },
  {
   "cell_type": "code",
   "execution_count": 98,
   "id": "20cc002d-933e-45f6-8b2e-3b45afacec16",
   "metadata": {},
   "outputs": [],
   "source": [
    "a.remove(0)\n",
    "a.remove(9)"
   ]
  },
  {
   "cell_type": "code",
   "execution_count": 99,
   "id": "580a0471-81d1-4dfd-b4ff-e3d974dcc7d1",
   "metadata": {},
   "outputs": [
    {
     "name": "stdout",
     "output_type": "stream",
     "text": [
      "[0, 0, 1, 2, 3, 4, 5, 7, 7, 8]\n"
     ]
    }
   ],
   "source": [
    "print(a)"
   ]
  },
  {
   "cell_type": "code",
   "execution_count": 100,
   "id": "e29a1e2d-a390-43a3-9af1-eb962f353dd9",
   "metadata": {},
   "outputs": [
    {
     "ename": "ValueError",
     "evalue": "list.remove(x): x not in list",
     "output_type": "error",
     "traceback": [
      "\u001b[1;31m---------------------------------------------------------------------------\u001b[0m",
      "\u001b[1;31mValueError\u001b[0m                                Traceback (most recent call last)",
      "Cell \u001b[1;32mIn [100], line 1\u001b[0m\n\u001b[1;32m----> 1\u001b[0m \u001b[43ma\u001b[49m\u001b[38;5;241;43m.\u001b[39;49m\u001b[43mremove\u001b[49m\u001b[43m(\u001b[49m\u001b[38;5;241;43m10\u001b[39;49m\u001b[43m)\u001b[49m\n",
      "\u001b[1;31mValueError\u001b[0m: list.remove(x): x not in list"
     ]
    }
   ],
   "source": [
    "a.remove(10)"
   ]
  },
  {
   "cell_type": "code",
   "execution_count": 109,
   "id": "7a7c39de-463e-4d1f-8ae2-85e373af3e4b",
   "metadata": {},
   "outputs": [
    {
     "name": "stdout",
     "output_type": "stream",
     "text": [
      "None\n"
     ]
    },
    {
     "data": {
      "text/plain": [
       "[8, 7, 7, 5, 4, 3, 2, 1, 0, 0]"
      ]
     },
     "execution_count": 109,
     "metadata": {},
     "output_type": "execute_result"
    }
   ],
   "source": [
    "# reverse(value) - reverses the list in-place and returns None.\n",
    "print(a.reverse())\n",
    "a"
   ]
  },
  {
   "cell_type": "code",
   "execution_count": 106,
   "id": "e7fbe703-4e17-4eb2-8ece-7fc4c43d7c11",
   "metadata": {},
   "outputs": [
    {
     "data": {
      "text/plain": [
       "2"
      ]
     },
     "execution_count": 106,
     "metadata": {},
     "output_type": "execute_result"
    }
   ],
   "source": [
    "# count(value) - counts the number of occurrences of some value in the list.\n",
    "a.count(7)"
   ]
  },
  {
   "cell_type": "code",
   "execution_count": 108,
   "id": "29960674-7c30-458a-9bee-d838f5c59093",
   "metadata": {},
   "outputs": [
    {
     "data": {
      "text/plain": [
       "[0, 0, 1, 2, 3, 4, 5, 7, 7, 8]"
      ]
     },
     "execution_count": 108,
     "metadata": {},
     "output_type": "execute_result"
    }
   ],
   "source": [
    "#sort() - sorts the list in numerical and lexicographical order and returns None.\n",
    "a.sort()\n",
    "a"
   ]
  },
  {
   "cell_type": "code",
   "execution_count": 111,
   "id": "9d4c7958-7cfe-4db2-b372-b55eb1a1b1d8",
   "metadata": {},
   "outputs": [
    {
     "data": {
      "text/plain": [
       "[8, 7, 7, 5, 4, 3, 2, 1, 0, 0]"
      ]
     },
     "execution_count": 111,
     "metadata": {},
     "output_type": "execute_result"
    }
   ],
   "source": [
    "a.sort(reverse=True) # sorted in reverse order\n",
    "a"
   ]
  },
  {
   "cell_type": "code",
   "execution_count": 114,
   "id": "a205604a-354c-4d34-8d6c-becae4896bc5",
   "metadata": {},
   "outputs": [
    {
     "data": {
      "text/plain": [
       "[Chuck Norris, John Cena, Jon Skeet]"
      ]
     },
     "execution_count": 114,
     "metadata": {},
     "output_type": "execute_result"
    }
   ],
   "source": [
    "# Example\n",
    "import datetime\n",
    "class Person(object):\n",
    "    def __init__(self, name, birthday, height):\n",
    "        self.name = name\n",
    "        self.birthday = birthday\n",
    "        self.height = height\n",
    "    def __repr__(self):\n",
    "        return self.name\n",
    "l = [Person(\"John Cena\", datetime.date(1992, 9, 12), 175),\n",
    "     Person(\"Chuck Norris\", datetime.date(1990, 8, 28), 180),\n",
    "     Person(\"Jon Skeet\", datetime.date(1991, 7, 6), 185)]\n",
    "l.sort(key=lambda item: item.name)\n",
    "l"
   ]
  },
  {
   "cell_type": "code",
   "execution_count": 115,
   "id": "ea1f131a-c05e-487a-ad44-8a3239695444",
   "metadata": {},
   "outputs": [
    {
     "data": {
      "text/plain": [
       "[Chuck Norris, Jon Skeet, John Cena]"
      ]
     },
     "execution_count": 115,
     "metadata": {},
     "output_type": "execute_result"
    }
   ],
   "source": [
    "l.sort(key=lambda item: item.birthday)\n",
    "l"
   ]
  },
  {
   "cell_type": "code",
   "execution_count": 116,
   "id": "aa25a34e-f3ec-460d-ba27-db1a8fcfa0e3",
   "metadata": {},
   "outputs": [
    {
     "data": {
      "text/plain": [
       "[John Cena, Chuck Norris, Jon Skeet]"
      ]
     },
     "execution_count": 116,
     "metadata": {},
     "output_type": "execute_result"
    }
   ],
   "source": [
    "l.sort(key=lambda item: item.height)\n",
    "l"
   ]
  },
  {
   "cell_type": "code",
   "execution_count": 122,
   "id": "ed94c0f2-c5ac-45ae-a9ef-0baefcf7d0c4",
   "metadata": {},
   "outputs": [
    {
     "data": {
      "text/plain": [
       "[{'name': 'Chuck Norris',\n",
       "  'birthday': datetime.date(1990, 8, 28),\n",
       "  'height': 180,\n",
       "  'weight': 90},\n",
       " {'name': 'John Cena',\n",
       "  'birthday': datetime.date(1992, 9, 12),\n",
       "  'height': 175,\n",
       "  'weight': 100},\n",
       " {'name': 'Jon Skeet',\n",
       "  'birthday': datetime.date(1991, 7, 6),\n",
       "  'height': 185,\n",
       "  'weight': 110}]"
      ]
     },
     "execution_count": 122,
     "metadata": {},
     "output_type": "execute_result"
    }
   ],
   "source": [
    "import datetime\n",
    "l = [{'name':'John Cena', 'birthday': datetime.date(1992, 9, 12), 'height': 175, 'weight': 100},\n",
    "     {'name': 'Chuck Norris', 'birthday': datetime.date(1990, 8, 28), 'height':180, 'weight': 90},\n",
    "     {'name': 'Jon Skeet', 'birthday': datetime.date(1991, 7, 6), 'height':185, 'weight':110}]\n",
    "l.sort(key=lambda item: item['name'])\n",
    "l"
   ]
  },
  {
   "cell_type": "code",
   "execution_count": 118,
   "id": "5a1a6f82-6aac-4401-909f-0ab484bb322d",
   "metadata": {},
   "outputs": [
    {
     "data": {
      "text/plain": [
       "[{'name': 'Chuck Norris',\n",
       "  'birthday': datetime.date(1990, 8, 28),\n",
       "  'height': 180},\n",
       " {'name': 'Jon Skeet', 'birthday': datetime.date(1991, 7, 6), 'height': 185},\n",
       " {'name': 'John Cena', 'birthday': datetime.date(1992, 9, 12), 'height': 175}]"
      ]
     },
     "execution_count": 118,
     "metadata": {},
     "output_type": "execute_result"
    }
   ],
   "source": [
    "l.sort(key=lambda item:item['birthday'])\n",
    "l"
   ]
  },
  {
   "cell_type": "code",
   "execution_count": 121,
   "id": "336cd24b-d48f-494e-8db2-99e05758dabd",
   "metadata": {},
   "outputs": [
    {
     "data": {
      "text/plain": [
       "[{'name': 'John Cena', 'birthday': datetime.date(1992, 9, 12), 'height': 175},\n",
       " {'name': 'Chuck Norris',\n",
       "  'birthday': datetime.date(1990, 8, 28),\n",
       "  'height': 180},\n",
       " {'name': 'Jon Skeet', 'birthday': datetime.date(1991, 7, 6), 'height': 185}]"
      ]
     },
     "execution_count": 121,
     "metadata": {},
     "output_type": "execute_result"
    }
   ],
   "source": [
    "l.sort(key=lambda item: item['height'])\n",
    "l"
   ]
  },
  {
   "cell_type": "code",
   "execution_count": 124,
   "id": "cc481ffa-9c05-4c0d-a6a1-7ee457e642c2",
   "metadata": {},
   "outputs": [
    {
     "data": {
      "text/plain": [
       "[{'name': 'John Cena',\n",
       "  'birthday': datetime.date(1992, 9, 12),\n",
       "  'size': {'height': 175, 'weight': 100}},\n",
       " {'name': 'Chuck Norris',\n",
       "  'birthday': datetime.date(1990, 8, 28),\n",
       "  'size': {'height': 180, 'weight': 90}},\n",
       " {'name': 'Jon Skeet',\n",
       "  'birthday': datetime.date(1991, 7, 6),\n",
       "  'size': {'height': 185, 'weight': 110}}]"
      ]
     },
     "execution_count": 124,
     "metadata": {},
     "output_type": "execute_result"
    }
   ],
   "source": [
    "# sort by subdict\n",
    "import datetime\n",
    "l = [{'name':'John Cena', 'birthday': datetime.date(1992, 9, 12), 'size':{'height': 175, 'weight': 100}},\n",
    "     {'name': 'Chuck Norris', 'birthday': datetime.date(1990, 8, 28), 'size':{'height':180, 'weight': 90}},\n",
    "     {'name': 'Jon Skeet', 'birthday': datetime.date(1991, 7, 6), 'size':{'height':185, 'weight':110}}]\n",
    "l.sort(key=lambda item: item['size']['height'])\n",
    "l"
   ]
  },
  {
   "cell_type": "code",
   "execution_count": 126,
   "id": "60d56dff-4fa1-479f-a9f5-4086c28e21d4",
   "metadata": {},
   "outputs": [
    {
     "data": {
      "text/plain": [
       "[{'name': 'chetan', 'age': 18, 'salary': 5000},\n",
       " {'name': 'chandan', 'age': 20, 'salary': 2000},\n",
       " {'name': 'guru', 'age': 30, 'salary': 3000}]"
      ]
     },
     "execution_count": 126,
     "metadata": {},
     "output_type": "execute_result"
    }
   ],
   "source": [
    "# Better way to sort attrgetter and itemgetter\n",
    "from operator import itemgetter, attrgetter\n",
    "people = [{'name':'chandan', 'age':20, 'salary':2000},\n",
    "          {'name': 'chetan', 'age':18, 'salary':5000},\n",
    "          {'name': 'guru', 'age':30, 'salary':3000}]\n",
    "by_age = itemgetter('age')\n",
    "by_salary = itemgetter('salary')\n",
    "people.sort(key=by_age) # in-place sorting by age\n",
    "people"
   ]
  },
  {
   "cell_type": "code",
   "execution_count": 127,
   "id": "4f00c5a9-ba44-417e-831f-a878a7676802",
   "metadata": {},
   "outputs": [
    {
     "data": {
      "text/plain": [
       "[{'name': 'chandan', 'age': 20, 'salary': 2000},\n",
       " {'name': 'guru', 'age': 30, 'salary': 3000},\n",
       " {'name': 'chetan', 'age': 18, 'salary': 5000}]"
      ]
     },
     "execution_count": 127,
     "metadata": {},
     "output_type": "execute_result"
    }
   ],
   "source": [
    "people.sort(key=by_salary) # in-place sorting by salary\n",
    "people"
   ]
  },
  {
   "cell_type": "code",
   "execution_count": 128,
   "id": "9cc48166-52c7-49f5-aa23-eaa72f52dd78",
   "metadata": {},
   "outputs": [
    {
     "name": "stdout",
     "output_type": "stream",
     "text": [
      "[(5, 0), (1, 2), (3, 4)]\n"
     ]
    }
   ],
   "source": [
    "# itemgetter can also be given an index\n",
    "list_of_tuples = [(1, 2), (3, 4), (5, 0)]\n",
    "list_of_tuples.sort(key=itemgetter(1))\n",
    "print(list_of_tuples)"
   ]
  },
  {
   "cell_type": "code",
   "execution_count": 134,
   "id": "bc8c7535-9516-47a6-a799-e9aabe969214",
   "metadata": {},
   "outputs": [
    {
     "data": {
      "text/plain": [
       "[Chuck Norris, John Cena, Jon Skeet]"
      ]
     },
     "execution_count": 134,
     "metadata": {},
     "output_type": "execute_result"
    }
   ],
   "source": [
    "# attrgetter if you want to sort by attributes of an object,\n",
    "persons = [Person(\"John Cena\", datetime.date(1992, 9, 12), 175),\n",
    "           Person(\"Chuck Norris\", datetime.date(1990, 8, 28), 180),\n",
    "           Person(\"Jon Skeet\", datetime.date(1991, 7, 6), 185)] # reusing Person class from above example\n",
    "persons.sort(key=attrgetter('name')) # sort by name\n",
    "persons"
   ]
  },
  {
   "cell_type": "code",
   "execution_count": 135,
   "id": "9b8c8209-3f86-40fa-8978-b3fd7711fc17",
   "metadata": {},
   "outputs": [
    {
     "data": {
      "text/plain": [
       "[Chuck Norris, Jon Skeet, John Cena]"
      ]
     },
     "execution_count": 135,
     "metadata": {},
     "output_type": "execute_result"
    }
   ],
   "source": [
    "by_birthday = attrgetter('birthday')\n",
    "persons.sort(key=by_birthday)\n",
    "persons"
   ]
  },
  {
   "cell_type": "code",
   "execution_count": 137,
   "id": "fa04b859-78b7-4dd1-b91c-ee84c8809946",
   "metadata": {},
   "outputs": [
    {
     "data": {
      "text/plain": [
       "[]"
      ]
     },
     "execution_count": 137,
     "metadata": {},
     "output_type": "execute_result"
    }
   ],
   "source": [
    "# clear() - removes all items from the list\n",
    "a.clear()\n",
    "a"
   ]
  },
  {
   "cell_type": "code",
   "execution_count": 138,
   "id": "4a2ac133-e37f-4257-ab96-6b0c288dcee0",
   "metadata": {},
   "outputs": [
    {
     "data": {
      "text/plain": [
       "['blah', 'blah', 'blah']"
      ]
     },
     "execution_count": 138,
     "metadata": {},
     "output_type": "execute_result"
    }
   ],
   "source": [
    "# Replication - multiplying an existing list by an integer will produce a larger list consisting of that many copies of the original.\n",
    "b = [\"blah\"] * 3\n",
    "b"
   ]
  },
  {
   "cell_type": "code",
   "execution_count": 140,
   "id": "cbe123de-f575-4e2e-9e05-733fa815da19",
   "metadata": {},
   "outputs": [
    {
     "data": {
      "text/plain": [
       "[1, 3, 5, 1, 3, 5, 1, 3, 5, 1, 3, 5, 1, 3, 5]"
      ]
     },
     "execution_count": 140,
     "metadata": {},
     "output_type": "execute_result"
    }
   ],
   "source": [
    "b = [1, 3, 5] * 5\n",
    "b"
   ]
  },
  {
   "cell_type": "code",
   "execution_count": 142,
   "id": "7a53c869-4dad-4d73-9f90-5c40d6acc87d",
   "metadata": {},
   "outputs": [
    {
     "data": {
      "text/plain": [
       "[1, 3, 5, 7, 9]"
      ]
     },
     "execution_count": 142,
     "metadata": {},
     "output_type": "execute_result"
    }
   ],
   "source": [
    "# Element deletion - it is possible to delete multiple elements in the list using the del keyword and slice notation.\n",
    "a = list(range(10))\n",
    "del a[::2]\n",
    "a"
   ]
  },
  {
   "cell_type": "code",
   "execution_count": 143,
   "id": "a7f22ed0-fcc3-4d18-ab62-55ed2bad868a",
   "metadata": {},
   "outputs": [
    {
     "data": {
      "text/plain": [
       "[1, 3, 5, 7]"
      ]
     },
     "execution_count": 143,
     "metadata": {},
     "output_type": "execute_result"
    }
   ],
   "source": [
    "del a[-1]\n",
    "a"
   ]
  },
  {
   "cell_type": "code",
   "execution_count": 145,
   "id": "02e98e47-8a02-47c3-89c2-2b963f42bbfe",
   "metadata": {},
   "outputs": [
    {
     "data": {
      "text/plain": [
       "[]"
      ]
     },
     "execution_count": 145,
     "metadata": {},
     "output_type": "execute_result"
    }
   ],
   "source": [
    "del a[:]\n",
    "a"
   ]
  },
  {
   "cell_type": "code",
   "execution_count": 147,
   "id": "0fa9ab0b-62a6-4c00-906d-2ed2598e75a4",
   "metadata": {},
   "outputs": [
    {
     "data": {
      "text/plain": [
       "[6, 6]"
      ]
     },
     "execution_count": 147,
     "metadata": {},
     "output_type": "execute_result"
    }
   ],
   "source": [
    "# Copying \n",
    "b = a\n",
    "a.append(6)\n",
    "b"
   ]
  },
  {
   "cell_type": "raw",
   "id": "1953958f-a451-4f25-8b3e-6e4357e85128",
   "metadata": {},
   "source": [
    "import copy\n",
    "new_list = copy.copy(old_list) # inserts references to the objects found in the original."
   ]
  },
  {
   "cell_type": "code",
   "execution_count": 148,
   "id": "6ed8c181-fbb1-49a1-b310-070121d10658",
   "metadata": {},
   "outputs": [
    {
     "data": {
      "text/plain": [
       "[6, 6]"
      ]
     },
     "execution_count": 148,
     "metadata": {},
     "output_type": "execute_result"
    }
   ],
   "source": [
    "aa = a.copy()\n",
    "aa"
   ]
  },
  {
   "cell_type": "markdown",
   "id": "93dd0d5c-f324-42b9-b497-06b5354334e5",
   "metadata": {},
   "source": [
    "Accessing list values"
   ]
  },
  {
   "cell_type": "code",
   "execution_count": 149,
   "id": "afd2ca43-5b66-4be6-97f9-e11b06493558",
   "metadata": {},
   "outputs": [
    {
     "data": {
      "text/plain": [
       "1"
      ]
     },
     "execution_count": 149,
     "metadata": {},
     "output_type": "execute_result"
    }
   ],
   "source": [
    "lst = [1, 2, 3, 4]\n",
    "lst[0] # 1"
   ]
  },
  {
   "cell_type": "code",
   "execution_count": 150,
   "id": "a540d09d-900f-40ce-b576-a1e8f672b89d",
   "metadata": {},
   "outputs": [
    {
     "data": {
      "text/plain": [
       "2"
      ]
     },
     "execution_count": 150,
     "metadata": {},
     "output_type": "execute_result"
    }
   ],
   "source": [
    "lst[1]"
   ]
  },
  {
   "cell_type": "code",
   "execution_count": 151,
   "id": "aa6b5bc4-b483-42eb-90aa-dbafcff1cacb",
   "metadata": {},
   "outputs": [
    {
     "ename": "IndexError",
     "evalue": "list index out of range",
     "output_type": "error",
     "traceback": [
      "\u001b[1;31m---------------------------------------------------------------------------\u001b[0m",
      "\u001b[1;31mIndexError\u001b[0m                                Traceback (most recent call last)",
      "Cell \u001b[1;32mIn [151], line 1\u001b[0m\n\u001b[1;32m----> 1\u001b[0m \u001b[43mlst\u001b[49m\u001b[43m[\u001b[49m\u001b[38;5;241;43m4\u001b[39;49m\u001b[43m]\u001b[49m\n",
      "\u001b[1;31mIndexError\u001b[0m: list index out of range"
     ]
    }
   ],
   "source": [
    "lst[4]"
   ]
  },
  {
   "cell_type": "code",
   "execution_count": 152,
   "id": "784cd743-ffe8-4b68-a7e5-d3d80040793a",
   "metadata": {},
   "outputs": [
    {
     "data": {
      "text/plain": [
       "4"
      ]
     },
     "execution_count": 152,
     "metadata": {},
     "output_type": "execute_result"
    }
   ],
   "source": [
    "lst[-1]"
   ]
  },
  {
   "cell_type": "code",
   "execution_count": 153,
   "id": "fe601bed-31d1-4cb0-a257-ddce28f80b68",
   "metadata": {},
   "outputs": [
    {
     "data": {
      "text/plain": [
       "3"
      ]
     },
     "execution_count": 153,
     "metadata": {},
     "output_type": "execute_result"
    }
   ],
   "source": [
    "lst[-2]"
   ]
  },
  {
   "cell_type": "code",
   "execution_count": 154,
   "id": "0e2ce74d-d131-4505-97cf-e20dc24130bb",
   "metadata": {},
   "outputs": [
    {
     "ename": "IndexError",
     "evalue": "list index out of range",
     "output_type": "error",
     "traceback": [
      "\u001b[1;31m---------------------------------------------------------------------------\u001b[0m",
      "\u001b[1;31mIndexError\u001b[0m                                Traceback (most recent call last)",
      "Cell \u001b[1;32mIn [154], line 1\u001b[0m\n\u001b[1;32m----> 1\u001b[0m \u001b[43mlst\u001b[49m\u001b[43m[\u001b[49m\u001b[38;5;241;43m-\u001b[39;49m\u001b[38;5;241;43m5\u001b[39;49m\u001b[43m]\u001b[49m\n",
      "\u001b[1;31mIndexError\u001b[0m: list index out of range"
     ]
    }
   ],
   "source": [
    "lst[-5]"
   ]
  },
  {
   "cell_type": "code",
   "execution_count": 155,
   "id": "056bd878-4684-48b5-846a-fc7e3e8aca97",
   "metadata": {},
   "outputs": [
    {
     "data": {
      "text/plain": [
       "4"
      ]
     },
     "execution_count": 155,
     "metadata": {},
     "output_type": "execute_result"
    }
   ],
   "source": [
    "lst[len(lst)-1]"
   ]
  },
  {
   "cell_type": "code",
   "execution_count": 156,
   "id": "d1ded9bf-c8ef-4c36-89f3-25cb4dfc1d25",
   "metadata": {},
   "outputs": [
    {
     "data": {
      "text/plain": [
       "[2, 3, 4]"
      ]
     },
     "execution_count": 156,
     "metadata": {},
     "output_type": "execute_result"
    }
   ],
   "source": [
    "lst[1:]"
   ]
  },
  {
   "cell_type": "code",
   "execution_count": 157,
   "id": "1db83df9-fa20-4ee5-bc62-973e05ba863a",
   "metadata": {},
   "outputs": [
    {
     "data": {
      "text/plain": [
       "[1, 2, 3]"
      ]
     },
     "execution_count": 157,
     "metadata": {},
     "output_type": "execute_result"
    }
   ],
   "source": [
    "lst[:3]"
   ]
  },
  {
   "cell_type": "code",
   "execution_count": 158,
   "id": "e13c124c-34ff-488e-bab2-f2fce0896b64",
   "metadata": {},
   "outputs": [
    {
     "data": {
      "text/plain": [
       "[1, 3]"
      ]
     },
     "execution_count": 158,
     "metadata": {},
     "output_type": "execute_result"
    }
   ],
   "source": [
    "lst[::2]"
   ]
  },
  {
   "cell_type": "code",
   "execution_count": 159,
   "id": "598a25d0-283d-4092-9f2b-e04d8f0ac8cd",
   "metadata": {},
   "outputs": [
    {
     "data": {
      "text/plain": [
       "[4, 3, 2, 1]"
      ]
     },
     "execution_count": 159,
     "metadata": {},
     "output_type": "execute_result"
    }
   ],
   "source": [
    "lst[::-1]"
   ]
  },
  {
   "cell_type": "code",
   "execution_count": 160,
   "id": "002ad321-8849-45b4-8c63-5cb89c44b766",
   "metadata": {},
   "outputs": [
    {
     "data": {
      "text/plain": [
       "[4, 3, 2]"
      ]
     },
     "execution_count": 160,
     "metadata": {},
     "output_type": "execute_result"
    }
   ],
   "source": [
    "lst[-1:0:-1]"
   ]
  },
  {
   "cell_type": "code",
   "execution_count": 163,
   "id": "cad878ce-2321-4ea7-9d47-c36a38cf415d",
   "metadata": {},
   "outputs": [
    {
     "data": {
      "text/plain": [
       "[]"
      ]
     },
     "execution_count": 163,
     "metadata": {},
     "output_type": "execute_result"
    }
   ],
   "source": [
    "lst[5:8] # since starting index is greater than length of 1st, returns empty list"
   ]
  },
  {
   "cell_type": "code",
   "execution_count": 164,
   "id": "9b781d46-b3b6-4798-b586-3ad28f7cb691",
   "metadata": {},
   "outputs": [
    {
     "data": {
      "text/plain": [
       "[2, 3, 4]"
      ]
     },
     "execution_count": 164,
     "metadata": {},
     "output_type": "execute_result"
    }
   ],
   "source": [
    "lst[1:10]"
   ]
  },
  {
   "cell_type": "code",
   "execution_count": 165,
   "id": "e4ddfdfd-3b10-4706-a68e-2cd195d78b24",
   "metadata": {},
   "outputs": [
    {
     "data": {
      "text/plain": [
       "[4, 3, 2, 1]"
      ]
     },
     "execution_count": 165,
     "metadata": {},
     "output_type": "execute_result"
    }
   ],
   "source": [
    "lst[::-1]"
   ]
  },
  {
   "cell_type": "code",
   "execution_count": 166,
   "id": "ffacdcfc-5848-4dde-be46-5c7dd806f352",
   "metadata": {},
   "outputs": [
    {
     "data": {
      "text/plain": [
       "[4, 3]"
      ]
     },
     "execution_count": 166,
     "metadata": {},
     "output_type": "execute_result"
    }
   ],
   "source": [
    "lst[3:1:-1]"
   ]
  },
  {
   "cell_type": "code",
   "execution_count": 169,
   "id": "60a8b058-9a57-4329-8d8d-0fc724342ea6",
   "metadata": {},
   "outputs": [
    {
     "data": {
      "text/plain": [
       "[1, 2, 3, 4]"
      ]
     },
     "execution_count": 169,
     "metadata": {},
     "output_type": "execute_result"
    }
   ],
   "source": [
    "reversed(lst)\n",
    "lst"
   ]
  },
  {
   "cell_type": "markdown",
   "id": "b44409c9-875c-41e3-b330-34b57fe97ead",
   "metadata": {},
   "source": [
    "Checking if list is empty"
   ]
  },
  {
   "cell_type": "code",
   "execution_count": 170,
   "id": "a1cd7d56-2e03-47ff-975e-c41ccff102e3",
   "metadata": {},
   "outputs": [
    {
     "name": "stdout",
     "output_type": "stream",
     "text": [
      "list is empty\n"
     ]
    }
   ],
   "source": [
    "lst = []\n",
    "if not lst:\n",
    "    print(\"list is empty\")"
   ]
  },
  {
   "cell_type": "markdown",
   "id": "ead7708f-aa1e-4ba6-9966-beeafde4c5a6",
   "metadata": {},
   "source": [
    "Iterating over a list"
   ]
  },
  {
   "cell_type": "code",
   "execution_count": 171,
   "id": "b2e0d5b6-9d77-41e1-8976-eab8a19a7188",
   "metadata": {},
   "outputs": [
    {
     "name": "stdout",
     "output_type": "stream",
     "text": [
      "foo\n",
      "bar\n",
      "baz\n"
     ]
    }
   ],
   "source": [
    "my_list = ['foo', 'bar', 'baz']\n",
    "for item in  my_list:\n",
    "    print(item)"
   ]
  },
  {
   "cell_type": "code",
   "execution_count": 172,
   "id": "aac8c1c6-b90a-4678-a263-d5b2c7830d0a",
   "metadata": {},
   "outputs": [
    {
     "name": "stdout",
     "output_type": "stream",
     "text": [
      "The item in position 0 is: foo\n",
      "The item in position 1 is: bar\n",
      "The item in position 2 is: baz\n"
     ]
    }
   ],
   "source": [
    "for (index, item) in enumerate(my_list):\n",
    "    print('The item in position {} is: {}'.format(index, item))"
   ]
  },
  {
   "cell_type": "code",
   "execution_count": 173,
   "id": "3f7f5bc9-238d-472c-9b78-5826da4ced6e",
   "metadata": {},
   "outputs": [
    {
     "name": "stdout",
     "output_type": "stream",
     "text": [
      "foo\n",
      "bar\n",
      "baz\n"
     ]
    }
   ],
   "source": [
    "for i in range(0, len(my_list)):\n",
    "    print(my_list[i])"
   ]
  },
  {
   "cell_type": "code",
   "execution_count": 174,
   "id": "ff82ce4d-07c0-4eef-8674-3e109be80b5f",
   "metadata": {},
   "outputs": [
    {
     "name": "stdout",
     "output_type": "stream",
     "text": [
      "foo\n",
      "baz\n"
     ]
    }
   ],
   "source": [
    "for item in my_list:\n",
    "    if item == 'foo':\n",
    "        del my_list[0]\n",
    "    print(item)"
   ]
  },
  {
   "cell_type": "markdown",
   "id": "3209c4b8-0dea-403f-a981-2a3d9b934f83",
   "metadata": {},
   "source": [
    "Checking whether an item is in a list"
   ]
  },
  {
   "cell_type": "code",
   "execution_count": 175,
   "id": "f6f54656-4cf3-4aa4-9d19-3d176d80d9ba",
   "metadata": {},
   "outputs": [
    {
     "data": {
      "text/plain": [
       "True"
      ]
     },
     "execution_count": 175,
     "metadata": {},
     "output_type": "execute_result"
    }
   ],
   "source": [
    "lst =  ['test', 'twest', 'tweast', 'treast']\n",
    "'test' in lst"
   ]
  },
  {
   "cell_type": "code",
   "execution_count": 176,
   "id": "157d3bf2-72bb-4f88-8651-3dd67d690ce0",
   "metadata": {},
   "outputs": [
    {
     "data": {
      "text/plain": [
       "False"
      ]
     },
     "execution_count": 176,
     "metadata": {},
     "output_type": "execute_result"
    }
   ],
   "source": [
    "'toast' in lst"
   ]
  },
  {
   "cell_type": "code",
   "execution_count": 177,
   "id": "a0df2248-a312-44e1-9546-56a1e2649ee6",
   "metadata": {},
   "outputs": [
    {
     "data": {
      "text/plain": [
       "True"
      ]
     },
     "execution_count": 177,
     "metadata": {},
     "output_type": "execute_result"
    }
   ],
   "source": [
    "slst = set(lst)\n",
    "'test' in slst"
   ]
  },
  {
   "cell_type": "markdown",
   "id": "c818d322-1990-49df-8da5-8eadd6ad55b9",
   "metadata": {},
   "source": [
    "Any and All"
   ]
  },
  {
   "cell_type": "code",
   "execution_count": 178,
   "id": "292e6cc7-b11c-44a2-931c-051f36e905d1",
   "metadata": {},
   "outputs": [
    {
     "data": {
      "text/plain": [
       "False"
      ]
     },
     "execution_count": 178,
     "metadata": {},
     "output_type": "execute_result"
    }
   ],
   "source": [
    "nums = [1, 1, 0, 1]\n",
    "all(nums)"
   ]
  },
  {
   "cell_type": "code",
   "execution_count": 179,
   "id": "59974ec7-d04d-40c3-963d-f3a134b50794",
   "metadata": {},
   "outputs": [
    {
     "data": {
      "text/plain": [
       "True"
      ]
     },
     "execution_count": 179,
     "metadata": {},
     "output_type": "execute_result"
    }
   ],
   "source": [
    "chars = ['a', 'b', 'c', 'd']\n",
    "all(chars)"
   ]
  },
  {
   "cell_type": "code",
   "execution_count": 180,
   "id": "9abb3dc6-eb2a-4879-8390-f8d5225a60fb",
   "metadata": {},
   "outputs": [
    {
     "data": {
      "text/plain": [
       "True"
      ]
     },
     "execution_count": 180,
     "metadata": {},
     "output_type": "execute_result"
    }
   ],
   "source": [
    "nums = [1, 1, 0, 1]\n",
    "any(nums)"
   ]
  },
  {
   "cell_type": "code",
   "execution_count": 181,
   "id": "06f99a2d-3bac-41ee-a95b-a29e800accd9",
   "metadata": {},
   "outputs": [
    {
     "data": {
      "text/plain": [
       "False"
      ]
     },
     "execution_count": 181,
     "metadata": {},
     "output_type": "execute_result"
    }
   ],
   "source": [
    "vals = [None, None, None, False]\n",
    "any(vals)"
   ]
  },
  {
   "cell_type": "code",
   "execution_count": 182,
   "id": "e531fdde-32c3-48e4-92de-f1d60fc96294",
   "metadata": {},
   "outputs": [
    {
     "data": {
      "text/plain": [
       "False"
      ]
     },
     "execution_count": 182,
     "metadata": {},
     "output_type": "execute_result"
    }
   ],
   "source": [
    "vals = [1, 2, 3, 4]\n",
    "any(val>12 for val in vals)"
   ]
  },
  {
   "cell_type": "code",
   "execution_count": 183,
   "id": "0dc4db66-4455-4d61-8968-bb73d3073f60",
   "metadata": {},
   "outputs": [
    {
     "data": {
      "text/plain": [
       "True"
      ]
     },
     "execution_count": 183,
     "metadata": {},
     "output_type": "execute_result"
    }
   ],
   "source": [
    "any((val*2)>6 for val in vals)"
   ]
  },
  {
   "cell_type": "markdown",
   "id": "e1baca3a-3e3c-4573-99a5-e38fdd205555",
   "metadata": {},
   "source": [
    "Reversing list elements"
   ]
  },
  {
   "cell_type": "code",
   "execution_count": 190,
   "id": "5c14cdc4-1868-4d52-ba7c-ec7a49d0879e",
   "metadata": {},
   "outputs": [
    {
     "data": {
      "text/plain": [
       "<list_reverseiterator at 0x1fd0737cc40>"
      ]
     },
     "execution_count": 190,
     "metadata": {},
     "output_type": "execute_result"
    }
   ],
   "source": [
    "numbers = [1, 2, 3, 4, 5, 6, 7, 8, 9]\n",
    "rev = reversed(numbers)\n",
    "rev"
   ]
  },
  {
   "cell_type": "code",
   "execution_count": 191,
   "id": "33913f5a-4a7d-4208-942f-5d1fab2fdf43",
   "metadata": {},
   "outputs": [
    {
     "data": {
      "text/plain": [
       "[9, 8, 7, 6, 5, 4, 3, 2, 1]"
      ]
     },
     "execution_count": 191,
     "metadata": {},
     "output_type": "execute_result"
    }
   ],
   "source": [
    "numbers[::-1]"
   ]
  },
  {
   "cell_type": "markdown",
   "id": "8b0d7e4c-2968-4c24-b050-2432ac2f9b55",
   "metadata": {},
   "source": [
    "Concatenate and Merge lists"
   ]
  },
  {
   "cell_type": "code",
   "execution_count": 194,
   "id": "b902baa2-b084-4603-a2be-47ca16bebb78",
   "metadata": {},
   "outputs": [
    {
     "data": {
      "text/plain": [
       "[1, 2, 3, 4, 5, 6, 7, 8]"
      ]
     },
     "execution_count": 194,
     "metadata": {},
     "output_type": "execute_result"
    }
   ],
   "source": [
    "# The simplest way to concatenate\n",
    "list1 = [1, 2, 3, 4]\n",
    "list2 = [5, 6, 7, 8]\n",
    "merged = list1 + list2\n",
    "merged"
   ]
  },
  {
   "cell_type": "code",
   "execution_count": 195,
   "id": "596bb6e0-6f42-4978-9b0a-50d0212cc0ef",
   "metadata": {},
   "outputs": [
    {
     "name": "stdout",
     "output_type": "stream",
     "text": [
      "a1 b1\n",
      "a2 b2\n",
      "a3 b3\n"
     ]
    }
   ],
   "source": [
    "# Zip returns a list of tuples, where the i-th tuple contains the i-th element from each of the argument sequences or iterables:\n",
    "alist = ['a1', 'a2', 'a3']\n",
    "blist = ['b1', 'b2', 'b3']\n",
    "for a, b in zip(alist, blist):\n",
    "    print(a, b)"
   ]
  },
  {
   "cell_type": "code",
   "execution_count": 196,
   "id": "48682a0c-ae9a-4720-8184-319895962955",
   "metadata": {},
   "outputs": [
    {
     "name": "stdout",
     "output_type": "stream",
     "text": [
      "Final List : [123, 'xyz', 'zara', [2009], 'abc']\n"
     ]
    }
   ],
   "source": [
    "# Insert to a specific index values\n",
    "alist = [123, 'xyz', 'zara', 'abc']\n",
    "alist.insert(3, [2009])\n",
    "print(\"Final List :\", alist)"
   ]
  },
  {
   "cell_type": "markdown",
   "id": "80eb38c7-4a22-4407-a32e-6b06c0fc3ff2",
   "metadata": {},
   "source": [
    "Length of a list"
   ]
  },
  {
   "cell_type": "code",
   "execution_count": 197,
   "id": "4330ce7b-1c51-44fb-acff-54fbc13ae95d",
   "metadata": {},
   "outputs": [
    {
     "data": {
      "text/plain": [
       "2"
      ]
     },
     "execution_count": 197,
     "metadata": {},
     "output_type": "execute_result"
    }
   ],
   "source": [
    "len(['one', 'two'])"
   ]
  },
  {
   "cell_type": "code",
   "execution_count": 198,
   "id": "02b017b5-203d-4826-8ab9-cfbf8e28f19b",
   "metadata": {},
   "outputs": [
    {
     "data": {
      "text/plain": [
       "3"
      ]
     },
     "execution_count": 198,
     "metadata": {},
     "output_type": "execute_result"
    }
   ],
   "source": [
    "len(['one', [2, 3], 'four'])"
   ]
  },
  {
   "cell_type": "markdown",
   "id": "d1d67e9d-d53c-4536-bdc3-4816bb24794a",
   "metadata": {},
   "source": [
    "Remove duplicate values in list"
   ]
  },
  {
   "cell_type": "code",
   "execution_count": 199,
   "id": "b4ce82dd-5e46-4129-a6f5-8412e4361ba5",
   "metadata": {},
   "outputs": [
    {
     "data": {
      "text/plain": [
       "['duke', 'tofp', 'edik', 'aixk']"
      ]
     },
     "execution_count": 199,
     "metadata": {},
     "output_type": "execute_result"
    }
   ],
   "source": [
    "names = [\"aixk\", \"duke\", \"edik\", \"tofp\", \"duke\"]\n",
    "list(set(names))"
   ]
  },
  {
   "cell_type": "code",
   "execution_count": 200,
   "id": "d32628f0-a072-4342-9fe3-299e3b9a160d",
   "metadata": {},
   "outputs": [
    {
     "data": {
      "text/plain": [
       "odict_keys(['aixk', 'duke', 'edik', 'tofp'])"
      ]
     },
     "execution_count": 200,
     "metadata": {},
     "output_type": "execute_result"
    }
   ],
   "source": [
    "import collections\n",
    "collections.OrderedDict.fromkeys(names).keys()"
   ]
  },
  {
   "cell_type": "markdown",
   "id": "cd5fe11c-c413-4d45-b69f-6b5c6c1fd4a6",
   "metadata": {},
   "source": [
    "Comparison of lists"
   ]
  },
  {
   "cell_type": "code",
   "execution_count": 201,
   "id": "71604505-b601-477e-9ad2-7264559424c8",
   "metadata": {},
   "outputs": [
    {
     "data": {
      "text/plain": [
       "True"
      ]
     },
     "execution_count": 201,
     "metadata": {},
     "output_type": "execute_result"
    }
   ],
   "source": [
    "[1, 10, 100] < [2, 10, 100]"
   ]
  },
  {
   "cell_type": "code",
   "execution_count": 202,
   "id": "58b6f5f8-b8a3-4b61-9bf8-64e34c526cab",
   "metadata": {},
   "outputs": [
    {
     "data": {
      "text/plain": [
       "False"
      ]
     },
     "execution_count": 202,
     "metadata": {},
     "output_type": "execute_result"
    }
   ],
   "source": [
    "[1, 10, 100] < [1, 10, 100]"
   ]
  },
  {
   "cell_type": "code",
   "execution_count": 203,
   "id": "2bf6a658-2f5a-41dd-a36e-787466b613f0",
   "metadata": {},
   "outputs": [
    {
     "data": {
      "text/plain": [
       "True"
      ]
     },
     "execution_count": 203,
     "metadata": {},
     "output_type": "execute_result"
    }
   ],
   "source": [
    "# If one of the lists is contained at the start of the other, the shorter list wins.\n",
    "[1, 10] < [1, 10, 100]"
   ]
  },
  {
   "cell_type": "markdown",
   "id": "bd19e6a3-1aee-4c93-a6b2-d2204a2897e0",
   "metadata": {},
   "source": [
    "Accessing values in nested list"
   ]
  },
  {
   "cell_type": "code",
   "execution_count": 204,
   "id": "bb292b6e-fadc-4607-a382-2ec2091c3df2",
   "metadata": {},
   "outputs": [
    {
     "name": "stdout",
     "output_type": "stream",
     "text": [
      "2\n"
     ]
    }
   ],
   "source": [
    "alist = [[[1, 2], [3, 4]], [[5, 6, 7], [8, 9, 10], [12, 13, 14]]]\n",
    "print(alist[0][0][1])"
   ]
  },
  {
   "cell_type": "code",
   "execution_count": 205,
   "id": "5e7ed426-601b-4374-8991-15b7ffa51373",
   "metadata": {},
   "outputs": [
    {
     "name": "stdout",
     "output_type": "stream",
     "text": [
      "11\n"
     ]
    }
   ],
   "source": [
    "alist[0][0].append(11)\n",
    "print(alist[0][0][2])"
   ]
  },
  {
   "cell_type": "code",
   "execution_count": 206,
   "id": "2a228469-fe15-41e0-bd17-825e52995dc7",
   "metadata": {},
   "outputs": [
    {
     "name": "stdout",
     "output_type": "stream",
     "text": [
      "[1, 2, 11]\n",
      "[3, 4]\n",
      "[5, 6, 7]\n",
      "[8, 9, 10]\n",
      "[12, 13, 14]\n"
     ]
    }
   ],
   "source": [
    "for row in alist:\n",
    "    for col in row:\n",
    "        print(col)"
   ]
  },
  {
   "cell_type": "code",
   "execution_count": 207,
   "id": "20b463bf-01ab-4dbd-9908-08f72d00264e",
   "metadata": {},
   "outputs": [
    {
     "data": {
      "text/plain": [
       "[[1, 2, 11], [3, 4], [5, 6, 7], [8, 9, 10], [12, 13, 14]]"
      ]
     },
     "execution_count": 207,
     "metadata": {},
     "output_type": "execute_result"
    }
   ],
   "source": [
    "[col for row in alist for col in row]"
   ]
  },
  {
   "cell_type": "code",
   "execution_count": 208,
   "id": "ed47efec-8b18-46a9-b54f-e5460e590103",
   "metadata": {},
   "outputs": [
    {
     "name": "stdout",
     "output_type": "stream",
     "text": [
      "[1, 2, 11]\n",
      "[3, 4]\n",
      "[5, 6, 7]\n",
      "[8, 9, 10]\n",
      "[12, 13, 14]\n"
     ]
    }
   ],
   "source": [
    "for row in range(len(alist)):\n",
    "    for col in range(len(alist[row])):\n",
    "        print(alist[row][col])"
   ]
  },
  {
   "cell_type": "code",
   "execution_count": 209,
   "id": "8184ca97-7cb8-44d7-a87f-54e82167b590",
   "metadata": {},
   "outputs": [
    {
     "name": "stdout",
     "output_type": "stream",
     "text": [
      "[[8, 9, 10], [12, 13, 14]]\n"
     ]
    }
   ],
   "source": [
    "# Using slices in nested list:\n",
    "print(alist[1][1:])"
   ]
  },
  {
   "cell_type": "code",
   "execution_count": 210,
   "id": "399ac694-448e-4300-a131-e213d06457eb",
   "metadata": {},
   "outputs": [
    {
     "name": "stdout",
     "output_type": "stream",
     "text": [
      "[[[1, 2, 11], [3, 4]], [[5, 6, 7], [8, 9, 10], [12, 13, 14]]]\n"
     ]
    }
   ],
   "source": [
    "print(alist)"
   ]
  },
  {
   "cell_type": "markdown",
   "id": "e4aa18ce-f0c8-49ba-898b-e3fb61970d46",
   "metadata": {},
   "source": [
    "Initializing a List to a Fixed Number of Elements"
   ]
  },
  {
   "cell_type": "code",
   "execution_count": 212,
   "id": "e3236ebd-0851-42ac-b047-b306d494ff18",
   "metadata": {},
   "outputs": [
    {
     "data": {
      "text/plain": [
       "[None, None, None, None, None, None, None, None, None, None]"
      ]
     },
     "execution_count": 212,
     "metadata": {},
     "output_type": "execute_result"
    }
   ],
   "source": [
    "my_list = [None] * 10\n",
    "my_list"
   ]
  },
  {
   "cell_type": "code",
   "execution_count": 213,
   "id": "e8e8a485-b1ec-4f5b-a03c-68a7f3265bc7",
   "metadata": {},
   "outputs": [
    {
     "data": {
      "text/plain": [
       "['test',\n",
       " 'test',\n",
       " 'test',\n",
       " 'test',\n",
       " 'test',\n",
       " 'test',\n",
       " 'test',\n",
       " 'test',\n",
       " 'test',\n",
       " 'test']"
      ]
     },
     "execution_count": 213,
     "metadata": {},
     "output_type": "execute_result"
    }
   ],
   "source": [
    "my_list = ['test'] * 10\n",
    "my_list"
   ]
  },
  {
   "cell_type": "code",
   "execution_count": 214,
   "id": "b6bd220d-70a7-40ef-930e-53b06f3204e0",
   "metadata": {},
   "outputs": [
    {
     "data": {
      "text/plain": [
       "[{1}, {1}, {1}, {1}, {1}, {1}, {1}, {1}, {1}, {1}]"
      ]
     },
     "execution_count": 214,
     "metadata": {},
     "output_type": "execute_result"
    }
   ],
   "source": [
    "my_list=[{1}] * 10\n",
    "my_list"
   ]
  },
  {
   "cell_type": "code",
   "execution_count": 215,
   "id": "03b02467-0cc8-486b-a931-bbcff23b2d7b",
   "metadata": {},
   "outputs": [
    {
     "name": "stdout",
     "output_type": "stream",
     "text": [
      "[{1, 2}, {1, 2}, {1, 2}, {1, 2}, {1, 2}, {1, 2}, {1, 2}, {1, 2}, {1, 2}, {1, 2}]\n"
     ]
    }
   ],
   "source": [
    "my_list[0].add(2)\n",
    "print(my_list)"
   ]
  },
  {
   "cell_type": "code",
   "execution_count": 217,
   "id": "0bac5842-a90b-4061-8f95-f14293846a22",
   "metadata": {},
   "outputs": [
    {
     "data": {
      "text/plain": [
       "[{1}, {1}, {1}, {1}, {1}, {1}, {1}, {1}, {1}, {1}]"
      ]
     },
     "execution_count": 217,
     "metadata": {},
     "output_type": "execute_result"
    }
   ],
   "source": [
    "# to initialize the list with a fixed number of different mutable object,\n",
    "my_list = [{1} for _ in range(10)]\n",
    "my_list"
   ]
  },
  {
   "cell_type": "markdown",
   "id": "4037c743-a398-4609-be5d-838bb0aa44ea",
   "metadata": {},
   "source": [
    "List comprehensions"
   ]
  },
  {
   "cell_type": "code",
   "execution_count": 219,
   "id": "6b7b848f-81c0-434d-befd-6b792d89037b",
   "metadata": {},
   "outputs": [
    {
     "data": {
      "text/plain": [
       "[1, 4, 9, 16]"
      ]
     },
     "execution_count": 219,
     "metadata": {},
     "output_type": "execute_result"
    }
   ],
   "source": [
    "# Example: To create a list of squared integers:\n",
    "squares = [x * x for x in (1, 2, 3, 4)]\n",
    "squares"
   ]
  },
  {
   "cell_type": "code",
   "execution_count": 221,
   "id": "4429f7ab-346e-4b66-a03a-d966763f4357",
   "metadata": {},
   "outputs": [
    {
     "name": "stdout",
     "output_type": "stream",
     "text": [
      "[1, 4, 9, 16]\n"
     ]
    }
   ],
   "source": [
    "squares = []\n",
    "for x in (1, 2, 3, 4):\n",
    "    squares.append(x*x)\n",
    "print(squares)"
   ]
  },
  {
   "cell_type": "markdown",
   "id": "3f9b57dd-2c2d-4c60-822a-3498db40f3af",
   "metadata": {},
   "source": [
    "The expression applied to each element can be as complex as needed:"
   ]
  },
  {
   "cell_type": "code",
   "execution_count": 222,
   "id": "b760c554-03e4-4806-8556-3569d919a9f7",
   "metadata": {},
   "outputs": [
    {
     "data": {
      "text/plain": [
       "['H', 'E', 'L', 'L', 'O', ' ', 'W', 'O', 'R', 'L', 'D']"
      ]
     },
     "execution_count": 222,
     "metadata": {},
     "output_type": "execute_result"
    }
   ],
   "source": [
    "\n",
    "[s.upper() for s in \"Hello World\"]"
   ]
  },
  {
   "cell_type": "code",
   "execution_count": 223,
   "id": "86298c01-1070-4849-ab3c-1d72494005a9",
   "metadata": {},
   "outputs": [
    {
     "data": {
      "text/plain": [
       "['these', 'words', 'mostly', 'have,commas']"
      ]
     },
     "execution_count": 223,
     "metadata": {},
     "output_type": "execute_result"
    }
   ],
   "source": [
    "[w.strip(',') for w in ['these', 'words,,', 'mostly', 'have,commas,']]"
   ]
  },
  {
   "cell_type": "code",
   "execution_count": 1,
   "id": "c8e5437a-6806-421f-b714-e8b2db1a7933",
   "metadata": {},
   "outputs": [
    {
     "data": {
      "text/plain": [
       "['aBefiltuu', 'is', 'beertt', 'ahnt', 'gluy']"
      ]
     },
     "execution_count": 1,
     "metadata": {},
     "output_type": "execute_result"
    }
   ],
   "source": [
    "# Organize letters in words more reasonably - in an alphabetical order\n",
    "sentence = 'Beautiful is better than ugly'\n",
    "[\"\".join(sorted(word, key = lambda x: x.lower())) for word in sentence.split()]"
   ]
  },
  {
   "cell_type": "code",
   "execution_count": 2,
   "id": "35f3694c-ad86-48b4-b073-1b2e5026bacf",
   "metadata": {},
   "outputs": [
    {
     "ename": "SyntaxError",
     "evalue": "invalid syntax (2552504783.py, line 4)",
     "output_type": "error",
     "traceback": [
      "\u001b[1;36m  Cell \u001b[1;32mIn [2], line 4\u001b[1;36m\u001b[0m\n\u001b[1;33m    [x for x in 'apple' if x in 'aeiou' else '*']\u001b[0m\n\u001b[1;37m                                        ^\u001b[0m\n\u001b[1;31mSyntaxError\u001b[0m\u001b[1;31m:\u001b[0m invalid syntax\n"
     ]
    }
   ],
   "source": [
    "# else: it is used in list comprehension constructs, but be careful regarding the syntax. the if/else clauses should be used before for loop, not after:\n",
    "# create a list of characters in apple, replacing non vowels with '*'\n",
    "# Ex - 'apple' --> ['a', '*', '*', '*', 'e']\n",
    "[x for x in 'apple' if x in 'aeiou' else '*']"
   ]
  },
  {
   "cell_type": "code",
   "execution_count": 3,
   "id": "5ee3d1cb-b9d7-4982-850c-7925ee3a6279",
   "metadata": {},
   "outputs": [
    {
     "data": {
      "text/plain": [
       "['a', '*', '*', '*', 'e']"
      ]
     },
     "execution_count": 3,
     "metadata": {},
     "output_type": "execute_result"
    }
   ],
   "source": [
    "# When using if/else together use them before the loop\n",
    "[x if x in 'aeiou' else '*' for x in 'apple']"
   ]
  },
  {
   "cell_type": "markdown",
   "id": "cb9d6ea3-e53c-4bad-9b2e-0ed2e604cb5b",
   "metadata": {},
   "source": [
    " Double Iteration: "
   ]
  },
  {
   "cell_type": "code",
   "execution_count": 4,
   "id": "ec3df079-470b-4c98-aff1-87d2f6f5d443",
   "metadata": {},
   "outputs": [
    {
     "ename": "SyntaxError",
     "evalue": "'yield' outside function (331417688.py, line 5)",
     "output_type": "error",
     "traceback": [
      "\u001b[1;36m  Cell \u001b[1;32mIn [4], line 5\u001b[1;36m\u001b[0m\n\u001b[1;33m    yield str(x)\u001b[0m\n\u001b[1;37m    ^\u001b[0m\n\u001b[1;31mSyntaxError\u001b[0m\u001b[1;31m:\u001b[0m 'yield' outside function\n"
     ]
    }
   ],
   "source": [
    "def foo(i):\n",
    "    return i, i + 0.5\n",
    "for i in range(3):\n",
    "    for x in foo(i):\n",
    "        yield str(x)"
   ]
  },
  {
   "cell_type": "code",
   "execution_count": 5,
   "id": "336f71de-5d8c-4e13-bbb7-25a58957df46",
   "metadata": {},
   "outputs": [
    {
     "data": {
      "text/plain": [
       "['0', '0.5', '1', '1.5', '2', '2.5']"
      ]
     },
     "execution_count": 5,
     "metadata": {},
     "output_type": "execute_result"
    }
   ],
   "source": [
    "[str(x) \n",
    " for i in range(3)\n",
    "     for x in foo(i)\n",
    "]"
   ]
  },
  {
   "cell_type": "markdown",
   "id": "b19b8c37-337e-4c55-992d-180076397e7a",
   "metadata": {},
   "source": [
    "In-place Mutation and Other side effects: Before using list comprehension, understand the difference between functions called for their side effects\n",
    "(mutating, or in-place functions) which usually return None, and functions that return an interesting value."
   ]
  },
  {
   "cell_type": "code",
   "execution_count": 6,
   "id": "e4ed1076-fb83-4736-a597-bc3dddb417f1",
   "metadata": {},
   "outputs": [
    {
     "data": {
      "text/plain": [
       "[None, None, None]"
      ]
     },
     "execution_count": 6,
     "metadata": {},
     "output_type": "execute_result"
    }
   ],
   "source": [
    "#list.sort()\n",
    "[x.sort() for x in [[2, 1], [4, 3], [0, 1]]]"
   ]
  },
  {
   "cell_type": "code",
   "execution_count": 7,
   "id": "b81c5ca9-3c39-4454-a6e0-33f56ff0ef90",
   "metadata": {},
   "outputs": [
    {
     "data": {
      "text/plain": [
       "[[1, 2], [3, 4], [0, 1]]"
      ]
     },
     "execution_count": 7,
     "metadata": {},
     "output_type": "execute_result"
    }
   ],
   "source": [
    "#sorted()\n",
    "[sorted(x) for x in [[2, 1], [4, 3], [0, 1]]]"
   ]
  },
  {
   "cell_type": "code",
   "execution_count": 8,
   "id": "72bed8db-7edf-4d4f-aebe-65f5d480bbb8",
   "metadata": {},
   "outputs": [
    {
     "name": "stdout",
     "output_type": "stream",
     "text": [
      "1\n",
      "2\n",
      "3\n"
     ]
    },
    {
     "data": {
      "text/plain": [
       "[None, None, None]"
      ]
     },
     "execution_count": 8,
     "metadata": {},
     "output_type": "execute_result"
    }
   ],
   "source": [
    "[print(x) for x in (1, 2, 3)]"
   ]
  },
  {
   "cell_type": "code",
   "execution_count": 9,
   "id": "f5280b0e-0b4b-4d98-9608-9e085e89df2a",
   "metadata": {},
   "outputs": [
    {
     "name": "stdout",
     "output_type": "stream",
     "text": [
      "1\n",
      "2\n",
      "3\n"
     ]
    }
   ],
   "source": [
    "for x in (1, 2, 3):\n",
    "    print(x)"
   ]
  },
  {
   "cell_type": "code",
   "execution_count": 10,
   "id": "73cba4d5-3099-4578-b718-e2b1b61987a2",
   "metadata": {},
   "outputs": [
    {
     "data": {
      "text/plain": [
       "[3, 2, 1, 5, 5, 4, 3, 3, 3, 1]"
      ]
     },
     "execution_count": 10,
     "metadata": {},
     "output_type": "execute_result"
    }
   ],
   "source": [
    "# Example for random value generator which is not pure, yet makes sense as the random generator is reset every time the expression is evaluted.\n",
    "from random import randrange\n",
    "[randrange(1, 7) for _ in range(10)]"
   ]
  },
  {
   "cell_type": "markdown",
   "id": "9413a339-1fdc-4420-9792-af774454e756",
   "metadata": {},
   "source": [
    "Conditional List Comprehensions"
   ]
  },
  {
   "cell_type": "raw",
   "id": "ecb9eff4-7340-4c11-ae91-f0d4e8e717f7",
   "metadata": {},
   "source": [
    "Syntax: [<expression> for <element> in <iterable> if <condition>]"
   ]
  },
  {
   "cell_type": "code",
   "execution_count": 11,
   "id": "2a6deafd-c418-4d1a-a5e2-bcc2c144bc63",
   "metadata": {},
   "outputs": [
    {
     "data": {
      "text/plain": [
       "[0, 2, 4, 6, 8]"
      ]
     },
     "execution_count": 11,
     "metadata": {},
     "output_type": "execute_result"
    }
   ],
   "source": [
    "# Example\n",
    "[x for x in range(10) if x % 2 == 0]"
   ]
  },
  {
   "cell_type": "code",
   "execution_count": 12,
   "id": "9977a7f9-8a4e-4f00-be84-aaef0ad987ea",
   "metadata": {},
   "outputs": [
    {
     "name": "stdout",
     "output_type": "stream",
     "text": [
      "[0, 2, 4, 6, 8]\n"
     ]
    }
   ],
   "source": [
    "even_numbers = []\n",
    "for x in range(10):\n",
    "    if x % 2 == 0:\n",
    "        even_numbers.append(x)\n",
    "print(even_numbers)"
   ]
  },
  {
   "cell_type": "code",
   "execution_count": 13,
   "id": "61ad0080-d26a-4be7-a184-06603bde4c2f",
   "metadata": {},
   "outputs": [
    {
     "data": {
      "text/plain": [
       "[0, None, 2, None, 4, None, 6, None, 8, None]"
      ]
     },
     "execution_count": 13,
     "metadata": {},
     "output_type": "execute_result"
    }
   ],
   "source": [
    "# Another example\n",
    "[x if x % 2 == 0 else None for x in range(10)]"
   ]
  },
  {
   "cell_type": "code",
   "execution_count": 14,
   "id": "73110f56-aab5-4c5a-a390-244c03ca059f",
   "metadata": {},
   "outputs": [
    {
     "data": {
      "text/plain": [
       "[1, -1, 5, -1, 9, -1, 13, -1, 17, -1]"
      ]
     },
     "execution_count": 14,
     "metadata": {},
     "output_type": "execute_result"
    }
   ],
   "source": [
    "# on combining it with other operators\n",
    "[2 *(x if x % 2 == 0 else -1) + 1 for x in range(10)]"
   ]
  },
  {
   "cell_type": "code",
   "execution_count": 15,
   "id": "732556c5-d6b4-4ddf-a445-460965140b71",
   "metadata": {},
   "outputs": [
    {
     "name": "stdout",
     "output_type": "stream",
     "text": [
      "[1, -1, 5, -1, 9, -1, 13, -1, 17, -1]\n"
     ]
    }
   ],
   "source": [
    "numbers = []\n",
    "for x in range(10):\n",
    "    if x % 2 == 0:\n",
    "        temp = x\n",
    "    else:\n",
    "        temp = -1\n",
    "    numbers.append(2 * temp + 1)\n",
    "print(numbers)"
   ]
  },
  {
   "cell_type": "markdown",
   "id": "f3bfc89d-7320-4f0a-a431-291929050c32",
   "metadata": {},
   "source": [
    "One can combine ternary expressions and if conditions. The ternary operator works on the filtered result"
   ]
  },
  {
   "cell_type": "code",
   "execution_count": 16,
   "id": "75f71c63-db81-4808-9d3a-d515a2d7c7c0",
   "metadata": {},
   "outputs": [
    {
     "data": {
      "text/plain": [
       "['*', '*', 4, 6, 8]"
      ]
     },
     "execution_count": 16,
     "metadata": {},
     "output_type": "execute_result"
    }
   ],
   "source": [
    "[x if x > 2 else '*' for x in range(10) if x % 2 == 0]"
   ]
  },
  {
   "cell_type": "code",
   "execution_count": 17,
   "id": "ed5cd917-76e9-49c4-9668-4f968d2d49b6",
   "metadata": {},
   "outputs": [
    {
     "data": {
      "text/plain": [
       "['*', '*', '*', '*', 4, '*', 6, '*', 8, '*']"
      ]
     },
     "execution_count": 17,
     "metadata": {},
     "output_type": "execute_result"
    }
   ],
   "source": [
    "# same couldn't have been achieved just by ternary operator only:\n",
    "[x if (x>2 and x%2==0) else '*' for x in range(10)]"
   ]
  },
  {
   "cell_type": "raw",
   "id": "1d33c012-0748-4bcf-8862-74267071bd83",
   "metadata": {},
   "source": [
    "Dictionary Comprehensions"
   ]
  },
  {
   "cell_type": "code",
   "execution_count": 22,
   "id": "0c6d7e53-954e-4435-b8ef-cfe75ec1f348",
   "metadata": {},
   "outputs": [
    {
     "data": {
      "text/plain": [
       "{1: 1, 2: 4, 3: 9, 4: 16}"
      ]
     },
     "execution_count": 22,
     "metadata": {},
     "output_type": "execute_result"
    }
   ],
   "source": [
    "dict((x, x * x) for x in (1, 2, 3, 4))"
   ]
  },
  {
   "cell_type": "code",
   "execution_count": 23,
   "id": "f0d255e6-4066-4d25-8f2d-74037887d8b0",
   "metadata": {},
   "outputs": [
    {
     "data": {
      "text/plain": [
       "{'Overflow': 8, 'Exchange': 8}"
      ]
     },
     "execution_count": 23,
     "metadata": {},
     "output_type": "execute_result"
    }
   ],
   "source": [
    "dict((name, len(name)) for name in ('Stack', 'Overflow', 'Exchange') if len(name) > 6)"
   ]
  },
  {
   "cell_type": "code",
   "execution_count": 24,
   "id": "21ed322e-cef9-4c89-952a-56e607969876",
   "metadata": {},
   "outputs": [
    {
     "name": "stdout",
     "output_type": "stream",
     "text": [
      "{'a': 1, 'b': 2, 'c': 3}\n"
     ]
    }
   ],
   "source": [
    "# Switching key and value of dictionary (invert dictionary)\n",
    "my_dict = {1: 'a', 2: 'b', 3: 'c'}\n",
    "swapped = {v: k for k, v in my_dict.items()}\n",
    "print(swapped)"
   ]
  },
  {
   "cell_type": "code",
   "execution_count": 26,
   "id": "4e00e055-0df9-4bd4-8b25-4785685010b7",
   "metadata": {},
   "outputs": [
    {
     "name": "stdout",
     "output_type": "stream",
     "text": [
      "{'a': 1, 'b': 2, 'c': 3}\n"
     ]
    }
   ],
   "source": [
    "# or\n",
    "swapped = dict(map(reversed, my_dict.items()))\n",
    "print(swapped)"
   ]
  },
  {
   "cell_type": "code",
   "execution_count": 27,
   "id": "96b07058-db7c-4018-9a82-e6ccd3a848f2",
   "metadata": {},
   "outputs": [
    {
     "data": {
      "text/plain": [
       "{'w': 1, 'x': 2, 'y': 2, 'z': 2}"
      ]
     },
     "execution_count": 27,
     "metadata": {},
     "output_type": "execute_result"
    }
   ],
   "source": [
    "# Merging Dictionaries\n",
    "dict1 = {'w': 1, 'x': 1}\n",
    "dict2 = {'x': 2, 'y': 2, 'z': 2}\n",
    "{k: v for d in [dict1, dict2] for k, v in d.items()}"
   ]
  },
  {
   "cell_type": "code",
   "execution_count": 28,
   "id": "d2f28f4e-6ec5-4508-af46-2a94cf64b203",
   "metadata": {},
   "outputs": [
    {
     "data": {
      "text/plain": [
       "{'w': 1, 'x': 2, 'y': 2, 'z': 2}"
      ]
     },
     "execution_count": 28,
     "metadata": {},
     "output_type": "execute_result"
    }
   ],
   "source": [
    "{**dict1, **dict2}"
   ]
  },
  {
   "cell_type": "markdown",
   "id": "264909ee-3ef5-41da-8809-57ebaec25f4b",
   "metadata": {},
   "source": [
    "List Comprehensions with Nested Loops"
   ]
  },
  {
   "cell_type": "code",
   "execution_count": 29,
   "id": "4759f1e2-65ea-457f-89eb-5cf2d9b03b1e",
   "metadata": {},
   "outputs": [
    {
     "name": "stdout",
     "output_type": "stream",
     "text": [
      "[1, 2, 3, 4, 5, 6]\n"
     ]
    }
   ],
   "source": [
    "# Example\n",
    "data = [[1, 2], [3, 4], [5, 6]]\n",
    "output = []\n",
    "for each_list in data:\n",
    "    for element in each_list:\n",
    "        output.append(element)\n",
    "print(output)"
   ]
  },
  {
   "cell_type": "code",
   "execution_count": 30,
   "id": "9fcb564f-eb32-45bb-be6e-41d4c41315a2",
   "metadata": {},
   "outputs": [
    {
     "name": "stdout",
     "output_type": "stream",
     "text": [
      "[1, 2, 3, 4, 5, 6]\n"
     ]
    }
   ],
   "source": [
    "data = [[1, 2], [3, 4], [5, 6]]\n",
    "output = [element for each_list in data for element in each_list]\n",
    "print(output)"
   ]
  },
  {
   "cell_type": "markdown",
   "id": "c24d209c-d529-43dc-b1b4-d91053285a87",
   "metadata": {},
   "source": [
    "Generator Expressions"
   ]
  },
  {
   "cell_type": "code",
   "execution_count": 31,
   "id": "430beb3b-1757-484b-9fe5-6dc89c153c4b",
   "metadata": {},
   "outputs": [
    {
     "data": {
      "text/plain": [
       "[0, 1, 4, 9, 16, 25, 36, 49, 64, 81]"
      ]
     },
     "execution_count": 31,
     "metadata": {},
     "output_type": "execute_result"
    }
   ],
   "source": [
    "# list comprehension\n",
    "[x**2 for x in range(10)]"
   ]
  },
  {
   "cell_type": "markdown",
   "id": "7e45df21-a601-4c9e-aed8-0b1d0bdb7477",
   "metadata": {},
   "source": [
    "Refactoring filter and map to list comprehensions"
   ]
  },
  {
   "cell_type": "markdown",
   "id": "e4e287fb-0b9e-408b-a990-4779d874c678",
   "metadata": {},
   "source": [
    "filter(P, S) is almost always written clearer as [x for x in S if P(x)], and this has the huge\n",
    "advantage that the most common usages involve predicates that are comparisons,"
   ]
  },
  {
   "cell_type": "code",
   "execution_count": 35,
   "id": "5359983e-78fa-4b61-a7a6-67a5b6b9c96c",
   "metadata": {},
   "outputs": [
    {
     "data": {
      "text/plain": [
       "[0, 2, 4, 6, 8, 10, 12, 14, 16, 18]"
      ]
     },
     "execution_count": 35,
     "metadata": {},
     "output_type": "execute_result"
    }
   ],
   "source": [
    "filter(lambda x: x % 2 == 0, range(10))  # even numbers < 10\n",
    "map(lambda x: 2*x, range(10)) # multiply each number by two\n",
    "# sum of all elements in list\n",
    "# Filter:\n",
    "# P(x) = x % 2 == 0\n",
    "# S = range(10)\n",
    "[x for x in range(10) if x % 2 == 0]\n",
    "# Map\n",
    "# F(x) = 2*x\n",
    "# S = range(10)\n",
    "[2*x for x in range(10)]"
   ]
  },
  {
   "cell_type": "markdown",
   "id": "b9759241-7163-45ab-8709-bad025814965",
   "metadata": {},
   "source": [
    "Comprehensions involving tuples"
   ]
  },
  {
   "cell_type": "code",
   "execution_count": 37,
   "id": "8b2cfb8c-f1a2-41f9-98fb-b1590f98b6d4",
   "metadata": {},
   "outputs": [
    {
     "data": {
      "text/plain": [
       "[3, 7, 11]"
      ]
     },
     "execution_count": 37,
     "metadata": {},
     "output_type": "execute_result"
    }
   ],
   "source": [
    "[x + y for x, y in [(1, 2), (3, 4), (5, 6)]]"
   ]
  },
  {
   "cell_type": "code",
   "execution_count": 38,
   "id": "71b92501-0096-4a9d-85b4-4191882db7c1",
   "metadata": {},
   "outputs": [
    {
     "data": {
      "text/plain": [
       "[3, 7, 11]"
      ]
     },
     "execution_count": 38,
     "metadata": {},
     "output_type": "execute_result"
    }
   ],
   "source": [
    "[x + y for x, y in zip([1, 3, 5], [2, 4, 6])]"
   ]
  },
  {
   "cell_type": "code",
   "execution_count": 39,
   "id": "51cc0a7a-2470-4b57-bd56-88cc3773505f",
   "metadata": {},
   "outputs": [
    {
     "name": "stdout",
     "output_type": "stream",
     "text": [
      "3\n",
      "7\n",
      "11\n"
     ]
    }
   ],
   "source": [
    "for x, y in [(1, 2), (3, 4), (5, 6)]:\n",
    "    print(x + y)"
   ]
  },
  {
   "cell_type": "code",
   "execution_count": 40,
   "id": "e9c30448-feb1-471e-90c8-5d1b0282bae2",
   "metadata": {},
   "outputs": [
    {
     "ename": "SyntaxError",
     "evalue": "did you forget parentheses around the comprehension target? (571775100.py, line 1)",
     "output_type": "error",
     "traceback": [
      "\u001b[1;36m  Cell \u001b[1;32mIn [40], line 1\u001b[1;36m\u001b[0m\n\u001b[1;33m    [x, y for x, y in [(1, 2), (3, 4), (5, 6)]]\u001b[0m\n\u001b[1;37m     ^\u001b[0m\n\u001b[1;31mSyntaxError\u001b[0m\u001b[1;31m:\u001b[0m did you forget parentheses around the comprehension target?\n"
     ]
    }
   ],
   "source": [
    "[x, y for x, y in [(1, 2), (3, 4), (5, 6)]]"
   ]
  },
  {
   "cell_type": "code",
   "execution_count": 41,
   "id": "2c980aa7-3577-4ff1-b949-731f017e9a08",
   "metadata": {},
   "outputs": [
    {
     "data": {
      "text/plain": [
       "[(1, 2), (3, 4), (5, 6)]"
      ]
     },
     "execution_count": 41,
     "metadata": {},
     "output_type": "execute_result"
    }
   ],
   "source": [
    "[(x, y) for x, y in [(1, 2), (3, 4), (5, 6)]]"
   ]
  },
  {
   "cell_type": "markdown",
   "id": "fb6751ea-0192-4b30-b2ad-4088c0a77b40",
   "metadata": {},
   "source": [
    "Counting Occurrences using Comprehension"
   ]
  },
  {
   "cell_type": "code",
   "execution_count": 42,
   "id": "4b5ac7a0-2185-4db9-b32e-5d9114d70d51",
   "metadata": {},
   "outputs": [
    {
     "name": "stdout",
     "output_type": "stream",
     "text": [
      "95\n"
     ]
    }
   ],
   "source": [
    "# Count the numbers in 'range(1000)' that are even and contain the digit '9':\n",
    "print(sum(\n",
    "    1 for x in range(1000)\n",
    "    if x % 2 == 0 and\n",
    "    '9' in str(x)\n",
    "))"
   ]
  },
  {
   "cell_type": "markdown",
   "id": "6d6128f0-8918-41c6-9346-c4c6cd765a58",
   "metadata": {},
   "source": [
    "Changing Types in a List:"
   ]
  },
  {
   "cell_type": "code",
   "execution_count": 43,
   "id": "b73d71ae-fde3-4a64-8aba-d3b07f07fc33",
   "metadata": {},
   "outputs": [
    {
     "data": {
      "text/plain": [
       "[1, 2, 3, 4]"
      ]
     },
     "execution_count": 43,
     "metadata": {},
     "output_type": "execute_result"
    }
   ],
   "source": [
    "# Convert a list of strings to integers.\n",
    "items = [\"1\", \"2\", \"3\", \"4\"]\n",
    "[int(item) for item in items]"
   ]
  },
  {
   "cell_type": "code",
   "execution_count": 44,
   "id": "a001e352-5c56-4299-b434-ff61dd3f5c25",
   "metadata": {},
   "outputs": [
    {
     "data": {
      "text/plain": [
       "<map at 0x1999f851600>"
      ]
     },
     "execution_count": 44,
     "metadata": {},
     "output_type": "execute_result"
    }
   ],
   "source": [
    "# Convert a list of strings to float\n",
    "items = [\"1\", \"2\", \"3\", \"4\"]\n",
    "map(float, items)"
   ]
  },
  {
   "cell_type": "markdown",
   "id": "ee1eb2cb-ee1f-493b-92d6-d90523e261cc",
   "metadata": {},
   "source": [
    "Nested List Comprehensions"
   ]
  },
  {
   "cell_type": "code",
   "execution_count": 46,
   "id": "789457f6-60df-4852-9227-8fb0a820df85",
   "metadata": {},
   "outputs": [
    {
     "data": {
      "text/plain": [
       "[4, 5, 6, 5, 6, 7, 6, 7, 8]"
      ]
     },
     "execution_count": 46,
     "metadata": {},
     "output_type": "execute_result"
    }
   ],
   "source": [
    "# List Comprehension with nested loop\n",
    "[x + y for x in [1, 2, 3] for y in [3, 4, 5]]"
   ]
  },
  {
   "cell_type": "code",
   "execution_count": 47,
   "id": "90966615-55c1-4ac4-b21c-f3e985502ecc",
   "metadata": {},
   "outputs": [
    {
     "data": {
      "text/plain": [
       "[[4, 5, 6], [5, 6, 7], [6, 7, 8]]"
      ]
     },
     "execution_count": 47,
     "metadata": {},
     "output_type": "execute_result"
    }
   ],
   "source": [
    "# Nested List Comprehension\n",
    "[[x + y for x in [1, 2, 3]] for y in [3, 4, 5]]"
   ]
  },
  {
   "cell_type": "code",
   "execution_count": 48,
   "id": "f859c48c-c3b4-4015-a6de-1f7fff32c742",
   "metadata": {},
   "outputs": [],
   "source": [
    "l = []\n",
    "for y in [3, 4, 5]:\n",
    "    temp = []\n",
    "    for x in [1, 2, 3]:\n",
    "        temp.append(x + y)\n",
    "    l.append(temp)"
   ]
  },
  {
   "cell_type": "code",
   "execution_count": 49,
   "id": "bef627dd-fde4-4e94-b470-4c2e368c9227",
   "metadata": {},
   "outputs": [
    {
     "data": {
      "text/plain": [
       "[[1, 4, 7], [2, 5, 8], [3, 6, 9]]"
      ]
     },
     "execution_count": 49,
     "metadata": {},
     "output_type": "execute_result"
    }
   ],
   "source": [
    "matrix = [[1, 2, 3],\n",
    "          [4, 5, 6],\n",
    "          [7, 8, 9]]\n",
    "[[row[i] for row in matrix] for i in range(len(matrix))]"
   ]
  },
  {
   "cell_type": "code",
   "execution_count": 50,
   "id": "33579e03-fb53-416f-9e0a-8e787b03057a",
   "metadata": {},
   "outputs": [
    {
     "data": {
      "text/plain": [
       "[[['1ac', '1ad'], ['1bc', '1bd']], [['2ac', '2ad'], ['2bc', '2bd']]]"
      ]
     },
     "execution_count": 50,
     "metadata": {},
     "output_type": "execute_result"
    }
   ],
   "source": [
    "[[[i + j + k for k in 'cd'] for j in 'ab'] for i in '12']"
   ]
  },
  {
   "cell_type": "markdown",
   "id": "c15835f1-5c90-4b89-b4f7-9381cf632172",
   "metadata": {},
   "source": [
    "Iterate two or more list simultaneously within list comprehension"
   ]
  },
  {
   "cell_type": "code",
   "execution_count": 51,
   "id": "d07526c8-0527-4fc1-8d89-26954209c1a6",
   "metadata": {},
   "outputs": [],
   "source": [
    "list_1 = [1, 2, 3, 4]\n",
    "list_2 = ['a', 'b', 'c', 'd']\n",
    "list_3 = ['6', '7', '8', '9']"
   ]
  },
  {
   "cell_type": "code",
   "execution_count": 52,
   "id": "c6081628-41ac-4f99-957a-5f2394291bdf",
   "metadata": {},
   "outputs": [
    {
     "data": {
      "text/plain": [
       "[(1, 'a'), (2, 'b'), (3, 'c'), (4, 'd')]"
      ]
     },
     "execution_count": 52,
     "metadata": {},
     "output_type": "execute_result"
    }
   ],
   "source": [
    "# Two lists\n",
    "[(i, j) for i, j in zip(list_1, list_2)]"
   ]
  },
  {
   "cell_type": "code",
   "execution_count": 53,
   "id": "cc0732b4-09f6-4811-856f-835124fe5805",
   "metadata": {},
   "outputs": [
    {
     "data": {
      "text/plain": [
       "[(1, 'a', '6'), (2, 'b', '7'), (3, 'c', '8'), (4, 'd', '9')]"
      ]
     },
     "execution_count": 53,
     "metadata": {},
     "output_type": "execute_result"
    }
   ],
   "source": [
    "[(i, j, k) for i, j, k in zip(list_1, list_2, list_3)]"
   ]
  },
  {
   "cell_type": "markdown",
   "id": "014d06be-19e7-47be-bb2d-1e77dc3edecc",
   "metadata": {},
   "source": [
    "List slicing (selecting parts of lists)"
   ]
  },
  {
   "cell_type": "markdown",
   "id": "d3aef064-b8bb-454e-81f2-d6b259f18293",
   "metadata": {},
   "source": [
    "Using the third \"step\" argument"
   ]
  },
  {
   "cell_type": "code",
   "execution_count": 54,
   "id": "455b6eda-4dbb-42ef-841e-ad287e2d5788",
   "metadata": {},
   "outputs": [
    {
     "data": {
      "text/plain": [
       "['a', 'c', 'e', 'g']"
      ]
     },
     "execution_count": 54,
     "metadata": {},
     "output_type": "execute_result"
    }
   ],
   "source": [
    "lst = ['a', 'b', 'c', 'd', 'e', 'f', 'g', 'h']\n",
    "lst[::2]"
   ]
  },
  {
   "cell_type": "code",
   "execution_count": 55,
   "id": "340fd6f9-16ec-47ef-aebc-dddb5b4c29c9",
   "metadata": {},
   "outputs": [
    {
     "data": {
      "text/plain": [
       "['a', 'd', 'g']"
      ]
     },
     "execution_count": 55,
     "metadata": {},
     "output_type": "execute_result"
    }
   ],
   "source": [
    "lst[::3]"
   ]
  },
  {
   "cell_type": "markdown",
   "id": "da117463-2120-4802-a1ba-4ed804e25d0e",
   "metadata": {},
   "source": [
    "Selecting a sublist from a list"
   ]
  },
  {
   "cell_type": "code",
   "execution_count": 56,
   "id": "9631f3b0-e002-403d-a74d-9530aa72f646",
   "metadata": {},
   "outputs": [
    {
     "data": {
      "text/plain": [
       "['c', 'd']"
      ]
     },
     "execution_count": 56,
     "metadata": {},
     "output_type": "execute_result"
    }
   ],
   "source": [
    "lst = ['a', 'b', 'c', 'd', 'e']\n",
    "lst[2:4]"
   ]
  },
  {
   "cell_type": "code",
   "execution_count": 57,
   "id": "9f7ed9da-ff70-4382-9a37-14582d52adb3",
   "metadata": {},
   "outputs": [
    {
     "data": {
      "text/plain": [
       "['c', 'd', 'e']"
      ]
     },
     "execution_count": 57,
     "metadata": {},
     "output_type": "execute_result"
    }
   ],
   "source": [
    "lst[2:]"
   ]
  },
  {
   "cell_type": "code",
   "execution_count": 58,
   "id": "44d97742-8839-43bb-bd58-110bec90b3ff",
   "metadata": {},
   "outputs": [
    {
     "data": {
      "text/plain": [
       "['a', 'b', 'c', 'd']"
      ]
     },
     "execution_count": 58,
     "metadata": {},
     "output_type": "execute_result"
    }
   ],
   "source": [
    "lst[:4]"
   ]
  },
  {
   "cell_type": "markdown",
   "id": "408afa2d-96b0-47a1-b11f-648fe7ebd16d",
   "metadata": {},
   "source": [
    "Reversing a list with slicing "
   ]
  },
  {
   "cell_type": "code",
   "execution_count": 60,
   "id": "1d410735-bc0e-41d3-abc0-6da2608142b0",
   "metadata": {},
   "outputs": [
    {
     "name": "stdout",
     "output_type": "stream",
     "text": [
      "True\n",
      "[5, 4, 3, 2, 1]\n"
     ]
    }
   ],
   "source": [
    "a = [1, 2, 3, 4, 5]\n",
    "# steps through the list backwards (step=-1)\n",
    "b = a[::-1]\n",
    "# built-in list method to reverse 'a'\n",
    "a.reverse()\n",
    "if a == b:\n",
    "    print(True)\n",
    "print(b)"
   ]
  },
  {
   "cell_type": "markdown",
   "id": "4fee7f1c-28d8-46aa-aa67-31e0b3ffe771",
   "metadata": {},
   "source": [
    "Shifting a list using slicing"
   ]
  },
  {
   "cell_type": "code",
   "execution_count": 61,
   "id": "7358f349-7eef-477e-add7-98b713e11b27",
   "metadata": {},
   "outputs": [
    {
     "data": {
      "text/plain": [
       "[3, 4, 5, 1, 2]"
      ]
     },
     "execution_count": 61,
     "metadata": {},
     "output_type": "execute_result"
    }
   ],
   "source": [
    "def shift_list(array, s):\n",
    "    \"\"\"Shifts the elements of a list to the left or right.\n",
    "    Args:\n",
    "    array - the list to shift\n",
    "    s - the amount to shift the list ('+': right-shift, '-': left-shift)\n",
    "    Returns:\n",
    "    shifted_array - the shifted list\n",
    "    \"\"\"\n",
    "    # calculate actual shift amount \n",
    "    s %= len(array)\n",
    "    # reverse the shift direction to be more intuitive\n",
    "    s *= -1\n",
    "    # shift array with list slicing \n",
    "    shifted_array = array[s:] + array[:s]\n",
    "    return shifted_array\n",
    "my_array = [1, 2, 3, 4, 5]\n",
    "# negative numbers\n",
    "shift_list(my_array, -7)"
   ]
  },
  {
   "cell_type": "code",
   "execution_count": 62,
   "id": "812dffd7-2267-4c04-bec1-3584e7ec6c19",
   "metadata": {},
   "outputs": [
    {
     "data": {
      "text/plain": [
       "[1, 2, 3, 4, 5]"
      ]
     },
     "execution_count": 62,
     "metadata": {},
     "output_type": "execute_result"
    }
   ],
   "source": [
    "# no shift on numbers equal to the size of the array\n",
    "shift_list(my_array, 5)"
   ]
  },
  {
   "cell_type": "code",
   "execution_count": 63,
   "id": "cb47198c-abc9-4803-9ae6-f6eeea078d75",
   "metadata": {},
   "outputs": [
    {
     "data": {
      "text/plain": [
       "[3, 4, 5, 1, 2]"
      ]
     },
     "execution_count": 63,
     "metadata": {},
     "output_type": "execute_result"
    }
   ],
   "source": [
    "shift_list(my_array, 3)"
   ]
  }
 ],
 "metadata": {
  "kernelspec": {
   "display_name": "Python 3 (ipykernel)",
   "language": "python",
   "name": "python3"
  },
  "language_info": {
   "codemirror_mode": {
    "name": "ipython",
    "version": 3
   },
   "file_extension": ".py",
   "mimetype": "text/x-python",
   "name": "python",
   "nbconvert_exporter": "python",
   "pygments_lexer": "ipython3",
   "version": "3.10.7"
  }
 },
 "nbformat": 4,
 "nbformat_minor": 5
}
