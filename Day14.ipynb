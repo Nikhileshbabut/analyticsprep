{
 "cells": [
  {
   "cell_type": "markdown",
   "id": "0bdc9d08-380b-4c14-b33f-4f2772681ff0",
   "metadata": {},
   "source": [
    "Dictionary"
   ]
  },
  {
   "cell_type": "raw",
   "id": "bb8c885c-04cc-4cc3-a116-dd24eadd94d7",
   "metadata": {},
   "source": [
    "Parameter            Details\n",
    "key                The desired key to Dictionary\n",
    "value              The value to set or return"
   ]
  },
  {
   "cell_type": "code",
   "execution_count": 1,
   "id": "a3caa9ec-035a-43e7-92d0-fd5b52ab7410",
   "metadata": {},
   "outputs": [],
   "source": [
    "d = {} #empty dict\n",
    "d = {'key': 'value'} # dict with initial values"
   ]
  },
  {
   "cell_type": "code",
   "execution_count": 2,
   "id": "3b3ca57f-e6bf-49b6-a663-830e167e75e9",
   "metadata": {},
   "outputs": [
    {
     "name": "stdout",
     "output_type": "stream",
     "text": [
      "{'key': 'value'}\n"
     ]
    }
   ],
   "source": [
    "# Unpacking\n",
    "c = {**d} # makes a shallow copy of otherdict\n",
    "print(c)"
   ]
  },
  {
   "cell_type": "code",
   "execution_count": 4,
   "id": "08c50ecb-d505-45d7-a622-7385119e5265",
   "metadata": {},
   "outputs": [
    {
     "name": "stdout",
     "output_type": "stream",
     "text": [
      "{'key': 'value', 'jay': 'first'}\n"
     ]
    }
   ],
   "source": [
    "j = {'jay': 'first'}\n",
    "v = { **d, **j} # also updates the shallow copy with the contents of another dict\n",
    "print(v)"
   ]
  },
  {
   "cell_type": "code",
   "execution_count": 6,
   "id": "79b1303e-61b5-4ee0-95ab-430c0f883137",
   "metadata": {},
   "outputs": [],
   "source": [
    "# Built-in class: dict()\n",
    "d = dict()     # empty dict\n",
    "d = dict(key='value')  # explicit keyword arguments\n",
    "d = dict([('key', 'value')]) # passing in a list of key/value pairs\n",
    "# make a shallow  copy of another dict (only possible if keys are only strings!)\n",
    "d = dict(**j)"
   ]
  },
  {
   "cell_type": "code",
   "execution_count": 9,
   "id": "9ff8a20d-bef5-4d1e-ab8b-82efed556bff",
   "metadata": {},
   "outputs": [
    {
     "name": "stdout",
     "output_type": "stream",
     "text": [
      "{'jay': 'first', 'key': 42}\n"
     ]
    }
   ],
   "source": [
    "# modifying a dict: To add items to a dict\n",
    "d['key'] = 42\n",
    "print(d)"
   ]
  },
  {
   "cell_type": "code",
   "execution_count": 10,
   "id": "67322f19-d41c-4514-9797-e389c52b3450",
   "metadata": {},
   "outputs": [
    {
     "name": "stdout",
     "output_type": "stream",
     "text": [
      "{'jay': 'first', 'key': 42, 'new_list': [1, 2, 3], 'new_dict': {'nested_dict': 1}}\n"
     ]
    }
   ],
   "source": [
    "# It is also possible to add list and dictionary as value:\n",
    "d['new_list'] = [1, 2, 3]\n",
    "d['new_dict'] = {'nested_dict': 1}\n",
    "print(d)"
   ]
  },
  {
   "cell_type": "code",
   "execution_count": 12,
   "id": "0c2078f3-fb90-4b8d-95df-4fd53c6fcfeb",
   "metadata": {},
   "outputs": [
    {
     "name": "stdout",
     "output_type": "stream",
     "text": [
      "{'jay': 'first', 'new_list': [1, 2, 3], 'new_dict': {'nested_dict': 1}}\n"
     ]
    }
   ],
   "source": [
    "# To delete an item, delete the key from the dictionary\n",
    "del d['key']\n",
    "print(d)"
   ]
  },
  {
   "cell_type": "markdown",
   "id": "4eb1dfa2-51ff-4cc1-910e-7d4e5f417ef7",
   "metadata": {},
   "source": [
    "Avoiding KeyError Exceptions"
   ]
  },
  {
   "cell_type": "code",
   "execution_count": 13,
   "id": "51108db1-53d1-412f-aaa6-8238d0b75fbc",
   "metadata": {},
   "outputs": [
    {
     "ename": "KeyError",
     "evalue": "'not there'",
     "output_type": "error",
     "traceback": [
      "\u001b[1;31m---------------------------------------------------------------------------\u001b[0m",
      "\u001b[1;31mKeyError\u001b[0m                                  Traceback (most recent call last)",
      "Cell \u001b[1;32mIn [13], line 2\u001b[0m\n\u001b[0;32m      1\u001b[0m mydict \u001b[38;5;241m=\u001b[39m {}\n\u001b[1;32m----> 2\u001b[0m \u001b[43mmydict\u001b[49m\u001b[43m[\u001b[49m\u001b[38;5;124;43m'\u001b[39;49m\u001b[38;5;124;43mnot there\u001b[39;49m\u001b[38;5;124;43m'\u001b[39;49m\u001b[43m]\u001b[49m\n",
      "\u001b[1;31mKeyError\u001b[0m: 'not there'"
     ]
    }
   ],
   "source": [
    "mydict = {}\n",
    "mydict['not there']"
   ]
  },
  {
   "cell_type": "code",
   "execution_count": 16,
   "id": "08e1486e-e710-4370-bd17-67e6f5123dcf",
   "metadata": {},
   "outputs": [
    {
     "name": "stdout",
     "output_type": "stream",
     "text": [
      "{}\n"
     ]
    }
   ],
   "source": [
    "mydict = {}\n",
    "print(mydict)"
   ]
  },
  {
   "cell_type": "code",
   "execution_count": 17,
   "id": "e1fe18a8-9eed-49a3-b9ba-61e696dd2f9a",
   "metadata": {},
   "outputs": [
    {
     "name": "stdout",
     "output_type": "stream",
     "text": [
      "bar\n"
     ]
    }
   ],
   "source": [
    "print(mydict.get(\"foo\", \"bar\"))"
   ]
  },
  {
   "cell_type": "code",
   "execution_count": 18,
   "id": "c40ac455-c30c-42c7-aabd-f4325059418f",
   "metadata": {},
   "outputs": [
    {
     "name": "stdout",
     "output_type": "stream",
     "text": [
      "{}\n"
     ]
    }
   ],
   "source": [
    "print(mydict)"
   ]
  },
  {
   "cell_type": "code",
   "execution_count": 19,
   "id": "c0197beb-41d8-47cf-ba8c-25dd9f96764a",
   "metadata": {},
   "outputs": [
    {
     "name": "stdout",
     "output_type": "stream",
     "text": [
      "bar\n"
     ]
    }
   ],
   "source": [
    "print(mydict.setdefault(\"foo\", \"bar\"))"
   ]
  },
  {
   "cell_type": "code",
   "execution_count": 20,
   "id": "aae1b6da-953c-4467-ba43-133b8dc5698b",
   "metadata": {},
   "outputs": [
    {
     "name": "stdout",
     "output_type": "stream",
     "text": [
      "{'foo': 'bar'}\n"
     ]
    }
   ],
   "source": [
    "print(mydict)"
   ]
  },
  {
   "cell_type": "code",
   "execution_count": 24,
   "id": "825c6ce0-34a3-4684-a71f-9cf1d84bf52c",
   "metadata": {},
   "outputs": [],
   "source": [
    "# An alternative way to deal with the problem is catching the exception\n",
    "try:\n",
    "    value = mydict['foo']\n",
    "except KeyError:\n",
    "    value = default_value"
   ]
  },
  {
   "cell_type": "markdown",
   "id": "355fd418-65e5-450f-bfea-17fabad5555e",
   "metadata": {},
   "source": [
    "Iterating over a Dictionary"
   ]
  },
  {
   "cell_type": "code",
   "execution_count": 25,
   "id": "5f99bb44-db6a-461f-8e30-ac45d616ab30",
   "metadata": {},
   "outputs": [
    {
     "name": "stdout",
     "output_type": "stream",
     "text": [
      "a 1\n",
      "b 2\n",
      "c 3\n"
     ]
    }
   ],
   "source": [
    "d = {'a': 1, 'b':2, 'c':3}\n",
    "for key in d:\n",
    "    print(key, d[key])"
   ]
  },
  {
   "cell_type": "code",
   "execution_count": 26,
   "id": "8ffb6247-b208-4204-89c1-30da9356feff",
   "metadata": {},
   "outputs": [
    {
     "name": "stdout",
     "output_type": "stream",
     "text": [
      "['a', 'b', 'c']\n"
     ]
    }
   ],
   "source": [
    "# In a comprehension\n",
    "print([key for key in d])"
   ]
  },
  {
   "cell_type": "code",
   "execution_count": 27,
   "id": "b7d5a1d8-3af0-40e9-bf08-9cb72d536020",
   "metadata": {},
   "outputs": [
    {
     "name": "stdout",
     "output_type": "stream",
     "text": [
      "a 1\n",
      "b 2\n",
      "c 3\n"
     ]
    }
   ],
   "source": [
    "# items() method can be used to loop over both the key and value simultaneously:\n",
    "for key, value in d.items():\n",
    "    print(key, value)"
   ]
  },
  {
   "cell_type": "markdown",
   "id": "67b8a7ec-ceab-467a-b475-b22ee9887568",
   "metadata": {},
   "source": [
    "Dictionary with default values"
   ]
  },
  {
   "cell_type": "code",
   "execution_count": 30,
   "id": "d2269a62-b39d-4902-b17d-756a2cc5de18",
   "metadata": {},
   "outputs": [
    {
     "data": {
      "text/plain": [
       "0"
      ]
     },
     "execution_count": 30,
     "metadata": {},
     "output_type": "execute_result"
    }
   ],
   "source": [
    "from collections import defaultdict\n",
    "d = defaultdict(int)\n",
    "d['key']"
   ]
  },
  {
   "cell_type": "code",
   "execution_count": 32,
   "id": "4282e266-4be7-471a-a826-c0aee773926e",
   "metadata": {},
   "outputs": [
    {
     "data": {
      "text/plain": [
       "5"
      ]
     },
     "execution_count": 32,
     "metadata": {},
     "output_type": "execute_result"
    }
   ],
   "source": [
    "d['key'] = 5\n",
    "d['key']"
   ]
  },
  {
   "cell_type": "code",
   "execution_count": 33,
   "id": "d6cdd07e-c751-494e-aa4b-7ede312d00e4",
   "metadata": {},
   "outputs": [
    {
     "data": {
      "text/plain": [
       "'empty'"
      ]
     },
     "execution_count": 33,
     "metadata": {},
     "output_type": "execute_result"
    }
   ],
   "source": [
    "d = defaultdict(lambda:'empty')\n",
    "d['key']"
   ]
  },
  {
   "cell_type": "code",
   "execution_count": 34,
   "id": "736bb3a4-aba5-434c-a102-aa56ce63ffc7",
   "metadata": {},
   "outputs": [
    {
     "data": {
      "text/plain": [
       "'full'"
      ]
     },
     "execution_count": 34,
     "metadata": {},
     "output_type": "execute_result"
    }
   ],
   "source": [
    "d['key'] = 'full'\n",
    "d['key']"
   ]
  },
  {
   "cell_type": "code",
   "execution_count": 35,
   "id": "97152d48-2056-4d3e-b689-7dbf6a2c1604",
   "metadata": {},
   "outputs": [
    {
     "data": {
      "text/plain": [
       "{'Another_key': ['This worked!']}"
      ]
     },
     "execution_count": 35,
     "metadata": {},
     "output_type": "execute_result"
    }
   ],
   "source": [
    "d = {}\n",
    "d.setdefault('Another_key', []).append(\"This worked!\")\n",
    "d"
   ]
  },
  {
   "cell_type": "markdown",
   "id": "e6ed53ff-2dd9-4852-8ff1-1d3d02182ba1",
   "metadata": {},
   "source": [
    "Merging dictionaries"
   ]
  },
  {
   "cell_type": "code",
   "execution_count": 36,
   "id": "23b9e513-8953-4914-9c58-aa34371dc8d0",
   "metadata": {},
   "outputs": [],
   "source": [
    "fish = {'name': \"Nemo\", 'hands': \"fins\", 'special': \"gills\"}\n",
    "dog = {'name': \"Clifford\", 'hands': \"paws\", 'color': \"red\"}"
   ]
  },
  {
   "cell_type": "code",
   "execution_count": 37,
   "id": "1c1f0ae5-b2aa-40df-8b8e-f5ad698ea018",
   "metadata": {},
   "outputs": [
    {
     "data": {
      "text/plain": [
       "{'name': 'Clifford', 'hands': 'paws', 'special': 'gills', 'color': 'red'}"
      ]
     },
     "execution_count": 37,
     "metadata": {},
     "output_type": "execute_result"
    }
   ],
   "source": [
    "fishdog = {**fish, **dog}\n",
    "fishdog"
   ]
  },
  {
   "cell_type": "code",
   "execution_count": 38,
   "id": "10c6b452-5a5c-4fd1-bb8b-800d77c8c4c5",
   "metadata": {},
   "outputs": [
    {
     "data": {
      "text/plain": [
       "{'name': 'Nemo', 'hands': 'fins', 'color': 'red', 'special': 'gills'}"
      ]
     },
     "execution_count": 38,
     "metadata": {},
     "output_type": "execute_result"
    }
   ],
   "source": [
    "from collections import ChainMap\n",
    "dict(ChainMap(fish, dog))"
   ]
  },
  {
   "cell_type": "code",
   "execution_count": 39,
   "id": "68ab79cb-a651-4ffc-b235-fc07db6d5fc5",
   "metadata": {},
   "outputs": [
    {
     "data": {
      "text/plain": [
       "{'name': 'Nemo', 'hands': 'fins', 'color': 'red', 'special': 'gills'}"
      ]
     },
     "execution_count": 39,
     "metadata": {},
     "output_type": "execute_result"
    }
   ],
   "source": [
    "from collections import ChainMap\n",
    "dict(ChainMap(fish, dog))"
   ]
  },
  {
   "cell_type": "code",
   "execution_count": 40,
   "id": "6b50e99b-a67a-49a8-9056-b6bea1b68663",
   "metadata": {},
   "outputs": [
    {
     "data": {
      "text/plain": [
       "{'name': 'Clifford', 'hands': 'paws', 'special': 'gills', 'color': 'red'}"
      ]
     },
     "execution_count": 40,
     "metadata": {},
     "output_type": "execute_result"
    }
   ],
   "source": [
    "from itertools import chain\n",
    "dict(chain(fish.items(), dog.items()))"
   ]
  },
  {
   "cell_type": "code",
   "execution_count": 41,
   "id": "44af4af7-96dd-4768-bc96-0c4109147c87",
   "metadata": {},
   "outputs": [
    {
     "data": {
      "text/plain": [
       "{'name': 'Clifford', 'hands': 'paws', 'special': 'gills', 'color': 'red'}"
      ]
     },
     "execution_count": 41,
     "metadata": {},
     "output_type": "execute_result"
    }
   ],
   "source": [
    "fish.update(dog)\n",
    "fish"
   ]
  },
  {
   "cell_type": "markdown",
   "id": "036cce64-2951-46ec-b90c-4217e9901c6a",
   "metadata": {},
   "source": [
    "Accessing keys and values"
   ]
  },
  {
   "cell_type": "code",
   "execution_count": 43,
   "id": "15e9b915-dedf-4216-8bd2-8db6f417fbce",
   "metadata": {},
   "outputs": [
    {
     "name": "stdout",
     "output_type": "stream",
     "text": [
      "dict_keys(['a', 'b'])\n"
     ]
    }
   ],
   "source": [
    "# to get keys\n",
    "mydict = {\n",
    "    'a': '1',\n",
    "    'b': '2'\n",
    "}\n",
    "print(mydict.keys())"
   ]
  },
  {
   "cell_type": "code",
   "execution_count": 44,
   "id": "d120eb65-4ef0-4718-a3af-71052d54a7bd",
   "metadata": {},
   "outputs": [
    {
     "name": "stdout",
     "output_type": "stream",
     "text": [
      "dict_values(['1', '2'])\n"
     ]
    }
   ],
   "source": [
    "#To get values\n",
    "print(mydict.values())"
   ]
  },
  {
   "cell_type": "code",
   "execution_count": 45,
   "id": "1ec42e5a-d863-4c5b-8c59-9bb2cf0995ea",
   "metadata": {},
   "outputs": [
    {
     "name": "stdout",
     "output_type": "stream",
     "text": [
      "dict_items([('a', '1'), ('b', '2')])\n"
     ]
    }
   ],
   "source": [
    "# To get both\n",
    "print(mydict.items())"
   ]
  },
  {
   "cell_type": "markdown",
   "id": "acb350ae-54a7-4ce3-a351-90cdf12a2cd7",
   "metadata": {},
   "source": [
    "Accessing values of a dictionary"
   ]
  },
  {
   "cell_type": "code",
   "execution_count": 46,
   "id": "240df385-f184-44c4-936a-628c49d9384c",
   "metadata": {},
   "outputs": [
    {
     "name": "stdout",
     "output_type": "stream",
     "text": [
      "1234\n"
     ]
    }
   ],
   "source": [
    "dictionary = {\"hello\": 1234, \"World\": 5678}\n",
    "print(dictionary[\"hello\"])"
   ]
  },
  {
   "cell_type": "markdown",
   "id": "73e44b37-5ea5-4958-b372-514c2313d6b8",
   "metadata": {},
   "source": [
    "Creating a dictionary"
   ]
  },
  {
   "cell_type": "code",
   "execution_count": 47,
   "id": "d36d56da-8d65-4010-816f-824f55138773",
   "metadata": {},
   "outputs": [
    {
     "name": "stdout",
     "output_type": "stream",
     "text": [
      "{'a': [1, 2, 3], 'b': ['one', 'two', 'three']}\n"
     ]
    }
   ],
   "source": [
    "# Creating and populating it with values\n",
    "stock = {'eggs':5, 'milk':2}\n",
    "# Or creating an empty dictionary\n",
    "dictionary = {}\n",
    "# And populating it after\n",
    "dictionary['eggs'] = 5\n",
    "dictionary['milk'] = 2\n",
    "# Values can also be lists\n",
    "mydict = {'a': [1, 2, 3], 'b': ['one', 'two', 'three']}\n",
    "print(mydict)"
   ]
  },
  {
   "cell_type": "code",
   "execution_count": 49,
   "id": "7a5c041b-b458-4124-8beb-2efe3349d33d",
   "metadata": {},
   "outputs": [
    {
     "name": "stdout",
     "output_type": "stream",
     "text": [
      "{'a': [1, 2, 3, 4, 4], 'b': ['one', 'two', 'three', 'four']}\n"
     ]
    }
   ],
   "source": [
    "# Use list.append() method to add new elements to the values list\n",
    "mydict['a'].append(4)\n",
    "mydict['b'].append('four')\n",
    "print(mydict)"
   ]
  },
  {
   "cell_type": "code",
   "execution_count": 51,
   "id": "bc36e923-421b-459b-a4ff-d5f76deb9f81",
   "metadata": {},
   "outputs": [
    {
     "name": "stdout",
     "output_type": "stream",
     "text": [
      "{'eggs': 5, 'milk': 2}\n"
     ]
    }
   ],
   "source": [
    "# we can also create a dictionary using a list of two-items tuples\n",
    "iterable = [('eggs', 5), ('milk', 2)]\n",
    "dictionary = dict(iterable)\n",
    "print(dictionary)"
   ]
  },
  {
   "cell_type": "code",
   "execution_count": 52,
   "id": "5c110777-fa7c-447c-abf4-1d7ee44a66cb",
   "metadata": {},
   "outputs": [],
   "source": [
    "# or using keyword argument:\n",
    "dictionary = dict(eggs=5, milk=2)"
   ]
  },
  {
   "cell_type": "markdown",
   "id": "13d2c9a6-5be4-487e-aa54-db134027a6e1",
   "metadata": {},
   "source": [
    "Creating an ordered dictionary"
   ]
  },
  {
   "cell_type": "code",
   "execution_count": 55,
   "id": "2b3628c1-9dcb-4d51-a1ce-a1fe9b9000ae",
   "metadata": {},
   "outputs": [
    {
     "name": "stdout",
     "output_type": "stream",
     "text": [
      "OrderedDict([('first', 1), ('second', 2), ('third', 3), ('last', 4)])\n"
     ]
    }
   ],
   "source": [
    "from collections import OrderedDict\n",
    "d = OrderedDict()\n",
    "d['first'] = 1\n",
    "d['second'] = 2\n",
    "d['third'] = 3\n",
    "d['last'] = 4\n",
    "print(d)"
   ]
  },
  {
   "cell_type": "code",
   "execution_count": 56,
   "id": "9cad118d-1390-49ff-addb-6754bc59b28d",
   "metadata": {},
   "outputs": [
    {
     "name": "stdout",
     "output_type": "stream",
     "text": [
      "first 1\n",
      "second 2\n",
      "third 3\n",
      "last 4\n"
     ]
    }
   ],
   "source": [
    "for key in d:\n",
    "    print(key, d[key])"
   ]
  },
  {
   "cell_type": "markdown",
   "id": "0ace94e7-4fd2-4b86-b9e0-086ee360fe14",
   "metadata": {},
   "source": [
    "Unpacking dictionaries using the **operator"
   ]
  },
  {
   "cell_type": "code",
   "execution_count": 58,
   "id": "b0e07e66-c0bd-4ec3-9c19-c847f703990c",
   "metadata": {},
   "outputs": [
    {
     "name": "stdout",
     "output_type": "stream",
     "text": [
      "This parrot wouldn't VOOM if you put four million volts through it. E's bleedin' demised !\n"
     ]
    }
   ],
   "source": [
    "def parrot(voltage, state, action):\n",
    "    print(\"This parrot wouldn't\", action, end=' ')\n",
    "    print(\"if you put\", voltage, \"volts through it.\", end=' ')\n",
    "    print(\"E's\", state, \"!\")\n",
    "d = {\"voltage\": \"four million\", \"state\": \"bleedin' demised\", \"action\": \"VOOM\"}\n",
    "parrot(**d)"
   ]
  },
  {
   "cell_type": "code",
   "execution_count": 59,
   "id": "ddbbaf90-f3e3-4c0a-ad8d-286a13ae259a",
   "metadata": {},
   "outputs": [
    {
     "data": {
      "text/plain": [
       "{'name': 'Clifford', 'hands': 'paws', 'special': 'gills', 'color': 'red'}"
      ]
     },
     "execution_count": 59,
     "metadata": {},
     "output_type": "execute_result"
    }
   ],
   "source": [
    "fish = {'name': \"Nemo\", 'hands': \"fins\", 'special': \"gills\"}\n",
    "dog = {'name': \"Clifford\", 'hands': \"paws\", 'color': \"red\"}\n",
    "fishdog = {**fish, **dog}\n",
    "fishdog"
   ]
  },
  {
   "cell_type": "markdown",
   "id": "8e335403-02d6-47c0-8385-0c18c27c2d14",
   "metadata": {},
   "source": [
    "The trailing comma"
   ]
  },
  {
   "cell_type": "markdown",
   "id": "daad950b-1fcd-462c-8032-f96ff9a911bc",
   "metadata": {},
   "source": [
    "Like lists and tuples, you can include a trailing comma in your dictionary."
   ]
  },
  {
   "cell_type": "code",
   "execution_count": 60,
   "id": "12acd5ea-0c0d-4f91-a8be-a9280e36132f",
   "metadata": {},
   "outputs": [],
   "source": [
    "role = {\"By day\": \"A typical programmer\",\n",
    "        \"By night\": \"Still a typical programmer\", }"
   ]
  },
  {
   "cell_type": "code",
   "execution_count": 61,
   "id": "13bb48d4-da2a-453b-aec1-f0b82cee981c",
   "metadata": {},
   "outputs": [
    {
     "name": "stdout",
     "output_type": "stream",
     "text": [
      "{'By day': 'A typical programmer', 'By night': 'Still a typical programmer'}\n"
     ]
    }
   ],
   "source": [
    "print(role)"
   ]
  },
  {
   "cell_type": "markdown",
   "id": "28a83428-36e0-4641-9338-8971bf668c0b",
   "metadata": {},
   "source": [
    "The dict() constructor"
   ]
  },
  {
   "cell_type": "code",
   "execution_count": 62,
   "id": "79ba14ee-20a5-4f76-a2f3-c93fbdc2c528",
   "metadata": {},
   "outputs": [
    {
     "data": {
      "text/plain": [
       "{'a': 1, 'b': 2, 'c': 3}"
      ]
     },
     "execution_count": 62,
     "metadata": {},
     "output_type": "execute_result"
    }
   ],
   "source": [
    "dict(a=1, b=2, c=3)"
   ]
  },
  {
   "cell_type": "code",
   "execution_count": 63,
   "id": "3bfc91ad-4b50-4aa2-8032-46a8af7d46a2",
   "metadata": {},
   "outputs": [
    {
     "data": {
      "text/plain": [
       "{'d': 4, 'e': 5, 'f': 6}"
      ]
     },
     "execution_count": 63,
     "metadata": {},
     "output_type": "execute_result"
    }
   ],
   "source": [
    "dict([('d', 4), ('e', 5), ('f', 6)])"
   ]
  },
  {
   "cell_type": "code",
   "execution_count": 64,
   "id": "1dad8154-9ecb-4a8c-aadc-bf6eb3677fdb",
   "metadata": {},
   "outputs": [
    {
     "data": {
      "text/plain": [
       "{'a': 1, 'b': 2, 'c': 3}"
      ]
     },
     "execution_count": 64,
     "metadata": {},
     "output_type": "execute_result"
    }
   ],
   "source": [
    "dict([('a', 1)], b=2, c=3)"
   ]
  },
  {
   "cell_type": "code",
   "execution_count": 65,
   "id": "3efbf7a9-b66f-4dd1-a94d-fa23fb22402c",
   "metadata": {},
   "outputs": [
    {
     "data": {
      "text/plain": [
       "{'a': 1, 'b': 2, 'c': 3}"
      ]
     },
     "execution_count": 65,
     "metadata": {},
     "output_type": "execute_result"
    }
   ],
   "source": [
    "dict({'a': 1, 'b': 2}, c=3)"
   ]
  },
  {
   "cell_type": "markdown",
   "id": "e424d6f6-649b-4f58-ae0a-e2a6f649ffce",
   "metadata": {},
   "source": [
    "Dictionaries Example"
   ]
  },
  {
   "cell_type": "code",
   "execution_count": 67,
   "id": "8ce0d7bc-f791-47dc-bd6e-fa8a0df30bd0",
   "metadata": {},
   "outputs": [
    {
     "name": "stdout",
     "output_type": "stream",
     "text": [
      "Little Red Corvette!\n"
     ]
    }
   ],
   "source": [
    "car = {}\n",
    "car[\"wheels\"] = 4\n",
    "car[\"color\"] = \"Red\"\n",
    "car[\"model\"] = \"Corvette\"\n",
    "print(\"Little \"+car[\"color\"] + \" \" + car[\"model\"] + \"!\")"
   ]
  },
  {
   "cell_type": "code",
   "execution_count": 68,
   "id": "74f8f8a2-a508-4211-81f8-938a7b04a89a",
   "metadata": {},
   "outputs": [],
   "source": [
    "# Dictionaries in JSON style\n",
    "car = {\"wheels\": 4, \"color\": \"Red\", \"model\": \"Corvette\"}"
   ]
  },
  {
   "cell_type": "markdown",
   "id": "dd007bd1-c925-4305-bc53-b17edaf47b21",
   "metadata": {},
   "source": [
    "All combinations of dictionary values"
   ]
  },
  {
   "cell_type": "code",
   "execution_count": 71,
   "id": "b1bd820a-ae17-4c5a-a981-302bd900b3e1",
   "metadata": {},
   "outputs": [
    {
     "name": "stdout",
     "output_type": "stream",
     "text": [
      "[{'x': 'a', 'y': 10}, {'x': 'a', 'y': 20}, {'x': 'a', 'y': 30}, {'x': 'b', 'y': 10}, {'x': 'b', 'y': 20}, {'x': 'b', 'y': 30}]\n"
     ]
    }
   ],
   "source": [
    "import itertools\n",
    "options = {\n",
    "    \"x\": [\"a\", \"b\"],\n",
    "    \"y\": [10, 20, 30]\n",
    "}\n",
    "keys = options.keys()\n",
    "values = (options[key] for key in keys)\n",
    "combinations = [dict(zip(keys, combination)) for combination in itertools.product(*values)]\n",
    "print(combinations)\n",
    "                "
   ]
  },
  {
   "cell_type": "code",
   "execution_count": null,
   "id": "775a80b6-6d61-43fa-a2c3-e0cae2b77079",
   "metadata": {},
   "outputs": [],
   "source": []
  }
 ],
 "metadata": {
  "kernelspec": {
   "display_name": "Python 3 (ipykernel)",
   "language": "python",
   "name": "python3"
  },
  "language_info": {
   "codemirror_mode": {
    "name": "ipython",
    "version": 3
   },
   "file_extension": ".py",
   "mimetype": "text/x-python",
   "name": "python",
   "nbconvert_exporter": "python",
   "pygments_lexer": "ipython3",
   "version": "3.10.7"
  }
 },
 "nbformat": 4,
 "nbformat_minor": 5
}
