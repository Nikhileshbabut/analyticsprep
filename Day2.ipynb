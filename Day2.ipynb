{
 "cells": [
  {
   "cell_type": "markdown",
   "id": "76b3738e",
   "metadata": {},
   "source": [
    "Date and Time"
   ]
  },
  {
   "cell_type": "code",
   "execution_count": null,
   "id": "42822d3b",
   "metadata": {},
   "outputs": [],
   "source": [
    "Parsing a string into a timezone aware datetime object"
   ]
  },
  {
   "cell_type": "code",
   "execution_count": 2,
   "id": "53468b2e",
   "metadata": {},
   "outputs": [
    {
     "name": "stdout",
     "output_type": "stream",
     "text": [
      "2016-04-15 08:27:18-05:00\n"
     ]
    }
   ],
   "source": [
    "#Python 3.2+ has support for %z format when parsing a string into a datetime object.\n",
    "import datetime\n",
    "dt = datetime.datetime.strptime(\"2016-04-15T08:27:18-0500\", \"%Y-%m-%dT%H:%M:%S%z\")\n",
    "print(dt)"
   ]
  },
  {
   "cell_type": "markdown",
   "id": "833c4aa9",
   "metadata": {},
   "source": [
    "Constructing timezone-aware datetimes"
   ]
  },
  {
   "cell_type": "code",
   "execution_count": 4,
   "id": "33a92783",
   "metadata": {},
   "outputs": [
    {
     "name": "stdout",
     "output_type": "stream",
     "text": [
      "2015-01-01 12:00:00+09:00\n",
      "UTC+09:00\n",
      "JST\n"
     ]
    }
   ],
   "source": [
    "from datetime import datetime, timedelta, timezone\n",
    "JST = timezone(timedelta(hours=+9))\n",
    "dt = datetime(2015, 1, 1, 12, 0, 0, tzinfo=JST)\n",
    "print(dt)\n",
    "print(dt.tzname())\n",
    "dt = datetime(2016, 11, 10, 12, 0, 0, tzinfo=timezone(timedelta(hours=9), 'JST'))\n",
    "print(dt.tzname())"
   ]
  },
  {
   "cell_type": "markdown",
   "id": "2721246f",
   "metadata": {},
   "source": [
    "Zones with daylight savings time"
   ]
  },
  {
   "cell_type": "code",
   "execution_count": 6,
   "id": "141ef721",
   "metadata": {},
   "outputs": [
    {
     "name": "stdout",
     "output_type": "stream",
     "text": [
      "2022-01-01 12:00:00+05:30\n",
      "2022-01-01 12:00:00-08:00\n",
      "2022-07-01 12:00:00-07:00\n"
     ]
    }
   ],
   "source": [
    "from datetime import datetime\n",
    "from dateutil import tz\n",
    "local = tz.gettz() #Local time\n",
    "PT = tz.gettz('US/Pacific') #Pacific time\n",
    "dt_l = datetime(2022, 1, 1, 12, tzinfo=local) #I am in EST\n",
    "dt_pst = datetime(2022, 1, 1, 12, tzinfo=PT)\n",
    "dt_pdt = datetime(2022, 7, 1, 12, tzinfo=PT) #DST is handled automatically\n",
    "print(dt_l)\n",
    "print(dt_pst)\n",
    "print(dt_pdt)"
   ]
  },
  {
   "cell_type": "markdown",
   "id": "7d214980",
   "metadata": {},
   "source": [
    "Computing time differences"
   ]
  },
  {
   "cell_type": "code",
   "execution_count": 7,
   "id": "209d0e01",
   "metadata": {},
   "outputs": [
    {
     "name": "stdout",
     "output_type": "stream",
     "text": [
      "2019-05-23 00:00:00\n",
      "2022-11-01 21:03:06.611262\n"
     ]
    }
   ],
   "source": [
    "from datetime import datetime, timedelta\n",
    "now = datetime.now()\n",
    "then = datetime(2019, 5, 23)\n",
    "print(then)\n",
    "print(now)"
   ]
  },
  {
   "cell_type": "markdown",
   "id": "ccf400a7",
   "metadata": {},
   "source": [
    "Specifying time is optional when creating a new datetime object"
   ]
  },
  {
   "cell_type": "code",
   "execution_count": 8,
   "id": "78a9c0be",
   "metadata": {},
   "outputs": [
    {
     "name": "stdout",
     "output_type": "stream",
     "text": [
      "1258\n",
      "75786\n"
     ]
    }
   ],
   "source": [
    "delta = now-then #delta is type timedelta\n",
    "print(delta.days)\n",
    "print(delta.seconds)"
   ]
  },
  {
   "cell_type": "markdown",
   "id": "6382cddf",
   "metadata": {},
   "source": [
    "we can get n day's after and n day's before date."
   ]
  },
  {
   "cell_type": "markdown",
   "id": "edd85ccc",
   "metadata": {},
   "source": [
    "Switching between time zones"
   ]
  },
  {
   "cell_type": "code",
   "execution_count": 25,
   "id": "ebb7afda",
   "metadata": {},
   "outputs": [
    {
     "data": {
      "text/plain": [
       "datetime.datetime(2022, 11, 1, 22, 20, 5, 793872, tzinfo=tzlocal())"
      ]
     },
     "execution_count": 25,
     "metadata": {},
     "output_type": "execute_result"
    }
   ],
   "source": [
    "from datetime import datetime\n",
    "from dateutil import tz\n",
    "utc = tz.tzutc()\n",
    "local = tz.tzlocal()\n",
    "utc_now = datetime.utcnow()\n",
    "utc_now #Not timezone-aware.\n",
    "utc_now = utc_now.replace(tzinfo=utc)\n",
    "utc_now #Timezone-aware.\n",
    "local_now = utc_now.astimezone(local)\n",
    "local_now #Converted to local time."
   ]
  },
  {
   "cell_type": "markdown",
   "id": "eb016836",
   "metadata": {},
   "source": [
    "Simple date arithmetic"
   ]
  },
  {
   "cell_type": "code",
   "execution_count": 26,
   "id": "831e19bf",
   "metadata": {},
   "outputs": [
    {
     "name": "stdout",
     "output_type": "stream",
     "text": [
      "Today: 2022-11-01\n",
      "Yesterday: 2022-10-31\n",
      "Tomorrow: 2022-11-02\n",
      "Time between tomorrow and yesterday: 2 days, 0:00:00\n"
     ]
    }
   ],
   "source": [
    "import datetime\n",
    "\n",
    "today = datetime.date.today()\n",
    "print('Today:', today)\n",
    "\n",
    "yesterday = today - datetime.timedelta(days=1)\n",
    "print('Yesterday:', yesterday)\n",
    "\n",
    "tomorrow = today + datetime.timedelta(days=1)\n",
    "print('Tomorrow:', tomorrow)\n",
    "\n",
    "print('Time between tomorrow and yesterday:', tomorrow - yesterday)"
   ]
  },
  {
   "cell_type": "markdown",
   "id": "12e1ffad",
   "metadata": {},
   "source": [
    "Converting timestamp to datetime"
   ]
  },
  {
   "cell_type": "code",
   "execution_count": 28,
   "id": "40ed8ca7",
   "metadata": {},
   "outputs": [
    {
     "name": "stdout",
     "output_type": "stream",
     "text": [
      "1667322217.2823436\n",
      "2022-11-01 17:03:37.282344\n"
     ]
    }
   ],
   "source": [
    "import time\n",
    "from datetime import datetime\n",
    "seconds_since_epoch = time.time()\n",
    "utc_date = datetime.utcfromtimestamp(seconds_since_epoch)\n",
    "print(seconds_since_epoch)\n",
    "print(utc_date)"
   ]
  },
  {
   "cell_type": "markdown",
   "id": "1915c998",
   "metadata": {},
   "source": [
    "Subtracting months from a date accurately"
   ]
  },
  {
   "cell_type": "code",
   "execution_count": 32,
   "id": "ec4ec8ea",
   "metadata": {},
   "outputs": [
    {
     "name": "stdout",
     "output_type": "stream",
     "text": [
      "2022-12-01\n",
      "2022-10-01 00:00:00\n"
     ]
    }
   ],
   "source": [
    "import calendar\n",
    "from datetime import date\n",
    "\n",
    "def monthdelta(date, delta):\n",
    "    m, y = (date.month+delta) % 12, date.year + ((date.month)+delta-1)//12\n",
    "    if not m: m = 12\n",
    "    d = min(date.day, calendar.monthrange(y, m)[1])\n",
    "    return date.replace(day=d, month=m, year=y)\n",
    "next_month = monthdelta(date.today(), 1) #datetime.date(2022, 11, 1)\n",
    "print(next_month)\n",
    "\n",
    "#Using the dateutils module\n",
    "\n",
    "import datetime\n",
    "import dateutil.relativedelta\n",
    "\n",
    "d = datetime.datetime.strptime(\"2022-11-01\", \"%Y-%m-%d\")\n",
    "d2 = d - dateutil.relativedelta.relativedelta(months=1)\n",
    "print(d2)"
   ]
  },
  {
   "cell_type": "markdown",
   "id": "701748c2",
   "metadata": {},
   "source": [
    "Fuzzy datetime parsing (extracting datetime out of a text)"
   ]
  },
  {
   "cell_type": "code",
   "execution_count": 33,
   "id": "eca3f209",
   "metadata": {},
   "outputs": [
    {
     "name": "stdout",
     "output_type": "stream",
     "text": [
      "2022-11-01 23:14:00\n"
     ]
    }
   ],
   "source": [
    "from dateutil.parser import parse\n",
    "dt = parse(\"Today is November 1, 2022 at 11:14:00PM\", fuzzy=True)\n",
    "print(dt)"
   ]
  },
  {
   "cell_type": "markdown",
   "id": "018c1973",
   "metadata": {},
   "source": [
    "Iterate over dates"
   ]
  },
  {
   "cell_type": "code",
   "execution_count": 34,
   "id": "f6c62d35",
   "metadata": {},
   "outputs": [
    {
     "name": "stdout",
     "output_type": "stream",
     "text": [
      "2022-11-01\n",
      "2022-11-02\n",
      "2022-11-03\n",
      "2022-11-04\n",
      "2022-11-05\n",
      "2022-11-06\n",
      "2022-11-07\n"
     ]
    }
   ],
   "source": [
    "import datetime\n",
    "\n",
    "# The size of each step in days\n",
    "day_delta = datetime.timedelta(days=1)\n",
    "\n",
    "start_date = datetime.date.today()\n",
    "end_date = start_date + 7*day_delta\n",
    "\n",
    "for i in range((end_date - start_date).days):\n",
    "    print(start_date + i*day_delta)"
   ]
  },
  {
   "cell_type": "markdown",
   "id": "327fa141",
   "metadata": {},
   "source": [
    "Date Formatting"
   ]
  },
  {
   "cell_type": "code",
   "execution_count": 36,
   "id": "0d075b79",
   "metadata": {},
   "outputs": [
    {
     "name": "stdout",
     "output_type": "stream",
     "text": [
      "3 days, 0:00:01\n",
      "3\n",
      "259201.0\n"
     ]
    }
   ],
   "source": [
    "#Time between two date-times\n",
    "from datetime import datetime\n",
    "a = datetime(2022, 11, 1, 0, 0, 0)\n",
    "b = datetime(2022, 10, 28, 23, 59, 59)\n",
    "\n",
    "print(a-b)\n",
    "print((a-b).days)\n",
    "print((a-b).total_seconds())"
   ]
  },
  {
   "cell_type": "code",
   "execution_count": 37,
   "id": "856ec02c",
   "metadata": {},
   "outputs": [
    {
     "data": {
      "text/plain": [
       "'Nov 01 2022, 00:00:00'"
      ]
     },
     "execution_count": 37,
     "metadata": {},
     "output_type": "execute_result"
    }
   ],
   "source": [
    "#Outputting datetime object to string\n",
    "from datetime import datetime\n",
    "datetime_for_string = datetime(2022, 11, 1, 0, 0)\n",
    "datetime_string_format = '%b %d %Y, %H:%M:%S'\n",
    "datetime.strftime(datetime_for_string, datetime_string_format)\n"
   ]
  },
  {
   "cell_type": "code",
   "execution_count": 38,
   "id": "45c88058",
   "metadata": {},
   "outputs": [
    {
     "data": {
      "text/plain": [
       "datetime.datetime(2022, 11, 1, 0, 0)"
      ]
     },
     "execution_count": 38,
     "metadata": {},
     "output_type": "execute_result"
    }
   ],
   "source": [
    "#Parsing string to datetime object\n",
    "from datetime import datetime\n",
    "datetime_string = 'Nov 1 2022, 00:00:00'\n",
    "datetime_string_format = '%b %d %Y, %H:%M:%S'\n",
    "datetime.strptime(datetime_string, datetime_string_format)"
   ]
  },
  {
   "cell_type": "code",
   "execution_count": null,
   "id": "4149676c",
   "metadata": {},
   "outputs": [],
   "source": []
  }
 ],
 "metadata": {
  "kernelspec": {
   "display_name": "Python 3 (ipykernel)",
   "language": "python",
   "name": "python3"
  },
  "language_info": {
   "codemirror_mode": {
    "name": "ipython",
    "version": 3
   },
   "file_extension": ".py",
   "mimetype": "text/x-python",
   "name": "python",
   "nbconvert_exporter": "python",
   "pygments_lexer": "ipython3",
   "version": "3.10.7"
  }
 },
 "nbformat": 4,
 "nbformat_minor": 5
}
