{
 "cells": [
  {
   "cell_type": "markdown",
   "id": "d16021ec-3971-45ab-be03-1077e7958ef0",
   "metadata": {},
   "source": [
    "Enums: An enumeration is a set of symbolic names (members) bound to unique, constant values. Within an enumeration, the members can be compared by identity, and the enumeration itself can be iterated over"
   ]
  },
  {
   "cell_type": "code",
   "execution_count": 1,
   "id": "a1d2fe4e-b8b1-444a-aea5-d3831aec7199",
   "metadata": {},
   "outputs": [
    {
     "name": "stdout",
     "output_type": "stream",
     "text": [
      "Color.red\n",
      "Color.red\n",
      "Color.red\n"
     ]
    }
   ],
   "source": [
    "from enum import Enum\n",
    "class Color(Enum):\n",
    "    red = 1\n",
    "    green = 2\n",
    "    blue = 3\n",
    "print(Color.red)\n",
    "print(Color(1))\n",
    "print(Color['red'])"
   ]
  },
  {
   "cell_type": "code",
   "execution_count": 2,
   "id": "db808c89-3822-4ad6-897b-3a4dc26487d4",
   "metadata": {},
   "outputs": [
    {
     "data": {
      "text/plain": [
       "[<Color.red: 1>, <Color.green: 2>, <Color.blue: 3>]"
      ]
     },
     "execution_count": 2,
     "metadata": {},
     "output_type": "execute_result"
    }
   ],
   "source": [
    "#Enums are iterable\n",
    "class Color(Enum):\n",
    "    red = 1\n",
    "    green = 2\n",
    "    blue = 3\n",
    "[c for c in Color]"
   ]
  },
  {
   "cell_type": "markdown",
   "id": "2ef28a8f-5007-4da1-9610-329e8c8fda06",
   "metadata": {},
   "source": [
    "Sets:\n",
    "Operations on sets"
   ]
  },
  {
   "cell_type": "code",
   "execution_count": 3,
   "id": "9fac3b33-f26f-499f-b346-40af7f622d96",
   "metadata": {},
   "outputs": [
    {
     "data": {
      "text/plain": [
       "{3, 4, 5}"
      ]
     },
     "execution_count": 3,
     "metadata": {},
     "output_type": "execute_result"
    }
   ],
   "source": [
    "#Intersection\n",
    "{1, 2, 3, 4, 5}.intersection({3, 4, 5, 6})"
   ]
  },
  {
   "cell_type": "code",
   "execution_count": 4,
   "id": "64779131-6e0c-409f-9869-ece15d8de7ba",
   "metadata": {},
   "outputs": [
    {
     "data": {
      "text/plain": [
       "{3, 4, 5}"
      ]
     },
     "execution_count": 4,
     "metadata": {},
     "output_type": "execute_result"
    }
   ],
   "source": [
    "#another method of intersection\n",
    "{1, 2, 3, 4, 5} & {3, 4, 5, 6}"
   ]
  },
  {
   "cell_type": "code",
   "execution_count": 5,
   "id": "988de292-5848-4da1-a630-a8b90ae5caec",
   "metadata": {},
   "outputs": [
    {
     "data": {
      "text/plain": [
       "{1, 2, 3, 4, 5, 6}"
      ]
     },
     "execution_count": 5,
     "metadata": {},
     "output_type": "execute_result"
    }
   ],
   "source": [
    "#Union\n",
    "{1, 2, 3, 4, 5}.union({3, 4, 5, 6})"
   ]
  },
  {
   "cell_type": "code",
   "execution_count": 6,
   "id": "bec860ab-fa37-4b72-aed3-fd1403f67498",
   "metadata": {},
   "outputs": [
    {
     "data": {
      "text/plain": [
       "{1, 2, 3, 4, 5, 6}"
      ]
     },
     "execution_count": 6,
     "metadata": {},
     "output_type": "execute_result"
    }
   ],
   "source": [
    "#another method of union\n",
    "{1, 2, 3, 4, 5} | {3, 4, 5, 6}"
   ]
  },
  {
   "cell_type": "code",
   "execution_count": 9,
   "id": "a3cceba6-c2f8-430f-97fa-7acdba07a992",
   "metadata": {},
   "outputs": [
    {
     "data": {
      "text/plain": [
       "{1, 4}"
      ]
     },
     "execution_count": 9,
     "metadata": {},
     "output_type": "execute_result"
    }
   ],
   "source": [
    "#Difference\n",
    "{1, 2, 3, 4}.difference({2, 3, 5})\n"
   ]
  },
  {
   "cell_type": "code",
   "execution_count": 10,
   "id": "41f00329-93ca-4f01-a4b3-f4cdbbe279f6",
   "metadata": {},
   "outputs": [
    {
     "data": {
      "text/plain": [
       "{1, 4}"
      ]
     },
     "execution_count": 10,
     "metadata": {},
     "output_type": "execute_result"
    }
   ],
   "source": [
    "{1, 2, 3, 4} - {2, 3, 5}"
   ]
  },
  {
   "cell_type": "code",
   "execution_count": 8,
   "id": "82726f8f-5469-4273-81dd-e373090f48a5",
   "metadata": {},
   "outputs": [
    {
     "data": {
      "text/plain": [
       "{1, 4, 5}"
      ]
     },
     "execution_count": 8,
     "metadata": {},
     "output_type": "execute_result"
    }
   ],
   "source": [
    "#symmetric difference with\n",
    "{1, 2, 3, 4}.symmetric_difference({2, 3, 5})"
   ]
  },
  {
   "cell_type": "code",
   "execution_count": 11,
   "id": "b403e2f4-b250-4d03-82ff-bca23cc8a2d3",
   "metadata": {},
   "outputs": [
    {
     "data": {
      "text/plain": [
       "{1, 4, 5}"
      ]
     },
     "execution_count": 11,
     "metadata": {},
     "output_type": "execute_result"
    }
   ],
   "source": [
    "{1, 2, 3, 4}^{2, 3, 5}"
   ]
  },
  {
   "cell_type": "code",
   "execution_count": 12,
   "id": "9400b566-3b6e-42a2-9cd2-c944c9cac37b",
   "metadata": {},
   "outputs": [
    {
     "data": {
      "text/plain": [
       "False"
      ]
     },
     "execution_count": 12,
     "metadata": {},
     "output_type": "execute_result"
    }
   ],
   "source": [
    "#Superset check\n",
    "{1, 2}.issuperset({1, 2, 3})"
   ]
  },
  {
   "cell_type": "code",
   "execution_count": 13,
   "id": "1293a71d-e777-43ad-a0f5-9f47413c55d5",
   "metadata": {},
   "outputs": [
    {
     "data": {
      "text/plain": [
       "False"
      ]
     },
     "execution_count": 13,
     "metadata": {},
     "output_type": "execute_result"
    }
   ],
   "source": [
    "{1, 2} >= {1, 2, 3}"
   ]
  },
  {
   "cell_type": "code",
   "execution_count": 14,
   "id": "68264efd-221f-4fb2-9378-ff2907f4a1c4",
   "metadata": {},
   "outputs": [
    {
     "data": {
      "text/plain": [
       "True"
      ]
     },
     "execution_count": 14,
     "metadata": {},
     "output_type": "execute_result"
    }
   ],
   "source": [
    "#Subset check\n",
    "{1, 2}.issubset({1, 2, 3})"
   ]
  },
  {
   "cell_type": "code",
   "execution_count": 15,
   "id": "dd646d86-73ea-42e3-b943-8ff63f2f67a3",
   "metadata": {},
   "outputs": [
    {
     "data": {
      "text/plain": [
       "True"
      ]
     },
     "execution_count": 15,
     "metadata": {},
     "output_type": "execute_result"
    }
   ],
   "source": [
    "{1, 2} <= {1, 2, 3}"
   ]
  },
  {
   "cell_type": "code",
   "execution_count": 16,
   "id": "e8ad2f70-6582-4613-b40b-f4f1a7e9c2e5",
   "metadata": {},
   "outputs": [
    {
     "data": {
      "text/plain": [
       "True"
      ]
     },
     "execution_count": 16,
     "metadata": {},
     "output_type": "execute_result"
    }
   ],
   "source": [
    "#Disjoint check\n",
    "{1, 2}.isdisjoint({3, 4})"
   ]
  },
  {
   "cell_type": "code",
   "execution_count": 17,
   "id": "b688bdf2-2ae3-4e4e-9db0-aa2cc8afe8f1",
   "metadata": {},
   "outputs": [
    {
     "data": {
      "text/plain": [
       "False"
      ]
     },
     "execution_count": 17,
     "metadata": {},
     "output_type": "execute_result"
    }
   ],
   "source": [
    "{1, 2}.isdisjoint({1, 4})"
   ]
  },
  {
   "cell_type": "markdown",
   "id": "3d526cd5-939e-4e51-81c0-8649a9af9ad6",
   "metadata": {},
   "source": [
    "With single elements"
   ]
  },
  {
   "cell_type": "code",
   "execution_count": 18,
   "id": "19da8393-4c5a-478c-a07d-2087f1c5ea92",
   "metadata": {},
   "outputs": [
    {
     "data": {
      "text/plain": [
       "True"
      ]
     },
     "execution_count": 18,
     "metadata": {},
     "output_type": "execute_result"
    }
   ],
   "source": [
    "#Existence check\n",
    "2 in {1, 2, 3}"
   ]
  },
  {
   "cell_type": "code",
   "execution_count": 19,
   "id": "0f3e25cc-42bf-4080-8bd3-953556955763",
   "metadata": {},
   "outputs": [
    {
     "data": {
      "text/plain": [
       "False"
      ]
     },
     "execution_count": 19,
     "metadata": {},
     "output_type": "execute_result"
    }
   ],
   "source": [
    "4 in {1, 2, 3}"
   ]
  },
  {
   "cell_type": "code",
   "execution_count": 20,
   "id": "f24b3ce4-4caf-4baa-aaa2-18e5960c4f4b",
   "metadata": {},
   "outputs": [
    {
     "data": {
      "text/plain": [
       "True"
      ]
     },
     "execution_count": 20,
     "metadata": {},
     "output_type": "execute_result"
    }
   ],
   "source": [
    "4 not in {1, 2, 3}"
   ]
  },
  {
   "cell_type": "code",
   "execution_count": 22,
   "id": "6e871374-f63c-4a07-92ae-eff585be3225",
   "metadata": {},
   "outputs": [
    {
     "name": "stdout",
     "output_type": "stream",
     "text": [
      "{1, 2, 3, 4}\n"
     ]
    }
   ],
   "source": [
    "# Add and Remove\n",
    "s = {1, 2, 3}\n",
    "s.add(4)\n",
    "print(s)"
   ]
  },
  {
   "cell_type": "code",
   "execution_count": 23,
   "id": "e635eeb5-b36b-4b93-8203-a21e290e5302",
   "metadata": {},
   "outputs": [
    {
     "name": "stdout",
     "output_type": "stream",
     "text": [
      "{1, 2, 4}\n"
     ]
    }
   ],
   "source": [
    "s.discard(3)\n",
    "print(s)"
   ]
  },
  {
   "cell_type": "code",
   "execution_count": 25,
   "id": "c37b2cc9-351b-4eba-8f21-1b438f43f4a1",
   "metadata": {},
   "outputs": [
    {
     "name": "stdout",
     "output_type": "stream",
     "text": [
      "{1, 2, 4}\n"
     ]
    }
   ],
   "source": [
    "s.discard(5)\n",
    "print(s)"
   ]
  },
  {
   "cell_type": "code",
   "execution_count": 26,
   "id": "015b0ea4-e98e-40ce-a35a-3b142ba0eefa",
   "metadata": {},
   "outputs": [
    {
     "name": "stdout",
     "output_type": "stream",
     "text": [
      "{1, 4}\n"
     ]
    }
   ],
   "source": [
    "s.remove(2)\n",
    "print(s)"
   ]
  },
  {
   "cell_type": "code",
   "execution_count": 27,
   "id": "2cd83d88-5598-4b7a-9a46-75d9179a505c",
   "metadata": {},
   "outputs": [
    {
     "ename": "KeyError",
     "evalue": "2",
     "output_type": "error",
     "traceback": [
      "\u001b[1;31m---------------------------------------------------------------------------\u001b[0m",
      "\u001b[1;31mKeyError\u001b[0m                                  Traceback (most recent call last)",
      "Cell \u001b[1;32mIn [27], line 1\u001b[0m\n\u001b[1;32m----> 1\u001b[0m \u001b[43ms\u001b[49m\u001b[38;5;241;43m.\u001b[39;49m\u001b[43mremove\u001b[49m\u001b[43m(\u001b[49m\u001b[38;5;241;43m2\u001b[39;49m\u001b[43m)\u001b[49m\n\u001b[0;32m      2\u001b[0m \u001b[38;5;28mprint\u001b[39m(s)\n",
      "\u001b[1;31mKeyError\u001b[0m: 2"
     ]
    }
   ],
   "source": [
    "s.remove(2)\n",
    "print(s)"
   ]
  },
  {
   "cell_type": "markdown",
   "id": "0880bd8a-51fa-4d97-865e-9830304d60a1",
   "metadata": {},
   "source": [
    "Set operations returns new sets, but have the corresponding in-place versions"
   ]
  },
  {
   "cell_type": "code",
   "execution_count": 28,
   "id": "f392e0a3-290a-4dec-af44-5b30ae20a5ff",
   "metadata": {},
   "outputs": [
    {
     "name": "stdout",
     "output_type": "stream",
     "text": [
      "{1, 2, 3, 4}\n"
     ]
    }
   ],
   "source": [
    "# Example\n",
    "s = {1, 2}\n",
    "s.update({3, 4})\n",
    "print(s)"
   ]
  },
  {
   "cell_type": "markdown",
   "id": "de9b8b7d-0b45-4037-ad3d-7ee52f0eb78c",
   "metadata": {},
   "source": [
    "Get the unique elements of a list"
   ]
  },
  {
   "cell_type": "code",
   "execution_count": 29,
   "id": "151653f3-98e6-46a7-8ed5-89470a610ae1",
   "metadata": {},
   "outputs": [
    {
     "name": "stdout",
     "output_type": "stream",
     "text": [
      "{'Chicken Chicken', 'Burger King', \"McDonald's\"}\n"
     ]
    }
   ],
   "source": [
    "# Example\n",
    "restaurants = [\"McDonald's\", \"Burger King\", \"McDonald's\", \"Chicken Chicken\"]\n",
    "unique_restaurants = set(restaurants)\n",
    "print(unique_restaurants)"
   ]
  },
  {
   "cell_type": "code",
   "execution_count": 30,
   "id": "bceefa42-725c-4838-8b2a-1dda61f80789",
   "metadata": {},
   "outputs": [
    {
     "data": {
      "text/plain": [
       "['Chicken Chicken', 'Burger King', \"McDonald's\"]"
      ]
     },
     "execution_count": 30,
     "metadata": {},
     "output_type": "execute_result"
    }
   ],
   "source": [
    "# To convert into list\n",
    "list(unique_restaurants)"
   ]
  },
  {
   "cell_type": "code",
   "execution_count": 33,
   "id": "b9b4deb2-9e60-470b-b121-da4acc31cbd5",
   "metadata": {},
   "outputs": [
    {
     "data": {
      "text/plain": [
       "['Chicken Chicken', 'Burger King', \"McDonald's\"]"
      ]
     },
     "execution_count": 33,
     "metadata": {},
     "output_type": "execute_result"
    }
   ],
   "source": [
    "# In a single line operation\n",
    "list(set(restaurants))"
   ]
  },
  {
   "cell_type": "markdown",
   "id": "197a4f56-43da-4449-a07a-0850d8be8da0",
   "metadata": {},
   "source": [
    "Set of Sets"
   ]
  },
  {
   "cell_type": "code",
   "execution_count": 32,
   "id": "1ab09a27-0369-4f9d-920a-f505cb02ef17",
   "metadata": {},
   "outputs": [
    {
     "ename": "TypeError",
     "evalue": "unhashable type: 'set'",
     "output_type": "error",
     "traceback": [
      "\u001b[1;31m---------------------------------------------------------------------------\u001b[0m",
      "\u001b[1;31mTypeError\u001b[0m                                 Traceback (most recent call last)",
      "Cell \u001b[1;32mIn [32], line 1\u001b[0m\n\u001b[1;32m----> 1\u001b[0m {{\u001b[38;5;241m1\u001b[39m, \u001b[38;5;241m2\u001b[39m}, {\u001b[38;5;241m3\u001b[39m, \u001b[38;5;241m4\u001b[39m}}\n",
      "\u001b[1;31mTypeError\u001b[0m: unhashable type: 'set'"
     ]
    }
   ],
   "source": [
    "{{1, 2}, {3, 4}}"
   ]
  },
  {
   "cell_type": "code",
   "execution_count": 35,
   "id": "35822826-dbdd-404b-a9fe-3dd5b2ede23f",
   "metadata": {},
   "outputs": [
    {
     "data": {
      "text/plain": [
       "{frozenset({3, 4}), frozenset({1, 2})}"
      ]
     },
     "execution_count": 35,
     "metadata": {},
     "output_type": "execute_result"
    }
   ],
   "source": [
    "# Instead of above method use frozenset\n",
    "{frozenset({1, 2}), frozenset({3, 4})}"
   ]
  },
  {
   "cell_type": "markdown",
   "id": "ab67133b-60b2-441b-a0b7-8794ab2acab6",
   "metadata": {},
   "source": [
    "Set Operations using methods and Builtins"
   ]
  },
  {
   "cell_type": "code",
   "execution_count": 36,
   "id": "50f5dca0-1194-4be8-a1af-273fe7878b18",
   "metadata": {},
   "outputs": [],
   "source": [
    "#Defining two sets a and b\n",
    "a = {1, 2, 2, 3, 4}\n",
    "b = {3, 3, 4, 4, 5}"
   ]
  },
  {
   "cell_type": "markdown",
   "id": "ee24ebcf-294c-44fe-8b05-bb6a4b2ac6aa",
   "metadata": {},
   "source": [
    "Note: {1} creates a set of 1 element, but {} creates an empty dict. The correct way to create an empty set is set()."
   ]
  },
  {
   "cell_type": "code",
   "execution_count": 37,
   "id": "fff23020-7583-4535-95df-ac711bed4a3e",
   "metadata": {},
   "outputs": [
    {
     "data": {
      "text/plain": [
       "{3, 4}"
      ]
     },
     "execution_count": 37,
     "metadata": {},
     "output_type": "execute_result"
    }
   ],
   "source": [
    "#Intersection\n",
    "a.intersection(b)"
   ]
  },
  {
   "cell_type": "code",
   "execution_count": 38,
   "id": "8fe46d12-7f4a-4e0b-8562-c9596de7980c",
   "metadata": {},
   "outputs": [
    {
     "data": {
      "text/plain": [
       "{1, 2, 3, 4, 5}"
      ]
     },
     "execution_count": 38,
     "metadata": {},
     "output_type": "execute_result"
    }
   ],
   "source": [
    "# Union\n",
    "a.union(b)"
   ]
  },
  {
   "cell_type": "code",
   "execution_count": 39,
   "id": "160de107-8917-484c-8c5d-b395f5756f3e",
   "metadata": {},
   "outputs": [
    {
     "data": {
      "text/plain": [
       "{1, 2}"
      ]
     },
     "execution_count": 39,
     "metadata": {},
     "output_type": "execute_result"
    }
   ],
   "source": [
    "#Difference\n",
    "a.difference(b)"
   ]
  },
  {
   "cell_type": "code",
   "execution_count": 40,
   "id": "c4d46083-73c9-4f2d-bf14-db18b3096b51",
   "metadata": {},
   "outputs": [
    {
     "data": {
      "text/plain": [
       "{5}"
      ]
     },
     "execution_count": 40,
     "metadata": {},
     "output_type": "execute_result"
    }
   ],
   "source": [
    "b.difference(a)"
   ]
  },
  {
   "cell_type": "code",
   "execution_count": 41,
   "id": "5f371d40-7a44-4c01-b066-5ee810343bf5",
   "metadata": {},
   "outputs": [
    {
     "data": {
      "text/plain": [
       "{1, 2, 5}"
      ]
     },
     "execution_count": 41,
     "metadata": {},
     "output_type": "execute_result"
    }
   ],
   "source": [
    "#Symmetric Difference\n",
    "a.symmetric_difference(b)"
   ]
  },
  {
   "cell_type": "code",
   "execution_count": 42,
   "id": "b010cf2f-fd56-46f6-85a9-1d8bdd39b452",
   "metadata": {},
   "outputs": [
    {
     "data": {
      "text/plain": [
       "{1, 2, 5}"
      ]
     },
     "execution_count": 42,
     "metadata": {},
     "output_type": "execute_result"
    }
   ],
   "source": [
    "b.symmetric_difference(a)"
   ]
  },
  {
   "cell_type": "markdown",
   "id": "d3455fea-6522-45c2-bc14-ef2d604b9956",
   "metadata": {},
   "source": [
    "Note: a.symmetric_difference(b) == b.symmetric_difference(a)"
   ]
  },
  {
   "cell_type": "markdown",
   "id": "db7e8b6a-e4be-4593-be12-5a55a9f3747b",
   "metadata": {},
   "source": [
    "Subset and Superset"
   ]
  },
  {
   "cell_type": "code",
   "execution_count": 43,
   "id": "044a157f-5d81-4df2-8f97-4ec815e2d8b5",
   "metadata": {},
   "outputs": [
    {
     "data": {
      "text/plain": [
       "True"
      ]
     },
     "execution_count": 43,
     "metadata": {},
     "output_type": "execute_result"
    }
   ],
   "source": [
    "c = {1, 2}\n",
    "c.issubset(a) # tests whether each element of c is in a."
   ]
  },
  {
   "cell_type": "code",
   "execution_count": 44,
   "id": "143fa79e-a4be-4148-9d3f-1fd1540a6817",
   "metadata": {},
   "outputs": [
    {
     "data": {
      "text/plain": [
       "True"
      ]
     },
     "execution_count": 44,
     "metadata": {},
     "output_type": "execute_result"
    }
   ],
   "source": [
    "a.issuperset(c) # tests whether each element of c is in a."
   ]
  },
  {
   "cell_type": "markdown",
   "id": "2eb0729e-91e8-44ef-bb70-3e0bb8488980",
   "metadata": {},
   "source": [
    "Or you can use operators as shown in before examples for these operations."
   ]
  },
  {
   "cell_type": "markdown",
   "id": "b6022b4d-ed3b-48c3-9a42-d3beba66a8d6",
   "metadata": {},
   "source": [
    "Disjoint sets"
   ]
  },
  {
   "cell_type": "code",
   "execution_count": 46,
   "id": "01fa82b2-ab35-4f9c-818f-1b7010ab62b2",
   "metadata": {},
   "outputs": [
    {
     "data": {
      "text/plain": [
       "False"
      ]
     },
     "execution_count": 46,
     "metadata": {},
     "output_type": "execute_result"
    }
   ],
   "source": [
    "d = {5, 6}\n",
    "a.isdisjoint(b) # {2, 3, 4} are is both sets"
   ]
  },
  {
   "cell_type": "code",
   "execution_count": 47,
   "id": "ffbf4c0a-d97c-459b-b266-b2591811579d",
   "metadata": {},
   "outputs": [
    {
     "data": {
      "text/plain": [
       "True"
      ]
     },
     "execution_count": 47,
     "metadata": {},
     "output_type": "execute_result"
    }
   ],
   "source": [
    "a.isdisjoint(d)"
   ]
  },
  {
   "cell_type": "markdown",
   "id": "54af7635-ec21-4471-a7fa-a3c9af09601f",
   "metadata": {},
   "source": [
    "Sets a and d are disjoint if no element in a is also in d and vice versa."
   ]
  },
  {
   "cell_type": "code",
   "execution_count": 48,
   "id": "089c93ad-a50c-49e9-aa4c-b12f66af483c",
   "metadata": {},
   "outputs": [
    {
     "data": {
      "text/plain": [
       "True"
      ]
     },
     "execution_count": 48,
     "metadata": {},
     "output_type": "execute_result"
    }
   ],
   "source": [
    "# This is an equivalent check, but less efficient\n",
    "len(a & d) == 0"
   ]
  },
  {
   "cell_type": "code",
   "execution_count": 49,
   "id": "400d12f6-a40b-428b-b2b8-a570ffd3e5b4",
   "metadata": {},
   "outputs": [
    {
     "data": {
      "text/plain": [
       "True"
      ]
     },
     "execution_count": 49,
     "metadata": {},
     "output_type": "execute_result"
    }
   ],
   "source": [
    "# This is even less efficient\n",
    "a & d == set()"
   ]
  },
  {
   "cell_type": "code",
   "execution_count": 50,
   "id": "bc04e49b-3bce-4fdb-98de-825b226aba3c",
   "metadata": {},
   "outputs": [
    {
     "data": {
      "text/plain": [
       "True"
      ]
     },
     "execution_count": 50,
     "metadata": {},
     "output_type": "execute_result"
    }
   ],
   "source": [
    "# Testing membership\n",
    "1 in a"
   ]
  },
  {
   "cell_type": "code",
   "execution_count": 51,
   "id": "41ff333d-2721-4180-8576-bc69d0c4652b",
   "metadata": {},
   "outputs": [
    {
     "data": {
      "text/plain": [
       "False"
      ]
     },
     "execution_count": 51,
     "metadata": {},
     "output_type": "execute_result"
    }
   ],
   "source": [
    "6 in a"
   ]
  },
  {
   "cell_type": "code",
   "execution_count": 52,
   "id": "555cb05c-c750-464f-9911-369af102e535",
   "metadata": {},
   "outputs": [
    {
     "data": {
      "text/plain": [
       "4"
      ]
     },
     "execution_count": 52,
     "metadata": {},
     "output_type": "execute_result"
    }
   ],
   "source": [
    "#Length\n",
    "len(a)"
   ]
  },
  {
   "cell_type": "code",
   "execution_count": 53,
   "id": "f3e50a9d-0291-4fe3-ae4a-90d3f31f6d6e",
   "metadata": {},
   "outputs": [
    {
     "data": {
      "text/plain": [
       "3"
      ]
     },
     "execution_count": 53,
     "metadata": {},
     "output_type": "execute_result"
    }
   ],
   "source": [
    "len(b)"
   ]
  },
  {
   "cell_type": "markdown",
   "id": "7d7524a1-f9db-4ca9-86c3-3ddcfb883e83",
   "metadata": {},
   "source": [
    "Sets versus multisets"
   ]
  },
  {
   "cell_type": "markdown",
   "id": "4f05f43d-e700-4501-bab2-56ca4aab2e9f",
   "metadata": {},
   "source": [
    "Sets are unordered collections of distinct elements. by saving the strings as set data structure we can lose the information on the fact that 'b' occurs twice while we sometimes want to work with unordered collections so saving the elements to a list would retain this information."
   ]
  },
  {
   "cell_type": "code",
   "execution_count": 54,
   "id": "7e92dd9d-6c0a-42bf-a40c-6c75571223b0",
   "metadata": {},
   "outputs": [
    {
     "data": {
      "text/plain": [
       "{'a', 'b', 'c'}"
      ]
     },
     "execution_count": 54,
     "metadata": {},
     "output_type": "execute_result"
    }
   ],
   "source": [
    "setA = {'a', 'b', 'b', 'c'}\n",
    "setA"
   ]
  },
  {
   "cell_type": "code",
   "execution_count": 55,
   "id": "557a7d04-98ff-49dc-ac91-d3d445c52f09",
   "metadata": {},
   "outputs": [
    {
     "data": {
      "text/plain": [
       "['a', 'b', 'b', 'c']"
      ]
     },
     "execution_count": 55,
     "metadata": {},
     "output_type": "execute_result"
    }
   ],
   "source": [
    "listA = ['a', 'b', 'b', 'c']\n",
    "listA"
   ]
  },
  {
   "cell_type": "markdown",
   "id": "e795473f-4bb8-4416-b3cc-a3d864ba64c9",
   "metadata": {},
   "source": [
    "For implementing multisets Python provides the counter class from the collections module."
   ]
  },
  {
   "cell_type": "code",
   "execution_count": 56,
   "id": "7b363548-9f94-41df-8f43-d93a1048f9ea",
   "metadata": {},
   "outputs": [
    {
     "data": {
      "text/plain": [
       "Counter({'a': 1, 'b': 2, 'c': 1})"
      ]
     },
     "execution_count": 56,
     "metadata": {},
     "output_type": "execute_result"
    }
   ],
   "source": [
    "from collections import Counter\n",
    "counterA = Counter(['a', 'b', 'b', 'c'])\n",
    "counterA"
   ]
  },
  {
   "cell_type": "markdown",
   "id": "9493a202-bd6f-4077-956e-4e452df919db",
   "metadata": {},
   "source": [
    "Counter is a dictionary where elements are stored as dictionary keys and their counts are stored as dictionary values. And as all dictionaries, it is an unordered collection."
   ]
  },
  {
   "cell_type": "code",
   "execution_count": 57,
   "id": "fdf643d6-a394-4ebb-83cd-79488f64e8d1",
   "metadata": {},
   "outputs": [
    {
     "name": "stdin",
     "output_type": "stream",
     "text": [
      "enter your string here:  HONEY BEES ARE JUST BEES NOT BEIBERS ALSO NOT HONEY\n"
     ]
    },
    {
     "name": "stdout",
     "output_type": "stream",
     "text": [
      "{'HONEY': 2, 'BEES': 2, 'ARE': 1, 'JUST': 1, 'NOT': 2, 'BEIBERS': 1, 'ALSO': 1}\n"
     ]
    }
   ],
   "source": [
    "# Example\n",
    "def freq():\n",
    "    str = input(\"enter your string here: \")\n",
    "    lis = str.split()\n",
    "    d ={}\n",
    "    for i in lis:\n",
    "        if i not in d.keys():\n",
    "            d[i]=0\n",
    "        d[i]=d[i]+1\n",
    "    print(d)\n",
    "freq()"
   ]
  },
  {
   "cell_type": "code",
   "execution_count": 58,
   "id": "6800dc88-01f3-4878-b51a-25d8309f9233",
   "metadata": {},
   "outputs": [
    {
     "name": "stdin",
     "output_type": "stream",
     "text": [
      "Enter ur string here:  HONEY BEES ARE JUST BEES NOT BEIBERS ALSO NOT HONEY\n"
     ]
    },
    {
     "data": {
      "text/plain": [
       "Counter({'HONEY': 2,\n",
       "         'BEES': 2,\n",
       "         'ARE': 1,\n",
       "         'JUST': 1,\n",
       "         'NOT': 2,\n",
       "         'BEIBERS': 1,\n",
       "         'ALSO': 1})"
      ]
     },
     "execution_count": 58,
     "metadata": {},
     "output_type": "execute_result"
    }
   ],
   "source": [
    "from collections import Counter\n",
    "def freq():\n",
    "    str = input(\"Enter ur string here: \")\n",
    "    lis = str.split()\n",
    "    counterA = Counter(lis)\n",
    "    return counterA\n",
    "freq()"
   ]
  }
 ],
 "metadata": {
  "kernelspec": {
   "display_name": "Python 3 (ipykernel)",
   "language": "python",
   "name": "python3"
  },
  "language_info": {
   "codemirror_mode": {
    "name": "ipython",
    "version": 3
   },
   "file_extension": ".py",
   "mimetype": "text/x-python",
   "name": "python",
   "nbconvert_exporter": "python",
   "pygments_lexer": "ipython3",
   "version": "3.10.7"
  }
 },
 "nbformat": 4,
 "nbformat_minor": 5
}
