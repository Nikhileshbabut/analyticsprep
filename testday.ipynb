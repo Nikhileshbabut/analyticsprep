{
 "cells": [
  {
   "cell_type": "code",
   "execution_count": 3,
   "id": "eb85bc07-9547-45eb-a31f-88906fec82aa",
   "metadata": {},
   "outputs": [
    {
     "data": {
      "text/plain": [
       "'Ordered data types like lists, tuples and strings are considered as sequences as we can access them sequentially \\nwhere unordered data types like dictionaries and sets are known as collections.'"
      ]
     },
     "execution_count": 3,
     "metadata": {},
     "output_type": "execute_result"
    }
   ],
   "source": [
    "a = 2\n",
    "a = 1\n",
    "b = 2\n",
    "c = 3\n",
    "a, b, c = 1, 2, 3\n",
    "#why indentation is used?\n",
    "'''Indentation in other languages is used for readability in code where as in python it is a must to follow concept if not followed \n",
    "it will throw error in python it is used to indicate block of code.'''\n",
    "#what are sequences and collections in python?\n",
    "'''Ordered data types like lists, tuples and strings are considered as sequences as we can access them sequentially \n",
    "where unordered data types like dictionaries and sets are known as collections.'''"
   ]
  },
  {
   "cell_type": "code",
   "execution_count": 2,
   "id": "800febaa-8cb7-4f8e-8fc9-ed84a9ffbf2f",
   "metadata": {},
   "outputs": [
    {
     "name": "stdout",
     "output_type": "stream",
     "text": [
      "<class 'str'>\n"
     ]
    }
   ],
   "source": [
    "a = '123'\n",
    "print(type(a))"
   ]
  },
  {
   "cell_type": "code",
   "execution_count": 3,
   "id": "a1501f77-f90d-4aa5-a56c-9c94b51c2e55",
   "metadata": {},
   "outputs": [
    {
     "name": "stdout",
     "output_type": "stream",
     "text": [
      "<class 'int'>\n"
     ]
    }
   ],
   "source": [
    "b = int(a)\n",
    "print(type(b))"
   ]
  },
  {
   "cell_type": "code",
   "execution_count": 4,
   "id": "6837f870-41a3-4ff8-b7a5-944e42c85c83",
   "metadata": {},
   "outputs": [],
   "source": [
    "#mutable object with example?\n",
    "a = [ 1, 2, 3, 'a', 4]\n",
    "b = (1, 2, 3, 'a', 5)\n",
    "c = {'a':1, 'b':2, 'c':3, 'd':4, 'e':5}"
   ]
  },
  {
   "cell_type": "code",
   "execution_count": 6,
   "id": "2625824d-6514-4586-a6a9-bb7b15b44ce3",
   "metadata": {},
   "outputs": [
    {
     "name": "stdin",
     "output_type": "stream",
     "text": [
      " 2\n",
      " 3\n"
     ]
    },
    {
     "data": {
      "text/plain": [
       "5"
      ]
     },
     "execution_count": 6,
     "metadata": {},
     "output_type": "execute_result"
    }
   ],
   "source": [
    "def name():\n",
    "    a = int(input())\n",
    "    b = int(input())\n",
    "    c = a+b\n",
    "    return c\n",
    "name()"
   ]
  },
  {
   "cell_type": "code",
   "execution_count": 8,
   "id": "bc53599b-1ddb-4cec-a94a-1a7e2333647d",
   "metadata": {},
   "outputs": [
    {
     "name": "stdout",
     "output_type": "stream",
     "text": [
      "T\n",
      "H\n",
      "O\n",
      "N\n"
     ]
    }
   ],
   "source": [
    "def com():\n",
    "    a= 'PYTHON'\n",
    "    b= 'JAVATHON'\n",
    "    \n",
    "    for i in a:\n",
    "        for j in b:\n",
    "            if i==j:\n",
    "                print(i)\n",
    "com()"
   ]
  },
  {
   "cell_type": "code",
   "execution_count": 10,
   "id": "17c19371-1a3d-4186-a6f4-3924496071b7",
   "metadata": {},
   "outputs": [
    {
     "name": "stdout",
     "output_type": "stream",
     "text": [
      "{'H', 'N', 'T', 'O'}\n"
     ]
    }
   ],
   "source": [
    "a= 'PYTHON'\n",
    "b= 'JAVATHON'\n",
    "set1= set(a)\n",
    "set2 = set(b)\n",
    "c = set1 & set2\n",
    "print(c)\n"
   ]
  },
  {
   "cell_type": "code",
   "execution_count": 15,
   "id": "1eb5708e-fbed-43f7-8705-8a656aeb7900",
   "metadata": {},
   "outputs": [
    {
     "name": "stdin",
     "output_type": "stream",
     "text": [
      "Enter your string here:  HONEY BEES ARE JUST BEES NOT BEIBERS ALSO NOT HONEY\n"
     ]
    },
    {
     "name": "stdout",
     "output_type": "stream",
     "text": [
      "{'HONEY': 2, 'BEES': 2, 'ARE': 1, 'JUST': 1, 'NOT': 2, 'BEIBERS': 1, 'ALSO': 1}\n"
     ]
    }
   ],
   "source": [
    "def freq():\n",
    "    str = input(\"Enter your string here: \")\n",
    "    lis = str.split()\n",
    "    d ={}\n",
    "    \n",
    "    for i in lis:\n",
    "        if i not in d.keys():\n",
    "            d[i] = 0\n",
    "        d[i] = d[i]+1\n",
    "    print(d)\n",
    "freq()"
   ]
  },
  {
   "cell_type": "code",
   "execution_count": null,
   "id": "e6eee330-eb60-43ee-adb1-471e1a7dab19",
   "metadata": {},
   "outputs": [],
   "source": [
    "def freq():\n",
    "    str = input(\"enter your string here: \")\n",
    "    lis = str.split()\n",
    "    d ={}\n",
    "    for i in lis:\n",
    "        if i not in d.keys():\n",
    "            d[i]=0\n",
    "        d[i]=d[i]+1\n",
    "    print(d)\n",
    "freq()"
   ]
  },
  {
   "cell_type": "code",
   "execution_count": 1,
   "id": "b68b198c-f6e3-49e5-880e-fd9a3ba20766",
   "metadata": {},
   "outputs": [
    {
     "name": "stdin",
     "output_type": "stream",
     "text": [
      " 3\n"
     ]
    },
    {
     "name": "stdout",
     "output_type": "stream",
     "text": [
      "6\n"
     ]
    }
   ],
   "source": [
    "def sum():\n",
    "    a = int(input())\n",
    "    b = 0\n",
    "    for i in range(1, a+1):\n",
    "        b += i\n",
    "    print(b)\n",
    "         \n",
    "sum()"
   ]
  },
  {
   "cell_type": "code",
   "execution_count": null,
   "id": "07fcfc3b-245c-4af0-a010-30e3183b59b0",
   "metadata": {},
   "outputs": [],
   "source": []
  }
 ],
 "metadata": {
  "kernelspec": {
   "display_name": "Python 3 (ipykernel)",
   "language": "python",
   "name": "python3"
  },
  "language_info": {
   "codemirror_mode": {
    "name": "ipython",
    "version": 3
   },
   "file_extension": ".py",
   "mimetype": "text/x-python",
   "name": "python",
   "nbconvert_exporter": "python",
   "pygments_lexer": "ipython3",
   "version": "3.10.7"
  }
 },
 "nbformat": 4,
 "nbformat_minor": 5
}
