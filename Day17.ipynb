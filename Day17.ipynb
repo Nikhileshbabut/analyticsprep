{
 "cells": [
  {
   "cell_type": "markdown",
   "id": "be1600c6-c753-4aff-a24e-0886e0c7d040",
   "metadata": {},
   "source": [
    "Iterables and Iterators"
   ]
  },
  {
   "cell_type": "markdown",
   "id": "28c7c459-d89d-442e-8c95-c96856baa5ae",
   "metadata": {},
   "source": [
    "Iterator vs Iterable vs Generator"
   ]
  },
  {
   "cell_type": "markdown",
   "id": "1fee1287-1d7e-4631-a8e5-398765feb631",
   "metadata": {},
   "source": [
    "An iterable is an object that can return an iterator., Any object with state that has an __iter__ method and returns an iterator is an iterable. "
   ]
  },
  {
   "cell_type": "code",
   "execution_count": 2,
   "id": "0795d5dd-ebe2-42f0-b771-88ef039b837f",
   "metadata": {},
   "outputs": [],
   "source": [
    "#Iterable classes:\n",
    "# Iterable classes define an __iter__ and a __next__ method.\n",
    "class MyIterable:\n",
    "    def __iter__(self):\n",
    "        return self\n",
    "    def __next__(self):\n",
    "        #code\n",
    "        pass"
   ]
  },
  {
   "cell_type": "markdown",
   "id": "52b86419-4bb3-4b11-b504-36bcf0fd37af",
   "metadata": {},
   "source": [
    "Extract values one by one"
   ]
  },
  {
   "cell_type": "code",
   "execution_count": 4,
   "id": "fe0ee412-fdb0-458c-8f6c-a1b138b60362",
   "metadata": {},
   "outputs": [
    {
     "name": "stdout",
     "output_type": "stream",
     "text": [
      "1\n"
     ]
    }
   ],
   "source": [
    "s = {1, 2} # or list or generator or even iterator \n",
    "i = iter(s) # get iterator\n",
    "a = next(i) # a = 1\n",
    "print(a)"
   ]
  },
  {
   "cell_type": "code",
   "execution_count": 5,
   "id": "a312592c-394b-4448-a3a0-711f60437b47",
   "metadata": {},
   "outputs": [
    {
     "data": {
      "text/plain": [
       "2"
      ]
     },
     "execution_count": 5,
     "metadata": {},
     "output_type": "execute_result"
    }
   ],
   "source": [
    "b = next(i)\n",
    "b"
   ]
  },
  {
   "cell_type": "code",
   "execution_count": 6,
   "id": "3070c1bf-666b-4d1e-8ef4-97a42910cf23",
   "metadata": {},
   "outputs": [
    {
     "ename": "StopIteration",
     "evalue": "",
     "output_type": "error",
     "traceback": [
      "\u001b[1;31m---------------------------------------------------------------------------\u001b[0m",
      "\u001b[1;31mStopIteration\u001b[0m                             Traceback (most recent call last)",
      "Cell \u001b[1;32mIn [6], line 1\u001b[0m\n\u001b[1;32m----> 1\u001b[0m c \u001b[38;5;241m=\u001b[39m \u001b[38;5;28;43mnext\u001b[39;49m\u001b[43m(\u001b[49m\u001b[43mi\u001b[49m\u001b[43m)\u001b[49m\n",
      "\u001b[1;31mStopIteration\u001b[0m: "
     ]
    }
   ],
   "source": [
    "c = next(i)"
   ]
  },
  {
   "cell_type": "markdown",
   "id": "6235ef22-8cb7-4843-ac02-1292923c5aa4",
   "metadata": {},
   "source": [
    "Iterating over entire iterable"
   ]
  },
  {
   "cell_type": "code",
   "execution_count": 7,
   "id": "25863803-d2b2-4f62-b5a1-c0415a65284a",
   "metadata": {},
   "outputs": [
    {
     "name": "stdout",
     "output_type": "stream",
     "text": [
      "1\n",
      "2\n",
      "3\n"
     ]
    }
   ],
   "source": [
    "s = {1, 2, 3}\n",
    "# get every element in s\n",
    "for a in s:\n",
    "    print(a)"
   ]
  },
  {
   "cell_type": "code",
   "execution_count": 8,
   "id": "399c7515-401b-450f-bd6b-6b4f4c41bab5",
   "metadata": {},
   "outputs": [
    {
     "name": "stdout",
     "output_type": "stream",
     "text": [
      "[1, 2, 3]\n"
     ]
    }
   ],
   "source": [
    "# copy into list \n",
    "l1 = list(s)\n",
    "print(l1)"
   ]
  },
  {
   "cell_type": "code",
   "execution_count": 12,
   "id": "55dd8ca7-5944-4754-b76c-fca0b3caa7ce",
   "metadata": {},
   "outputs": [],
   "source": [
    "# use list comprehension\n",
    "l2 = [a*2 for a in s if a>2] # 12 = [6]"
   ]
  },
  {
   "cell_type": "markdown",
   "id": "ef09d6b1-1c0e-44be-8a8d-9bfa4b3e51e0",
   "metadata": {},
   "source": [
    "Verify only one element in iterable"
   ]
  },
  {
   "cell_type": "code",
   "execution_count": 20,
   "id": "dd527850-8666-4033-9202-43a2d68cf3ae",
   "metadata": {},
   "outputs": [
    {
     "ename": "NameError",
     "evalue": "name 'iterable' is not defined",
     "output_type": "error",
     "traceback": [
      "\u001b[1;31m---------------------------------------------------------------------------\u001b[0m",
      "\u001b[1;31mNameError\u001b[0m                                 Traceback (most recent call last)",
      "Cell \u001b[1;32mIn [20], line 1\u001b[0m\n\u001b[1;32m----> 1\u001b[0m a, \u001b[38;5;241m=\u001b[39m \u001b[43miterable\u001b[49m\n\u001b[0;32m      2\u001b[0m \u001b[38;5;28;01mdef\u001b[39;00m \u001b[38;5;21mfoo\u001b[39m():\n\u001b[0;32m      3\u001b[0m     \u001b[38;5;28;01myield\u001b[39;00m \u001b[38;5;241m1\u001b[39m\n",
      "\u001b[1;31mNameError\u001b[0m: name 'iterable' is not defined"
     ]
    }
   ],
   "source": [
    "a, = iterable\n",
    "def foo():\n",
    "    yield 1\n",
    "a, = foo() # a = 1\n",
    "nums = [1, 2, 3]\n",
    "a, = nums   #valueError: too many values to unpack"
   ]
  },
  {
   "cell_type": "markdown",
   "id": "62a05230-37ed-49d2-902c-e4b2dc05e1df",
   "metadata": {},
   "source": [
    "What can be iterable"
   ]
  },
  {
   "cell_type": "raw",
   "id": "aab6907a-f8ed-4626-97cd-ac9efcb9a9e5",
   "metadata": {},
   "source": [
    "[1, 2, 3] # list, iterate over items\n",
    "(1, 2, 3) # tuple\n",
    "{1, 2, 3} # set\n",
    "{1: 2, 3: 4} # dict, iterate over keys"
   ]
  },
  {
   "cell_type": "markdown",
   "id": "9d849f5b-b2d7-4aec-b2d2-f76ef8870f87",
   "metadata": {},
   "source": [
    "# Generators return iterables:\n",
    "def foo(): # foo isn't iterable yet \n",
    "    yeild 1\n",
    "res = foo()  #...but res already is "
   ]
  },
  {
   "cell_type": "markdown",
   "id": "b89257cc-757c-4bb9-ad60-dbfae7abd170",
   "metadata": {},
   "source": [
    "Iterator isn't reentrant!"
   ]
  },
  {
   "cell_type": "code",
   "execution_count": 24,
   "id": "5b4bcf9b-8d3e-4e59-9432-aa0b65edcb78",
   "metadata": {},
   "outputs": [
    {
     "name": "stdout",
     "output_type": "stream",
     "text": [
      "1\n"
     ]
    },
    {
     "data": {
      "text/plain": [
       "<generator object gen at 0x0000024483C96B20>"
      ]
     },
     "execution_count": 24,
     "metadata": {},
     "output_type": "execute_result"
    }
   ],
   "source": [
    "def gen():\n",
    "    yield 1\n",
    "iterable = gen()\n",
    "for a in iterable:\n",
    "    print(a)\n",
    "# What was the first item of iterable? No way to get it now.\n",
    "# Only to get a new iterator\n",
    "gen()"
   ]
  },
  {
   "cell_type": "markdown",
   "id": "d0d31c3d-187d-4d7b-985f-ce9d556f8399",
   "metadata": {},
   "source": [
    "Partial functions"
   ]
  },
  {
   "cell_type": "markdown",
   "id": "95c302df-2de5-42b9-84bc-d398e71eebe7",
   "metadata": {},
   "source": [
    "Raise the power"
   ]
  },
  {
   "cell_type": "code",
   "execution_count": 25,
   "id": "2e126ba0-9b4a-46ba-98aa-36a771997bd5",
   "metadata": {},
   "outputs": [],
   "source": [
    "def raise_power(x, y):\n",
    "    return x**y"
   ]
  },
  {
   "cell_type": "code",
   "execution_count": 31,
   "id": "0bcf7a0e-d463-4d30-9d88-29afe8a8b648",
   "metadata": {},
   "outputs": [],
   "source": [
    "# if y be one of [3, 4, 5]\n",
    "def rais(x, y):\n",
    "    if y in (3, 4, 5):\n",
    "        return x**Y\n",
    "    raise NumberNotInRangeException(\"You should provide a valid exponent\")"
   ]
  },
  {
   "cell_type": "markdown",
   "id": "24ec405e-b49d-4ac1-8bd4-720271fbf585",
   "metadata": {},
   "source": [
    "# implementing cases partially\n",
    "from functors import partial\n",
    "raise_to_three = parital(raise, y=3)\n",
    "raise_to_four = parital(raise, y=4)\n",
    "raise_to_five = parital(raise, y=5)"
   ]
  },
  {
   "cell_type": "markdown",
   "id": "2d6d5122-ac19-4fae-88a6-108e6814c0e3",
   "metadata": {},
   "source": [
    "Decorators"
   ]
  },
  {
   "cell_type": "raw",
   "id": "f4eec445-c5d1-4c85-9ef7-50971f0745cf",
   "metadata": {},
   "source": [
    "Decorator functions are software design patterns., They dynamically alter the funcionality of a function, method, or class without having to directly use subclasses or change the source code of the decorated function. "
   ]
  },
  {
   "cell_type": "code",
   "execution_count": 33,
   "id": "fd394fd5-ebc6-4636-8ee7-fd1e13786545",
   "metadata": {},
   "outputs": [],
   "source": [
    "# Decorator function\n",
    "# This simplest decorator does nothing to the function being decorated. Such\n",
    "# minimal decorators can occasionally be used as a kind of code markers.\n",
    "def super_secret_function(f):\n",
    "    return f\n",
    "@super_secret_function\n",
    "def my_function():\n",
    "    print(\"This is my secret function\")"
   ]
  },
  {
   "cell_type": "raw",
   "id": "4aefa6e6-c992-4ba0-95c2-3a2ccec379e7",
   "metadata": {},
   "source": [
    "The @-notation is syntactic sugar that is equivalent to the following:\n",
    "my_function = super_secret_function(my_function)"
   ]
  },
  {
   "cell_type": "raw",
   "id": "5d79c9fa-3ffb-477a-8518-14d173587b47",
   "metadata": {},
   "source": [
    "This \"unsugared\" syntax makes\n",
    "it clear why the decorator function takes a function as an argument, and why it should return another function"
   ]
  },
  {
   "cell_type": "code",
   "execution_count": 34,
   "id": "b470d39b-28c9-449b-b6eb-0ffa55e4abfa",
   "metadata": {},
   "outputs": [
    {
     "ename": "TypeError",
     "evalue": "'NoneType' object is not callable",
     "output_type": "error",
     "traceback": [
      "\u001b[1;31m---------------------------------------------------------------------------\u001b[0m",
      "\u001b[1;31mTypeError\u001b[0m                                 Traceback (most recent call last)",
      "Cell \u001b[1;32mIn [34], line 10\u001b[0m\n\u001b[0;32m      7\u001b[0m \u001b[38;5;129m@disabled\u001b[39m\n\u001b[0;32m      8\u001b[0m \u001b[38;5;28;01mdef\u001b[39;00m \u001b[38;5;21mmy_function\u001b[39m():\n\u001b[0;32m      9\u001b[0m     \u001b[38;5;28mprint\u001b[39m(\u001b[38;5;124m\"\u001b[39m\u001b[38;5;124mThis function can no longer be called...\u001b[39m\u001b[38;5;124m\"\u001b[39m)\n\u001b[1;32m---> 10\u001b[0m \u001b[43mmy_function\u001b[49m\u001b[43m(\u001b[49m\u001b[43m)\u001b[49m\n",
      "\u001b[1;31mTypeError\u001b[0m: 'NoneType' object is not callable"
     ]
    }
   ],
   "source": [
    "def disabled(f):\n",
    "    \"\"\"\n",
    "    This function returns nothing, and hence removes the decorated function\n",
    "    from the local scope.\n",
    "    \"\"\"\n",
    "    pass\n",
    "@disabled\n",
    "def my_function():\n",
    "    print(\"This function can no longer be called...\")\n",
    "my_function()"
   ]
  },
  {
   "cell_type": "markdown",
   "id": "64c57748-f724-418b-ba20-01b8ffa4370a",
   "metadata": {},
   "source": [
    "Thus, we usually define a new function inside the decorator and return it. This new function would first do\n",
    "something that it needs to do, then call the original function, and finally process the return value."
   ]
  },
  {
   "cell_type": "code",
   "execution_count": 37,
   "id": "d200113c-4685-42cc-bce7-74b90a3005ae",
   "metadata": {},
   "outputs": [
    {
     "name": "stdout",
     "output_type": "stream",
     "text": [
      "(3, 5)\n",
      "{}\n",
      "15\n"
     ]
    }
   ],
   "source": [
    "# This is the decorator\n",
    "def print_args(func):\n",
    "    def inner_func(*args, **kwargs):\n",
    "        print(args)\n",
    "        print(kwargs)\n",
    "        return func(*args, **kwargs) # call the original function with its arguments.\n",
    "    return inner_func\n",
    "@print_args\n",
    "def multiply(num_a, num_b):\n",
    "    return num_a * num_b\n",
    "print(multiply(3, 5))\n",
    "# 'args' that the function receives is returned.\n",
    "# 'kwargs', empty because we didn't specify keyword arguments.\n",
    "# The result of the function is returned"
   ]
  },
  {
   "cell_type": "markdown",
   "id": "4c48e277-1ac5-4e0b-9166-353beab7656b",
   "metadata": {},
   "source": [
    "Decorator class"
   ]
  },
  {
   "cell_type": "raw",
   "id": "aa0eb527-29a3-4163-a0a9-1bc1bbdfcee1",
   "metadata": {},
   "source": [
    "As mentioned in the introduction, a decorator is a function that can be applied to another function to augment its\n",
    "behavior. The syntactic sugar is equivalent to the following: my_func = decorator(my_func). But what if the\n",
    "decorator was instead a class? The syntax would still work, except that now my_func gets replaced with an instance\n",
    "of the decorator class. If this class implements the __call__() magic method, then it would still be possible to use\n",
    "my_func as if it was a function:"
   ]
  },
  {
   "cell_type": "code",
   "execution_count": 38,
   "id": "8b4610a6-bc2d-495e-b9d8-6699f1966baa",
   "metadata": {},
   "outputs": [
    {
     "name": "stdout",
     "output_type": "stream",
     "text": [
      "Befor the function call.\n",
      "Inside the function.\n",
      "After the function call.\n"
     ]
    }
   ],
   "source": [
    "# Example\n",
    "class Decorator(object):\n",
    "    \"\"\"Simple decorator class.\"\"\"\n",
    "    def __init__(self, func):\n",
    "        self.func = func\n",
    "    def __call__(self, *args, **kwargs):\n",
    "        print('Befor the function call.')\n",
    "        res = self.func(*args, **kwargs)\n",
    "        print('After the function call.')\n",
    "        return res\n",
    "@Decorator\n",
    "def testfunc():\n",
    "    print('Inside the function.')\n",
    "testfunc()"
   ]
  },
  {
   "cell_type": "markdown",
   "id": "fe9d2125-2d6a-469a-87e0-86e8e1cb4c69",
   "metadata": {},
   "source": [
    "Note that a function decorated with a class decorator will no longer be considered a \"function\" from type-checking\n",
    "perspective:"
   ]
  },
  {
   "cell_type": "code",
   "execution_count": 39,
   "id": "a86dafb9-21bb-4f02-8648-59681badcd25",
   "metadata": {},
   "outputs": [
    {
     "data": {
      "text/plain": [
       "False"
      ]
     },
     "execution_count": 39,
     "metadata": {},
     "output_type": "execute_result"
    }
   ],
   "source": [
    "# example\n",
    "import types\n",
    "isinstance(testfunc, types.FunctionType)"
   ]
  },
  {
   "cell_type": "code",
   "execution_count": 40,
   "id": "7f6fba63-022d-46ef-8845-f49e3f08d749",
   "metadata": {},
   "outputs": [
    {
     "data": {
      "text/plain": [
       "__main__.Decorator"
      ]
     },
     "execution_count": 40,
     "metadata": {},
     "output_type": "execute_result"
    }
   ],
   "source": [
    "type(testfunc)"
   ]
  },
  {
   "cell_type": "markdown",
   "id": "76e129e8-1756-4230-b87e-65023348016c",
   "metadata": {},
   "source": [
    "Decorating Methods"
   ]
  },
  {
   "cell_type": "code",
   "execution_count": 41,
   "id": "ba52eb0a-a8df-45c5-9f91-008acac4f816",
   "metadata": {},
   "outputs": [
    {
     "name": "stdout",
     "output_type": "stream",
     "text": [
      "Inside the decorator.\n"
     ]
    }
   ],
   "source": [
    "from types import MethodType\n",
    "class Decorator(object):\n",
    "    def __init__(self, func):\n",
    "        self.func = func\n",
    "    def __call__(self, *args, **kwargs):\n",
    "        print('Inside the decorator.')\n",
    "        return self.func(*args, **kwargs)\n",
    "    def __get__(self, instance, cls):\n",
    "        # Return a Method if it is called on an instance\n",
    "        return self if instance is None else MethodType(self, instance)\n",
    "class Test(object):\n",
    "    @Decorator\n",
    "    def __init__(self):\n",
    "        pass\n",
    "a = Test()"
   ]
  },
  {
   "cell_type": "markdown",
   "id": "d9948f87-14f0-4460-a37c-d79dd99d46e8",
   "metadata": {},
   "source": [
    "Warning!\n",
    "Class Decorators only produce one instance for a specific function so decorating a method with a class decorator\n",
    "will share the same decorator between all instances of that class:"
   ]
  },
  {
   "cell_type": "code",
   "execution_count": 42,
   "id": "16c753a8-1a05-45fe-9700-5df635425798",
   "metadata": {},
   "outputs": [
    {
     "data": {
      "text/plain": [
       "'something was done'"
      ]
     },
     "execution_count": 42,
     "metadata": {},
     "output_type": "execute_result"
    }
   ],
   "source": [
    "from types import MethodType\n",
    "class CountCallsDecorator(object):\n",
    "    def __init__(self, func):\n",
    "        self.func = func\n",
    "        self.ncalls = 0 # Number of calls of this method\n",
    "    def __call__(self, *args, **kwargs):\n",
    "        self.ncalls += 1 # Increment the calls counter\n",
    "        return self.func(*args, **kwargs)\n",
    "    def __get__(self, instance, cls):\n",
    "        return self if instance is None else MethodType(self, instance)\n",
    "class Test(object):\n",
    "    def __init__(self):\n",
    "        pass\n",
    "    @CountCallsDecorator\n",
    "    def do_something(self):\n",
    "        return 'something was done'\n",
    "a = Test()\n",
    "a.do_something()"
   ]
  },
  {
   "cell_type": "code",
   "execution_count": 43,
   "id": "6e873281-f097-4317-97e1-ea81f55ceca5",
   "metadata": {},
   "outputs": [
    {
     "data": {
      "text/plain": [
       "1"
      ]
     },
     "execution_count": 43,
     "metadata": {},
     "output_type": "execute_result"
    }
   ],
   "source": [
    "a.do_something.ncalls"
   ]
  },
  {
   "cell_type": "code",
   "execution_count": 44,
   "id": "d5ef8005-ab1a-4f3f-9fbf-ae9602bfafed",
   "metadata": {},
   "outputs": [
    {
     "data": {
      "text/plain": [
       "'something was done'"
      ]
     },
     "execution_count": 44,
     "metadata": {},
     "output_type": "execute_result"
    }
   ],
   "source": [
    "b = Test()\n",
    "b.do_something()"
   ]
  },
  {
   "cell_type": "code",
   "execution_count": 45,
   "id": "59008d7c-a869-43b4-a10e-3b0c96105eda",
   "metadata": {},
   "outputs": [
    {
     "data": {
      "text/plain": [
       "2"
      ]
     },
     "execution_count": 45,
     "metadata": {},
     "output_type": "execute_result"
    }
   ],
   "source": [
    "b.do_something.ncalls"
   ]
  },
  {
   "cell_type": "markdown",
   "id": "2b0bff4b-1258-40f3-a9bc-5e9eaf2306c0",
   "metadata": {},
   "source": [
    "Decorator with arguments (decorator factory):\n",
    "A decorator takes just one argument: the function to be decorated. There is no way to pass other arguments.\n",
    "But additional arguments are often desired. The trick is then to make a function which takes arbitrary arguments\n",
    "GoalKicker.com – Python® Notes for Professionals 206\n",
    "and returns a decorator"
   ]
  },
  {
   "cell_type": "raw",
   "id": "20b3afff-ae96-43d5-a20b-381186184380",
   "metadata": {},
   "source": [
    "# Decorator functions\n",
    "def decoratorfactory(message):\n",
    "    def decorator(func):\n",
    "        def wrapped_func(*args, **kwargs):\n",
    "            print('The decorator wants to tell you: {}'.format(message))\n",
    "            return wrapped_func\n",
    "        return decorator\n",
    "@decoratorfactory('Hello world')\n",
    "def test():\n",
    "    pass\n",
    "test()"
   ]
  },
  {
   "cell_type": "code",
   "execution_count": 50,
   "id": "34a8d534-e9d3-4fc6-9f08-ab649abf45c0",
   "metadata": {},
   "outputs": [
    {
     "ename": "TypeError",
     "evalue": "'NoneType' object is not callable",
     "output_type": "error",
     "traceback": [
      "\u001b[1;31m---------------------------------------------------------------------------\u001b[0m",
      "\u001b[1;31mTypeError\u001b[0m                                 Traceback (most recent call last)",
      "Cell \u001b[1;32mIn [50], line 4\u001b[0m\n\u001b[0;32m      1\u001b[0m \u001b[38;5;129m@decoratorfactory\u001b[39m \u001b[38;5;66;03m# without parentheses\u001b[39;00m\n\u001b[0;32m      2\u001b[0m \u001b[38;5;28;01mdef\u001b[39;00m \u001b[38;5;21mtest\u001b[39m():\n\u001b[0;32m      3\u001b[0m     \u001b[38;5;28;01mpass\u001b[39;00m\n\u001b[1;32m----> 4\u001b[0m \u001b[43mtest\u001b[49m\u001b[43m(\u001b[49m\u001b[43m)\u001b[49m\n",
      "\u001b[1;31mTypeError\u001b[0m: 'NoneType' object is not callable"
     ]
    }
   ],
   "source": [
    "@decoratorfactory # without parentheses\n",
    "def test():\n",
    "    pass\n",
    "test()"
   ]
  },
  {
   "cell_type": "code",
   "execution_count": 51,
   "id": "8f966b90-b6a5-4089-90c7-899f0d267811",
   "metadata": {},
   "outputs": [
    {
     "name": "stdout",
     "output_type": "stream",
     "text": [
      "Inside the decorator with arguments (10,)\n"
     ]
    }
   ],
   "source": [
    "# Decorator classes\n",
    "def decoratorfactory(*decorator_args, **decorator_kwargs):\n",
    "    class Decorator(object):\n",
    "        def __init__(self, func):\n",
    "            self.func = func\n",
    "        def __call__(self, *args, **kwargs):\n",
    "            print('Inside the decorator with arguments {}'.format(decorator_args))\n",
    "            return self.func(*args, **kwargs)\n",
    "    return Decorator\n",
    "@decoratorfactory(10)\n",
    "def test():\n",
    "    pass\n",
    "test()"
   ]
  },
  {
   "cell_type": "markdown",
   "id": "a5edbd8a-db5d-4ccb-b3db-450532fca439",
   "metadata": {},
   "source": [
    "Making a decorator look like the decorated function"
   ]
  },
  {
   "cell_type": "code",
   "execution_count": 52,
   "id": "f0eb402d-d19f-4119-b14f-afb940d87130",
   "metadata": {},
   "outputs": [
    {
     "data": {
      "text/plain": [
       "'test'"
      ]
     },
     "execution_count": 52,
     "metadata": {},
     "output_type": "execute_result"
    }
   ],
   "source": [
    "from functools import wraps\n",
    "def decorator(func):\n",
    "    # Copies the docstring, name, annotations and module to the decorator\n",
    "    @wraps(func)\n",
    "    def wrapped_func(*args, **kwargs):\n",
    "        return func(*args, **kwargs)\n",
    "    return wrapped_func\n",
    "@decorator\n",
    "def test():\n",
    "    pass\n",
    "test.__name__"
   ]
  },
  {
   "cell_type": "code",
   "execution_count": 54,
   "id": "fb74b92b-0176-4c35-9a29-ab9724377d1f",
   "metadata": {},
   "outputs": [
    {
     "data": {
      "text/plain": [
       "'Docstring of test.'"
      ]
     },
     "execution_count": 54,
     "metadata": {},
     "output_type": "execute_result"
    }
   ],
   "source": [
    "# As a class\n",
    "class Decorator(object):\n",
    "    def __init__(self, func):\n",
    "        # copies name, module, annotations and docstring to the instance.\n",
    "        self._wrapped = wraps(func)(self)\n",
    "    def __call__(self, *args, **kwargs):\n",
    "        return self._wrapped(*args, **kwargs)\n",
    "@Decorator\n",
    "def test():\n",
    "    \"\"\"Docstring of test.\"\"\"\n",
    "    pass\n",
    "test.__doc__"
   ]
  },
  {
   "cell_type": "code",
   "execution_count": null,
   "id": "8a58d31e-7236-47fb-a5da-980e9213f830",
   "metadata": {},
   "outputs": [],
   "source": []
  }
 ],
 "metadata": {
  "kernelspec": {
   "display_name": "Python 3 (ipykernel)",
   "language": "python",
   "name": "python3"
  },
  "language_info": {
   "codemirror_mode": {
    "name": "ipython",
    "version": 3
   },
   "file_extension": ".py",
   "mimetype": "text/x-python",
   "name": "python",
   "nbconvert_exporter": "python",
   "pygments_lexer": "ipython3",
   "version": "3.10.7"
  }
 },
 "nbformat": 4,
 "nbformat_minor": 5
}
