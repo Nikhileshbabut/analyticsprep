{
 "cells": [
  {
   "cell_type": "markdown",
   "id": "a30c6bd9-b8a5-485d-9190-e808cd9441ea",
   "metadata": {},
   "source": [
    "Returning values from functions"
   ]
  },
  {
   "cell_type": "code",
   "execution_count": 1,
   "id": "9a100c0d-0633-448d-b371-179551b104c5",
   "metadata": {},
   "outputs": [
    {
     "name": "stdout",
     "output_type": "stream",
     "text": [
      "5\n"
     ]
    }
   ],
   "source": [
    "def give_me_five():\n",
    "    return 5\n",
    "print(give_me_five())"
   ]
  },
  {
   "cell_type": "code",
   "execution_count": 2,
   "id": "6fb6b9e4-eb7b-4496-a260-fbd4427f6c66",
   "metadata": {},
   "outputs": [
    {
     "name": "stdout",
     "output_type": "stream",
     "text": [
      "5\n"
     ]
    }
   ],
   "source": [
    "# other method\n",
    "num = give_me_five()\n",
    "print(num)"
   ]
  },
  {
   "cell_type": "code",
   "execution_count": 3,
   "id": "634d9da2-1ffb-483a-86f9-8a0772eaea91",
   "metadata": {},
   "outputs": [
    {
     "name": "stdout",
     "output_type": "stream",
     "text": [
      "15\n"
     ]
    }
   ],
   "source": [
    "# use the value for any operations\n",
    "print(give_me_five() + 10)"
   ]
  },
  {
   "cell_type": "markdown",
   "id": "a9a36ca7-d8a9-4d32-872f-89a816243b56",
   "metadata": {},
   "source": [
    "If return is encountered in the function the function will exited immediately and subsequent operations will not be evaluated:"
   ]
  },
  {
   "cell_type": "code",
   "execution_count": 4,
   "id": "076c6a0a-4587-4578-8b7f-81dcdd288544",
   "metadata": {},
   "outputs": [
    {
     "name": "stdout",
     "output_type": "stream",
     "text": [
      "5\n"
     ]
    }
   ],
   "source": [
    "def give_me_another_five():\n",
    "    return 5\n",
    "    print('This statement will not be printed. Ever.')\n",
    "print(give_me_another_five())"
   ]
  },
  {
   "cell_type": "code",
   "execution_count": 5,
   "id": "b8de59d2-49bd-4ed2-921b-8d5dbeba5bd6",
   "metadata": {},
   "outputs": [
    {
     "name": "stdout",
     "output_type": "stream",
     "text": [
      "5\n",
      "5\n"
     ]
    }
   ],
   "source": [
    "# To return multiple values (in the form of a tuple):\n",
    "def give_me_two_fives():\n",
    "    return 5, 5 # Return two 5\n",
    "first, second = give_me_two_fives()\n",
    "print(first)\n",
    "print(second)"
   ]
  },
  {
   "cell_type": "markdown",
   "id": "4703cf30-dc64-490e-afaa-4499c4f11598",
   "metadata": {},
   "source": [
    "A function with no return statement implicitly returns None. Similarly a function with a return statement, but no return value or variable returns None."
   ]
  },
  {
   "cell_type": "markdown",
   "id": "e84acb23-55ec-4319-8f0d-28f9a31679fb",
   "metadata": {},
   "source": [
    "Closures in Python are created by function calls. Here, the call to makeInc creates a binding for x that is referenced inside the function inc. Each call to makeInc creates a new instance of this function, but each instance has a link to a different binding of x."
   ]
  },
  {
   "cell_type": "code",
   "execution_count": 6,
   "id": "761d6aea-cf49-4f2b-a0c6-c2dca388d39f",
   "metadata": {},
   "outputs": [
    {
     "data": {
      "text/plain": [
       "6"
      ]
     },
     "execution_count": 6,
     "metadata": {},
     "output_type": "execute_result"
    }
   ],
   "source": [
    "def makeInc(x):\n",
    "    def inc(y):\n",
    "        # x is \"attached\" in the definition of inc\n",
    "        return y + x\n",
    "    return inc\n",
    "incOne = makeInc(1)\n",
    "incFive = makeInc(5)\n",
    "incOne(5) # return 6"
   ]
  },
  {
   "cell_type": "code",
   "execution_count": 7,
   "id": "d85fb4b0-d0ae-43bf-842d-81becc51459a",
   "metadata": {},
   "outputs": [
    {
     "data": {
      "text/plain": [
       "10"
      ]
     },
     "execution_count": 7,
     "metadata": {},
     "output_type": "execute_result"
    }
   ],
   "source": [
    "incFive(5)"
   ]
  },
  {
   "cell_type": "code",
   "execution_count": 8,
   "id": "1ee88308-8d78-429d-a990-9a22cffca79d",
   "metadata": {},
   "outputs": [
    {
     "ename": "UnboundLocalError",
     "evalue": "local variable 'x' referenced before assignment",
     "output_type": "error",
     "traceback": [
      "\u001b[1;31m---------------------------------------------------------------------------\u001b[0m",
      "\u001b[1;31mUnboundLocalError\u001b[0m                         Traceback (most recent call last)",
      "Cell \u001b[1;32mIn [8], line 8\u001b[0m\n\u001b[0;32m      6\u001b[0m     \u001b[38;5;28;01mreturn\u001b[39;00m inc\n\u001b[0;32m      7\u001b[0m incOne \u001b[38;5;241m=\u001b[39m makeInc(\u001b[38;5;241m1\u001b[39m)\n\u001b[1;32m----> 8\u001b[0m \u001b[43mincOne\u001b[49m\u001b[43m(\u001b[49m\u001b[38;5;241;43m5\u001b[39;49m\u001b[43m)\u001b[49m \u001b[38;5;66;03m# UnboundLocalError: local variable 'x' referenced before assignment\u001b[39;00m\n",
      "Cell \u001b[1;32mIn [8], line 4\u001b[0m, in \u001b[0;36mmakeInc.<locals>.inc\u001b[1;34m(y)\u001b[0m\n\u001b[0;32m      2\u001b[0m \u001b[38;5;28;01mdef\u001b[39;00m \u001b[38;5;21minc\u001b[39m(y):\n\u001b[0;32m      3\u001b[0m     \u001b[38;5;66;03m#incrementing x is not allowed\u001b[39;00m\n\u001b[1;32m----> 4\u001b[0m     x \u001b[38;5;241m+\u001b[39m\u001b[38;5;241m=\u001b[39m y\n\u001b[0;32m      5\u001b[0m     \u001b[38;5;28;01mreturn\u001b[39;00m x\n",
      "\u001b[1;31mUnboundLocalError\u001b[0m: local variable 'x' referenced before assignment"
     ]
    }
   ],
   "source": [
    "def makeInc(x):\n",
    "    def inc(y):\n",
    "        #incrementing x is not allowed\n",
    "        x += y\n",
    "        return x\n",
    "    return inc\n",
    "incOne = makeInc(1)\n",
    "incOne(5) # UnboundLocalError: local variable 'x' referenced before assignment"
   ]
  },
  {
   "cell_type": "markdown",
   "id": "7f8c5642-b1d3-47e3-96d0-d13a717679f9",
   "metadata": {},
   "source": [
    "Python 3 offers the nonlocal statement (Nonlocal Variables) for realizing a full closure with nested functions."
   ]
  },
  {
   "cell_type": "code",
   "execution_count": 10,
   "id": "4b0142da-00dc-4efc-86ba-12fd5ba4c967",
   "metadata": {},
   "outputs": [
    {
     "data": {
      "text/plain": [
       "6"
      ]
     },
     "execution_count": 10,
     "metadata": {},
     "output_type": "execute_result"
    }
   ],
   "source": [
    "def makeInc(x):\n",
    "    def inc(y):\n",
    "        nonlocal x\n",
    "        # now assigning a value to x is allowed\n",
    "        x += y\n",
    "        return x\n",
    "    return inc\n",
    "incOne = makeInc(1)\n",
    "incOne(5)"
   ]
  },
  {
   "cell_type": "markdown",
   "id": "4ec0d403-dffe-42e5-8ea3-cff8fde9e88b",
   "metadata": {},
   "source": [
    "Forcing the use of named parameters"
   ]
  },
  {
   "cell_type": "code",
   "execution_count": 12,
   "id": "d7e11acb-aa78-4a10-9680-bfc817a1ac09",
   "metadata": {},
   "outputs": [
    {
     "ename": "TypeError",
     "evalue": "f() missing 1 required keyword-only argument: 'b'",
     "output_type": "error",
     "traceback": [
      "\u001b[1;31m---------------------------------------------------------------------------\u001b[0m",
      "\u001b[1;31mTypeError\u001b[0m                                 Traceback (most recent call last)",
      "Cell \u001b[1;32mIn [12], line 3\u001b[0m\n\u001b[0;32m      1\u001b[0m \u001b[38;5;28;01mdef\u001b[39;00m \u001b[38;5;21mf\u001b[39m(\u001b[38;5;241m*\u001b[39ma, b):\n\u001b[0;32m      2\u001b[0m     \u001b[38;5;28;01mpass\u001b[39;00m\n\u001b[1;32m----> 3\u001b[0m \u001b[43mf\u001b[49m\u001b[43m(\u001b[49m\u001b[38;5;241;43m1\u001b[39;49m\u001b[43m,\u001b[49m\u001b[43m \u001b[49m\u001b[38;5;241;43m2\u001b[39;49m\u001b[43m,\u001b[49m\u001b[43m \u001b[49m\u001b[38;5;241;43m3\u001b[39;49m\u001b[43m)\u001b[49m\n\u001b[0;32m      4\u001b[0m \u001b[38;5;66;03m# TypeError: f() missing 1 required keyword-only argument: 'b'\u001b[39;00m\n",
      "\u001b[1;31mTypeError\u001b[0m: f() missing 1 required keyword-only argument: 'b'"
     ]
    }
   ],
   "source": [
    "def f(*a, b):\n",
    "    pass\n",
    "f(1, 2, 3)\n",
    "# TypeError: f() missing 1 required keyword-only argument: 'b'"
   ]
  },
  {
   "cell_type": "markdown",
   "id": "733bdca3-079f-435e-a9cd-35031c307852",
   "metadata": {},
   "source": [
    "In Python 3 it's possible to put a single asterisk in the function signature to ensure that the remaining arguments may only be passed using keyword arguments."
   ]
  },
  {
   "cell_type": "code",
   "execution_count": 13,
   "id": "99cd8cb5-228f-4dac-ad52-6ac5ba628d3c",
   "metadata": {},
   "outputs": [
    {
     "ename": "TypeError",
     "evalue": "f() takes 2 positional arguments but 3 were given",
     "output_type": "error",
     "traceback": [
      "\u001b[1;31m---------------------------------------------------------------------------\u001b[0m",
      "\u001b[1;31mTypeError\u001b[0m                                 Traceback (most recent call last)",
      "Cell \u001b[1;32mIn [13], line 3\u001b[0m\n\u001b[0;32m      1\u001b[0m \u001b[38;5;28;01mdef\u001b[39;00m \u001b[38;5;21mf\u001b[39m(a, b, \u001b[38;5;241m*\u001b[39m, c):\n\u001b[0;32m      2\u001b[0m     \u001b[38;5;28;01mpass\u001b[39;00m\n\u001b[1;32m----> 3\u001b[0m \u001b[43mf\u001b[49m\u001b[43m(\u001b[49m\u001b[38;5;241;43m1\u001b[39;49m\u001b[43m,\u001b[49m\u001b[43m \u001b[49m\u001b[38;5;241;43m2\u001b[39;49m\u001b[43m,\u001b[49m\u001b[43m \u001b[49m\u001b[38;5;241;43m3\u001b[39;49m\u001b[43m)\u001b[49m\n\u001b[0;32m      4\u001b[0m \u001b[38;5;66;03m# TypeError: f() takes 2 positional arguments but 3 were given\u001b[39;00m\n",
      "\u001b[1;31mTypeError\u001b[0m: f() takes 2 positional arguments but 3 were given"
     ]
    }
   ],
   "source": [
    "def f(a, b, *, c):\n",
    "    pass\n",
    "f(1, 2, 3)\n",
    "# TypeError: f() takes 2 positional arguments but 3 were given"
   ]
  },
  {
   "cell_type": "code",
   "execution_count": 14,
   "id": "2672b16a-81c4-459f-ac72-e8e56fc2a5b3",
   "metadata": {},
   "outputs": [],
   "source": [
    "f(1, 2, c=3)"
   ]
  },
  {
   "cell_type": "markdown",
   "id": "6055368a-f1a7-49e2-987d-97b95a705758",
   "metadata": {},
   "source": [
    "Nested Functions"
   ]
  },
  {
   "cell_type": "code",
   "execution_count": 15,
   "id": "1065680e-fee5-438a-8a37-eb5c9b66888d",
   "metadata": {},
   "outputs": [],
   "source": [
    "def fibonacci(n):\n",
    "    def step(a, b):\n",
    "        return b, a+b\n",
    "    a, b = 0, 1\n",
    "    for i in range(n):\n",
    "        a, b = step(a, b)\n",
    "    return a"
   ]
  },
  {
   "cell_type": "markdown",
   "id": "e1ccc36e-7223-4c32-9331-e429f43c969b",
   "metadata": {},
   "source": [
    "Functions capture their enclosing scope can be passed around like any other sort of object"
   ]
  },
  {
   "cell_type": "code",
   "execution_count": 16,
   "id": "10238e3f-aa28-4d89-93b7-8b5a9fe893a1",
   "metadata": {},
   "outputs": [
    {
     "data": {
      "text/plain": [
       "15"
      ]
     },
     "execution_count": 16,
     "metadata": {},
     "output_type": "execute_result"
    }
   ],
   "source": [
    "def make_adder(n):\n",
    "    def adder(x):\n",
    "        return n + x\n",
    "    return adder\n",
    "add5 = make_adder(5)\n",
    "add6 = make_adder(6)\n",
    "add5(10)"
   ]
  },
  {
   "cell_type": "code",
   "execution_count": 17,
   "id": "66b61ab9-b985-4b5a-a5ef-d1562fb6b064",
   "metadata": {},
   "outputs": [
    {
     "data": {
      "text/plain": [
       "16"
      ]
     },
     "execution_count": 17,
     "metadata": {},
     "output_type": "execute_result"
    }
   ],
   "source": [
    "add6(10)"
   ]
  },
  {
   "cell_type": "code",
   "execution_count": 18,
   "id": "411b74ce-542b-499f-8ede-8b7e2a1ed4e7",
   "metadata": {},
   "outputs": [
    {
     "data": {
      "text/plain": [
       "6"
      ]
     },
     "execution_count": 18,
     "metadata": {},
     "output_type": "execute_result"
    }
   ],
   "source": [
    "def repeatedly_apply(func, n, x):\n",
    "    for i in range(n):\n",
    "        x = func(x)\n",
    "        return x\n",
    "repeatedly_apply(add5, 5, 1)"
   ]
  },
  {
   "cell_type": "markdown",
   "id": "8b8d304f-9c8e-4cb8-a9b4-2e25c56bd66d",
   "metadata": {},
   "source": [
    "Recursion limit\n",
    "There is a limit to the depth of possible recursion, which depends on the Python implementation. When the limit is reached, a RuntimeError exception is raised."
   ]
  },
  {
   "cell_type": "code",
   "execution_count": null,
   "id": "efd9542c-92a3-4261-a1e4-9fc9cc9a3969",
   "metadata": {},
   "outputs": [],
   "source": [
    "def cursing(depth):\n",
    "    try:\n",
    "        cursing(depth + 1) # actually re-cursing\n",
    "    except RuntimeError as RE:\n",
    "        print('I recursed {} times!'.format(depth))\n",
    "cursing(0) # It is returning kernel dead restarting again"
   ]
  },
  {
   "cell_type": "markdown",
   "id": "38ab4abe-7faf-474b-8ee8-5463fa37ec5c",
   "metadata": {},
   "source": [
    "To change the recursion depth limit by using sys.setrecursionlimit(limit) and check this limit by sys.getrecursionlimit()."
   ]
  },
  {
   "cell_type": "markdown",
   "id": "ff8e9fc7-38c1-405b-8f00-27b3c2c52f4c",
   "metadata": {},
   "source": [
    "Recursive Lambda using assigned variable"
   ]
  },
  {
   "cell_type": "code",
   "execution_count": 3,
   "id": "c9514ae5-464b-4a5d-a526-ab57d7d5f7b4",
   "metadata": {},
   "outputs": [
    {
     "name": "stdout",
     "output_type": "stream",
     "text": [
      "24\n"
     ]
    }
   ],
   "source": [
    "lambda_factorial = lambda i:1 if i==0 else i*lambda_factorial(i-1)\n",
    "print(lambda_factorial(4)) # 4*3*2*1 = 12*2 = 24 "
   ]
  },
  {
   "cell_type": "markdown",
   "id": "7a0ac851-3953-4ffd-8611-64f34aa8b1fa",
   "metadata": {},
   "source": [
    "Recursive functions"
   ]
  },
  {
   "cell_type": "code",
   "execution_count": 4,
   "id": "92c04c45-4e2c-434b-9e65-c68c84a2cf7b",
   "metadata": {},
   "outputs": [],
   "source": [
    "def factorial(n):\n",
    "    # n here should be an integer\n",
    "    if n == 0:\n",
    "        return 1\n",
    "    else:\n",
    "        return n*factorial(n-1)"
   ]
  },
  {
   "cell_type": "code",
   "execution_count": 5,
   "id": "06725416-c951-41eb-9ca7-980a5af5cad6",
   "metadata": {},
   "outputs": [
    {
     "data": {
      "text/plain": [
       "1"
      ]
     },
     "execution_count": 5,
     "metadata": {},
     "output_type": "execute_result"
    }
   ],
   "source": [
    "factorial(0)"
   ]
  },
  {
   "cell_type": "code",
   "execution_count": 6,
   "id": "ee51cadb-bdad-4b41-92f4-d0ba458a66cd",
   "metadata": {},
   "outputs": [
    {
     "data": {
      "text/plain": [
       "1"
      ]
     },
     "execution_count": 6,
     "metadata": {},
     "output_type": "execute_result"
    }
   ],
   "source": [
    "factorial(1)"
   ]
  },
  {
   "cell_type": "code",
   "execution_count": 7,
   "id": "bf081185-04e5-4ffd-b786-a7befd20b898",
   "metadata": {},
   "outputs": [
    {
     "data": {
      "text/plain": [
       "2"
      ]
     },
     "execution_count": 7,
     "metadata": {},
     "output_type": "execute_result"
    }
   ],
   "source": [
    "factorial(2)"
   ]
  },
  {
   "cell_type": "code",
   "execution_count": 8,
   "id": "82c2d9cd-d63e-47a3-8d17-9ee82e00f903",
   "metadata": {},
   "outputs": [
    {
     "data": {
      "text/plain": [
       "6"
      ]
     },
     "execution_count": 8,
     "metadata": {},
     "output_type": "execute_result"
    }
   ],
   "source": [
    "factorial(3)"
   ]
  },
  {
   "cell_type": "markdown",
   "id": "f8d5fcc5-184c-4958-a6f5-f13d317f43ca",
   "metadata": {},
   "source": [
    "Defining a function with arguments"
   ]
  },
  {
   "cell_type": "code",
   "execution_count": 9,
   "id": "eebb9332-ce8b-415c-b41e-9d4adfa38364",
   "metadata": {},
   "outputs": [
    {
     "name": "stdout",
     "output_type": "stream",
     "text": [
      "5.0\n"
     ]
    }
   ],
   "source": [
    "def divide(dividend, divisor): # The names of the function and its arguments\n",
    "    # The arguments are available by name in the body of the function\n",
    "    print(dividend/divisor)\n",
    "divide(10, 2)"
   ]
  },
  {
   "cell_type": "code",
   "execution_count": 10,
   "id": "ded1e1a1-c0cb-439e-b390-86bd770cb13b",
   "metadata": {},
   "outputs": [
    {
     "name": "stdout",
     "output_type": "stream",
     "text": [
      "5.0\n"
     ]
    }
   ],
   "source": [
    "# specifiying them in any order using the names from the function definition\n",
    "divide(divisor=2, dividend=10)"
   ]
  },
  {
   "cell_type": "markdown",
   "id": "302007d0-e735-4d64-aa6e-ebff306291c9",
   "metadata": {},
   "source": [
    "Iterable and dictionary unpacking"
   ]
  },
  {
   "cell_type": "code",
   "execution_count": 11,
   "id": "f80cf030-2f13-4320-b430-1f579fa5d1a8",
   "metadata": {},
   "outputs": [
    {
     "name": "stdout",
     "output_type": "stream",
     "text": [
      "1 2 45 60 () {}\n"
     ]
    }
   ],
   "source": [
    "def unpacking(a, b, c=45, d=60, *args, **kwargs):\n",
    "    print(a, b, c, d, args, kwargs)\n",
    "unpacking(1, 2)"
   ]
  },
  {
   "cell_type": "code",
   "execution_count": 12,
   "id": "1dcdb871-439d-41b3-b5c9-a5a708ec9fcf",
   "metadata": {},
   "outputs": [
    {
     "name": "stdout",
     "output_type": "stream",
     "text": [
      "1 2 3 4 () {}\n"
     ]
    }
   ],
   "source": [
    "unpacking(1, 2, 3, 4) "
   ]
  },
  {
   "cell_type": "code",
   "execution_count": 13,
   "id": "9080008d-d998-4309-aed1-f160535a93b5",
   "metadata": {},
   "outputs": [
    {
     "name": "stdout",
     "output_type": "stream",
     "text": [
      "1 2 3 4 () {}\n"
     ]
    }
   ],
   "source": [
    "unpacking(1, 2, c=3, d=4)"
   ]
  },
  {
   "cell_type": "code",
   "execution_count": 14,
   "id": "23d777c4-2b7d-4245-bf89-632d8bc3c6ae",
   "metadata": {},
   "outputs": [
    {
     "name": "stdout",
     "output_type": "stream",
     "text": [
      "1 2 3 4 () {}\n"
     ]
    }
   ],
   "source": [
    "unpacking(1, 2, d=4, c=3)"
   ]
  },
  {
   "cell_type": "code",
   "execution_count": 15,
   "id": "24ee6984-591d-4191-8edc-b3143d58abd5",
   "metadata": {},
   "outputs": [
    {
     "name": "stdout",
     "output_type": "stream",
     "text": [
      "1 2 3 4 () {}\n"
     ]
    }
   ],
   "source": [
    "pair = (3,)\n",
    "unpacking(1, 2, *pair, d=4)"
   ]
  },
  {
   "cell_type": "code",
   "execution_count": 16,
   "id": "bb5e17c9-de58-4484-b676-197e670c332e",
   "metadata": {},
   "outputs": [
    {
     "name": "stdout",
     "output_type": "stream",
     "text": [
      "1 2 3 4 () {}\n"
     ]
    }
   ],
   "source": [
    "unpacking(1, 2, d=4, *pair)"
   ]
  },
  {
   "cell_type": "code",
   "execution_count": 17,
   "id": "0d764121-c83d-4073-94e0-ada98b930043",
   "metadata": {},
   "outputs": [
    {
     "ename": "TypeError",
     "evalue": "unpacking() got multiple values for argument 'c'",
     "output_type": "error",
     "traceback": [
      "\u001b[1;31m---------------------------------------------------------------------------\u001b[0m",
      "\u001b[1;31mTypeError\u001b[0m                                 Traceback (most recent call last)",
      "Cell \u001b[1;32mIn [17], line 1\u001b[0m\n\u001b[1;32m----> 1\u001b[0m \u001b[43munpacking\u001b[49m\u001b[43m(\u001b[49m\u001b[38;5;241;43m1\u001b[39;49m\u001b[43m,\u001b[49m\u001b[43m \u001b[49m\u001b[38;5;241;43m2\u001b[39;49m\u001b[43m,\u001b[49m\u001b[43m \u001b[49m\u001b[38;5;241;43m*\u001b[39;49m\u001b[43mpair\u001b[49m\u001b[43m,\u001b[49m\u001b[43m \u001b[49m\u001b[43mc\u001b[49m\u001b[38;5;241;43m=\u001b[39;49m\u001b[38;5;241;43m3\u001b[39;49m\u001b[43m)\u001b[49m\n",
      "\u001b[1;31mTypeError\u001b[0m: unpacking() got multiple values for argument 'c'"
     ]
    }
   ],
   "source": [
    "unpacking(1, 2, *pair, c=3)"
   ]
  },
  {
   "cell_type": "code",
   "execution_count": 18,
   "id": "f008f911-d60e-4285-838b-3ea357b71241",
   "metadata": {},
   "outputs": [
    {
     "name": "stdout",
     "output_type": "stream",
     "text": [
      "1 2 3 4 () {}\n"
     ]
    }
   ],
   "source": [
    "args_list = [3]\n",
    "unpacking(1, 2, *args_list, d=4)"
   ]
  },
  {
   "cell_type": "code",
   "execution_count": 19,
   "id": "32025cf4-f3ff-4ecf-8dca-291098cb3721",
   "metadata": {},
   "outputs": [
    {
     "name": "stdout",
     "output_type": "stream",
     "text": [
      "1 2 3 4 () {}\n"
     ]
    }
   ],
   "source": [
    "unpacking(1, 2, d=4, *args_list) "
   ]
  },
  {
   "cell_type": "code",
   "execution_count": 20,
   "id": "ab511294-d257-4af1-b692-4ef6c5274301",
   "metadata": {},
   "outputs": [
    {
     "ename": "TypeError",
     "evalue": "unpacking() got multiple values for argument 'c'",
     "output_type": "error",
     "traceback": [
      "\u001b[1;31m---------------------------------------------------------------------------\u001b[0m",
      "\u001b[1;31mTypeError\u001b[0m                                 Traceback (most recent call last)",
      "Cell \u001b[1;32mIn [20], line 1\u001b[0m\n\u001b[1;32m----> 1\u001b[0m \u001b[43munpacking\u001b[49m\u001b[43m(\u001b[49m\u001b[38;5;241;43m1\u001b[39;49m\u001b[43m,\u001b[49m\u001b[43m \u001b[49m\u001b[38;5;241;43m2\u001b[39;49m\u001b[43m,\u001b[49m\u001b[43m \u001b[49m\u001b[43mc\u001b[49m\u001b[38;5;241;43m=\u001b[39;49m\u001b[38;5;241;43m3\u001b[39;49m\u001b[43m,\u001b[49m\u001b[43m \u001b[49m\u001b[38;5;241;43m*\u001b[39;49m\u001b[43margs_list\u001b[49m\u001b[43m)\u001b[49m\n",
      "\u001b[1;31mTypeError\u001b[0m: unpacking() got multiple values for argument 'c'"
     ]
    }
   ],
   "source": [
    "unpacking(1, 2, c=3, *args_list)"
   ]
  },
  {
   "cell_type": "code",
   "execution_count": 21,
   "id": "57066a3f-6634-4668-a161-012ab87d9380",
   "metadata": {},
   "outputs": [
    {
     "name": "stdout",
     "output_type": "stream",
     "text": [
      "1 2 3 4 () {}\n"
     ]
    }
   ],
   "source": [
    "pair = (3, 4)\n",
    "unpacking(1, 2, *pair)"
   ]
  },
  {
   "cell_type": "code",
   "execution_count": 22,
   "id": "dad287ce-08fc-4752-94ee-cf5fb643b7d8",
   "metadata": {},
   "outputs": [
    {
     "name": "stdout",
     "output_type": "stream",
     "text": [
      "1 2 3 4 (3, 4) {}\n"
     ]
    }
   ],
   "source": [
    "unpacking(1, 2, 3, 4, *pair) "
   ]
  },
  {
   "cell_type": "code",
   "execution_count": 23,
   "id": "bd11ff0a-2459-41af-b15d-4642d5efe332",
   "metadata": {},
   "outputs": [
    {
     "ename": "TypeError",
     "evalue": "unpacking() got multiple values for argument 'd'",
     "output_type": "error",
     "traceback": [
      "\u001b[1;31m---------------------------------------------------------------------------\u001b[0m",
      "\u001b[1;31mTypeError\u001b[0m                                 Traceback (most recent call last)",
      "Cell \u001b[1;32mIn [23], line 1\u001b[0m\n\u001b[1;32m----> 1\u001b[0m \u001b[43munpacking\u001b[49m\u001b[43m(\u001b[49m\u001b[38;5;241;43m1\u001b[39;49m\u001b[43m,\u001b[49m\u001b[43m \u001b[49m\u001b[38;5;241;43m2\u001b[39;49m\u001b[43m,\u001b[49m\u001b[43m \u001b[49m\u001b[43md\u001b[49m\u001b[38;5;241;43m=\u001b[39;49m\u001b[38;5;241;43m4\u001b[39;49m\u001b[43m,\u001b[49m\u001b[43m \u001b[49m\u001b[38;5;241;43m*\u001b[39;49m\u001b[43mpair\u001b[49m\u001b[43m)\u001b[49m\n",
      "\u001b[1;31mTypeError\u001b[0m: unpacking() got multiple values for argument 'd'"
     ]
    }
   ],
   "source": [
    "unpacking(1, 2, d=4, *pair)"
   ]
  },
  {
   "cell_type": "code",
   "execution_count": 24,
   "id": "48d50d69-0bd1-470a-a763-971260ae7d62",
   "metadata": {},
   "outputs": [
    {
     "name": "stdout",
     "output_type": "stream",
     "text": [
      "1 2 3 4 () {}\n"
     ]
    }
   ],
   "source": [
    "args_list = [3, 4]\n",
    "unpacking(1, 2, *args_list)"
   ]
  },
  {
   "cell_type": "code",
   "execution_count": 25,
   "id": "bfc97eb8-c7b3-438e-a65c-e340168316e2",
   "metadata": {},
   "outputs": [
    {
     "name": "stdout",
     "output_type": "stream",
     "text": [
      "1 2 3 4 (3, 4) {}\n"
     ]
    }
   ],
   "source": [
    "unpacking(1, 2, 3, 4, *args_list)"
   ]
  },
  {
   "cell_type": "code",
   "execution_count": 26,
   "id": "efe0fa58-51a6-4075-8f0e-0d3bbb5383c2",
   "metadata": {},
   "outputs": [
    {
     "ename": "TypeError",
     "evalue": "unpacking() got multiple values for argument 'd'",
     "output_type": "error",
     "traceback": [
      "\u001b[1;31m---------------------------------------------------------------------------\u001b[0m",
      "\u001b[1;31mTypeError\u001b[0m                                 Traceback (most recent call last)",
      "Cell \u001b[1;32mIn [26], line 1\u001b[0m\n\u001b[1;32m----> 1\u001b[0m \u001b[43munpacking\u001b[49m\u001b[43m(\u001b[49m\u001b[38;5;241;43m1\u001b[39;49m\u001b[43m,\u001b[49m\u001b[43m \u001b[49m\u001b[38;5;241;43m2\u001b[39;49m\u001b[43m,\u001b[49m\u001b[43m \u001b[49m\u001b[43md\u001b[49m\u001b[38;5;241;43m=\u001b[39;49m\u001b[38;5;241;43m4\u001b[39;49m\u001b[43m,\u001b[49m\u001b[43m \u001b[49m\u001b[38;5;241;43m*\u001b[39;49m\u001b[43margs_list\u001b[49m\u001b[43m)\u001b[49m\n",
      "\u001b[1;31mTypeError\u001b[0m: unpacking() got multiple values for argument 'd'"
     ]
    }
   ],
   "source": [
    "unpacking(1, 2, d=4, *args_list)"
   ]
  },
  {
   "cell_type": "code",
   "execution_count": 27,
   "id": "7c27f182-1945-4ac1-8bcc-be5e6b80b5cb",
   "metadata": {},
   "outputs": [
    {
     "name": "stdout",
     "output_type": "stream",
     "text": [
      "1 2 3 4 () {}\n"
     ]
    }
   ],
   "source": [
    "arg_dict = {'c':3, 'd':4}\n",
    "unpacking(1, 2, **arg_dict) "
   ]
  },
  {
   "cell_type": "code",
   "execution_count": 28,
   "id": "a1e0c0ba-4d78-4533-9a0b-2db5a96a61d0",
   "metadata": {},
   "outputs": [
    {
     "name": "stdout",
     "output_type": "stream",
     "text": [
      "1 2 3 4 () {}\n"
     ]
    }
   ],
   "source": [
    "arg_dict = {'d':4, 'c':3}\n",
    "unpacking(1, 2, **arg_dict)"
   ]
  },
  {
   "cell_type": "code",
   "execution_count": 29,
   "id": "dfcbadd9-e863-4aa1-bdbe-af56aa6c4ec5",
   "metadata": {},
   "outputs": [
    {
     "name": "stdout",
     "output_type": "stream",
     "text": [
      "1 2 3 4 () {'not_a_parameter': 75}\n"
     ]
    }
   ],
   "source": [
    "arg_dict = {'c':3, 'd':4, 'not_a_parameter': 75}\n",
    "unpacking(1, 2, **arg_dict)"
   ]
  },
  {
   "cell_type": "code",
   "execution_count": 30,
   "id": "98c176b7-d00d-4585-8196-51b103ce2eaa",
   "metadata": {},
   "outputs": [
    {
     "ename": "TypeError",
     "evalue": "unpacking() got multiple values for argument 'c'",
     "output_type": "error",
     "traceback": [
      "\u001b[1;31m---------------------------------------------------------------------------\u001b[0m",
      "\u001b[1;31mTypeError\u001b[0m                                 Traceback (most recent call last)",
      "Cell \u001b[1;32mIn [30], line 1\u001b[0m\n\u001b[1;32m----> 1\u001b[0m unpacking(\u001b[38;5;241m1\u001b[39m, \u001b[38;5;241m2\u001b[39m, \u001b[38;5;241m*\u001b[39mpair, \u001b[38;5;241m*\u001b[39m\u001b[38;5;241m*\u001b[39marg_dict)\n",
      "\u001b[1;31mTypeError\u001b[0m: unpacking() got multiple values for argument 'c'"
     ]
    }
   ],
   "source": [
    "unpacking(1, 2, *pair, **arg_dict)"
   ]
  },
  {
   "cell_type": "code",
   "execution_count": 31,
   "id": "06383caf-421a-4a90-823e-dc3e7d4fadf2",
   "metadata": {},
   "outputs": [
    {
     "ename": "TypeError",
     "evalue": "__main__.unpacking() got multiple values for keyword argument 'c'",
     "output_type": "error",
     "traceback": [
      "\u001b[1;31m---------------------------------------------------------------------------\u001b[0m",
      "\u001b[1;31mTypeError\u001b[0m                                 Traceback (most recent call last)",
      "Cell \u001b[1;32mIn [31], line 2\u001b[0m\n\u001b[0;32m      1\u001b[0m \u001b[38;5;66;03m# Positional arguments take priority over any other form of argument passing\u001b[39;00m\n\u001b[1;32m----> 2\u001b[0m unpacking(\u001b[38;5;241m1\u001b[39m, \u001b[38;5;241m2\u001b[39m, \u001b[38;5;241m*\u001b[39m\u001b[38;5;241m*\u001b[39marg_dict, c\u001b[38;5;241m=\u001b[39m\u001b[38;5;241m3\u001b[39m)\n",
      "\u001b[1;31mTypeError\u001b[0m: __main__.unpacking() got multiple values for keyword argument 'c'"
     ]
    }
   ],
   "source": [
    "# Positional arguments take priority over any other form of argument passing\n",
    "unpacking(1, 2, **arg_dict, c=3)"
   ]
  },
  {
   "cell_type": "code",
   "execution_count": 32,
   "id": "d6a0918d-2231-475a-b445-e2429a8d0151",
   "metadata": {},
   "outputs": [
    {
     "ename": "TypeError",
     "evalue": "__main__.unpacking() got multiple values for keyword argument 'c'",
     "output_type": "error",
     "traceback": [
      "\u001b[1;31m---------------------------------------------------------------------------\u001b[0m",
      "\u001b[1;31mTypeError\u001b[0m                                 Traceback (most recent call last)",
      "Cell \u001b[1;32mIn [32], line 1\u001b[0m\n\u001b[1;32m----> 1\u001b[0m unpacking(\u001b[38;5;241m1\u001b[39m, \u001b[38;5;241m2\u001b[39m, \u001b[38;5;241m3\u001b[39m, \u001b[38;5;241m*\u001b[39m\u001b[38;5;241m*\u001b[39marg_dict, c\u001b[38;5;241m=\u001b[39m\u001b[38;5;241m3\u001b[39m)\n",
      "\u001b[1;31mTypeError\u001b[0m: __main__.unpacking() got multiple values for keyword argument 'c'"
     ]
    }
   ],
   "source": [
    "unpacking(1, 2, 3, **arg_dict, c=3)"
   ]
  },
  {
   "cell_type": "markdown",
   "id": "78cd709e-063a-424e-bc4a-b1c5e2d71692",
   "metadata": {},
   "source": [
    "Defining a function with multiple arguments"
   ]
  },
  {
   "cell_type": "code",
   "execution_count": 37,
   "id": "cfa097f4-e4c7-40b4-ab7c-f9b1dfaa1c80",
   "metadata": {},
   "outputs": [
    {
     "name": "stdout",
     "output_type": "stream",
     "text": [
      "1 a 100\n"
     ]
    }
   ],
   "source": [
    "def func(value1, value2, optionalvalue=10):\n",
    "    return '{0} {1} {2}'.format(value1, value2, optionalvalue)\n",
    "print(func(1, 'a', 100))"
   ]
  },
  {
   "cell_type": "code",
   "execution_count": 36,
   "id": "6fe83c02-7d3d-41e1-a8a6-917aaa0b246a",
   "metadata": {},
   "outputs": [
    {
     "name": "stdout",
     "output_type": "stream",
     "text": [
      "abc 14 10\n"
     ]
    }
   ],
   "source": [
    "print(func('abc', 14))"
   ]
  },
  {
   "cell_type": "code",
   "execution_count": 38,
   "id": "c5048c42-e4f2-4d14-828d-678412f6b4d6",
   "metadata": {},
   "outputs": [
    {
     "name": "stdout",
     "output_type": "stream",
     "text": [
      "This is StackOverflow Documentation\n"
     ]
    }
   ],
   "source": [
    "# combining giving the arguments with name and without.\n",
    "print(func('This', optionalvalue='StackOverflow Documentation', value2='is'))"
   ]
  },
  {
   "cell_type": "markdown",
   "id": "6b323b54-dff9-4a55-8676-b2e0e850ee3e",
   "metadata": {},
   "source": [
    "Defining functions with list arguments:"
   ]
  },
  {
   "cell_type": "markdown",
   "id": "c79267bf-0dd5-4323-a7c5-26e08059ac07",
   "metadata": {},
   "source": [
    "Function and call"
   ]
  },
  {
   "cell_type": "code",
   "execution_count": 39,
   "id": "0bd575ef-c592-4736-a40e-e61d5b50e16e",
   "metadata": {},
   "outputs": [
    {
     "name": "stdout",
     "output_type": "stream",
     "text": [
      "1\n",
      "2\n",
      "3\n",
      "5\n",
      "7\n"
     ]
    }
   ],
   "source": [
    "def func(myList):\n",
    "    for item in myList:\n",
    "        print(item)\n",
    "func([1, 2, 3, 5, 7])"
   ]
  },
  {
   "cell_type": "code",
   "execution_count": 40,
   "id": "03e33359-9af2-49ce-8682-9b0a63eb7468",
   "metadata": {},
   "outputs": [
    {
     "name": "stdout",
     "output_type": "stream",
     "text": [
      "a\n",
      "b\n",
      "c\n",
      "d\n"
     ]
    }
   ],
   "source": [
    "aList = ['a', 'b', 'c', 'd']\n",
    "func(aList)"
   ]
  },
  {
   "cell_type": "markdown",
   "id": "d609a92c-fd06-4c0e-b673-d37ef739cb4e",
   "metadata": {},
   "source": [
    "Functional Programming in Python"
   ]
  },
  {
   "cell_type": "code",
   "execution_count": 42,
   "id": "cf3a243e-c072-41fc-9270-5070186e8547",
   "metadata": {},
   "outputs": [
    {
     "data": {
      "text/plain": [
       "4"
      ]
     },
     "execution_count": 42,
     "metadata": {},
     "output_type": "execute_result"
    }
   ],
   "source": [
    "#Lambda Function\n",
    "s=lambda x:x*x\n",
    "s(2)    "
   ]
  },
  {
   "cell_type": "code",
   "execution_count": 51,
   "id": "aa5cb49f-b68c-4ee7-abbc-09a2023ee8f6",
   "metadata": {},
   "outputs": [
    {
     "name": "stdout",
     "output_type": "stream",
     "text": [
      "[4, 4, 3]\n"
     ]
    }
   ],
   "source": [
    "# Map Function\n",
    "name_lengths = map(len, [\"Mary\", \"Isla\", \"Sam\"])\n",
    "a = list(name_lengths)\n",
    "print(a)"
   ]
  },
  {
   "cell_type": "markdown",
   "id": "15ac604e-35ba-4f07-8cc7-5e84e92c4e27",
   "metadata": {},
   "source": [
    "Reduce Function"
   ]
  },
  {
   "cell_type": "code",
   "execution_count": 56,
   "id": "c928f082-7476-4bc5-8d26-c753658e9616",
   "metadata": {},
   "outputs": [
    {
     "ename": "NameError",
     "evalue": "name 'reduce' is not defined",
     "output_type": "error",
     "traceback": [
      "\u001b[1;31m---------------------------------------------------------------------------\u001b[0m",
      "\u001b[1;31mNameError\u001b[0m                                 Traceback (most recent call last)",
      "Cell \u001b[1;32mIn [56], line 1\u001b[0m\n\u001b[1;32m----> 1\u001b[0m total \u001b[38;5;241m=\u001b[39m \u001b[43mreduce\u001b[49m (\u001b[38;5;28;01mlambda\u001b[39;00m a, x: a \u001b[38;5;241m+\u001b[39m x, [\u001b[38;5;241m0\u001b[39m, \u001b[38;5;241m1\u001b[39m, \u001b[38;5;241m2\u001b[39m, \u001b[38;5;241m3\u001b[39m, \u001b[38;5;241m4\u001b[39m])\n\u001b[0;32m      2\u001b[0m \u001b[38;5;28mprint\u001b[39m(total)\n",
      "\u001b[1;31mNameError\u001b[0m: name 'reduce' is not defined"
     ]
    }
   ],
   "source": [
    "total = reduce (lambda a, x: a + x, [0, 1, 2, 3, 4])\n",
    "print(total)"
   ]
  },
  {
   "cell_type": "markdown",
   "id": "4fddb294-53ee-400c-8098-d3d50d65cb5d",
   "metadata": {},
   "source": [
    "Filter Function"
   ]
  },
  {
   "cell_type": "code",
   "execution_count": 58,
   "id": "433fd8ff-3a55-46ed-8e4c-53db8d5f2f49",
   "metadata": {},
   "outputs": [
    {
     "data": {
      "text/plain": [
       "[5, 6]"
      ]
     },
     "execution_count": 58,
     "metadata": {},
     "output_type": "execute_result"
    }
   ],
   "source": [
    "# Filter takes a function and a collection. It returns a collection of every item for which the function returned True.\n",
    "arr = [1, 2, 3, 4, 5, 6]\n",
    "[i for i in filter(lambda x: x>4, arr)]"
   ]
  },
  {
   "cell_type": "markdown",
   "id": "afd3afe8-794c-4393-abd6-68ae9a29b0a9",
   "metadata": {},
   "source": [
    "Partial functions"
   ]
  },
  {
   "cell_type": "code",
   "execution_count": 59,
   "id": "e0807a9b-d5d1-4407-817f-4498baaa810d",
   "metadata": {},
   "outputs": [],
   "source": [
    "#Raise the power\n",
    "def raise_power(x, y):\n",
    "    return x**y"
   ]
  },
  {
   "cell_type": "code",
   "execution_count": 61,
   "id": "98935850-f79a-4b2e-8783-89dbeb32fcaf",
   "metadata": {},
   "outputs": [],
   "source": [
    "def rais(x, y):\n",
    "    if y in (3, 4, 5):\n",
    "        return x**y\n",
    "    raise NumberNotInRangeException(\"You should provide a valid exponent\")"
   ]
  },
  {
   "cell_type": "code",
   "execution_count": null,
   "id": "93b81507-7ac7-4636-aa31-59efc8cea9d4",
   "metadata": {},
   "outputs": [],
   "source": [
    "from functors import partial\n",
    "raise_to_three = partial(rais, y=3)\n",
    "raise_to_four = partial(rais, y=4)\n",
    "raise_to_five = partial(rais, y=5)"
   ]
  }
 ],
 "metadata": {
  "kernelspec": {
   "display_name": "Python 3 (ipykernel)",
   "language": "python",
   "name": "python3"
  },
  "language_info": {
   "codemirror_mode": {
    "name": "ipython",
    "version": 3
   },
   "file_extension": ".py",
   "mimetype": "text/x-python",
   "name": "python",
   "nbconvert_exporter": "python",
   "pygments_lexer": "ipython3",
   "version": "3.10.7"
  }
 },
 "nbformat": 4,
 "nbformat_minor": 5
}
