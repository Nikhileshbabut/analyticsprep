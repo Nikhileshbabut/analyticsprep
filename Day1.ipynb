{
 "cells": [
  {
   "cell_type": "markdown",
   "id": "19d662f4",
   "metadata": {},
   "source": [
    "The first program will be a simple program to print \"Hello, world!\". "
   ]
  },
  {
   "cell_type": "code",
   "execution_count": 3,
   "id": "38c16f1c",
   "metadata": {},
   "outputs": [
    {
     "name": "stdout",
     "output_type": "stream",
     "text": [
      "Hello, world!\n"
     ]
    }
   ],
   "source": [
    "print(\"Hello, world!\")"
   ]
  },
  {
   "cell_type": "markdown",
   "id": "f1b792ed",
   "metadata": {},
   "source": [
    "Creating Variables and assigning values"
   ]
  },
  {
   "cell_type": "code",
   "execution_count": 4,
   "id": "4501fbc8",
   "metadata": {},
   "outputs": [
    {
     "name": "stdout",
     "output_type": "stream",
     "text": [
      "2\n"
     ]
    }
   ],
   "source": [
    "#Integer\n",
    "a = 2\n",
    "print(a)"
   ]
  },
  {
   "cell_type": "code",
   "execution_count": 5,
   "id": "99445038",
   "metadata": {},
   "outputs": [
    {
     "name": "stdout",
     "output_type": "stream",
     "text": [
      "2.12\n"
     ]
    }
   ],
   "source": [
    "#Floating point\n",
    "b = 2.12\n",
    "print(b)"
   ]
  },
  {
   "cell_type": "code",
   "execution_count": 6,
   "id": "72a8b469",
   "metadata": {},
   "outputs": [
    {
     "name": "stdout",
     "output_type": "stream",
     "text": [
      "A\n"
     ]
    }
   ],
   "source": [
    "#String\n",
    "c = 'A'\n",
    "print(c)"
   ]
  },
  {
   "cell_type": "code",
   "execution_count": 7,
   "id": "5ee56cdf",
   "metadata": {
    "scrolled": true
   },
   "outputs": [
    {
     "name": "stdout",
     "output_type": "stream",
     "text": [
      "True\n"
     ]
    }
   ],
   "source": [
    "#Boolean\n",
    "d = True\n",
    "print(d)"
   ]
  },
  {
   "cell_type": "code",
   "execution_count": 8,
   "id": "698cfdd3",
   "metadata": {},
   "outputs": [
    {
     "name": "stdout",
     "output_type": "stream",
     "text": [
      "None\n"
     ]
    }
   ],
   "source": [
    "#Empty value or null data type\n",
    "x = None\n",
    "print(x)"
   ]
  },
  {
   "cell_type": "code",
   "execution_count": 9,
   "id": "bad949bd",
   "metadata": {},
   "outputs": [
    {
     "ename": "SyntaxError",
     "evalue": "cannot assign to literal here. Maybe you meant '==' instead of '='? (3454579683.py, line 1)",
     "output_type": "error",
     "traceback": [
      "\u001b[1;36m  Cell \u001b[1;32mIn [9], line 1\u001b[1;36m\u001b[0m\n\u001b[1;33m    0 = x\u001b[0m\n\u001b[1;37m    ^\u001b[0m\n\u001b[1;31mSyntaxError\u001b[0m\u001b[1;31m:\u001b[0m cannot assign to literal here. Maybe you meant '==' instead of '='?\n"
     ]
    }
   ],
   "source": [
    "0 = x\n",
    "print(x)"
   ]
  },
  {
   "cell_type": "markdown",
   "id": "de6f12bf",
   "metadata": {},
   "source": [
    "Python Data types"
   ]
  },
  {
   "cell_type": "code",
   "execution_count": 10,
   "id": "ff5266af",
   "metadata": {},
   "outputs": [
    {
     "name": "stdout",
     "output_type": "stream",
     "text": [
      "<class 'int'>\n"
     ]
    }
   ],
   "source": [
    "a = 2\n",
    "print(type(a))"
   ]
  },
  {
   "cell_type": "code",
   "execution_count": 11,
   "id": "5034265e",
   "metadata": {},
   "outputs": [
    {
     "name": "stdout",
     "output_type": "stream",
     "text": [
      "<class 'float'>\n"
     ]
    }
   ],
   "source": [
    "b = 3.14\n",
    "print(type(b))"
   ]
  },
  {
   "cell_type": "code",
   "execution_count": 12,
   "id": "7d5ce80f",
   "metadata": {},
   "outputs": [
    {
     "name": "stdout",
     "output_type": "stream",
     "text": [
      "<class 'str'>\n"
     ]
    }
   ],
   "source": [
    "c = 'A'\n",
    "print(type(c))"
   ]
  },
  {
   "cell_type": "code",
   "execution_count": 13,
   "id": "eb9f67ee",
   "metadata": {},
   "outputs": [
    {
     "name": "stdout",
     "output_type": "stream",
     "text": [
      "<class 'bool'>\n"
     ]
    }
   ],
   "source": [
    "d = True\n",
    "print(type(d))"
   ]
  },
  {
   "cell_type": "code",
   "execution_count": 14,
   "id": "958443b7",
   "metadata": {},
   "outputs": [
    {
     "name": "stdout",
     "output_type": "stream",
     "text": [
      "<class 'NoneType'>\n"
     ]
    }
   ],
   "source": [
    "x = None\n",
    "print(type(x))"
   ]
  },
  {
   "cell_type": "markdown",
   "id": "c63211a7",
   "metadata": {},
   "source": [
    "Assigning multiple values to multiple variables"
   ]
  },
  {
   "cell_type": "code",
   "execution_count": 15,
   "id": "3238a75d",
   "metadata": {},
   "outputs": [
    {
     "name": "stdout",
     "output_type": "stream",
     "text": [
      "1 2 3\n"
     ]
    }
   ],
   "source": [
    "a, b, c = 1, 2, 3\n",
    "print(a, b, c)"
   ]
  },
  {
   "cell_type": "code",
   "execution_count": 16,
   "id": "16c5487b",
   "metadata": {},
   "outputs": [
    {
     "ename": "ValueError",
     "evalue": "too many values to unpack (expected 2)",
     "output_type": "error",
     "traceback": [
      "\u001b[1;31m---------------------------------------------------------------------------\u001b[0m",
      "\u001b[1;31mValueError\u001b[0m                                Traceback (most recent call last)",
      "Cell \u001b[1;32mIn [16], line 1\u001b[0m\n\u001b[1;32m----> 1\u001b[0m a, b \u001b[38;5;241m=\u001b[39m \u001b[38;5;241m1\u001b[39m, \u001b[38;5;241m2\u001b[39m, \u001b[38;5;241m3\u001b[39m\n\u001b[0;32m      2\u001b[0m \u001b[38;5;28mprint\u001b[39m(a, b)\n",
      "\u001b[1;31mValueError\u001b[0m: too many values to unpack (expected 2)"
     ]
    }
   ],
   "source": [
    "a, b = 1, 2, 3\n",
    "print(a, b)"
   ]
  },
  {
   "cell_type": "markdown",
   "id": "502fff9e",
   "metadata": {},
   "source": [
    "If values and variables are not equal it tends to Error."
   ]
  },
  {
   "cell_type": "code",
   "execution_count": 17,
   "id": "04816adb",
   "metadata": {},
   "outputs": [
    {
     "name": "stdout",
     "output_type": "stream",
     "text": [
      "1 2\n"
     ]
    }
   ],
   "source": [
    "a, b, _ = 1, 2, 3\n",
    "print(a, b)"
   ]
  },
  {
   "cell_type": "markdown",
   "id": "08f918a9",
   "metadata": {},
   "source": [
    "Here underscore is considered as variable and in the output it is not called so only the called variables values are print."
   ]
  },
  {
   "cell_type": "code",
   "execution_count": 18,
   "id": "0d64afac",
   "metadata": {},
   "outputs": [
    {
     "name": "stdout",
     "output_type": "stream",
     "text": [
      "1 1 1\n"
     ]
    }
   ],
   "source": [
    "a = b = c = 1\n",
    "print(a, b, c)"
   ]
  },
  {
   "cell_type": "markdown",
   "id": "4036ec75",
   "metadata": {},
   "source": [
    "If one of them is been assigned with different int object remaining will still be same."
   ]
  },
  {
   "cell_type": "code",
   "execution_count": 19,
   "id": "d5e429fd",
   "metadata": {},
   "outputs": [
    {
     "name": "stdout",
     "output_type": "stream",
     "text": [
      "1 1 1\n",
      "1 2 1\n"
     ]
    }
   ],
   "source": [
    "a = b = c = 1\n",
    "print(a, b, c)\n",
    "b = 2\n",
    "print(a, b, c)"
   ]
  },
  {
   "cell_type": "markdown",
   "id": "7a3794af",
   "metadata": {},
   "source": [
    "This also stands for mutable types (like list, dict) and also for immutable types (int, string, tuples)."
   ]
  },
  {
   "cell_type": "code",
   "execution_count": 20,
   "id": "74a89e6c",
   "metadata": {},
   "outputs": [
    {
     "name": "stdout",
     "output_type": "stream",
     "text": [
      "[7, 8, 9]\n",
      "[7, 8, 9]\n",
      "[2, 4, 6]\n",
      "[7, 8, 9]\n"
     ]
    }
   ],
   "source": [
    "x = y = [7, 8, 9]\n",
    "print(x)\n",
    "print(y)\n",
    "x = [2, 4, 6]\n",
    "print(x)\n",
    "print(y)"
   ]
  },
  {
   "cell_type": "markdown",
   "id": "8b062dd9",
   "metadata": {},
   "source": [
    "Changing single value in object for different name."
   ]
  },
  {
   "cell_type": "code",
   "execution_count": 21,
   "id": "8dcb1e95",
   "metadata": {},
   "outputs": [
    {
     "name": "stdout",
     "output_type": "stream",
     "text": [
      "[12, 8, 9]\n",
      "[12, 8, 9]\n"
     ]
    }
   ],
   "source": [
    "x = y = [7, 8, 9]\n",
    "x[0] = 12\n",
    "print(x)\n",
    "print(y)"
   ]
  },
  {
   "cell_type": "markdown",
   "id": "c1f83e41",
   "metadata": {},
   "source": [
    "Nested lists are also valid in python, This means a list can contain multiple lists."
   ]
  },
  {
   "cell_type": "code",
   "execution_count": 22,
   "id": "293e31d9",
   "metadata": {},
   "outputs": [
    {
     "name": "stdout",
     "output_type": "stream",
     "text": [
      "3\n",
      "4\n"
     ]
    }
   ],
   "source": [
    "x = [1, 2, 3, [1, 2, 4, 5], 5]\n",
    "print(x[2])\n",
    "print(x[3][2])"
   ]
  },
  {
   "cell_type": "markdown",
   "id": "3d924038",
   "metadata": {},
   "source": [
    "Block Indentation: This contributes to python's readability. Whitespaces need to be given attention ( 4 spaces )"
   ]
  },
  {
   "cell_type": "code",
   "execution_count": 23,
   "id": "5117be47",
   "metadata": {},
   "outputs": [
    {
     "name": "stdout",
     "output_type": "stream",
     "text": [
      "2\n"
     ]
    }
   ],
   "source": [
    "def my_function():\n",
    "    a = 2\n",
    "    return a\n",
    "print(my_function())"
   ]
  },
  {
   "cell_type": "code",
   "execution_count": 24,
   "id": "02dc455e",
   "metadata": {},
   "outputs": [
    {
     "ename": "IndentationError",
     "evalue": "expected an indented block after function definition on line 1 (663366808.py, line 2)",
     "output_type": "error",
     "traceback": [
      "\u001b[1;36m  Cell \u001b[1;32mIn [24], line 2\u001b[1;36m\u001b[0m\n\u001b[1;33m    a = 3\u001b[0m\n\u001b[1;37m    ^\u001b[0m\n\u001b[1;31mIndentationError\u001b[0m\u001b[1;31m:\u001b[0m expected an indented block after function definition on line 1\n"
     ]
    }
   ],
   "source": [
    "def my_function():\n",
    "a = 3\n",
    "    return a\n",
    "print(my_function())"
   ]
  },
  {
   "cell_type": "markdown",
   "id": "a5dbdfcc",
   "metadata": {},
   "source": [
    "This blocks also writen in a single line statement"
   ]
  },
  {
   "cell_type": "code",
   "execution_count": 25,
   "id": "4abc493c",
   "metadata": {},
   "outputs": [
    {
     "name": "stdout",
     "output_type": "stream",
     "text": [
      "2\n"
     ]
    }
   ],
   "source": [
    "if a > b: print(a)\n",
    "else: print(b)"
   ]
  },
  {
   "cell_type": "markdown",
   "id": "5717975e",
   "metadata": {},
   "source": [
    "Datatypes:"
   ]
  },
  {
   "cell_type": "markdown",
   "id": "e318be65",
   "metadata": {},
   "source": [
    "bool: A boolean value of either True or False. Logical operations like and, or, not can be performed on booleans."
   ]
  },
  {
   "cell_type": "code",
   "execution_count": 26,
   "id": "77b94cca",
   "metadata": {},
   "outputs": [
    {
     "data": {
      "text/plain": [
       "True"
      ]
     },
     "execution_count": 26,
     "metadata": {},
     "output_type": "execute_result"
    }
   ],
   "source": [
    "issubclass(bool, int)"
   ]
  },
  {
   "cell_type": "markdown",
   "id": "fe09bdce",
   "metadata": {},
   "source": [
    "int: Integer number; Integers in Python are of arbitrary sizes."
   ]
  },
  {
   "cell_type": "code",
   "execution_count": 27,
   "id": "f30981f9",
   "metadata": {},
   "outputs": [],
   "source": [
    "a = 2\n",
    "b = 100\n",
    "c = 123445678\n",
    "d = 37497897899874354"
   ]
  },
  {
   "cell_type": "markdown",
   "id": "1d462037",
   "metadata": {},
   "source": [
    "float: Floating point number."
   ]
  },
  {
   "cell_type": "code",
   "execution_count": 28,
   "id": "846085b9",
   "metadata": {},
   "outputs": [],
   "source": [
    "a = 2.0\n",
    "b = 100.e0\n",
    "c = 12333345.e1"
   ]
  },
  {
   "cell_type": "markdown",
   "id": "80dbfd22",
   "metadata": {},
   "source": [
    "complex: Complex numbers"
   ]
  },
  {
   "cell_type": "code",
   "execution_count": 29,
   "id": "c387f019",
   "metadata": {},
   "outputs": [],
   "source": [
    "a = 2 + 1j\n",
    "b = 100 + 10j"
   ]
  },
  {
   "cell_type": "markdown",
   "id": "562c71e0",
   "metadata": {},
   "source": [
    "Strings\n",
    "In python 3.x\n",
    "str: a unicode string. The type of 'hello'\n",
    "bytes: a byte string. The type of b'hello'"
   ]
  },
  {
   "cell_type": "markdown",
   "id": "42bbcccf",
   "metadata": {},
   "source": [
    "Sequences and Collections:"
   ]
  },
  {
   "cell_type": "markdown",
   "id": "16b321dd",
   "metadata": {},
   "source": [
    "Strings(str, bytes, unicode) are sequences. String Data Type."
   ]
  },
  {
   "cell_type": "code",
   "execution_count": 44,
   "id": "42cb4ff2",
   "metadata": {},
   "outputs": [
    {
     "name": "stdout",
     "output_type": "stream",
     "text": [
      "Hello world\n",
      "H\n",
      "Hello\n"
     ]
    }
   ],
   "source": [
    "a_str = 'Hello world'\n",
    "print(a_str)\n",
    "print(a_str[0])\n",
    "print(a_str[0:5])"
   ]
  },
  {
   "cell_type": "markdown",
   "id": "157d1574",
   "metadata": {},
   "source": [
    "reversed: A reversed order of str with reversed function."
   ]
  },
  {
   "cell_type": "code",
   "execution_count": 33,
   "id": "4f671c19",
   "metadata": {},
   "outputs": [
    {
     "name": "stdout",
     "output_type": "stream",
     "text": [
      "<reversed object at 0x0000022FA84D5D50>\n"
     ]
    }
   ],
   "source": [
    "a = reversed('hello')\n",
    "print(a)"
   ]
  },
  {
   "cell_type": "markdown",
   "id": "ed05e3e4",
   "metadata": {},
   "source": [
    "tuple: An ordered collection of n values of any type(n >= 0)."
   ]
  },
  {
   "cell_type": "code",
   "execution_count": 50,
   "id": "f6b9e044",
   "metadata": {},
   "outputs": [
    {
     "name": "stdout",
     "output_type": "stream",
     "text": [
      "(123, 'hello')\n",
      "123\n"
     ]
    },
    {
     "ename": "TypeError",
     "evalue": "can only concatenate tuple (not \"str\") to tuple",
     "output_type": "error",
     "traceback": [
      "\u001b[1;31m---------------------------------------------------------------------------\u001b[0m",
      "\u001b[1;31mTypeError\u001b[0m                                 Traceback (most recent call last)",
      "Cell \u001b[1;32mIn [50], line 5\u001b[0m\n\u001b[0;32m      3\u001b[0m \u001b[38;5;28mprint\u001b[39m(\u001b[38;5;28mtuple\u001b[39m)\n\u001b[0;32m      4\u001b[0m \u001b[38;5;28mprint\u001b[39m(\u001b[38;5;28mtuple\u001b[39m[\u001b[38;5;241m0\u001b[39m])\n\u001b[1;32m----> 5\u001b[0m \u001b[38;5;28mprint\u001b[39m(\u001b[38;5;28;43mtuple\u001b[39;49m\u001b[43m \u001b[49m\u001b[38;5;241;43m+\u001b[39;49m\u001b[43m \u001b[49m\u001b[43mtuple1\u001b[49m)\n\u001b[0;32m      6\u001b[0m \u001b[38;5;28mtuple\u001b[39m[\u001b[38;5;241m1\u001b[39m] \u001b[38;5;241m=\u001b[39m \u001b[38;5;124m'\u001b[39m\u001b[38;5;124mupdate\u001b[39m\u001b[38;5;124m'\u001b[39m\n",
      "\u001b[1;31mTypeError\u001b[0m: can only concatenate tuple (not \"str\") to tuple"
     ]
    }
   ],
   "source": [
    "tuple = (123, 'hello')\n",
    "tuple1 = ('world')\n",
    "print(tuple)\n",
    "print(tuple[0])\n",
    "print(tuple + tuple1)\n",
    "tuple[1] = 'update'"
   ]
  },
  {
   "cell_type": "code",
   "execution_count": 34,
   "id": "8dedb6c4",
   "metadata": {},
   "outputs": [
    {
     "ename": "TypeError",
     "evalue": "'tuple' object does not support item assignment",
     "output_type": "error",
     "traceback": [
      "\u001b[1;31m---------------------------------------------------------------------------\u001b[0m",
      "\u001b[1;31mTypeError\u001b[0m                                 Traceback (most recent call last)",
      "Cell \u001b[1;32mIn [34], line 3\u001b[0m\n\u001b[0;32m      1\u001b[0m a \u001b[38;5;241m=\u001b[39m (\u001b[38;5;241m1\u001b[39m, \u001b[38;5;241m2\u001b[39m, \u001b[38;5;241m3\u001b[39m)\n\u001b[0;32m      2\u001b[0m b \u001b[38;5;241m=\u001b[39m (\u001b[38;5;124m'\u001b[39m\u001b[38;5;124ma\u001b[39m\u001b[38;5;124m'\u001b[39m, \u001b[38;5;241m1\u001b[39m, \u001b[38;5;124m'\u001b[39m\u001b[38;5;124mpython\u001b[39m\u001b[38;5;124m'\u001b[39m, (\u001b[38;5;241m1\u001b[39m, \u001b[38;5;241m2\u001b[39m))\n\u001b[1;32m----> 3\u001b[0m \u001b[43mb\u001b[49m\u001b[43m[\u001b[49m\u001b[38;5;241;43m2\u001b[39;49m\u001b[43m]\u001b[49m \u001b[38;5;241m=\u001b[39m \u001b[38;5;124m'\u001b[39m\u001b[38;5;124msomething else\u001b[39m\u001b[38;5;124m'\u001b[39m \u001b[38;5;66;03m#returns a typeError\u001b[39;00m\n",
      "\u001b[1;31mTypeError\u001b[0m: 'tuple' object does not support item assignment"
     ]
    }
   ],
   "source": [
    "a = (1, 2, 3)\n",
    "b = ('a', 1, 'python', (1, 2))\n",
    "b[2] = 'something else' #returns a typeError"
   ]
  },
  {
   "cell_type": "markdown",
   "id": "c690314c",
   "metadata": {},
   "source": [
    "list; An ordered collection of n values (n>=0)"
   ]
  },
  {
   "cell_type": "markdown",
   "id": "978ccfdd",
   "metadata": {},
   "source": [
    "Lists are almost similar to arrays in C. One difference is that all the items belonging to a list can be of different data type."
   ]
  },
  {
   "cell_type": "code",
   "execution_count": 49,
   "id": "9564b4c8",
   "metadata": {},
   "outputs": [
    {
     "name": "stdout",
     "output_type": "stream",
     "text": [
      "['a', 1, 'something else', (1, 2), [1, 2]]\n",
      "[123, 'abcd', 10.2, 'd']\n",
      "[123, 'abcd']\n",
      "['hello', 'world', 'hello', 'world']\n",
      "[123, 'abcd', 10.2, 'd', 'hello', 'world']\n"
     ]
    }
   ],
   "source": [
    "a = [1, 3, 4]\n",
    "b = ['a', 1, 'python', (1, 2), [1, 2]]\n",
    "b[2] = 'something else' #allowed\n",
    "print(b)\n",
    "list = [123, 'abcd', 10.2, 'd']\n",
    "list1 = ['hello', 'world']\n",
    "print(list)\n",
    "print(list[0:2])\n",
    "print(list1 * 2)\n",
    "print(list + list1)"
   ]
  },
  {
   "cell_type": "markdown",
   "id": "66c2c689",
   "metadata": {},
   "source": [
    "set: An unordered collection of unique values. Items must be hashable."
   ]
  },
  {
   "cell_type": "markdown",
   "id": "4b3f7726",
   "metadata": {},
   "source": [
    "They are mutable and new elements can be added once sets are defined"
   ]
  },
  {
   "cell_type": "code",
   "execution_count": 47,
   "id": "ffda65a3",
   "metadata": {},
   "outputs": [
    {
     "name": "stdout",
     "output_type": "stream",
     "text": [
      "{1, 2, 'c', 'b', 'a'}\n",
      "{'e', 'v', 'j', 'l', 'h', 'r', 'k', 'd', 's', 'a'}\n",
      "{'e', 'v', 'j', 'l', 'z', 'h', 'r', 'k', 'd', 's', 'a'}\n"
     ]
    }
   ],
   "source": [
    "b = {1, 2, 'a', 2, 1, 'b', 'c'}\n",
    "print(b) #duplicates will be removed\n",
    "a = set('avashejlkrhld')\n",
    "print(a) #unique letters in a\n",
    "a.add('z')\n",
    "print(a)"
   ]
  },
  {
   "cell_type": "markdown",
   "id": "9d82a907",
   "metadata": {},
   "source": [
    "Frozen sets: They are immutable and new elements cannot added after its defined."
   ]
  },
  {
   "cell_type": "code",
   "execution_count": 48,
   "id": "eab68add",
   "metadata": {},
   "outputs": [
    {
     "name": "stdout",
     "output_type": "stream",
     "text": [
      "frozenset({'f', 'g', 'd', 's', 'a'})\n",
      "frozenset({'Freiburg', 'Frannkfurt', 'Basel'})\n"
     ]
    }
   ],
   "source": [
    "b = frozenset('asdfagsa')\n",
    "print(b)\n",
    "cities = frozenset(['Frannkfurt', 'Basel', 'Freiburg'])\n",
    "print(cities)"
   ]
  },
  {
   "cell_type": "markdown",
   "id": "ddf994c2",
   "metadata": {},
   "source": [
    "dict: An  unordered collection of unique key-value pairs; keys must be hashable."
   ]
  },
  {
   "cell_type": "code",
   "execution_count": 37,
   "id": "3fff9674",
   "metadata": {},
   "outputs": [],
   "source": [
    "a = {1: 'one',\n",
    "     2: 'two'}\n",
    "b = {'a': [1, 2, 3],\n",
    "     'b': 'a string'}"
   ]
  },
  {
   "cell_type": "markdown",
   "id": "fb8201b0",
   "metadata": {},
   "source": [
    "In conditional statements it is possible to test the datatype with isinstance. However it is usually not recommended to rely on the type of the variable."
   ]
  },
  {
   "cell_type": "code",
   "execution_count": 39,
   "id": "9d780507",
   "metadata": {},
   "outputs": [
    {
     "name": "stdout",
     "output_type": "stream",
     "text": [
      "8\n"
     ]
    }
   ],
   "source": [
    "i = 7\n",
    "if isinstance(i, int):\n",
    "    i += 1\n",
    "elif isinstance(i, str):\n",
    "    i = int(i)\n",
    "    i += 1\n",
    "print(i)"
   ]
  },
  {
   "cell_type": "markdown",
   "id": "93a5df54",
   "metadata": {},
   "source": [
    "Converting between datatypes:"
   ]
  },
  {
   "cell_type": "code",
   "execution_count": 40,
   "id": "3376bfd1",
   "metadata": {},
   "outputs": [
    {
     "name": "stdout",
     "output_type": "stream",
     "text": [
      "<class 'str'>\n",
      "<class 'int'>\n"
     ]
    }
   ],
   "source": [
    "a = '123'\n",
    "b = int(a)\n",
    "print(type(a))\n",
    "print(type(b))"
   ]
  },
  {
   "cell_type": "code",
   "execution_count": 41,
   "id": "b4b0b867",
   "metadata": {},
   "outputs": [
    {
     "name": "stdout",
     "output_type": "stream",
     "text": [
      "['h', 'e', 'l', 'l', 'o']\n",
      "{'h', 'e', 'l', 'o'}\n",
      "('h', 'e', 'l', 'l', 'o')\n"
     ]
    }
   ],
   "source": [
    "#You can also convert sequence or collection types\n",
    "a = 'hello'\n",
    "print(list(a))\n",
    "print(set(a))\n",
    "print(tuple(a))"
   ]
  },
  {
   "cell_type": "markdown",
   "id": "d7655cf8",
   "metadata": {},
   "source": [
    "To get input from the user, use the input function. Input function takes data as string type, which can be converted as requried afterwards. "
   ]
  },
  {
   "cell_type": "code",
   "execution_count": 42,
   "id": "b3633960",
   "metadata": {},
   "outputs": [
    {
     "name": "stdout",
     "output_type": "stream",
     "text": [
      "What is your name?Nikhilesh\n",
      "Nikhilesh\n"
     ]
    }
   ],
   "source": [
    "name = input(\"What is your name?\")\n",
    "print(name)"
   ]
  },
  {
   "cell_type": "markdown",
   "id": "1e0e928d",
   "metadata": {},
   "source": [
    "Importing modules"
   ]
  },
  {
   "cell_type": "code",
   "execution_count": 43,
   "id": "ed69ea74",
   "metadata": {},
   "outputs": [
    {
     "data": {
      "text/plain": [
       "4.0"
      ]
     },
     "execution_count": 43,
     "metadata": {},
     "output_type": "execute_result"
    }
   ],
   "source": [
    "import math\n",
    "math.sqrt(16)"
   ]
  },
  {
   "cell_type": "markdown",
   "id": "3f569e79",
   "metadata": {},
   "source": [
    "Comments and Documentation"
   ]
  },
  {
   "cell_type": "code",
   "execution_count": 51,
   "id": "36fb5173",
   "metadata": {},
   "outputs": [],
   "source": [
    "#This is a single line comment in Python."
   ]
  },
  {
   "cell_type": "code",
   "execution_count": 52,
   "id": "43dae6aa",
   "metadata": {},
   "outputs": [
    {
     "name": "stdout",
     "output_type": "stream",
     "text": [
      "Hello world\n"
     ]
    }
   ],
   "source": [
    "print(\"Hello world\") #This line prints \"Hello world\""
   ]
  },
  {
   "cell_type": "code",
   "execution_count": 53,
   "id": "0221fa6f",
   "metadata": {},
   "outputs": [
    {
     "data": {
      "text/plain": [
       "'\\nThis type of comment spans multiple lines.\\nThese are mostly used for documentation of functions, classes and modules.\\n'"
      ]
     },
     "execution_count": 53,
     "metadata": {},
     "output_type": "execute_result"
    }
   ],
   "source": [
    "\"\"\"\n",
    "This type of comment spans multiple lines.\n",
    "These are mostly used for documentation of functions, classes and modules.\n",
    "\"\"\""
   ]
  },
  {
   "cell_type": "code",
   "execution_count": null,
   "id": "5615b310",
   "metadata": {},
   "outputs": [],
   "source": []
  }
 ],
 "metadata": {
  "kernelspec": {
   "display_name": "Python 3 (ipykernel)",
   "language": "python",
   "name": "python3"
  },
  "language_info": {
   "codemirror_mode": {
    "name": "ipython",
    "version": 3
   },
   "file_extension": ".py",
   "mimetype": "text/x-python",
   "name": "python",
   "nbconvert_exporter": "python",
   "pygments_lexer": "ipython3",
   "version": "3.10.7"
  }
 },
 "nbformat": 4,
 "nbformat_minor": 5
}
